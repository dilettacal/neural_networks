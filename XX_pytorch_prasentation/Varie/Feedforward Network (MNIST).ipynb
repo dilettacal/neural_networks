{
 "cells": [
  {
   "cell_type": "markdown",
   "metadata": {},
   "source": [
    "# Feedforward Network\n",
    "\n",
    "Quelle: https://github.com/yunjey/pytorch-tutorial/blob/master/tutorials/01-basics/feedforward_neural_network/main.py#L37-L49"
   ]
  },
  {
   "cell_type": "code",
   "execution_count": 2,
   "metadata": {},
   "outputs": [],
   "source": [
    "import torch\n",
    "import torch.nn as nn\n",
    "import torchvision\n",
    "import torchvision.transforms as transforms"
   ]
  },
  {
   "cell_type": "code",
   "execution_count": 3,
   "metadata": {},
   "outputs": [],
   "source": [
    "# Device configuration\n",
    "device = torch.device('cuda' if torch.cuda.is_available() else 'cpu')"
   ]
  },
  {
   "cell_type": "code",
   "execution_count": 18,
   "metadata": {},
   "outputs": [],
   "source": [
    "# Hyper-parameters \n",
    "input_size = 784\n",
    "hidden_size = 500\n",
    "num_classes = 10\n",
    "num_epochs = 10\n",
    "batch_size = 100\n",
    "learning_rate = 0.01"
   ]
  },
  {
   "cell_type": "code",
   "execution_count": 5,
   "metadata": {},
   "outputs": [],
   "source": [
    "# MNIST dataset \n",
    "train_dataset = torchvision.datasets.MNIST(root='../../data', \n",
    "                                           train=True, \n",
    "                                           transform=transforms.ToTensor(),  \n",
    "                                           download=True)\n",
    "\n",
    "test_dataset = torchvision.datasets.MNIST(root='../../data', \n",
    "                                          train=False, \n",
    "transform=transforms.ToTensor())"
   ]
  },
  {
   "cell_type": "code",
   "execution_count": 6,
   "metadata": {},
   "outputs": [],
   "source": [
    "# Data loader\n",
    "train_loader = torch.utils.data.DataLoader(dataset=train_dataset, \n",
    "                                           batch_size=batch_size, \n",
    "                                           shuffle=True)\n",
    "\n",
    "test_loader = torch.utils.data.DataLoader(dataset=test_dataset, \n",
    "                                          batch_size=batch_size, \n",
    "shuffle=False)"
   ]
  },
  {
   "cell_type": "code",
   "execution_count": 7,
   "metadata": {},
   "outputs": [],
   "source": [
    "# Fully connected neural network with one hidden layer\n",
    "class NeuralNet(nn.Module):\n",
    "    def __init__(self, input_size, hidden_size, num_classes):\n",
    "        super(NeuralNet, self).__init__()\n",
    "        self.fc1 = nn.Linear(input_size, hidden_size) \n",
    "        self.relu = nn.ReLU()\n",
    "        self.fc2 = nn.Linear(hidden_size, num_classes)  \n",
    "    \n",
    "    def forward(self, x):\n",
    "        out = self.fc1(x)\n",
    "        out = self.relu(out)\n",
    "        out = self.fc2(out)\n",
    "        return out"
   ]
  },
  {
   "cell_type": "code",
   "execution_count": 19,
   "metadata": {},
   "outputs": [
    {
     "data": {
      "text/plain": [
       "NeuralNet(\n",
       "  (fc1): Linear(in_features=784, out_features=500, bias=True)\n",
       "  (relu): ReLU()\n",
       "  (fc2): Linear(in_features=500, out_features=10, bias=True)\n",
       ")"
      ]
     },
     "execution_count": 19,
     "metadata": {},
     "output_type": "execute_result"
    }
   ],
   "source": [
    "model = NeuralNet(input_size, hidden_size, num_classes).to(device)\n",
    "model"
   ]
  },
  {
   "cell_type": "code",
   "execution_count": 28,
   "metadata": {},
   "outputs": [],
   "source": [
    "# Loss and optimizer\n",
    "criterion = nn.CrossEntropyLoss()\n",
    "optimizer = torch.optim.SGD(model.parameters(), lr=learning_rate)"
   ]
  },
  {
   "cell_type": "code",
   "execution_count": 29,
   "metadata": {},
   "outputs": [
    {
     "name": "stdout",
     "output_type": "stream",
     "text": [
      "Epoch [1/10], Step [100/600], Loss: 0.2928\n",
      "Epoch [1/10], Step [200/600], Loss: 0.3585\n",
      "Epoch [1/10], Step [300/600], Loss: 0.3058\n",
      "Epoch [1/10], Step [400/600], Loss: 0.3658\n",
      "Epoch [1/10], Step [500/600], Loss: 0.3476\n",
      "Epoch [1/10], Step [600/600], Loss: 0.3202\n",
      "Epoch [2/10], Step [100/600], Loss: 0.1369\n",
      "Epoch [2/10], Step [200/600], Loss: 0.2795\n",
      "Epoch [2/10], Step [300/600], Loss: 0.2159\n",
      "Epoch [2/10], Step [400/600], Loss: 0.2928\n",
      "Epoch [2/10], Step [500/600], Loss: 0.3407\n",
      "Epoch [2/10], Step [600/600], Loss: 0.2133\n",
      "Epoch [3/10], Step [100/600], Loss: 0.2860\n",
      "Epoch [3/10], Step [200/600], Loss: 0.3560\n",
      "Epoch [3/10], Step [300/600], Loss: 0.2956\n",
      "Epoch [3/10], Step [400/600], Loss: 0.3333\n",
      "Epoch [3/10], Step [500/600], Loss: 0.2459\n",
      "Epoch [3/10], Step [600/600], Loss: 0.2372\n",
      "Epoch [4/10], Step [100/600], Loss: 0.2749\n",
      "Epoch [4/10], Step [200/600], Loss: 0.2338\n",
      "Epoch [4/10], Step [300/600], Loss: 0.3565\n",
      "Epoch [4/10], Step [400/600], Loss: 0.3115\n",
      "Epoch [4/10], Step [500/600], Loss: 0.2072\n",
      "Epoch [4/10], Step [600/600], Loss: 0.2327\n",
      "Epoch [5/10], Step [100/600], Loss: 0.2659\n",
      "Epoch [5/10], Step [200/600], Loss: 0.2911\n",
      "Epoch [5/10], Step [300/600], Loss: 0.2002\n",
      "Epoch [5/10], Step [400/600], Loss: 0.3204\n",
      "Epoch [5/10], Step [500/600], Loss: 0.1535\n",
      "Epoch [5/10], Step [600/600], Loss: 0.1756\n",
      "Epoch [6/10], Step [100/600], Loss: 0.2302\n",
      "Epoch [6/10], Step [200/600], Loss: 0.2534\n",
      "Epoch [6/10], Step [300/600], Loss: 0.1501\n",
      "Epoch [6/10], Step [400/600], Loss: 0.3182\n",
      "Epoch [6/10], Step [500/600], Loss: 0.3097\n",
      "Epoch [6/10], Step [600/600], Loss: 0.1727\n",
      "Epoch [7/10], Step [100/600], Loss: 0.2277\n",
      "Epoch [7/10], Step [200/600], Loss: 0.2266\n",
      "Epoch [7/10], Step [300/600], Loss: 0.2093\n",
      "Epoch [7/10], Step [400/600], Loss: 0.2575\n",
      "Epoch [7/10], Step [500/600], Loss: 0.3502\n",
      "Epoch [7/10], Step [600/600], Loss: 0.3084\n",
      "Epoch [8/10], Step [100/600], Loss: 0.1436\n",
      "Epoch [8/10], Step [200/600], Loss: 0.2395\n",
      "Epoch [8/10], Step [300/600], Loss: 0.2796\n",
      "Epoch [8/10], Step [400/600], Loss: 0.1776\n",
      "Epoch [8/10], Step [500/600], Loss: 0.1853\n",
      "Epoch [8/10], Step [600/600], Loss: 0.2537\n",
      "Epoch [9/10], Step [100/600], Loss: 0.2429\n",
      "Epoch [9/10], Step [200/600], Loss: 0.2617\n",
      "Epoch [9/10], Step [300/600], Loss: 0.2595\n",
      "Epoch [9/10], Step [400/600], Loss: 0.2630\n",
      "Epoch [9/10], Step [500/600], Loss: 0.3555\n",
      "Epoch [9/10], Step [600/600], Loss: 0.1470\n",
      "Epoch [10/10], Step [100/600], Loss: 0.2859\n",
      "Epoch [10/10], Step [200/600], Loss: 0.1890\n",
      "Epoch [10/10], Step [300/600], Loss: 0.2240\n",
      "Epoch [10/10], Step [400/600], Loss: 0.2001\n",
      "Epoch [10/10], Step [500/600], Loss: 0.4133\n",
      "Epoch [10/10], Step [600/600], Loss: 0.2493\n"
     ]
    }
   ],
   "source": [
    "# Train the model\n",
    "total_step = len(train_loader)\n",
    "for epoch in range(num_epochs):\n",
    "    for i, (images, labels) in enumerate(train_loader):  \n",
    "        # Move tensors to the configured device\n",
    "        images = images.reshape(-1, 28*28).to(device)\n",
    "        labels = labels.to(device)\n",
    "        \n",
    "        # Forward pass\n",
    "        outputs = model(images)\n",
    "        loss = criterion(outputs, labels)\n",
    "        \n",
    "        # Backward and optimize\n",
    "        optimizer.zero_grad()\n",
    "        loss.backward()\n",
    "        optimizer.step()\n",
    "        \n",
    "        if (i+1) % 100 == 0:\n",
    "            print ('Epoch [{}/{}], Step [{}/{}], Loss: {:.4f}' \n",
    "                   .format(epoch+1, num_epochs, i+1, total_step, loss.item()))\n"
   ]
  },
  {
   "cell_type": "code",
   "execution_count": 25,
   "metadata": {},
   "outputs": [
    {
     "name": "stdout",
     "output_type": "stream",
     "text": [
      "Accuracy of the network on the 10000 test images: 92.25 %\n"
     ]
    }
   ],
   "source": [
    "# Test the model\n",
    "# In test phase, we don't need to compute gradients (for memory efficiency)\n",
    "with torch.no_grad():\n",
    "    correct = 0\n",
    "    total = 0\n",
    "    for images, labels in test_loader:\n",
    "        images = images.reshape(-1, 28*28).to(device)\n",
    "        labels = labels.to(device)\n",
    "        outputs = model(images)\n",
    "        _, predicted = torch.max(outputs.data, 1)\n",
    "        total += labels.size(0)\n",
    "        correct += (predicted == labels).sum().item()\n",
    "\n",
    "print('Accuracy of the network on the 10000 test images: {} %'.format(100 * correct / total))"
   ]
  },
  {
   "cell_type": "code",
   "execution_count": 12,
   "metadata": {},
   "outputs": [],
   "source": [
    "# Save the model checkpoint\n",
    "torch.save(model.state_dict(), 'model.ckpt')"
   ]
  },
  {
   "cell_type": "code",
   "execution_count": null,
   "metadata": {},
   "outputs": [],
   "source": []
  }
 ],
 "metadata": {
  "kernelspec": {
   "display_name": "Python [conda env:torch]",
   "language": "python",
   "name": "conda-env-torch-py"
  },
  "language_info": {
   "codemirror_mode": {
    "name": "ipython",
    "version": 3
   },
   "file_extension": ".py",
   "mimetype": "text/x-python",
   "name": "python",
   "nbconvert_exporter": "python",
   "pygments_lexer": "ipython3",
   "version": "3.6.6"
  }
 },
 "nbformat": 4,
 "nbformat_minor": 2
}
