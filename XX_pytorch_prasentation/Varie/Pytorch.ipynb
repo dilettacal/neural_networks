{
 "cells": [
  {
   "cell_type": "markdown",
   "metadata": {},
   "source": [
    "# PyTorch Framework"
   ]
  },
  {
   "cell_type": "markdown",
   "metadata": {},
   "source": [
    "## Content\n",
    "\n",
    "1. pyTorch: Einführung\n",
    "    - Funtkionen\n",
    "2. pyTorch Fundamentals: Tensors\n",
    "    - pyTorch und Numpy \n",
    "3. Neuronale Netze in pyTorch\n",
    "    - Ein simples neuronale Netz\n",
    "    - MNIST Beispiel mit der Klasse nn.Module\n",
    "    - MNIST Beispiel mit der Klasse nn.Sequential\n",
    "4. Autograd: Berechnung der lokalen Ableitung\n",
    "5. CNN in pyTorch\n",
    "6. RNN in pyTorch"
   ]
  },
  {
   "cell_type": "markdown",
   "metadata": {},
   "source": [
    "# 1. pyTorch: Einführung"
   ]
  },
  {
   "cell_type": "markdown",
   "metadata": {},
   "source": [
    "- Eine ML Open-Source-Bibliothek für python\n",
    "- Basiert auf in Lua geschriebene Bibliothek Torch\n",
    "- Von dem Facebook-Forschungsteam für K.I. entwickelt \n",
    "- Erscheinungsjahr: 2016\n",
    "- GPU sowie CPU "
   ]
  },
  {
   "cell_type": "markdown",
   "metadata": {},
   "source": [
    "## Funktionen"
   ]
  },
  {
   "cell_type": "markdown",
   "metadata": {},
   "source": [
    "- GPU beschleunigte Tensor-Analyse\n",
    "- Neuronale Netze auf Basis eines bandbasierten Autograd-Systems\n",
    "- NumPy, SciPy und Cython sind dabei verwendbar\n",
    "- Beim Deep Learning:\n",
    "    * Viel Flexibilität\n",
    "    * Hohe Geschwindigkeit"
   ]
  },
  {
   "cell_type": "markdown",
   "metadata": {},
   "source": [
    "# 2. pyTorch Fundamentals: Tensors "
   ]
  },
  {
   "cell_type": "code",
   "execution_count": 2,
   "metadata": {},
   "outputs": [
    {
     "data": {
      "text/plain": [
       "<torch._C.Generator at 0x2210a97c670>"
      ]
     },
     "execution_count": 2,
     "metadata": {},
     "output_type": "execute_result"
    }
   ],
   "source": [
    "import torch\n",
    "dtype = torch.float\n",
    "device = torch.device(\"cpu\")\n",
    "torch.manual_seed(0) #Seed CPU"
   ]
  },
  {
   "cell_type": "code",
   "execution_count": 3,
   "metadata": {},
   "outputs": [
    {
     "data": {
      "text/plain": [
       "tensor([[ 1.5410, -0.2934, -2.1788],\n",
       "        [ 0.5684, -1.0845, -1.3986]])"
      ]
     },
     "execution_count": 3,
     "metadata": {},
     "output_type": "execute_result"
    }
   ],
   "source": [
    "a = torch.randn(2,3,device=device, dtype=dtype)\n",
    "a"
   ]
  },
  {
   "cell_type": "code",
   "execution_count": 4,
   "metadata": {},
   "outputs": [],
   "source": [
    "dtype = torch.int32"
   ]
  },
  {
   "cell_type": "code",
   "execution_count": 5,
   "metadata": {},
   "outputs": [
    {
     "data": {
      "text/plain": [
       "tensor([[ 6.,  9.,  8.],\n",
       "        [ 6.,  6.,  8.]])"
      ]
     },
     "execution_count": 5,
     "metadata": {},
     "output_type": "execute_result"
    }
   ],
   "source": [
    "a = torch.randint(10, (2,3), device=device)\n",
    "a"
   ]
  },
  {
   "cell_type": "code",
   "execution_count": 6,
   "metadata": {},
   "outputs": [
    {
     "data": {
      "text/plain": [
       "tensor([[ 4.,  3.,  6.],\n",
       "        [ 9.,  1.,  4.]])"
      ]
     },
     "execution_count": 6,
     "metadata": {},
     "output_type": "execute_result"
    }
   ],
   "source": [
    "b = torch.randint(10, (2,3), device=device) \n",
    "b"
   ]
  },
  {
   "cell_type": "code",
   "execution_count": 7,
   "metadata": {},
   "outputs": [
    {
     "data": {
      "text/plain": [
       "tensor([[ 24.,  27.,  48.],\n",
       "        [ 54.,   6.,  32.]])"
      ]
     },
     "execution_count": 7,
     "metadata": {},
     "output_type": "execute_result"
    }
   ],
   "source": [
    "a*b # Ausgabe einer Multiplikation der beiden Tensoren"
   ]
  },
  {
   "cell_type": "code",
   "execution_count": 8,
   "metadata": {},
   "outputs": [
    {
     "data": {
      "text/plain": [
       "tensor(43.)"
      ]
     },
     "execution_count": 8,
     "metadata": {},
     "output_type": "execute_result"
    }
   ],
   "source": [
    "a.sum()"
   ]
  },
  {
   "cell_type": "code",
   "execution_count": 9,
   "metadata": {},
   "outputs": [
    {
     "data": {
      "text/plain": [
       "tensor(8.)"
      ]
     },
     "execution_count": 9,
     "metadata": {},
     "output_type": "execute_result"
    }
   ],
   "source": [
    "a[1,2] # Ausgabe des Elements in der 3. Spalte der 2. Zeile"
   ]
  },
  {
   "cell_type": "code",
   "execution_count": 10,
   "metadata": {},
   "outputs": [
    {
     "data": {
      "text/plain": [
       "tensor(6.)"
      ]
     },
     "execution_count": 10,
     "metadata": {},
     "output_type": "execute_result"
    }
   ],
   "source": [
    "a.min()"
   ]
  },
  {
   "cell_type": "code",
   "execution_count": 11,
   "metadata": {},
   "outputs": [
    {
     "name": "stdout",
     "output_type": "stream",
     "text": [
      "Cuda is available\n"
     ]
    }
   ],
   "source": [
    "if torch.cuda.is_available():\n",
    "    print(\"Cuda is available\")\n",
    "    torch.cuda.manual_seed_all(0)"
   ]
  },
  {
   "cell_type": "markdown",
   "metadata": {},
   "source": [
    "## Tensors resizing"
   ]
  },
  {
   "cell_type": "code",
   "execution_count": 12,
   "metadata": {},
   "outputs": [
    {
     "ename": "RuntimeError",
     "evalue": "size mismatch, m1: [2 x 3], m2: [2 x 3] at c:\\programdata\\miniconda3\\conda-bld\\pytorch_1524543037166\\work\\aten\\src\\th\\generic/THTensorMath.c:2033",
     "output_type": "error",
     "traceback": [
      "\u001b[1;31m---------------------------------------------------------------------------\u001b[0m",
      "\u001b[1;31mRuntimeError\u001b[0m                              Traceback (most recent call last)",
      "\u001b[1;32m<ipython-input-12-d9add567418c>\u001b[0m in \u001b[0;36m<module>\u001b[1;34m\u001b[0m\n\u001b[0;32m      1\u001b[0m \u001b[1;31m## Matrixenmultiplikation\u001b[0m\u001b[1;33m\u001b[0m\u001b[1;33m\u001b[0m\u001b[1;33m\u001b[0m\u001b[0m\n\u001b[1;32m----> 2\u001b[1;33m \u001b[0mtorch\u001b[0m\u001b[1;33m.\u001b[0m\u001b[0mmm\u001b[0m\u001b[1;33m(\u001b[0m\u001b[0ma\u001b[0m\u001b[1;33m,\u001b[0m\u001b[0mb\u001b[0m\u001b[1;33m)\u001b[0m\u001b[1;33m\u001b[0m\u001b[1;33m\u001b[0m\u001b[0m\n\u001b[0m",
      "\u001b[1;31mRuntimeError\u001b[0m: size mismatch, m1: [2 x 3], m2: [2 x 3] at c:\\programdata\\miniconda3\\conda-bld\\pytorch_1524543037166\\work\\aten\\src\\th\\generic/THTensorMath.c:2033"
     ]
    }
   ],
   "source": [
    "## Matrixenmultiplikation\n",
    "torch.mm(a,b)"
   ]
  },
  {
   "cell_type": "markdown",
   "metadata": {},
   "source": [
    "PyTorch bietet drei Instanzmethoden: [`reshape()`](https://pytorch.org/docs/stable/tensors.html#torch.Tensor.reshape), [`resize_()`](https://pytorch.org/docs/stable/tensors.html#torch.Tensor.resize_) und [`view()`](https://pytorch.org/docs/stable/tensors.html#torch.Tensor.view)."
   ]
  },
  {
   "cell_type": "code",
   "execution_count": 13,
   "metadata": {},
   "outputs": [],
   "source": [
    "resh_b = b.reshape(3,-1)"
   ]
  },
  {
   "cell_type": "code",
   "execution_count": 14,
   "metadata": {},
   "outputs": [
    {
     "name": "stderr",
     "output_type": "stream",
     "text": [
      "C:\\Users\\dilet\\Anaconda3\\envs\\torch\\lib\\site-packages\\torch\\tensor.py:255: UserWarning: non-inplace resize is deprecated\n",
      "  warnings.warn(\"non-inplace resize is deprecated\")\n"
     ]
    }
   ],
   "source": [
    "res_b = b.resize(3,2)"
   ]
  },
  {
   "cell_type": "code",
   "execution_count": 15,
   "metadata": {},
   "outputs": [],
   "source": [
    "b_view = b.view(3,2)"
   ]
  },
  {
   "cell_type": "code",
   "execution_count": 16,
   "metadata": {},
   "outputs": [
    {
     "data": {
      "text/plain": [
       "tensor([[  86.,  131.],\n",
       "        [  68.,  104.]])"
      ]
     },
     "execution_count": 16,
     "metadata": {},
     "output_type": "execute_result"
    }
   ],
   "source": [
    "torch.mm(a,b_view)"
   ]
  },
  {
   "cell_type": "markdown",
   "metadata": {},
   "source": [
    "## pyTorch und Numpy"
   ]
  },
  {
   "cell_type": "markdown",
   "metadata": {},
   "source": [
    "### NumPy zu Torch"
   ]
  },
  {
   "cell_type": "code",
   "execution_count": 17,
   "metadata": {},
   "outputs": [],
   "source": [
    "import numpy as np"
   ]
  },
  {
   "cell_type": "code",
   "execution_count": 18,
   "metadata": {},
   "outputs": [
    {
     "data": {
      "text/plain": [
       "array([[1., 1.],\n",
       "       [1., 1.]])"
      ]
     },
     "execution_count": 18,
     "metadata": {},
     "output_type": "execute_result"
    }
   ],
   "source": [
    "np_array = np.ones((2,2))\n",
    "np_array"
   ]
  },
  {
   "cell_type": "code",
   "execution_count": 19,
   "metadata": {},
   "outputs": [
    {
     "data": {
      "text/plain": [
       "tensor([[ 1.,  1.],\n",
       "        [ 1.,  1.]], dtype=torch.float64)"
      ]
     },
     "execution_count": 19,
     "metadata": {},
     "output_type": "execute_result"
    }
   ],
   "source": [
    "torch_from_np = torch.from_numpy(np_array)\n",
    "torch_from_np"
   ]
  },
  {
   "cell_type": "markdown",
   "metadata": {},
   "source": [
    "**Hinweis:** Datentypen sind hier wichtig. Nicht alle Umwandlungen sind erlaubt:"
   ]
  },
  {
   "cell_type": "code",
   "execution_count": 20,
   "metadata": {},
   "outputs": [
    {
     "ename": "TypeError",
     "evalue": "can't convert np.ndarray of type numpy.int8. The only supported types are: double, float, float16, int64, int32, and uint8.",
     "output_type": "error",
     "traceback": [
      "\u001b[1;31m---------------------------------------------------------------------------\u001b[0m",
      "\u001b[1;31mTypeError\u001b[0m                                 Traceback (most recent call last)",
      "\u001b[1;32m<ipython-input-20-2731267156ee>\u001b[0m in \u001b[0;36m<module>\u001b[1;34m\u001b[0m\n\u001b[0;32m      1\u001b[0m \u001b[0mnp_array_new\u001b[0m \u001b[1;33m=\u001b[0m \u001b[0mnp\u001b[0m\u001b[1;33m.\u001b[0m\u001b[0mones\u001b[0m\u001b[1;33m(\u001b[0m\u001b[1;33m(\u001b[0m\u001b[1;36m2\u001b[0m\u001b[1;33m,\u001b[0m \u001b[1;36m2\u001b[0m\u001b[1;33m)\u001b[0m\u001b[1;33m,\u001b[0m \u001b[0mdtype\u001b[0m\u001b[1;33m=\u001b[0m\u001b[0mnp\u001b[0m\u001b[1;33m.\u001b[0m\u001b[0mint8\u001b[0m\u001b[1;33m)\u001b[0m\u001b[1;33m\u001b[0m\u001b[1;33m\u001b[0m\u001b[0m\n\u001b[1;32m----> 2\u001b[1;33m \u001b[0mtorch\u001b[0m\u001b[1;33m.\u001b[0m\u001b[0mfrom_numpy\u001b[0m\u001b[1;33m(\u001b[0m\u001b[0mnp_array_new\u001b[0m\u001b[1;33m)\u001b[0m\u001b[1;33m\u001b[0m\u001b[1;33m\u001b[0m\u001b[0m\n\u001b[0m",
      "\u001b[1;31mTypeError\u001b[0m: can't convert np.ndarray of type numpy.int8. The only supported types are: double, float, float16, int64, int32, and uint8."
     ]
    }
   ],
   "source": [
    "np_array_new = np.ones((2, 2), dtype=np.int8)\n",
    "torch.from_numpy(np_array_new)"
   ]
  },
  {
   "cell_type": "markdown",
   "metadata": {},
   "source": [
    "Die **Umwandlung von NumPy zu Torch** ist nur zwischen den folgenden Datentypen erlaubt:"
   ]
  },
  {
   "cell_type": "markdown",
   "metadata": {},
   "source": [
    "| NumPy        | Torch            |\n",
    "| :-------------: |:--------------:|\n",
    "| int64     | LongTensor |\n",
    "| int32     | IntegerTensor |\n",
    "| uint8      | ByteTensor      |\n",
    "| float64 | DoubleTensor     |\n",
    "| float32 | FloatTensor      |\n",
    "| double | DoubleTensor      |"
   ]
  },
  {
   "cell_type": "markdown",
   "metadata": {},
   "source": [
    "### Torch zu NumPy"
   ]
  },
  {
   "cell_type": "code",
   "execution_count": 21,
   "metadata": {},
   "outputs": [
    {
     "data": {
      "text/plain": [
       "torch.Tensor"
      ]
     },
     "execution_count": 21,
     "metadata": {},
     "output_type": "execute_result"
    }
   ],
   "source": [
    "torch_tensor = torch.randint(10,(2,2))\n",
    "type(torch_tensor)"
   ]
  },
  {
   "cell_type": "code",
   "execution_count": 22,
   "metadata": {},
   "outputs": [
    {
     "data": {
      "text/plain": [
       "numpy.ndarray"
      ]
     },
     "execution_count": 22,
     "metadata": {},
     "output_type": "execute_result"
    }
   ],
   "source": [
    "torch_to_numpy = torch_tensor.numpy()\n",
    "type(torch_to_numpy)"
   ]
  },
  {
   "cell_type": "markdown",
   "metadata": {},
   "source": [
    "## Tensors und Gradienten - später!!"
   ]
  },
  {
   "cell_type": "markdown",
   "metadata": {},
   "source": [
    "PyTorch bietet mit dem Parameter `requires_grad` die Möglichkeit, Gradienten zu einem bestimmten Tensor zu akkumulieren, d.h. eine Variable ist dann trainierbar"
   ]
  },
  {
   "cell_type": "code",
   "execution_count": 23,
   "metadata": {},
   "outputs": [
    {
     "data": {
      "text/plain": [
       "True"
      ]
     },
     "execution_count": 23,
     "metadata": {},
     "output_type": "execute_result"
    }
   ],
   "source": [
    "a = torch.ones((2,2), requires_grad=True)\n",
    "a.requires_grad"
   ]
  },
  {
   "cell_type": "code",
   "execution_count": 24,
   "metadata": {},
   "outputs": [
    {
     "data": {
      "text/plain": [
       "False"
      ]
     },
     "execution_count": 24,
     "metadata": {},
     "output_type": "execute_result"
    }
   ],
   "source": [
    "a_no_grad = torch.ones(2,2)\n",
    "b_no_grad = torch.ones(2,2)\n",
    "b_no_grad.requires_grad"
   ]
  },
  {
   "cell_type": "code",
   "execution_count": 25,
   "metadata": {},
   "outputs": [
    {
     "data": {
      "text/plain": [
       "True"
      ]
     },
     "execution_count": 25,
     "metadata": {},
     "output_type": "execute_result"
    }
   ],
   "source": [
    "b = torch.randint(5,(2,2), requires_grad=True)\n",
    "b.requires_grad"
   ]
  },
  {
   "cell_type": "code",
   "execution_count": 60,
   "metadata": {},
   "outputs": [
    {
     "name": "stdout",
     "output_type": "stream",
     "text": [
      "<AddBackward1 object at 0x0000025102AA61D0>\n"
     ]
    }
   ],
   "source": [
    "summe = a + b\n",
    "print(summe.grad_fn)"
   ]
  },
  {
   "cell_type": "code",
   "execution_count": 64,
   "metadata": {},
   "outputs": [
    {
     "name": "stdout",
     "output_type": "stream",
     "text": [
      "None\n"
     ]
    }
   ],
   "source": [
    "#Summe ohne Gradienten zu berücksichtigen\n",
    "print((a_no_grad+b_no_grad).grad_fn)"
   ]
  },
  {
   "cell_type": "code",
   "execution_count": 66,
   "metadata": {},
   "outputs": [
    {
     "name": "stdout",
     "output_type": "stream",
     "text": [
      "tensor([[ 1.,  4.],\n",
      "        [ 3.,  1.]])\n",
      "<MulBackward1 object at 0x0000025102AE3278>\n"
     ]
    }
   ],
   "source": [
    "print(a * b)\n",
    "print(torch.mul(a, b).grad_fn)"
   ]
  },
  {
   "cell_type": "markdown",
   "metadata": {},
   "source": [
    "# 3. Neuronale Netze in pyTorch"
   ]
  },
  {
   "cell_type": "markdown",
   "metadata": {},
   "source": [
    "## Ein simples neuronale Netz"
   ]
  },
  {
   "cell_type": "markdown",
   "metadata": {},
   "source": [
    "<img src=\"assets/simple_neuron.png\" width=400px>\n",
    "\n",
    "Mathematische Bedeutung: \n",
    "\n",
    "$$\n",
    "\\begin{align}\n",
    "y &= f(w_1 x_1 + w_2 x_2 + b) \\\\\n",
    "y &= f\\left(\\sum_i w_i x_i +b \\right)\n",
    "\\end{align}\n",
    "$$\n",
    "\n",
    "Inner-Product-Darstellung:\n",
    "\n",
    "$$\n",
    "h = \\begin{bmatrix}\n",
    "x_1 \\, x_2 \\cdots  x_n\n",
    "\\end{bmatrix}\n",
    "\\cdot \n",
    "\\begin{bmatrix}\n",
    "           w_1 \\\\\n",
    "           w_2 \\\\\n",
    "           \\vdots \\\\\n",
    "           w_n\n",
    "\\end{bmatrix}\n",
    "$$"
   ]
  },
  {
   "cell_type": "markdown",
   "metadata": {},
   "source": [
    "### Aktivierungsfunktionen"
   ]
  },
  {
   "cell_type": "code",
   "execution_count": 26,
   "metadata": {},
   "outputs": [],
   "source": [
    "# Import necessary packages\n",
    "\n",
    "%matplotlib inline\n",
    "%config InlineBackend.figure_format = 'retina'\n",
    "\n",
    "import numpy as np\n",
    "import torch\n",
    "\n",
    "import helper #Klasse mit Helper-Funktionen\n",
    "\n",
    "import matplotlib.pyplot as plt\n",
    "\n",
    "from torchvision import datasets, transforms"
   ]
  },
  {
   "cell_type": "code",
   "execution_count": 27,
   "metadata": {},
   "outputs": [],
   "source": [
    "def activation(x):\n",
    "    \"\"\" Sigmoid activation function \n",
    "    \n",
    "        Arguments\n",
    "        ---------\n",
    "        x: torch.Tensor\n",
    "    \"\"\"\n",
    "    return 1/(1+torch.exp(-x))"
   ]
  },
  {
   "cell_type": "code",
   "execution_count": 28,
   "metadata": {},
   "outputs": [],
   "source": [
    "def softmax(x):\n",
    "    \"\"\" Attention to the shapes: \n",
    "        For a tensor a with shape (64,10) and a tensor b with shape (64,)\n",
    "        while doing a/b pyTorch will give an error --> Division is done across the columns (broadcasting)\n",
    "        b should have a shape of (64,1). pyTorch will divide all the 10 values of a by the 1 value of b.\n",
    "        dim param\n",
    "            dim = 0 --> Operation is done across the rows\n",
    "            dim = 1 --> Operation is done across the columns\n",
    "    \"\"\"\n",
    "    return torch.exp(x)/torch.sum(torch.exp(x), dim=1).view(-1, 1)"
   ]
  },
  {
   "cell_type": "markdown",
   "metadata": {},
   "source": [
    "### MNIST Daten herunterladen und bereitstellen"
   ]
  },
  {
   "cell_type": "code",
   "execution_count": 29,
   "metadata": {},
   "outputs": [],
   "source": [
    "# Define a transform to normalize the data\n",
    "transform = transforms.Compose([transforms.ToTensor(),\n",
    "                              transforms.Normalize((0.5,), (0.5,)),\n",
    "                              ])\n",
    "# Download and load the training data\n",
    "trainset = datasets.MNIST('~/.pytorch/MNIST_data/', download=True, train=True, transform=transform)\n",
    "trainloader = torch.utils.data.DataLoader(trainset, batch_size=64, shuffle=True)"
   ]
  },
  {
   "cell_type": "code",
   "execution_count": 30,
   "metadata": {},
   "outputs": [
    {
     "data": {
      "text/plain": [
       "Dataset MNIST\n",
       "    Number of datapoints: 60000\n",
       "    Split: train\n",
       "    Root Location: C:\\Users\\dilet/.pytorch/MNIST_data/\n",
       "    Transforms (if any): Compose(\n",
       "                             ToTensor()\n",
       "                             Normalize(mean=(0.5,), std=(0.5,))\n",
       "                         )\n",
       "    Target Transforms (if any): None"
      ]
     },
     "execution_count": 30,
     "metadata": {},
     "output_type": "execute_result"
    }
   ],
   "source": [
    "trainloader.dataset"
   ]
  },
  {
   "cell_type": "code",
   "execution_count": 31,
   "metadata": {},
   "outputs": [
    {
     "name": "stdout",
     "output_type": "stream",
     "text": [
      "<class 'torch.Tensor'>\n",
      "torch.Size([64, 1, 28, 28])\n",
      "torch.Size([64])\n"
     ]
    }
   ],
   "source": [
    "dataiter = iter(trainloader) #Createas an iterable\n",
    "images, labels = dataiter.next()\n",
    "print(type(images))\n",
    "print(images.shape)\n",
    "print(labels.shape)"
   ]
  },
  {
   "cell_type": "code",
   "execution_count": 32,
   "metadata": {},
   "outputs": [
    {
     "data": {
      "text/plain": [
       "<matplotlib.image.AxesImage at 0x22115b55a90>"
      ]
     },
     "execution_count": 32,
     "metadata": {},
     "output_type": "execute_result"
    },
    {
     "data": {
      "image/png": "[encoded data removed]",
      "text/plain": [
       "<Figure size 432x288 with 1 Axes>"
      ]
     },
     "metadata": {
      "image/png": {
       "height": 250,
       "width": 253
      },
      "needs_background": "light"
     },
     "output_type": "display_data"
    }
   ],
   "source": [
    "plt.imshow(images[1].numpy().squeeze(), cmap='Greys_r')"
   ]
  },
  {
   "cell_type": "code",
   "execution_count": 33,
   "metadata": {},
   "outputs": [
    {
     "name": "stdout",
     "output_type": "stream",
     "text": [
      "h shape: torch.Size([64, 256])\n",
      "out shape: torch.Size([64, 10])\n"
     ]
    }
   ],
   "source": [
    "# Flatten the input images\n",
    "#(64, -1)\n",
    "inputs = images.view(images.shape[0], -1)\n",
    "\n",
    "hidden_units = 256\n",
    "output_units = 10\n",
    "input_units = 784\n",
    "\n",
    "# Create parameters\n",
    "###### First layers parameters\n",
    "w1 = torch.randn(input_units, hidden_units)\n",
    "b1 = torch.randn(hidden_units)\n",
    "\n",
    "##### Hidden layer parameters\n",
    "w2 = torch.randn(hidden_units, output_units)\n",
    "b2 = torch.randn(output_units)\n",
    "\n",
    "#### Results from forward pass from first layer to hidden layer\n",
    "h = activation(torch.mm(inputs, w1) + b1)\n",
    "print(\"h shape:\", h.shape)\n",
    "\n",
    "#### Result from forward pass from hidden layer to output layer\n",
    "out = torch.mm(h, w2) + b2\n",
    "print(\"out shape:\", out.shape)\n"
   ]
  },
  {
   "cell_type": "code",
   "execution_count": 34,
   "metadata": {},
   "outputs": [
    {
     "name": "stdout",
     "output_type": "stream",
     "text": [
      "tensor([[ 3.9411e-06,  1.2447e-03,  9.3451e-09,  5.4339e-05,  3.0492e-09,\n",
      "          3.9256e-01,  4.7735e-13,  1.8354e-11,  6.0613e-01,  3.0045e-08],\n",
      "        [ 5.2899e-05,  8.3609e-01,  1.1175e-10,  2.1383e-07,  1.0052e-04,\n",
      "          2.9966e-05,  3.5729e-11,  1.8943e-13,  9.8024e-05,  1.6363e-01],\n",
      "        [ 3.3316e-08,  9.9999e-01,  8.8505e-13,  3.7791e-09,  3.0697e-09,\n",
      "          8.0559e-06,  3.6535e-12,  1.6942e-14,  2.3538e-08,  6.5542e-10],\n",
      "        [ 1.4707e-07,  5.6268e-05,  3.1006e-13,  1.3652e-08,  1.2167e-09,\n",
      "          8.8982e-11,  3.0081e-12,  1.1456e-11,  9.9994e-01,  3.9359e-07],\n",
      "        [ 1.7945e-04,  9.9789e-01,  1.0663e-10,  1.0173e-05,  2.0047e-06,\n",
      "          1.9164e-03,  4.0400e-11,  1.1373e-08,  2.6123e-07,  2.4504e-09]])\n",
      "torch.Size([64, 10])\n",
      "tensor([ 1.0000,  1.0000,  1.0000,  1.0000,  1.0000])\n"
     ]
    }
   ],
   "source": [
    "probabilities = softmax(out)\n",
    "print(probabilities[:5])\n",
    "\n",
    "# Does it have the right shape? Should be (64, 10)\n",
    "print(probabilities.shape)\n",
    "# Does it sum to 1?\n",
    "print(probabilities.sum(dim=1)[:5])"
   ]
  },
  {
   "cell_type": "markdown",
   "metadata": {},
   "source": [
    "## MNIST Beispiel mit der Klasse `nn.Module`"
   ]
  },
  {
   "cell_type": "code",
   "execution_count": 35,
   "metadata": {},
   "outputs": [],
   "source": [
    "from torch import nn"
   ]
  },
  {
   "cell_type": "code",
   "execution_count": 40,
   "metadata": {},
   "outputs": [],
   "source": [
    "class SimpleClassfier(nn.Module):\n",
    "    def __init__(self):\n",
    "        super().__init__()\n",
    "        \n",
    "        # Inputs to hidden layer linear transformation        \n",
    "        self.hidden = nn.Linear(784, 256)#input and output size\n",
    "        # Output layer, 10 units - one for each digit\n",
    "        self.output = nn.Linear(256, 10)\n",
    "        \n",
    "        # Define sigmoid activation and softmax output \n",
    "        self.sigmoid = nn.Sigmoid()\n",
    "        self.softmax = nn.Softmax(dim=1)\n",
    "        \n",
    "    def forward(self, x):\n",
    "        # Pass the input tensor through each of our operations\n",
    "        x = self.hidden(x)\n",
    "        x = self.sigmoid(x)\n",
    "        x = self.output(x)\n",
    "        x = self.softmax(x)      \n",
    "        return x"
   ]
  },
  {
   "cell_type": "code",
   "execution_count": 41,
   "metadata": {},
   "outputs": [
    {
     "data": {
      "text/plain": [
       "SimpleClassfier(\n",
       "  (hidden): Linear(in_features=784, out_features=256, bias=True)\n",
       "  (output): Linear(in_features=256, out_features=10, bias=True)\n",
       "  (sigmoid): Sigmoid()\n",
       "  (softmax): Softmax()\n",
       ")"
      ]
     },
     "execution_count": 41,
     "metadata": {},
     "output_type": "execute_result"
    }
   ],
   "source": [
    "# Create the network and look at it's text representation\n",
    "model = SimpleClassfier()\n",
    "model"
   ]
  },
  {
   "cell_type": "markdown",
   "metadata": {},
   "source": [
    "## Variante mit `torch.nn.functional`"
   ]
  },
  {
   "cell_type": "code",
   "execution_count": 44,
   "metadata": {},
   "outputs": [],
   "source": [
    "import torch.nn.functional as F\n",
    "# Mit Sigmoid and Softmax\n",
    "class Network(nn.Module):\n",
    "    def __init__(self):\n",
    "        super().__init__()\n",
    "        # Inputs to hidden layer linear transformation\n",
    "        self.hidden = nn.Linear(784, 256)\n",
    "        # Output layer, 10 units - one for each digit\n",
    "        self.output = nn.Linear(256, 10)\n",
    "        \n",
    "    def forward(self, x):\n",
    "        # Hidden layer with sigmoid activation\n",
    "        x = F.sigmoid(self.hidden(x))\n",
    "        # Output layer with softmax activation\n",
    "        x = F.softmax(self.output(x), dim=1)\n",
    "        \n",
    "        return x"
   ]
  },
  {
   "cell_type": "code",
   "execution_count": 51,
   "metadata": {},
   "outputs": [
    {
     "data": {
      "text/plain": [
       "Network(\n",
       "  (fc1): Linear(in_features=784, out_features=128, bias=True)\n",
       "  (fc2): Linear(in_features=128, out_features=64, bias=True)\n",
       "  (fc3): Linear(in_features=64, out_features=10, bias=True)\n",
       ")"
      ]
     },
     "execution_count": 51,
     "metadata": {},
     "output_type": "execute_result"
    }
   ],
   "source": [
    "# Mit Relu und Softmax\n",
    "class Network(nn.Module):\n",
    "    def __init__(self):\n",
    "        super().__init__()\n",
    "        # Defining the layers, 128, 64, 10 units each\n",
    "        self.fc1 = nn.Linear(784, 128)\n",
    "        self.fc2 = nn.Linear(128, 64)\n",
    "        # Output layer, 10 units - one for each digit\n",
    "        self.fc3 = nn.Linear(64, 10)\n",
    "        \n",
    "        \n",
    "    def forward(self, x):\n",
    "        ''' Forward pass through the network, returns the output logits '''\n",
    "        x = self.fc1(x)\n",
    "        x = F.relu(x)\n",
    "        x = self.fc2(x)\n",
    "        x = F.relu(x)\n",
    "        x = self.fc3(x)\n",
    "        x = F.softmax(x, dim=1)\n",
    "        \n",
    "        return x\n",
    "\n",
    "model = Network()\n",
    "model"
   ]
  },
  {
   "cell_type": "markdown",
   "metadata": {},
   "source": [
    "### Parameter initialisieren"
   ]
  },
  {
   "cell_type": "markdown",
   "metadata": {},
   "source": [
    "Die Gewichte und der Bias werden automatisch initialisiert, können trotzdem personalisiert werden:"
   ]
  },
  {
   "cell_type": "code",
   "execution_count": 52,
   "metadata": {},
   "outputs": [
    {
     "data": {
      "text/plain": [
       "Parameter containing:\n",
       "tensor([[ 2.2268e-02,  3.1244e-02, -1.5004e-02,  ...,  1.1351e-02,\n",
       "         -2.5556e-02, -2.1181e-02],\n",
       "        [-8.7756e-04, -3.1438e-02,  1.6955e-02,  ...,  2.1157e-02,\n",
       "         -1.5256e-02, -1.9441e-02],\n",
       "        [ 2.0971e-02, -1.6673e-02,  7.4512e-03,  ..., -1.0724e-02,\n",
       "         -2.1728e-02, -3.5795e-03],\n",
       "        ...,\n",
       "        [ 1.7392e-02, -1.7620e-02, -2.7304e-02,  ..., -1.3476e-02,\n",
       "          1.4726e-03, -1.1709e-02],\n",
       "        [-1.0749e-02,  1.3674e-03,  2.7770e-02,  ..., -2.7808e-02,\n",
       "          3.3242e-03, -3.4681e-02],\n",
       "        [ 3.2570e-02, -1.1448e-03,  3.2577e-02,  ..., -2.9225e-02,\n",
       "          1.3131e-02, -3.1479e-02]])"
      ]
     },
     "execution_count": 52,
     "metadata": {},
     "output_type": "execute_result"
    }
   ],
   "source": [
    "model.fc1.weight"
   ]
  },
  {
   "cell_type": "code",
   "execution_count": 53,
   "metadata": {},
   "outputs": [
    {
     "data": {
      "text/plain": [
       "Parameter containing:\n",
       "tensor(1.00000e-02 *\n",
       "       [-2.9476, -1.6945, -1.7315,  1.7161, -1.5458,  0.9347,  3.3525,\n",
       "        -1.5016,  3.4471, -1.3533, -1.1077,  0.6476,  3.2982, -0.1693,\n",
       "         1.6981,  1.0001, -3.3756,  2.8798,  3.5346,  0.0912,  0.6821,\n",
       "        -1.6900,  2.8774, -3.2484, -2.8325,  0.2214, -2.1882,  2.1214,\n",
       "        -1.7948,  1.8477, -2.0049,  2.3252, -2.1875,  1.6018, -1.6849,\n",
       "        -1.9299,  2.7897, -0.8187, -0.3261, -3.0060,  3.2150, -3.3113,\n",
       "         0.2423,  0.5109,  1.0650,  3.3394, -2.7960, -1.5907,  0.5816,\n",
       "         2.3298,  0.9415,  1.7032, -2.3315,  1.9818,  2.3622, -1.1404,\n",
       "         3.0675, -1.7159,  2.2070,  3.4604, -3.0717,  0.4928, -2.3739,\n",
       "        -2.8487,  0.9645, -0.6618, -3.1186, -3.2274,  1.2749,  2.8147,\n",
       "         3.4619,  2.4279,  2.8363, -1.9232, -1.0558,  0.7491,  2.7404,\n",
       "         1.3361, -3.2746, -0.9868,  2.4208, -3.0544, -2.4157,  1.5769,\n",
       "        -2.2195,  3.5337, -2.7887, -2.4491, -0.6054, -1.0552, -3.2658,\n",
       "        -2.4596, -2.8413,  0.2024,  2.3696, -0.8829,  0.8837, -1.6010,\n",
       "        -1.6829, -0.0851, -0.0569,  0.3108, -0.6550,  1.3700,  3.2138,\n",
       "         0.4729,  2.9184, -1.2940, -3.4504,  1.9239, -1.3076, -3.1401,\n",
       "        -3.4792, -1.3059,  1.6591, -1.3948, -2.3634, -3.2805, -1.7178,\n",
       "        -1.7525, -1.5013, -2.5925, -2.8556,  0.5508, -3.3520, -0.8311,\n",
       "        -1.7525,  0.3221])"
      ]
     },
     "execution_count": 53,
     "metadata": {},
     "output_type": "execute_result"
    }
   ],
   "source": [
    "model.fc1.bias"
   ]
  },
  {
   "cell_type": "markdown",
   "metadata": {},
   "source": [
    "### Personalisierung der Parameter"
   ]
  },
  {
   "cell_type": "code",
   "execution_count": 54,
   "metadata": {},
   "outputs": [
    {
     "data": {
      "text/plain": [
       "tensor([ 0.,  0.,  0.,  0.,  0.,  0.,  0.,  0.,  0.,  0.,  0.,  0.,\n",
       "         0.,  0.,  0.,  0.,  0.,  0.,  0.,  0.,  0.,  0.,  0.,  0.,\n",
       "         0.,  0.,  0.,  0.,  0.,  0.,  0.,  0.,  0.,  0.,  0.,  0.,\n",
       "         0.,  0.,  0.,  0.,  0.,  0.,  0.,  0.,  0.,  0.,  0.,  0.,\n",
       "         0.,  0.,  0.,  0.,  0.,  0.,  0.,  0.,  0.,  0.,  0.,  0.,\n",
       "         0.,  0.,  0.,  0.,  0.,  0.,  0.,  0.,  0.,  0.,  0.,  0.,\n",
       "         0.,  0.,  0.,  0.,  0.,  0.,  0.,  0.,  0.,  0.,  0.,  0.,\n",
       "         0.,  0.,  0.,  0.,  0.,  0.,  0.,  0.,  0.,  0.,  0.,  0.,\n",
       "         0.,  0.,  0.,  0.,  0.,  0.,  0.,  0.,  0.,  0.,  0.,  0.,\n",
       "         0.,  0.,  0.,  0.,  0.,  0.,  0.,  0.,  0.,  0.,  0.,  0.,\n",
       "         0.,  0.,  0.,  0.,  0.,  0.,  0.,  0.])"
      ]
     },
     "execution_count": 54,
     "metadata": {},
     "output_type": "execute_result"
    }
   ],
   "source": [
    "model.fc1.bias.data.fill_(0) # Daten werden über der .data.methode geändert!"
   ]
  },
  {
   "cell_type": "code",
   "execution_count": 55,
   "metadata": {},
   "outputs": [
    {
     "data": {
      "text/plain": [
       "tensor([[ 1.4885e-02,  1.0539e-02,  8.1958e-03,  ...,  3.6954e-03,\n",
       "          1.9690e-02,  8.1124e-03],\n",
       "        [-3.6822e-03,  6.5889e-04, -2.5098e-03,  ...,  1.2613e-03,\n",
       "         -1.3896e-02,  5.9601e-03],\n",
       "        [-6.3177e-03,  3.1760e-03, -2.2210e-04,  ..., -1.1846e-02,\n",
       "          3.6636e-03, -7.7189e-03],\n",
       "        ...,\n",
       "        [ 1.2799e-02, -1.2268e-02,  7.3832e-03,  ...,  7.4217e-03,\n",
       "         -9.1905e-03,  1.6978e-02],\n",
       "        [-6.5307e-03,  5.2371e-03,  1.6842e-02,  ...,  2.9333e-04,\n",
       "          1.9181e-03, -7.5192e-04],\n",
       "        [-5.9445e-03,  5.5083e-03, -1.7880e-02,  ...,  9.9185e-03,\n",
       "          1.0426e-02, -1.2740e-02]])"
      ]
     },
     "execution_count": 55,
     "metadata": {},
     "output_type": "execute_result"
    }
   ],
   "source": [
    "# sample from random normal with standard dev = 0.01\n",
    "model.fc1.weight.data.normal_(std=0.01)"
   ]
  },
  {
   "cell_type": "markdown",
   "metadata": {},
   "source": [
    "### Forward pass"
   ]
  },
  {
   "cell_type": "code",
   "execution_count": 56,
   "metadata": {},
   "outputs": [
    {
     "name": "stdout",
     "output_type": "stream",
     "text": [
      "torch.Size([64, 1, 784])\n"
     ]
    },
    {
     "data": {
      "image/png": "[encoded data removed]",
      "text/plain": [
       "<Figure size 432x648 with 2 Axes>"
      ]
     },
     "metadata": {
      "image/png": {
       "height": 226,
       "width": 423
      },
      "needs_background": "light"
     },
     "output_type": "display_data"
    }
   ],
   "source": [
    "# Grab some data \n",
    "dataiter = iter(trainloader)\n",
    "images, labels = dataiter.next()\n",
    "\n",
    "# Resize images into a 1D vector, new shape is (batch size, color channels, image pixels) \n",
    "images.resize_(64, 1, 784)\n",
    "# or images.resize_(images.shape[0], 1, 784) to automatically get batch size\n",
    "\n",
    "# Forward pass through the network\n",
    "img_idx = 0\n",
    "print(images.shape)\n",
    "ps = model.forward(images[img_idx,:])\n",
    "\n",
    "img = images[img_idx]\n",
    "helper.view_classify(img.view(1, 28, 28), ps) # Das Netzwerk hat noch nichts gelernt :-)"
   ]
  },
  {
   "cell_type": "markdown",
   "metadata": {},
   "source": [
    "## Modelldefinition mit der Klasse  `nn.Sequential`"
   ]
  },
  {
   "cell_type": "code",
   "execution_count": 65,
   "metadata": {},
   "outputs": [
    {
     "name": "stdout",
     "output_type": "stream",
     "text": [
      "Sequential(\n",
      "  (0): Linear(in_features=784, out_features=128, bias=True)\n",
      "  (1): ReLU()\n",
      "  (2): Linear(in_features=128, out_features=64, bias=True)\n",
      "  (3): ReLU()\n",
      "  (4): Linear(in_features=64, out_features=10, bias=True)\n",
      "  (5): Softmax()\n",
      ")\n",
      "Linear(in_features=784, out_features=128, bias=True)\n"
     ]
    },
    {
     "data": {
      "image/png": "[encoded data removed]",
      "text/plain": [
       "<Figure size 432x648 with 2 Axes>"
      ]
     },
     "metadata": {
      "image/png": {
       "height": 226,
       "width": 423
      },
      "needs_background": "light"
     },
     "output_type": "display_data"
    }
   ],
   "source": [
    "# Hyperparameters for our network\n",
    "input_size = 784\n",
    "hidden_sizes = [128, 64]\n",
    "output_size = 10\n",
    "\n",
    "# Build a feed-forward network\n",
    "model = nn.Sequential(nn.Linear(input_size, hidden_sizes[0]),\n",
    "                      nn.ReLU(),\n",
    "                      nn.Linear(hidden_sizes[0], hidden_sizes[1]),\n",
    "                      nn.ReLU(),\n",
    "                      nn.Linear(hidden_sizes[1], output_size),\n",
    "                      nn.Softmax(dim=1))\n",
    "#Beschreibung des Modells\n",
    "print(model)\n",
    "# Zugriff auf einzelne Charakteristika von diesem Modell:\n",
    "print(model[0])\n",
    "\n",
    "# Forward pass through the network and display output\n",
    "images, labels = next(iter(trainloader))\n",
    "images.resize_(images.shape[0], 1, 784)\n",
    "ps = model.forward(images[0,:])\n",
    "helper.view_classify(images[0].view(1, 28, 28), ps)"
   ]
  },
  {
   "cell_type": "code",
   "execution_count": 72,
   "metadata": {},
   "outputs": [
    {
     "name": "stdout",
     "output_type": "stream",
     "text": [
      "Gewichte - 1. Lineare Transformation:\n",
      " Parameter containing:\n",
      "tensor([[ 1.7094e-02, -1.2565e-02,  2.8740e-02,  ...,  5.0831e-03,\n",
      "          3.7749e-03,  1.5662e-02],\n",
      "        [-2.1879e-03,  3.4317e-03, -2.0191e-02,  ...,  3.2185e-03,\n",
      "          1.4870e-02, -3.8079e-03],\n",
      "        [ 1.7111e-02, -7.6203e-03, -1.6212e-02,  ..., -1.5212e-02,\n",
      "         -1.9853e-03,  2.7800e-03],\n",
      "        ...,\n",
      "        [ 2.2333e-02,  1.4166e-02, -1.4702e-02,  ...,  2.3467e-02,\n",
      "         -2.7305e-02, -3.5227e-02],\n",
      "        [ 9.0937e-04,  9.4602e-03, -1.1592e-02,  ..., -2.1317e-02,\n",
      "         -2.1642e-02, -3.1545e-03],\n",
      "        [ 2.1936e-02,  2.4996e-02, -1.0947e-02,  ...,  8.2856e-03,\n",
      "         -1.5404e-02, -1.8823e-02]])\n",
      "Gewichte - 2. Lineare Transformation:\n",
      " Parameter containing:\n",
      "tensor(1.00000e-02 *\n",
      "       [[-5.0022,  6.6380, -6.8003,  ...,  7.4414, -2.9872,  7.1819],\n",
      "        [-7.0598, -4.3393, -2.4574,  ...,  6.5269, -7.6664, -3.4802],\n",
      "        [ 8.4272,  8.4968,  7.8261,  ..., -7.9162, -7.6910, -4.4370],\n",
      "        ...,\n",
      "        [ 2.0341,  5.1200,  0.4008,  ..., -3.0220,  8.1871,  6.2791],\n",
      "        [ 5.1918,  0.4255, -7.0990,  ..., -4.8056, -0.0926,  7.5486],\n",
      "        [-4.0053, -7.3425, -1.1618,  ..., -0.7160, -0.0434, -7.2972]])\n"
     ]
    }
   ],
   "source": [
    "print(\"Gewichte - 1. Lineare Transformation:\\n\", model[0].weight)\n",
    "print(\"Gewichte - 2. Lineare Transformation:\\n\", model[2].weight)\n"
   ]
  },
  {
   "cell_type": "code",
   "execution_count": 71,
   "metadata": {},
   "outputs": [
    {
     "name": "stdout",
     "output_type": "stream",
     "text": [
      "Gewichte - Output:\n",
      " Parameter containing:\n",
      "tensor([[-0.0413,  0.0001, -0.0751,  0.0993, -0.0244,  0.0251, -0.1236,\n",
      "          0.0906,  0.1178, -0.0877, -0.1060,  0.0450, -0.1145,  0.0070,\n",
      "          0.0407,  0.0679,  0.1050, -0.0894, -0.0912, -0.0518, -0.0061,\n",
      "         -0.0582, -0.0398, -0.0853, -0.1198,  0.0669, -0.1153, -0.0407,\n",
      "         -0.0835,  0.1235,  0.1163, -0.0773,  0.0038, -0.0123,  0.0420,\n",
      "          0.0520, -0.0087, -0.0222, -0.0202, -0.0969,  0.0620,  0.0054,\n",
      "         -0.0629,  0.0026,  0.1159, -0.1063,  0.0846,  0.1224, -0.0805,\n",
      "          0.0520,  0.0100, -0.0842,  0.0960, -0.0675, -0.0342,  0.1187,\n",
      "          0.0657,  0.0812,  0.0811, -0.0464,  0.1122, -0.0834,  0.0560,\n",
      "         -0.0985],\n",
      "        [ 0.0273,  0.0245, -0.0008,  0.0810,  0.1155, -0.1001,  0.0315,\n",
      "         -0.0807,  0.0663, -0.0474,  0.0171,  0.0560,  0.0633,  0.0010,\n",
      "          0.0984,  0.1179, -0.0131, -0.0478, -0.0237,  0.0843, -0.0875,\n",
      "          0.0563,  0.0975,  0.0410,  0.0066, -0.0279, -0.0450, -0.1005,\n",
      "          0.0924,  0.0210, -0.0748, -0.0265,  0.0986,  0.1194,  0.0465,\n",
      "         -0.0509, -0.0114, -0.0531, -0.0754, -0.0032,  0.0819,  0.0252,\n",
      "          0.0616, -0.1093, -0.0237,  0.1192, -0.0614, -0.1025, -0.1073,\n",
      "          0.0462, -0.0507,  0.0168,  0.0087,  0.0801,  0.0362,  0.0583,\n",
      "         -0.0422, -0.1121, -0.0305,  0.0596,  0.0582, -0.0887,  0.1136,\n",
      "          0.0066],\n",
      "        [ 0.0403, -0.0640,  0.0842, -0.1032, -0.1141, -0.0846,  0.1142,\n",
      "         -0.0219,  0.0458, -0.0645, -0.0653,  0.0060,  0.0764, -0.0034,\n",
      "         -0.0055, -0.0693,  0.0582,  0.0523, -0.1131,  0.0467, -0.0020,\n",
      "          0.0481, -0.0830, -0.1122,  0.0790, -0.0723, -0.0982, -0.0987,\n",
      "         -0.0675, -0.0237, -0.0070,  0.0802,  0.0588,  0.0795,  0.0094,\n",
      "          0.0648,  0.0351,  0.1088, -0.1081, -0.0857, -0.1140, -0.0850,\n",
      "         -0.1167, -0.0125,  0.0597,  0.0228,  0.0338,  0.0462, -0.0711,\n",
      "         -0.0292, -0.0478,  0.0381,  0.0124, -0.0884, -0.0879, -0.1213,\n",
      "         -0.0735,  0.0393, -0.0563, -0.0669,  0.1157,  0.0323,  0.0888,\n",
      "          0.0917],\n",
      "        [ 0.0840, -0.0068, -0.1199,  0.0054,  0.0428, -0.0540, -0.0072,\n",
      "         -0.0620, -0.0800,  0.1025, -0.0220, -0.0821, -0.0351,  0.0286,\n",
      "         -0.1178, -0.0219,  0.0016,  0.0333,  0.0786,  0.0546,  0.0742,\n",
      "         -0.0046,  0.1124,  0.0114, -0.0119,  0.1103, -0.1095,  0.0055,\n",
      "          0.0630, -0.0595,  0.0090, -0.0330, -0.0914, -0.0363, -0.0510,\n",
      "          0.1068, -0.0619, -0.0475, -0.0818, -0.1031,  0.0819, -0.0807,\n",
      "          0.0389, -0.0672, -0.1228, -0.0273,  0.0688,  0.0926, -0.0431,\n",
      "          0.0700, -0.0801, -0.1015, -0.0536,  0.0122,  0.0673,  0.0927,\n",
      "          0.0465, -0.0175, -0.0704,  0.1217, -0.0550, -0.0782,  0.1075,\n",
      "          0.0451],\n",
      "        [-0.0611, -0.0187,  0.0822,  0.1108, -0.0847,  0.0350, -0.1127,\n",
      "         -0.0089,  0.0253, -0.0613, -0.0852,  0.0461,  0.1062,  0.1148,\n",
      "          0.0152,  0.0006,  0.1237, -0.0535,  0.0757,  0.0410,  0.1079,\n",
      "          0.0745, -0.0019,  0.1017,  0.0550,  0.0797, -0.0873, -0.0422,\n",
      "          0.1171,  0.0095,  0.0347, -0.1227,  0.0596,  0.0252, -0.0944,\n",
      "         -0.0577,  0.0873, -0.1041, -0.0937, -0.0523, -0.1121,  0.0411,\n",
      "         -0.0177, -0.1225, -0.0304, -0.0349, -0.0529, -0.0266, -0.0261,\n",
      "          0.0814,  0.0559,  0.0442, -0.0561,  0.0738,  0.0759, -0.0771,\n",
      "         -0.0741, -0.0884, -0.0505,  0.0531,  0.0758, -0.1115,  0.0764,\n",
      "         -0.1139],\n",
      "        [-0.1092, -0.0867,  0.0907,  0.0607, -0.0637,  0.0279,  0.0453,\n",
      "         -0.1213,  0.0175, -0.0551, -0.0334,  0.0248, -0.0088,  0.0663,\n",
      "          0.0238, -0.0221,  0.0690,  0.1240, -0.0889, -0.0748,  0.0643,\n",
      "         -0.0195, -0.1051, -0.1230, -0.0960,  0.0442,  0.1180, -0.0269,\n",
      "          0.0959,  0.0927,  0.1039, -0.1084, -0.0955,  0.0667,  0.0571,\n",
      "          0.0142, -0.0358,  0.1046, -0.0108,  0.1023,  0.1242, -0.0911,\n",
      "         -0.0499,  0.0061,  0.0808,  0.0306, -0.1205, -0.0796,  0.0545,\n",
      "         -0.0569, -0.1008,  0.0022, -0.0784,  0.0627,  0.1197,  0.0371,\n",
      "         -0.0281, -0.0976,  0.1158,  0.0703, -0.1065, -0.0448,  0.1247,\n",
      "          0.0381],\n",
      "        [ 0.1122, -0.0829, -0.0486,  0.0434, -0.0451,  0.0422, -0.0117,\n",
      "          0.0172, -0.0174,  0.0776,  0.0411,  0.0885, -0.0977,  0.1132,\n",
      "          0.0564,  0.0415, -0.1224,  0.0705, -0.0529, -0.0507, -0.0536,\n",
      "          0.0050,  0.0854, -0.0029, -0.0364,  0.0828,  0.0666,  0.0149,\n",
      "         -0.0589,  0.0812,  0.0449, -0.0748, -0.0158, -0.0479, -0.1218,\n",
      "          0.0437, -0.0183, -0.1223,  0.0762,  0.0087,  0.1073, -0.0056,\n",
      "         -0.0809, -0.0328, -0.1193,  0.0169,  0.0772,  0.0945, -0.0251,\n",
      "          0.0960, -0.0972, -0.1218, -0.0762,  0.0073, -0.0263,  0.0923,\n",
      "         -0.1235, -0.0795, -0.0056,  0.0689,  0.0855,  0.0852,  0.1107,\n",
      "         -0.1237],\n",
      "        [-0.0763,  0.0297, -0.0548, -0.0350,  0.0691,  0.0785, -0.0806,\n",
      "         -0.0138, -0.0821,  0.1223,  0.0639, -0.0129,  0.0731,  0.0909,\n",
      "          0.0566,  0.0253, -0.1200, -0.0504,  0.1242,  0.0393, -0.0163,\n",
      "         -0.0948,  0.0446, -0.0806, -0.1083,  0.0826, -0.0078, -0.0231,\n",
      "         -0.0912,  0.0419, -0.0082,  0.1094, -0.0320,  0.0740,  0.1100,\n",
      "          0.0966,  0.1004, -0.0698, -0.0001,  0.0864,  0.1183, -0.0720,\n",
      "          0.1079,  0.1041,  0.1021,  0.1162,  0.0572,  0.1091,  0.0832,\n",
      "         -0.0870, -0.0064, -0.0195, -0.0375,  0.1100, -0.1229, -0.0542,\n",
      "         -0.0700,  0.0977, -0.0900, -0.0826,  0.1065,  0.0675,  0.0343,\n",
      "         -0.0545],\n",
      "        [-0.0018, -0.0638, -0.1203, -0.0678,  0.0799,  0.0883,  0.0440,\n",
      "          0.1070,  0.0195,  0.1235, -0.1244,  0.0024,  0.0943, -0.0887,\n",
      "         -0.1149,  0.0830, -0.0850, -0.0350, -0.1172,  0.0907, -0.0738,\n",
      "         -0.1082,  0.0330, -0.1152,  0.0846,  0.0175,  0.0573,  0.0177,\n",
      "         -0.0035,  0.1089,  0.0022, -0.0429, -0.0189, -0.1136, -0.0620,\n",
      "         -0.0721, -0.0165,  0.0008,  0.1032,  0.0317, -0.0245,  0.0082,\n",
      "          0.1066, -0.0222,  0.1245,  0.0935, -0.0594, -0.0653, -0.0974,\n",
      "          0.1174,  0.0267, -0.1016,  0.0411,  0.0943,  0.0106,  0.1164,\n",
      "         -0.0680, -0.0801, -0.1152,  0.1210,  0.0842, -0.0405,  0.0332,\n",
      "         -0.0653],\n",
      "        [-0.0105, -0.0208,  0.0281, -0.0317,  0.0433, -0.0001, -0.0181,\n",
      "         -0.0247, -0.0759,  0.0583, -0.1004, -0.1101, -0.0598, -0.0431,\n",
      "          0.0079,  0.0333,  0.0847, -0.0626,  0.0645,  0.0713, -0.0187,\n",
      "         -0.0186, -0.0314,  0.0581,  0.0042,  0.0588, -0.0693,  0.0073,\n",
      "          0.0618, -0.1141, -0.0723, -0.0336,  0.0036,  0.0742, -0.1194,\n",
      "          0.0487,  0.0091, -0.0319, -0.1094,  0.0935,  0.0960, -0.0961,\n",
      "         -0.1124,  0.0331, -0.0410,  0.0424,  0.0551,  0.0130, -0.0580,\n",
      "          0.0718,  0.1054, -0.0857, -0.0089,  0.0060, -0.0000, -0.0094,\n",
      "         -0.1198, -0.0696,  0.0593, -0.0165,  0.1091, -0.0009, -0.0496,\n",
      "         -0.0734]])\n"
     ]
    }
   ],
   "source": [
    "print(\"Gewichte - Output:\\n\", model[4].weight)"
   ]
  },
  {
   "cell_type": "code",
   "execution_count": 73,
   "metadata": {},
   "outputs": [
    {
     "name": "stdout",
     "output_type": "stream",
     "text": [
      "Bias - Output:\n",
      " Parameter containing:\n",
      "tensor([ 0.0261, -0.1060,  0.1111, -0.0327,  0.0952, -0.0191, -0.0464,\n",
      "        -0.0178,  0.0573, -0.0922])\n"
     ]
    }
   ],
   "source": [
    "print(\"Bias - Output:\\n\", model[4].bias)"
   ]
  },
  {
   "cell_type": "markdown",
   "metadata": {},
   "source": [
    "## Modelldefinition  mit `nn.Sequential` und Pipeline als `OrderedDict`"
   ]
  },
  {
   "cell_type": "code",
   "execution_count": 74,
   "metadata": {},
   "outputs": [
    {
     "data": {
      "text/plain": [
       "Sequential(\n",
       "  (fc1): Linear(in_features=784, out_features=128, bias=True)\n",
       "  (relu1): ReLU()\n",
       "  (fc2): Linear(in_features=128, out_features=64, bias=True)\n",
       "  (relu2): ReLU()\n",
       "  (output): Linear(in_features=64, out_features=10, bias=True)\n",
       "  (softmax): Softmax()\n",
       ")"
      ]
     },
     "execution_count": 74,
     "metadata": {},
     "output_type": "execute_result"
    }
   ],
   "source": [
    "from collections import OrderedDict\n",
    "model = nn.Sequential(OrderedDict([\n",
    "                      ('fc1', nn.Linear(input_size, hidden_sizes[0])),\n",
    "                      ('relu1', nn.ReLU()),\n",
    "                      ('fc2', nn.Linear(hidden_sizes[0], hidden_sizes[1])),\n",
    "                      ('relu2', nn.ReLU()),\n",
    "                      ('output', nn.Linear(hidden_sizes[1], output_size)),\n",
    "                      ('softmax', nn.Softmax(dim=1))]))\n",
    "model"
   ]
  },
  {
   "cell_type": "code",
   "execution_count": 75,
   "metadata": {},
   "outputs": [
    {
     "name": "stdout",
     "output_type": "stream",
     "text": [
      "Linear(in_features=784, out_features=128, bias=True)\n",
      "Linear(in_features=784, out_features=128, bias=True)\n"
     ]
    }
   ],
   "source": [
    "print(model[0])\n",
    "print(model.fc1)"
   ]
  },
  {
   "cell_type": "markdown",
   "metadata": {},
   "source": [
    "### Training the neural network"
   ]
  },
  {
   "cell_type": "markdown",
   "metadata": {},
   "source": [
    "Training multilayer networks is done through **backpropagation** which is really just an application of the chain rule from calculus. It's easiest to understand if we convert a two layer network into a graph representation.\n",
    "\n",
    "<img src='assets/backprop_diagram.png' width=550px>\n",
    "\n",
    "In the forward pass through the network, our data and operations go from bottom to top here. We pass the input $x$ through a linear transformation $L_1$ with weights $W_1$ and biases $b_1$. The output then goes through the sigmoid operation $S$ and another linear transformation $L_2$. Finally we calculate the loss $\\ell$. We use the loss as a measure of how bad the network's predictions are. The goal then is to adjust the weights and biases to minimize the loss.\n",
    "\n",
    "To train the weights with gradient descent, we propagate the gradient of the loss backwards through the network. Each operation has some gradient between the inputs and outputs. As we send the gradients backwards, we multiply the incoming gradient with the gradient for the operation. Mathematically, this is really just calculating the gradient of the loss with respect to the weights using the chain rule.\n",
    "\n",
    "$$\n",
    "\\large \\frac{\\partial \\ell}{\\partial W_1} = \\frac{\\partial L_1}{\\partial W_1} \\frac{\\partial S}{\\partial L_1} \\frac{\\partial L_2}{\\partial S} \\frac{\\partial \\ell}{\\partial L_2}\n",
    "$$\n",
    "\n",
    "**Note:** I'm glossing over a few details here that require some knowledge of vector calculus, but they aren't necessary to understand what's going on.\n",
    "\n",
    "We update our weights using this gradient with some learning rate $\\alpha$. \n",
    "\n",
    "$$\n",
    "\\large W^\\prime_1 = W_1 - \\alpha \\frac{\\partial \\ell}{\\partial W_1}\n",
    "$$\n",
    "\n",
    "The learning rate $\\alpha$ is set such that the weight update steps are small enough that the iterative method settles in a minimum."
   ]
  },
  {
   "cell_type": "markdown",
   "metadata": {},
   "source": [
    "### Kostenfunktionen in PyTorch"
   ]
  },
  {
   "cell_type": "markdown",
   "metadata": {},
   "source": [
    "Through the `nn` module, PyTorch provides losses such as the cross-entropy loss (`nn.CrossEntropyLoss`). You'll usually see the loss assigned to `criterion`. As noted in the last part, with a classification problem such as MNIST, we're using the softmax function to predict class probabilities. With a softmax output, you want to use cross-entropy as the loss. To actually calculate the loss, you first define the criterion then pass in the output of your network and the correct labels.\n",
    "\n",
    "Something really important to note here. Looking at [the documentation for `nn.CrossEntropyLoss`](https://pytorch.org/docs/stable/nn.html#torch.nn.CrossEntropyLoss),\n",
    "\n",
    "> This criterion combines `nn.LogSoftmax()` and `nn.NLLLoss()` in one single class.\n",
    ">\n",
    "> The input is expected to contain scores for each class.\n",
    "\n",
    "This means we need to pass in the raw output of our network into the loss, not the output of the softmax function. This raw output is usually called the *logits* or *scores*. We use the logits because softmax gives you probabilities which will often be very close to zero or one but floating-point numbers can't accurately represent values near zero or one ([read more here](https://docs.python.org/3/tutorial/floatingpoint.html)). It's usually best to avoid doing calculations with probabilities, typically we use log-probabilities."
   ]
  },
  {
   "cell_type": "code",
   "execution_count": 76,
   "metadata": {},
   "outputs": [],
   "source": [
    "import torch\n",
    "from torch import nn\n",
    "import torch.nn.functional as F\n",
    "from torchvision import datasets, transforms\n",
    "\n",
    "# Define a transform to normalize the data\n",
    "transform = transforms.Compose([transforms.ToTensor(),\n",
    "                                transforms.Normalize((0.5, 0.5, 0.5), (0.5, 0.5, 0.5)),\n",
    "                              ])\n",
    "# Download and load the training data\n",
    "trainset = datasets.MNIST('~/.pytorch/MNIST_data/', download=True, train=True, transform=transform)\n",
    "trainloader = torch.utils.data.DataLoader(trainset, batch_size=64, shuffle=True)"
   ]
  },
  {
   "cell_type": "code",
   "execution_count": 77,
   "metadata": {},
   "outputs": [
    {
     "name": "stdout",
     "output_type": "stream",
     "text": [
      "tensor(2.2825)\n"
     ]
    }
   ],
   "source": [
    "# Build a feed-forward network\n",
    "model = nn.Sequential(nn.Linear(784, 128),\n",
    "                      nn.ReLU(),\n",
    "                      nn.Linear(128, 64),\n",
    "                      nn.ReLU(),\n",
    "                      nn.Linear(64, 10))\n",
    "\n",
    "# Define the loss\n",
    "criterion = nn.CrossEntropyLoss()\n",
    "\n",
    "# Get our data\n",
    "images, labels = next(iter(trainloader))\n",
    "# Flatten images\n",
    "images = images.view(images.shape[0], -1)\n",
    "\n",
    "# Forward pass, get our logits\n",
    "logits = model(images)\n",
    "# Calculate the loss with the logits and the labels\n",
    "loss = criterion(logits, labels)\n",
    "\n",
    "print(loss)"
   ]
  },
  {
   "cell_type": "code",
   "execution_count": 78,
   "metadata": {},
   "outputs": [
    {
     "name": "stdout",
     "output_type": "stream",
     "text": [
      "tensor(2.3326)\n"
     ]
    }
   ],
   "source": [
    "# Build a feed-forward network - SALTA!!!\n",
    "model = nn.Sequential(nn.Linear(784, 128),\n",
    "                      nn.ReLU(),\n",
    "                      nn.Linear(128, 64),\n",
    "                      nn.ReLU(),\n",
    "                      nn.Linear(64, 10),\n",
    "                      nn.LogSoftmax(dim=1))\n",
    "\n",
    "# Define the loss\n",
    "criterion = nn.NLLLoss()\n",
    "\n",
    "# Get our data\n",
    "images, labels = next(iter(trainloader))\n",
    "# Flatten images\n",
    "images = images.view(images.shape[0], -1)\n",
    "\n",
    "# Forward pass, get our log-probabilities\n",
    "logps = model(images)\n",
    "# Calculate the loss with the logps and the labels\n",
    "loss = criterion(logps, labels)\n",
    "\n",
    "print(loss)"
   ]
  },
  {
   "cell_type": "markdown",
   "metadata": {},
   "source": [
    "# 4. Autograd: Berechnung der lokalen Ableitung"
   ]
  },
  {
   "cell_type": "markdown",
   "metadata": {},
   "source": [
    "Torch provides a module, `autograd`, for automatically calculating the gradients of tensors. We can use it to calculate the gradients of all our parameters with respect to the loss. Autograd works by keeping track of operations performed on tensors, then going backwards through those operations, calculating gradients along the way. To make sure PyTorch keeps track of operations on a tensor and calculates the gradients, you need to set `requires_grad = True` on a tensor. You can do this at creation with the `requires_grad` keyword, or at any time with `x.requires_grad_(True)`.\n",
    "\n",
    "You can turn off gradients for a block of code with the `torch.no_grad()` content:\n",
    "```python\n",
    "x = torch.zeros(1, requires_grad=True)\n",
    ">>> with torch.no_grad():\n",
    "...     y = x * 2\n",
    ">>> y.requires_grad\n",
    "False\n",
    "```\n",
    "\n",
    "Also, you can turn on or off gradients altogether with `torch.set_grad_enabled(True|False)`.\n",
    "\n",
    "The gradients are computed with respect to some variable `z` with `z.backward()`. This does a backward pass through the operations that created `z`."
   ]
  },
  {
   "cell_type": "code",
   "execution_count": 45,
   "metadata": {},
   "outputs": [
    {
     "name": "stdout",
     "output_type": "stream",
     "text": [
      "tensor([[-0.0887, -0.2961],\n",
      "        [-1.3091, -1.2157]])\n"
     ]
    }
   ],
   "source": [
    "x = torch.randn(2,2, requires_grad=True)\n",
    "print(x)"
   ]
  },
  {
   "cell_type": "code",
   "execution_count": 46,
   "metadata": {},
   "outputs": [
    {
     "name": "stdout",
     "output_type": "stream",
     "text": [
      "tensor([[ 0.0079,  0.0877],\n",
      "        [ 1.7137,  1.4780]])\n"
     ]
    }
   ],
   "source": [
    "y = x**2\n",
    "print(y)"
   ]
  },
  {
   "cell_type": "code",
   "execution_count": 47,
   "metadata": {},
   "outputs": [
    {
     "name": "stdout",
     "output_type": "stream",
     "text": [
      "<PowBackward0 object at 0x000001AF7E232940>\n"
     ]
    }
   ],
   "source": [
    "## grad_fn shows the function that generated this variable\n",
    "print(y.grad_fn)"
   ]
  },
  {
   "cell_type": "code",
   "execution_count": 48,
   "metadata": {},
   "outputs": [
    {
     "name": "stdout",
     "output_type": "stream",
     "text": [
      "tensor(0.8218)\n"
     ]
    }
   ],
   "source": [
    "z = y.mean()\n",
    "print(z)"
   ]
  },
  {
   "cell_type": "code",
   "execution_count": 49,
   "metadata": {},
   "outputs": [
    {
     "name": "stdout",
     "output_type": "stream",
     "text": [
      "None\n"
     ]
    }
   ],
   "source": [
    "print(x.grad)"
   ]
  },
  {
   "cell_type": "markdown",
   "metadata": {},
   "source": [
    "To calculate the gradients, you need to run the `.backward` method on a Variable, `z` for example. This will calculate the gradient for `z` with respect to `x`\n",
    "\n",
    "$$\n",
    "\\frac{\\partial z}{\\partial x} = \\frac{\\partial}{\\partial x}\\left[\\frac{1}{n}\\sum_i^n x_i^2\\right] = \\frac{x}{2}\n",
    "$$"
   ]
  },
  {
   "cell_type": "code",
   "execution_count": 50,
   "metadata": {},
   "outputs": [
    {
     "name": "stdout",
     "output_type": "stream",
     "text": [
      "tensor([[-0.0443, -0.1481],\n",
      "        [-0.6545, -0.6079]])\n",
      "tensor([[-0.0443, -0.1481],\n",
      "        [-0.6545, -0.6079]])\n"
     ]
    }
   ],
   "source": [
    "z.backward()\n",
    "print(x.grad)\n",
    "print(x/2)"
   ]
  },
  {
   "cell_type": "markdown",
   "metadata": {},
   "source": [
    "### Loss + Autograd"
   ]
  },
  {
   "cell_type": "markdown",
   "metadata": {},
   "source": [
    "When we create a network with PyTorch, all of the parameters are initialized with `requires_grad = True`. This means that when we calculate the loss and call `loss.backward()`, the gradients for the parameters are calculated. These gradients are used to update the weights with gradient descent. Below you can see an example of calculating the gradients using a backwards pass."
   ]
  },
  {
   "cell_type": "code",
   "execution_count": 90,
   "metadata": {},
   "outputs": [],
   "source": [
    "# Build a feed-forward network\n",
    "model = nn.Sequential(nn.Linear(784, 128),\n",
    "                      nn.ReLU(),\n",
    "                      nn.Linear(128, 64),\n",
    "                      nn.ReLU(),\n",
    "                      nn.Linear(64, 10),\n",
    "                      nn.LogSoftmax(dim=1))\n",
    "\n",
    "criterion = nn.CrossEntropyLoss()\n",
    "images, labels = next(iter(trainloader))\n",
    "images = images.view(images.shape[0], -1)\n",
    "\n",
    "logps = model(images)\n",
    "loss = criterion(logps, labels)"
   ]
  },
  {
   "cell_type": "code",
   "execution_count": 91,
   "metadata": {},
   "outputs": [
    {
     "name": "stdout",
     "output_type": "stream",
     "text": [
      "Before backward pass: \n",
      " None\n",
      "After backward pass: \n",
      " tensor(1.00000e-02 *\n",
      "       [[-0.0092, -0.0092, -0.0092,  ..., -0.0092, -0.0092, -0.0092],\n",
      "        [ 0.1415,  0.1415,  0.1415,  ...,  0.1415,  0.1415,  0.1415],\n",
      "        [ 0.0695,  0.0695,  0.0695,  ...,  0.0695,  0.0695,  0.0695],\n",
      "        ...,\n",
      "        [-0.0072, -0.0072, -0.0072,  ..., -0.0072, -0.0072, -0.0072],\n",
      "        [ 0.1609,  0.1609,  0.1609,  ...,  0.1609,  0.1609,  0.1609],\n",
      "        [-0.5520, -0.5520, -0.5520,  ..., -0.5520, -0.5520, -0.5520]])\n"
     ]
    }
   ],
   "source": [
    "print('Before backward pass: \\n', model[0].weight.grad)\n",
    "\n",
    "loss.backward()\n",
    "\n",
    "print('After backward pass: \\n', model[0].weight.grad)"
   ]
  },
  {
   "cell_type": "markdown",
   "metadata": {},
   "source": [
    "### Training des Netzwerks\n",
    "\n",
    "There's one last piece we need to start training, an optimizer that we'll use to update the weights with the gradients. We get these from PyTorch's [`optim` package](https://pytorch.org/docs/stable/optim.html). For example we can use stochastic gradient descent with `optim.SGD`. You can see how to define an optimizer below."
   ]
  },
  {
   "cell_type": "code",
   "execution_count": 92,
   "metadata": {},
   "outputs": [],
   "source": [
    "from torch import optim\n",
    "\n",
    "# Optimizers require the parameters to optimize and a learning rate\n",
    "optimizer = optim.SGD(model.parameters(), lr=0.01)"
   ]
  },
  {
   "cell_type": "markdown",
   "metadata": {},
   "source": [
    "Now we know how to use all the individual parts so it's time to see how they work together. Let's consider just one learning step before looping through all the data. The general process with PyTorch:\n",
    "\n",
    "* Make a forward pass through the network \n",
    "* Use the network output to calculate the loss\n",
    "* Perform a backward pass through the network with `loss.backward()` to calculate the gradients\n",
    "* Take a step with the optimizer to update the weights\n",
    "\n",
    "Below I'll go through one training step and print out the weights and gradients so you can see how it changes. Note that I have a line of code `optimizer.zero_grad()`. When you do multiple backwards passes with the same parameters, the gradients are accumulated. This means that you need to zero the gradients on each training pass or you'll retain gradients from previous training batches."
   ]
  },
  {
   "cell_type": "code",
   "execution_count": 93,
   "metadata": {},
   "outputs": [
    {
     "name": "stdout",
     "output_type": "stream",
     "text": [
      "Initial weights -  Parameter containing:\n",
      "tensor([[ 2.7405e-02, -2.3313e-02,  2.4741e-02,  ..., -2.9478e-02,\n",
      "          2.8822e-02, -1.5945e-02],\n",
      "        [ 1.8072e-02,  1.9560e-02,  5.8446e-03,  ...,  1.3900e-02,\n",
      "         -1.6550e-02, -2.7815e-02],\n",
      "        [ 2.4488e-02, -1.5766e-02, -2.7425e-02,  ...,  2.3958e-02,\n",
      "         -1.6385e-02,  2.4055e-02],\n",
      "        ...,\n",
      "        [ 1.9362e-02, -7.9311e-03, -3.3803e-02,  ...,  1.3076e-02,\n",
      "          3.0228e-02,  1.2528e-02],\n",
      "        [-1.2199e-02,  2.2592e-02,  4.9968e-03,  ..., -5.3004e-03,\n",
      "         -2.6536e-02, -2.6353e-02],\n",
      "        [-2.1454e-02, -1.5151e-02,  2.3111e-02,  ..., -1.5734e-02,\n",
      "          7.9230e-03,  6.7673e-03]])\n",
      "Gradient - tensor(1.00000e-02 *\n",
      "       [[ 0.0874,  0.0874,  0.0874,  ...,  0.0874,  0.0874,  0.0874],\n",
      "        [-0.1629, -0.1629, -0.1629,  ..., -0.1629, -0.1629, -0.1629],\n",
      "        [ 0.1069,  0.1069,  0.1069,  ...,  0.1069,  0.1069,  0.1069],\n",
      "        ...,\n",
      "        [ 0.0112,  0.0112,  0.0112,  ...,  0.0112,  0.0112,  0.0112],\n",
      "        [-0.1543, -0.1543, -0.1543,  ..., -0.1543, -0.1543, -0.1543],\n",
      "        [ 0.1310,  0.1310,  0.1310,  ...,  0.1310,  0.1310,  0.1310]])\n"
     ]
    }
   ],
   "source": [
    "print('Initial weights - ', model[0].weight)\n",
    "\n",
    "images, labels = next(iter(trainloader))\n",
    "images.resize_(64, 784)\n",
    "\n",
    "# Clear the gradients, do this because gradients are accumulated\n",
    "optimizer.zero_grad()\n",
    "\n",
    "# Forward pass, then backward pass, then update weights\n",
    "output = model.forward(images)\n",
    "loss = criterion(output, labels)\n",
    "loss.backward()\n",
    "print('Gradient -', model[0].weight.grad)"
   ]
  },
  {
   "cell_type": "code",
   "execution_count": 94,
   "metadata": {},
   "outputs": [
    {
     "name": "stdout",
     "output_type": "stream",
     "text": [
      "Updated weights -  Parameter containing:\n",
      "tensor([[ 2.7396e-02, -2.3321e-02,  2.4732e-02,  ..., -2.9487e-02,\n",
      "          2.8813e-02, -1.5954e-02],\n",
      "        [ 1.8088e-02,  1.9576e-02,  5.8609e-03,  ...,  1.3917e-02,\n",
      "         -1.6534e-02, -2.7799e-02],\n",
      "        [ 2.4477e-02, -1.5777e-02, -2.7436e-02,  ...,  2.3947e-02,\n",
      "         -1.6396e-02,  2.4044e-02],\n",
      "        ...,\n",
      "        [ 1.9361e-02, -7.9322e-03, -3.3804e-02,  ...,  1.3075e-02,\n",
      "          3.0227e-02,  1.2527e-02],\n",
      "        [-1.2184e-02,  2.2608e-02,  5.0122e-03,  ..., -5.2849e-03,\n",
      "         -2.6520e-02, -2.6338e-02],\n",
      "        [-2.1467e-02, -1.5164e-02,  2.3098e-02,  ..., -1.5748e-02,\n",
      "          7.9099e-03,  6.7542e-03]])\n"
     ]
    }
   ],
   "source": [
    "# Take an update step and few the new weights\n",
    "optimizer.step()\n",
    "print('Updated weights - ', model[0].weight)"
   ]
  },
  {
   "cell_type": "markdown",
   "metadata": {},
   "source": [
    "### Training for real"
   ]
  },
  {
   "cell_type": "code",
   "execution_count": 133,
   "metadata": {},
   "outputs": [
    {
     "name": "stdout",
     "output_type": "stream",
     "text": [
      "Training loss: 2.104218440015179\n",
      "Training loss: 1.7219267068132917\n",
      "Training loss: 1.6472923005821862\n",
      "Training loss: 1.6331659341926006\n",
      "Training loss: 1.626022983461555\n",
      "Training loss: 1.6211538275421808\n",
      "Training loss: 1.6175139120646886\n",
      "Training loss: 1.6145997114781379\n",
      "Training loss: 1.6119669875356435\n",
      "Training loss: 1.6095867456911979\n",
      "Training loss: 1.5833493093691908\n",
      "Training loss: 1.549466683539246\n",
      "Training loss: 1.5424435408130637\n",
      "Training loss: 1.537752206518706\n",
      "Training loss: 1.5341637037964517\n"
     ]
    }
   ],
   "source": [
    "model = nn.Sequential(nn.Linear(784, 128),\n",
    "                      nn.ReLU(),\n",
    "                      nn.Linear(128, 64),\n",
    "                      nn.ReLU(),\n",
    "                      nn.Linear(64, 10),\n",
    "                      #nn.LogSoftmax(dim=1)\n",
    "                      nn.Softmax(dim=1))\n",
    "\n",
    "criterion = nn.CrossEntropyLoss() #NNLoss?\n",
    "optimizer = optim.SGD(model.parameters(), lr=0.03)\n",
    "\n",
    "epochs = 15\n",
    "for e in range(epochs):\n",
    "    running_loss = 0\n",
    "    for images, labels in trainloader:\n",
    "        # Flatten MNIST images into a 784 long vector\n",
    "        images = images.view(images.shape[0], -1)\n",
    "    \n",
    "        # TODO: Training pass\n",
    "        optimizer.zero_grad()\n",
    "        \n",
    "        output = model.forward(images)\n",
    "        loss = criterion(output, labels)\n",
    "        loss.backward()\n",
    "        optimizer.step()\n",
    "        \n",
    "        running_loss += loss.item()\n",
    "    else:\n",
    "        print(f\"Training loss: {running_loss/len(trainloader)}\")"
   ]
  },
  {
   "cell_type": "code",
   "execution_count": 137,
   "metadata": {},
   "outputs": [
    {
     "name": "stdout",
     "output_type": "stream",
     "text": [
      "tensor([[ 7.2524e-06,  3.6554e-08,  2.8927e-10,  4.9965e-09,  2.1020e-06,\n",
      "          9.7903e-01,  2.1268e-09,  1.9853e-02,  1.1021e-03,  8.8849e-06]])\n"
     ]
    },
    {
     "data": {
      "image/png": "[encoded data removed]",
      "text/plain": [
       "<Figure size 432x648 with 2 Axes>"
      ]
     },
     "metadata": {
      "image/png": {
       "height": 226,
       "width": 423
      },
      "needs_background": "light"
     },
     "output_type": "display_data"
    }
   ],
   "source": [
    "%matplotlib inline\n",
    "import helper\n",
    "\n",
    "images, labels = next(iter(trainloader))\n",
    "\n",
    "img = images[0].view(1, 784)\n",
    "# Turn off gradients to speed up this part\n",
    "with torch.no_grad():\n",
    "    #logps = model.forward(img) #With LogSoftmax\n",
    "    ps = model.forward(img)\n",
    "    \n",
    "print(ps)    \n",
    "# Output of the network are logits, need to take softmax for probabilities\n",
    "#ps = torch.exp(logps)\n",
    "#print(ps)\n",
    "helper.view_classify(img.view(1, 28, 28), ps)"
   ]
  },
  {
   "cell_type": "code",
   "execution_count": 130,
   "metadata": {},
   "outputs": [
    {
     "name": "stdout",
     "output_type": "stream",
     "text": [
      "Training loss: 1.8822479600082838\n",
      "Training loss: 0.8121594862261815\n",
      "Training loss: 0.5193287356575923\n",
      "Training loss: 0.42971233099000034\n",
      "Training loss: 0.3862595110337363\n"
     ]
    }
   ],
   "source": [
    "## Nur fuer mich, zu entscheiden für Präsi\n",
    "model = nn.Sequential(nn.Linear(784, 128),\n",
    "                      nn.ReLU(),\n",
    "                      nn.Linear(128, 64),\n",
    "                      nn.ReLU(),\n",
    "                      nn.Linear(64, 10),\n",
    "                      nn.LogSoftmax(dim=1))\n",
    "\n",
    "criterion = nn.CrossEntropyLoss() #NNLoss?\n",
    "optimizer = optim.SGD(model.parameters(), lr=0.003)\n",
    "\n",
    "epochs = 5\n",
    "for e in range(epochs):\n",
    "    running_loss = 0\n",
    "    for images, labels in trainloader:\n",
    "        # Flatten MNIST images into a 784 long vector\n",
    "        images = images.view(images.shape[0], -1)\n",
    "    \n",
    "        # TODO: Training pass\n",
    "        optimizer.zero_grad()\n",
    "        \n",
    "        output = model.forward(images)\n",
    "        loss = criterion(output, labels)\n",
    "        loss.backward()\n",
    "        optimizer.step()\n",
    "        \n",
    "        running_loss += loss.item()\n",
    "    else:\n",
    "        print(f\"Training loss: {running_loss/len(trainloader)}\")\n"
   ]
  },
  {
   "cell_type": "code",
   "execution_count": 131,
   "metadata": {},
   "outputs": [
    {
     "data": {
      "image/png": "[encoded data removed]",
      "text/plain": [
       "<Figure size 432x648 with 2 Axes>"
      ]
     },
     "metadata": {
      "image/png": {
       "height": 226,
       "width": 423
      },
      "needs_background": "light"
     },
     "output_type": "display_data"
    }
   ],
   "source": [
    "## Nur fuer mich, zu entscheiden für Präsi\n",
    "%matplotlib inline\n",
    "import helper\n",
    "\n",
    "images, labels = next(iter(trainloader))\n",
    "\n",
    "img = images[0].view(1, 784)\n",
    "# Turn off gradients to speed up this part\n",
    "with torch.no_grad():\n",
    "    logps = model.forward(img) #With LogSoftmax\n",
    "    #ps = model.forward(img)   \n",
    "\n",
    "#Output of the network are logits, need to take softmax for probabilities\n",
    "ps = torch.exp(logps)\n",
    "#print(ps)\n",
    "helper.view_classify(img.view(1, 28, 28), ps)"
   ]
  },
  {
   "cell_type": "markdown",
   "metadata": {},
   "source": [
    "### Training mit Validierung"
   ]
  },
  {
   "cell_type": "code",
   "execution_count": 140,
   "metadata": {},
   "outputs": [],
   "source": [
    "import torch\n",
    "from torchvision import datasets, transforms\n",
    "\n",
    "# Define a transform to normalize the data\n",
    "transform = transforms.Compose([transforms.ToTensor(),\n",
    "                                transforms.Normalize((0.5, 0.5, 0.5), (0.5, 0.5, 0.5))])\n",
    "# Download and load the training data\n",
    "trainset = datasets.FashionMNIST('~/.pytorch/MNIST_data/', download=True, train=True, transform=transform)\n",
    "trainloader = torch.utils.data.DataLoader(trainset, batch_size=64, shuffle=True)\n",
    "\n",
    "# Download and load the test data\n",
    "testset = datasets.FashionMNIST('~/.pytorch/MNIST_data/', download=True, train=False, transform=transform)\n",
    "testloader = torch.utils.data.DataLoader(testset, batch_size=64, shuffle=True)"
   ]
  },
  {
   "cell_type": "code",
   "execution_count": 141,
   "metadata": {},
   "outputs": [],
   "source": [
    "from torch import nn, optim\n",
    "import torch.nn.functional as F\n",
    "\n",
    "class Classifier(nn.Module):\n",
    "    def __init__(self):\n",
    "        super().__init__()\n",
    "        self.fc1 = nn.Linear(784, 256)\n",
    "        self.fc2 = nn.Linear(256, 128)\n",
    "        self.fc3 = nn.Linear(128, 64)\n",
    "        self.fc4 = nn.Linear(64, 10)\n",
    "        \n",
    "    def forward(self, x):\n",
    "        # make sure input tensor is flattened\n",
    "        x = x.view(x.shape[0], -1)\n",
    "        \n",
    "        x = F.relu(self.fc1(x))\n",
    "        x = F.relu(self.fc2(x))\n",
    "        x = F.relu(self.fc3(x))\n",
    "        x = F.log_softmax(self.fc4(x), dim=1)\n",
    "        \n",
    "        return x"
   ]
  },
  {
   "cell_type": "code",
   "execution_count": 142,
   "metadata": {},
   "outputs": [
    {
     "name": "stdout",
     "output_type": "stream",
     "text": [
      "torch.Size([64, 10])\n"
     ]
    }
   ],
   "source": [
    "model = Classifier()\n",
    "\n",
    "images, labels = next(iter(testloader))\n",
    "# Get the class probabilities\n",
    "ps = torch.exp(model(images))\n",
    "# Make sure the shape is appropriate, we should get 10 class probabilities for 64 examples\n",
    "print(ps.shape)"
   ]
  },
  {
   "cell_type": "code",
   "execution_count": 143,
   "metadata": {},
   "outputs": [
    {
     "name": "stdout",
     "output_type": "stream",
     "text": [
      "tensor([[ 4],\n",
      "        [ 4],\n",
      "        [ 4],\n",
      "        [ 4],\n",
      "        [ 2],\n",
      "        [ 4],\n",
      "        [ 4],\n",
      "        [ 4],\n",
      "        [ 4],\n",
      "        [ 1]])\n"
     ]
    }
   ],
   "source": [
    "top_p, top_class = ps.topk(1, dim=1)\n",
    "# Look at the most likely classes for the first 10 examples\n",
    "print(top_class[:10,:])"
   ]
  },
  {
   "cell_type": "code",
   "execution_count": 145,
   "metadata": {},
   "outputs": [
    {
     "name": "stdout",
     "output_type": "stream",
     "text": [
      "Accuracy: 14.0625%\n"
     ]
    }
   ],
   "source": [
    "equals = top_class == labels.view(*top_class.shape)\n",
    "\n",
    "accuracy = torch.mean(equals.type(torch.FloatTensor))\n",
    "print(f'Accuracy: {accuracy.item()*100}%')"
   ]
  },
  {
   "cell_type": "code",
   "execution_count": 146,
   "metadata": {},
   "outputs": [
    {
     "name": "stdout",
     "output_type": "stream",
     "text": [
      "Epoch: 1/30..  Training Loss: 0.340..  Test Loss: 0.207..  Test Accuracy: 0.934\n",
      "Epoch: 2/30..  Training Loss: 0.166..  Test Loss: 0.152..  Test Accuracy: 0.954\n",
      "Epoch: 3/30..  Training Loss: 0.139..  Test Loss: 0.117..  Test Accuracy: 0.965\n",
      "Epoch: 4/30..  Training Loss: 0.118..  Test Loss: 0.141..  Test Accuracy: 0.958\n",
      "Epoch: 5/30..  Training Loss: 0.104..  Test Loss: 0.133..  Test Accuracy: 0.962\n",
      "Epoch: 6/30..  Training Loss: 0.097..  Test Loss: 0.133..  Test Accuracy: 0.960\n",
      "Epoch: 7/30..  Training Loss: 0.087..  Test Loss: 0.123..  Test Accuracy: 0.965\n",
      "Epoch: 8/30..  Training Loss: 0.086..  Test Loss: 0.128..  Test Accuracy: 0.963\n",
      "Epoch: 9/30..  Training Loss: 0.079..  Test Loss: 0.104..  Test Accuracy: 0.974\n",
      "Epoch: 10/30..  Training Loss: 0.078..  Test Loss: 0.123..  Test Accuracy: 0.968\n",
      "Epoch: 11/30..  Training Loss: 0.072..  Test Loss: 0.107..  Test Accuracy: 0.973\n",
      "Epoch: 12/30..  Training Loss: 0.068..  Test Loss: 0.122..  Test Accuracy: 0.969\n",
      "Epoch: 13/30..  Training Loss: 0.065..  Test Loss: 0.110..  Test Accuracy: 0.972\n",
      "Epoch: 14/30..  Training Loss: 0.064..  Test Loss: 0.125..  Test Accuracy: 0.970\n",
      "Epoch: 15/30..  Training Loss: 0.064..  Test Loss: 0.117..  Test Accuracy: 0.969\n",
      "Epoch: 16/30..  Training Loss: 0.057..  Test Loss: 0.114..  Test Accuracy: 0.972\n",
      "Epoch: 17/30..  Training Loss: 0.060..  Test Loss: 0.109..  Test Accuracy: 0.973\n",
      "Epoch: 18/30..  Training Loss: 0.056..  Test Loss: 0.125..  Test Accuracy: 0.972\n",
      "Epoch: 19/30..  Training Loss: 0.058..  Test Loss: 0.144..  Test Accuracy: 0.971\n",
      "Epoch: 20/30..  Training Loss: 0.054..  Test Loss: 0.128..  Test Accuracy: 0.973\n",
      "Epoch: 21/30..  Training Loss: 0.055..  Test Loss: 0.116..  Test Accuracy: 0.973\n",
      "Epoch: 22/30..  Training Loss: 0.054..  Test Loss: 0.125..  Test Accuracy: 0.972\n",
      "Epoch: 23/30..  Training Loss: 0.051..  Test Loss: 0.094..  Test Accuracy: 0.978\n",
      "Epoch: 24/30..  Training Loss: 0.046..  Test Loss: 0.104..  Test Accuracy: 0.978\n",
      "Epoch: 25/30..  Training Loss: 0.049..  Test Loss: 0.129..  Test Accuracy: 0.973\n",
      "Epoch: 26/30..  Training Loss: 0.051..  Test Loss: 0.114..  Test Accuracy: 0.976\n",
      "Epoch: 27/30..  Training Loss: 0.044..  Test Loss: 0.124..  Test Accuracy: 0.974\n",
      "Epoch: 28/30..  Training Loss: 0.047..  Test Loss: 0.139..  Test Accuracy: 0.975\n",
      "Epoch: 29/30..  Training Loss: 0.040..  Test Loss: 0.124..  Test Accuracy: 0.975\n",
      "Epoch: 30/30..  Training Loss: 0.046..  Test Loss: 0.123..  Test Accuracy: 0.972\n"
     ]
    }
   ],
   "source": [
    "model = Classifier()\n",
    "criterion = nn.NLLLoss()\n",
    "optimizer = optim.Adam(model.parameters(), lr=0.003)\n",
    "\n",
    "epochs = 30\n",
    "steps = 0\n",
    "\n",
    "train_losses, test_losses = [], []\n",
    "for e in range(epochs):\n",
    "    running_loss = 0\n",
    "    for images, labels in trainloader:\n",
    "        \n",
    "        optimizer.zero_grad()\n",
    "        \n",
    "        log_ps = model(images)\n",
    "        loss = criterion(log_ps, labels)\n",
    "        loss.backward()\n",
    "        optimizer.step()\n",
    "        \n",
    "        running_loss += loss.item()\n",
    "    \n",
    "    else:\n",
    "        test_loss = 0\n",
    "        accuracy = 0\n",
    "        \n",
    "        # Turn off gradients for validation, saves memory and computations\n",
    "        with torch.no_grad():\n",
    "            for images, labels in testloader:\n",
    "                log_ps = model(images)\n",
    "                test_loss += criterion(log_ps, labels)\n",
    "                \n",
    "                ps = torch.exp(log_ps)\n",
    "                top_p, top_class = ps.topk(1, dim=1)\n",
    "                equals = top_class == labels.view(*top_class.shape)\n",
    "                accuracy += torch.mean(equals.type(torch.FloatTensor))\n",
    "                \n",
    "        train_losses.append(running_loss/len(trainloader))\n",
    "        test_losses.append(test_loss/len(testloader))\n",
    "\n",
    "        print(\"Epoch: {}/{}.. \".format(e+1, epochs),\n",
    "              \"Training Loss: {:.3f}.. \".format(running_loss/len(trainloader)),\n",
    "              \"Test Loss: {:.3f}.. \".format(test_loss/len(testloader)),\n",
    "              \"Test Accuracy: {:.3f}\".format(accuracy/len(testloader)))"
   ]
  },
  {
   "cell_type": "code",
   "execution_count": 147,
   "metadata": {},
   "outputs": [],
   "source": [
    "%matplotlib inline\n",
    "%config InlineBackend.figure_format = 'retina'\n",
    "\n",
    "import matplotlib.pyplot as plt"
   ]
  },
  {
   "cell_type": "code",
   "execution_count": 148,
   "metadata": {},
   "outputs": [
    {
     "data": {
      "text/plain": [
       "<matplotlib.legend.Legend at 0x22116e51860>"
      ]
     },
     "execution_count": 148,
     "metadata": {},
     "output_type": "execute_result"
    },
    {
     "data": {
      "image/png": "[encoded data removed]",
      "text/plain": [
       "<Figure size 432x288 with 1 Axes>"
      ]
     },
     "metadata": {
      "image/png": {
       "height": 250,
       "width": 380
      },
      "needs_background": "light"
     },
     "output_type": "display_data"
    }
   ],
   "source": [
    "plt.plot(train_losses, label='Training loss')\n",
    "plt.plot(test_losses, label='Validation loss')\n",
    "plt.legend(frameon=False)"
   ]
  },
  {
   "cell_type": "markdown",
   "metadata": {},
   "source": [
    "# 4. CNN in pyTorch"
   ]
  },
  {
   "cell_type": "code",
   "execution_count": null,
   "metadata": {},
   "outputs": [],
   "source": []
  },
  {
   "cell_type": "code",
   "execution_count": null,
   "metadata": {},
   "outputs": [],
   "source": []
  },
  {
   "cell_type": "markdown",
   "metadata": {},
   "source": [
    "# 1. Installation\n",
    "\n",
    "Installation can be easily done through the official website:  https://pytorch.org/. Simply select OS, python version and if you want the GPU (with CUDA) or the CPU version."
   ]
  },
  {
   "cell_type": "markdown",
   "metadata": {},
   "source": [
    "### 1.2 Installation Check"
   ]
  },
  {
   "cell_type": "code",
   "execution_count": 1,
   "metadata": {},
   "outputs": [
    {
     "name": "stdout",
     "output_type": "stream",
     "text": [
      "Torch version: 0.4.1\n",
      "CUDA is active: True\n",
      "CUDA version: 9.0\n"
     ]
    }
   ],
   "source": [
    "import torch\n",
    "print(\"Torch version:\", torch.__version__)\n",
    "print(\"CUDA is active:\", torch.cuda.is_available())\n",
    "print(\"CUDA version:\", torch.version.cuda)"
   ]
  },
  {
   "cell_type": "markdown",
   "metadata": {},
   "source": [
    "## 2. PyTorch Fundamentals - Matrices and Tensors"
   ]
  },
  {
   "cell_type": "markdown",
   "metadata": {},
   "source": [
    "### NumPy vs. PyTorch"
   ]
  },
  {
   "cell_type": "code",
   "execution_count": 2,
   "metadata": {},
   "outputs": [
    {
     "name": "stdout",
     "output_type": "stream",
     "text": [
      "Numpy array:\n",
      " [[1 2]\n",
      " [3 4]]\n",
      "Torch array:\n",
      " tensor([[1., 2.],\n",
      "        [3., 4.]])\n",
      "Numpy array of ones:\n",
      " [[1. 1.]\n",
      " [1. 1.]]\n",
      "Torch array of ones:\n",
      " tensor([[1., 1.],\n",
      "        [1., 1.]])\n",
      "Numpy array of random int:\n",
      " [[0.22712468 0.1864801 ]\n",
      " [0.98675439 0.86452921]]\n",
      "Torch array of random int:\n",
      " tensor([[0.6608, 0.7621],\n",
      "        [0.0416, 0.7732]])\n"
     ]
    }
   ],
   "source": [
    "#### With values ####\n",
    "#Python array\n",
    "arr = [[1,2], [3,4]]\n",
    "#Numpy\n",
    "import numpy as np\n",
    "\n",
    "#Bidimensional array\n",
    "numpy_arr = np.array([[1,2], [3,4]])\n",
    "print(\"Numpy array:\\n\", numpy_arr)\n",
    "\n",
    "#Torch\n",
    "import torch\n",
    "arr_t = torch.Tensor(arr)#Conversion to torch array\n",
    "print(\"Torch array:\\n\", arr_t)\n",
    "##### With default values #####\n",
    "print(\"Numpy array of ones:\\n\", np.ones((2,2)))\n",
    "print(\"Torch array of ones:\\n\", torch.ones((2,2)))\n",
    "\n",
    "#### With random values ####\n",
    "print(\"Numpy array of random int:\\n\", np.random.rand(2,2))\n",
    "print(\"Torch array of random int:\\n\", torch.rand(2,2))"
   ]
  },
  {
   "cell_type": "markdown",
   "metadata": {},
   "source": [
    "### Reproducibility with Seeds"
   ]
  },
  {
   "cell_type": "code",
   "execution_count": 3,
   "metadata": {},
   "outputs": [
    {
     "name": "stdout",
     "output_type": "stream",
     "text": [
      "Seeds in numpy:\n",
      "\n",
      "[[0.5488135  0.71518937]\n",
      " [0.60276338 0.54488318]]\n",
      "tensor([[0.4963, 0.7682],\n",
      "        [0.0885, 0.1320]])\n",
      "tensor([[0.3074, 0.6341],\n",
      "        [0.4901, 0.8964]])\n"
     ]
    }
   ],
   "source": [
    "######## Seeds in numpy \n",
    "print(\"Seeds in numpy:\\n\")\n",
    "np.random.seed(0)\n",
    "print(np.random.rand(2,2))\n",
    "\n",
    "####### Seeds in torch (CPU)\n",
    "torch.manual_seed(0)\n",
    "print(torch.rand(2,2))\n",
    "\n",
    "###### Seeds in torch (GPU)\n",
    "if torch.cuda.is_available():\n",
    "    torch.cuda.manual_seed_all(0)\n",
    "    print(torch.rand(2,2))"
   ]
  },
  {
   "cell_type": "markdown",
   "metadata": {},
   "source": [
    "### NumPy-PyTorch Bridge\n",
    "\n",
    "Torch supports following data types:\n",
    "double, float, float16, int64, int32, and uint8.\n",
    "//TODO: Inserisci tabella"
   ]
  },
  {
   "cell_type": "markdown",
   "metadata": {},
   "source": [
    "#### From NumPy to Torch"
   ]
  },
  {
   "cell_type": "code",
   "execution_count": 4,
   "metadata": {},
   "outputs": [
    {
     "name": "stdout",
     "output_type": "stream",
     "text": [
      "tensor([[1., 1.],\n",
      "        [1., 1.]], dtype=torch.float64)\n"
     ]
    }
   ],
   "source": [
    "#Numpy array\n",
    "np_array = np.ones((2,2))\n",
    "\n",
    "#Torch tensor\n",
    "torch_tensor = torch.from_numpy(np_array)\n",
    "print(torch_tensor)"
   ]
  },
  {
   "cell_type": "markdown",
   "metadata": {},
   "source": [
    "Data types matter in pyTorch:"
   ]
  },
  {
   "cell_type": "code",
   "execution_count": 5,
   "metadata": {},
   "outputs": [
    {
     "name": "stdout",
     "output_type": "stream",
     "text": [
      "TypeError: can't convert np.ndarray of type numpy.int8. The only supported types are: double, float, float16, int64, int32, and uint8.\n"
     ]
    }
   ],
   "source": [
    "#Data types matter!\n",
    "np_array2 = np.ones((2,2), dtype=np.int8)\n",
    "try:\n",
    "    torch.from_numpy(np_array2)\n",
    "except TypeError as e:\n",
    "    print(\"TypeError:\",e)"
   ]
  },
  {
   "cell_type": "code",
   "execution_count": 6,
   "metadata": {},
   "outputs": [
    {
     "data": {
      "text/plain": [
       "tensor([[1, 1],\n",
       "        [1, 1]])"
      ]
     },
     "execution_count": 6,
     "metadata": {},
     "output_type": "execute_result"
    }
   ],
   "source": [
    "np_array3 = np.ones((2,2), dtype=np.int64)\n",
    "torch.from_numpy(np_array3)"
   ]
  },
  {
   "cell_type": "markdown",
   "metadata": {},
   "source": [
    "#### PyTorch to NumPy"
   ]
  },
  {
   "cell_type": "code",
   "execution_count": 7,
   "metadata": {},
   "outputs": [
    {
     "name": "stdout",
     "output_type": "stream",
     "text": [
      "<class 'torch.Tensor'>\n",
      "<class 'numpy.ndarray'>\n"
     ]
    }
   ],
   "source": [
    "#Torch tensor\n",
    "torch_tensor2 = torch.ones(2,2)\n",
    "print(type(torch_tensor2))\n",
    "torch_to_numpy = torch_tensor2.numpy()\n",
    "print(type(torch_to_numpy))"
   ]
  },
  {
   "cell_type": "markdown",
   "metadata": {},
   "source": [
    "#### Tesors on CPU vs GPU"
   ]
  },
  {
   "cell_type": "code",
   "execution_count": 8,
   "metadata": {},
   "outputs": [],
   "source": [
    "#CPU\n",
    "tensor_cpu = torch.ones(2,2)"
   ]
  },
  {
   "cell_type": "code",
   "execution_count": 9,
   "metadata": {},
   "outputs": [
    {
     "name": "stdout",
     "output_type": "stream",
     "text": [
      "tensor([[1., 1.],\n",
      "        [1., 1.]])\n"
     ]
    }
   ],
   "source": [
    "#CPU to GPU\n",
    "if torch.cuda.is_available():\n",
    "    tensor_cpu.cuda()\n",
    "    print(tensor_cpu)"
   ]
  },
  {
   "cell_type": "code",
   "execution_count": 10,
   "metadata": {},
   "outputs": [
    {
     "data": {
      "text/plain": [
       "tensor([[1., 1.],\n",
       "        [1., 1.]])"
      ]
     },
     "execution_count": 10,
     "metadata": {},
     "output_type": "execute_result"
    }
   ],
   "source": [
    "#GPU to CPU\n",
    "tensor_cpu.cpu()"
   ]
  },
  {
   "cell_type": "markdown",
   "metadata": {},
   "source": [
    "#### Tensor Dimensions"
   ]
  },
  {
   "cell_type": "code",
   "execution_count": 11,
   "metadata": {},
   "outputs": [
    {
     "name": "stdout",
     "output_type": "stream",
     "text": [
      "Tensor dimension:\n",
      "shape variable: torch.Size([2, 2])\n",
      "size()-method torch.Size([2, 2])\n",
      "Resized tensor: tensor([1., 1., 1., 1.])\n",
      "Dimension: torch.Size([4])\n"
     ]
    }
   ],
   "source": [
    "#### Resizing a tensor\n",
    "a = torch.ones(2,2)\n",
    "print(\"Tensor dimension:\")\n",
    "print(\"shape variable:\", a.shape)\n",
    "print(\"size()-method\", a.size())\n",
    "\n",
    "### view()\n",
    "print(\"Resized tensor:\", a.view(4))\n",
    "print(\"Dimension:\", a.view(4).size())"
   ]
  },
  {
   "cell_type": "markdown",
   "metadata": {},
   "source": [
    "#### Tensor Element-wise Operations"
   ]
  },
  {
   "cell_type": "code",
   "execution_count": 12,
   "metadata": {},
   "outputs": [
    {
     "name": "stdout",
     "output_type": "stream",
     "text": [
      "tensor([[2., 2.],\n",
      "        [2., 2.]])\n",
      "tensor([[2., 2.],\n",
      "        [2., 2.]])\n",
      "\n",
      "tensor([[3., 3.],\n",
      "        [3., 3.]])\n",
      "tensor([[0., 0.],\n",
      "        [0., 0.]])\n",
      "tensor([[0., 0.],\n",
      "        [0., 0.]])\n",
      "A:\n",
      " tensor([[1., 1.],\n",
      "        [1., 1.]])\n",
      "\n",
      "tensor([[0., 0.],\n",
      "        [0., 0.]])\n",
      "A:\n",
      " tensor([[0., 0.],\n",
      "        [0., 0.]])\n"
     ]
    }
   ],
   "source": [
    "a = torch.ones(2,2)\n",
    "b = torch.ones(2,2)\n",
    "\n",
    "### Addition (element-wise)\n",
    "add = a+b \n",
    "add2 = torch.add(a,b)\n",
    "print(add)\n",
    "print(add2)\n",
    "\n",
    "#In-place addition\n",
    "print()\n",
    "add.add_(a)\n",
    "print(add)\n",
    "\n",
    "#### Subtraction\n",
    "print(a-b)\n",
    "print(a.sub(b))\n",
    "print(\"A:\\n\",a)\n",
    "print()\n",
    "#In place\n",
    "print(a.sub_(b))\n",
    "print(\"A:\\n\",a)\n"
   ]
  },
  {
   "cell_type": "markdown",
   "metadata": {},
   "source": [
    "### Gradients - Parameter \"requires_grad\""
   ]
  },
  {
   "cell_type": "code",
   "execution_count": 13,
   "metadata": {},
   "outputs": [
    {
     "data": {
      "text/plain": [
       "tensor([[1., 1.],\n",
       "        [1., 1.]], requires_grad=True)"
      ]
     },
     "execution_count": 13,
     "metadata": {},
     "output_type": "execute_result"
    }
   ],
   "source": [
    "### Creating a tensor with gradient which allow the accumulation of gradients\n",
    "a_grad = torch.ones((2,2), requires_grad=True)\n",
    "a_grad"
   ]
  },
  {
   "cell_type": "code",
   "execution_count": 14,
   "metadata": {},
   "outputs": [
    {
     "name": "stdout",
     "output_type": "stream",
     "text": [
      "tensor([[2., 2.],\n",
      "        [2., 2.]], grad_fn=<ThAddBackward>)\n",
      "tensor([[2., 2.],\n",
      "        [2., 2.]], grad_fn=<ThAddBackward>)\n"
     ]
    }
   ],
   "source": [
    "# Behaves similarly to tensors\n",
    "b_grad = torch.ones((2, 2), requires_grad=True)\n",
    "print(a_grad + b_grad)\n",
    "print(torch.add(a_grad, b_grad))"
   ]
  },
  {
   "cell_type": "markdown",
   "metadata": {},
   "source": [
    "**What is exactly `requires_grad`?**"
   ]
  },
  {
   "cell_type": "markdown",
   "metadata": {},
   "source": [
    "Define a function:\n",
    "$$y_i = 5(x_i+1)^2$$"
   ]
  },
  {
   "cell_type": "code",
   "execution_count": 15,
   "metadata": {},
   "outputs": [
    {
     "name": "stdout",
     "output_type": "stream",
     "text": [
      "x: tensor([1., 1.], requires_grad=True)\n",
      "True\n"
     ]
    }
   ],
   "source": [
    "# x value\n",
    "x = torch.ones(2, requires_grad=True)\n",
    "print(\"x:\", x)\n",
    "print(x.requires_grad)"
   ]
  },
  {
   "cell_type": "code",
   "execution_count": 16,
   "metadata": {},
   "outputs": [
    {
     "name": "stdout",
     "output_type": "stream",
     "text": [
      "False\n",
      "y: tensor([20., 20.], grad_fn=<MulBackward>)\n",
      "True\n"
     ]
    }
   ],
   "source": [
    "y_test = torch.ones(2)*5\n",
    "print(y_test.requires_grad)\n",
    "y = 5* (x + 1) ** 2\n",
    "print(\"y:\", y)\n",
    "print(y.requires_grad)"
   ]
  },
  {
   "cell_type": "markdown",
   "metadata": {},
   "source": [
    "**Backward should be called only on a scalar (i.e. 1-element tensor) or with gradient w.r.t. the variable**\n",
    "- Let's reduce y to a scalar then..."
   ]
  },
  {
   "cell_type": "markdown",
   "metadata": {},
   "source": [
    "$$o = \\frac{1}{2}\\sum_i y_i$$"
   ]
  },
  {
   "cell_type": "code",
   "execution_count": 17,
   "metadata": {},
   "outputs": [
    {
     "data": {
      "text/plain": [
       "tensor(20., grad_fn=<MulBackward>)"
      ]
     },
     "execution_count": 17,
     "metadata": {},
     "output_type": "execute_result"
    }
   ],
   "source": [
    "o = (1/2) * torch.sum(y)\n",
    "o"
   ]
  },
  {
   "cell_type": "markdown",
   "metadata": {},
   "source": [
    "<center> **Recap `y` equation**: $y_i = 5(x_i+1)^2$ </center>\n",
    "<center> **Recap `o` equation**: $o = \\frac{1}{2}\\sum_i y_i$ </center>\n",
    "<center> **Substitute `y` into `o` equation**: $o = \\frac{1}{2} \\sum_i 5(x_i+1)^2$ </center>\n",
    "$$\\frac{\\partial o}{\\partial x_i} = \\frac{1}{2}[10(x_i+1)]$$\n",
    "$$\\frac{\\partial o}{\\partial x_i}\\bigr\\rvert_{x_i=1} = \\frac{1}{2}[10(1 + 1)] = \\frac{10}{2}(2) = 10$$"
   ]
  },
  {
   "cell_type": "code",
   "execution_count": 18,
   "metadata": {},
   "outputs": [
    {
     "data": {
      "text/plain": [
       "<bound method Tensor.backward of tensor(20., grad_fn=<MulBackward>)>"
      ]
     },
     "execution_count": 18,
     "metadata": {},
     "output_type": "execute_result"
    }
   ],
   "source": [
    "o.backward"
   ]
  },
  {
   "cell_type": "code",
   "execution_count": 20,
   "metadata": {},
   "outputs": [],
   "source": [
    "x.grad"
   ]
  },
  {
   "cell_type": "markdown",
   "metadata": {},
   "source": [
    "## 3. Feedforward Neural Network with PyTorch (MNIST)"
   ]
  },
  {
   "cell_type": "code",
   "execution_count": 21,
   "metadata": {},
   "outputs": [],
   "source": [
    "import torch\n",
    "import torch.nn as nn"
   ]
  },
  {
   "cell_type": "markdown",
   "metadata": {},
   "source": [
    "### Steps\n",
    "- Step 1: Load Dataset\n",
    "- Step 2: Make Dataset Iterable\n",
    "- Step 3: Create Model Class\n",
    "- Step 4: Instantiate Model Class\n",
    "- Step 5: Instantiate Loss Class\n",
    "- Step 6: Instantiate Optimizer Class\n",
    "- Step 7: Train Model"
   ]
  },
  {
   "cell_type": "markdown",
   "metadata": {},
   "source": [
    "### Step 1: Loading MNIST Train Dataset"
   ]
  },
  {
   "cell_type": "code",
   "execution_count": 22,
   "metadata": {},
   "outputs": [],
   "source": [
    "import torch\n",
    "import torch.nn as nn\n",
    "import torchvision.transforms as transforms\n",
    "import torchvision.datasets as dsets"
   ]
  },
  {
   "cell_type": "code",
   "execution_count": 23,
   "metadata": {},
   "outputs": [
    {
     "name": "stdout",
     "output_type": "stream",
     "text": [
      "Downloading http://yann.lecun.com/exdb/mnist/train-images-idx3-ubyte.gz\n",
      "Downloading http://yann.lecun.com/exdb/mnist/train-labels-idx1-ubyte.gz\n",
      "Downloading http://yann.lecun.com/exdb/mnist/t10k-images-idx3-ubyte.gz\n",
      "Downloading http://yann.lecun.com/exdb/mnist/t10k-labels-idx1-ubyte.gz\n",
      "Processing...\n",
      "Done!\n"
     ]
    }
   ],
   "source": [
    "train_dataset = dsets.MNIST(root='./data', \n",
    "                            train=True, \n",
    "                            transform=transforms.ToTensor(),\n",
    "                            download=True)\n",
    "\n",
    "test_dataset = dsets.MNIST(root='./data', \n",
    "                           train=False, \n",
    "                           transform=transforms.ToTensor())"
   ]
  },
  {
   "cell_type": "markdown",
   "metadata": {},
   "source": [
    "### Step 2: Make Dataset Iterable"
   ]
  },
  {
   "cell_type": "code",
   "execution_count": 24,
   "metadata": {},
   "outputs": [],
   "source": [
    "batch_size = 100\n",
    "n_iters = 3000\n",
    "num_epochs = n_iters / (len(train_dataset) / batch_size)\n",
    "num_epochs = int(num_epochs)\n",
    "\n",
    "train_loader = torch.utils.data.DataLoader(dataset=train_dataset, \n",
    "                                           batch_size=batch_size, \n",
    "                                           shuffle=True)\n",
    "\n",
    "test_loader = torch.utils.data.DataLoader(dataset=test_dataset, \n",
    "                                          batch_size=batch_size, \n",
    "                                          shuffle=False)"
   ]
  },
  {
   "cell_type": "markdown",
   "metadata": {},
   "source": [
    "### Step 3: Create Model Class"
   ]
  },
  {
   "cell_type": "code",
   "execution_count": 25,
   "metadata": {},
   "outputs": [],
   "source": [
    "class FeedforwardNeuralNetModel(nn.Module):\n",
    "    def __init__(self, input_dim, hidden_dim, output_dim):\n",
    "        super(FeedforwardNeuralNetModel, self).__init__()\n",
    "        # Linear function\n",
    "        self.fc1 = nn.Linear(input_dim, hidden_dim) \n",
    "        # Non-linearity\n",
    "        self.sigmoid = nn.Sigmoid()\n",
    "        # Linear function (readout)\n",
    "        self.fc2 = nn.Linear(hidden_dim, output_dim)  \n",
    "    \n",
    "    def forward(self, x):\n",
    "        # Linear function  # LINEAR\n",
    "        out = self.fc1(x)\n",
    "        # Non-linearity  # NON-LINEAR\n",
    "        out = self.sigmoid(out)\n",
    "        # Linear function (readout)  # LINEAR\n",
    "        out = self.fc2(out)\n",
    "        return out"
   ]
  },
  {
   "cell_type": "markdown",
   "metadata": {},
   "source": [
    "### Step 4: Instantiate Model Class\n",
    "- **Input** dimension: **784** \n",
    "    - Size of image\n",
    "    - $28 \\times 28 = 784$\n",
    "- **Output** dimension: **10**\n",
    "    - 0, 1, 2, 3, 4, 5, 6, 7, 8, 9\n",
    "- **Hidden** dimension: **100**\n",
    "    - Can be any number\n",
    "    - Similar term\n",
    "        - Number of neurons\n",
    "        - Number of non-linear activation functions\n",
    "        \n",
    "Our model will have 1 hidden layer and **sigmoid** activation.        "
   ]
  },
  {
   "cell_type": "code",
   "execution_count": 26,
   "metadata": {},
   "outputs": [],
   "source": [
    "input_dim = 28*28\n",
    "hidden_dim = 100\n",
    "output_dim = 10\n",
    "\n",
    "model = FeedforwardNeuralNetModel(input_dim, hidden_dim, output_dim)"
   ]
  },
  {
   "cell_type": "markdown",
   "metadata": {},
   "source": [
    "### Step 5: Instantiate Loss Class\n",
    "- Feedforward Neural Network: **Cross Entropy Loss**\n",
    "    - _Logistic Regression_: **Cross Entropy Loss**\n",
    "    - _Linear Regression_: **MSE**\n",
    "   "
   ]
  },
  {
   "cell_type": "code",
   "execution_count": 27,
   "metadata": {},
   "outputs": [],
   "source": [
    "criterion = nn.CrossEntropyLoss()"
   ]
  },
  {
   "cell_type": "markdown",
   "metadata": {},
   "source": [
    "### Step 6: Instantiate Optimizer Class\n",
    "- Simplified equation\n",
    "    - $\\theta = \\theta - \\eta \\cdot \\nabla_\\theta $\n",
    "        - $\\theta$: parameters (our tensors with gradient accumulation capabilities)\n",
    "        - $\\eta$: learning rate (how fast we want to learn)\n",
    "        - $\\nabla_\\theta$: parameters' gradients\n",
    "- Even simplier equation\n",
    "    - `parameters = parameters - learning_rate * parameters_gradients`\n",
    "    - **At every iteration, we update our model's parameters**"
   ]
  },
  {
   "cell_type": "code",
   "execution_count": 28,
   "metadata": {},
   "outputs": [],
   "source": [
    "learning_rate = 0.1\n",
    "\n",
    "optimizer = torch.optim.SGD(model.parameters(), lr=learning_rate)  "
   ]
  },
  {
   "cell_type": "markdown",
   "metadata": {},
   "source": [
    "### Parameters In-Depth"
   ]
  },
  {
   "cell_type": "code",
   "execution_count": 30,
   "metadata": {},
   "outputs": [
    {
     "name": "stdout",
     "output_type": "stream",
     "text": [
      "<generator object Module.parameters at 0x0000021F25700C78>\n",
      "4\n",
      "torch.Size([100, 784])\n",
      "torch.Size([100])\n",
      "torch.Size([10, 100])\n",
      "torch.Size([10])\n"
     ]
    }
   ],
   "source": [
    "print(model.parameters())\n",
    "\n",
    "print(len(list(model.parameters())))\n",
    "\n",
    "# FC 1 Parameters \n",
    "print(list(model.parameters())[0].size())\n",
    "\n",
    "# FC 1 Bias Parameters\n",
    "print(list(model.parameters())[1].size())\n",
    "\n",
    "# FC 2 Parameters\n",
    "print(list(model.parameters())[2].size())\n",
    "\n",
    "# FC 2 Bias Parameters\n",
    "print(list(model.parameters())[3].size())\n",
    "\n",
    "###### IMMAGINE?"
   ]
  },
  {
   "cell_type": "markdown",
   "metadata": {},
   "source": [
    "### Step 7: Train Model\n",
    "- Process \n",
    "    1. Convert inputs to tensors with gradient accumulation capabilities\n",
    "    2. Clear gradient buffers\n",
    "    3. Get output given inputs \n",
    "    4. Get loss\n",
    "    5. Get gradients w.r.t. parameters\n",
    "    6. Update parameters using gradients\n",
    "        - `parameters = parameters - learning_rate * parameters_gradients`\n",
    "    7. REPEAT"
   ]
  },
  {
   "cell_type": "code",
   "execution_count": 32,
   "metadata": {},
   "outputs": [
    {
     "name": "stdout",
     "output_type": "stream",
     "text": [
      "Iteration: 500. Loss: 0.595485508441925. Accuracy: 86\n",
      "Iteration: 1000. Loss: 0.5494940876960754. Accuracy: 89\n",
      "Iteration: 1500. Loss: 0.45526909828186035. Accuracy: 90\n",
      "Iteration: 2000. Loss: 0.4022116959095001. Accuracy: 91\n",
      "Iteration: 2500. Loss: 0.22733356058597565. Accuracy: 91\n",
      "Iteration: 3000. Loss: 0.27196046710014343. Accuracy: 91\n"
     ]
    }
   ],
   "source": [
    "iter = 0\n",
    "for epoch in range(num_epochs):\n",
    "    for i, (images, labels) in enumerate(train_loader):\n",
    "        # Load images with gradient accumulation capabilities\n",
    "        images = images.view(-1, 28*28).requires_grad_()\n",
    "        \n",
    "        # Clear gradients w.r.t. parameters\n",
    "        optimizer.zero_grad()\n",
    "        \n",
    "        # Forward pass to get output/logits\n",
    "        outputs = model(images)\n",
    "        \n",
    "        # Calculate Loss: softmax --> cross entropy loss\n",
    "        loss = criterion(outputs, labels)\n",
    "        \n",
    "        # Getting gradients w.r.t. parameters\n",
    "        loss.backward()\n",
    "        \n",
    "        # Updating parameters\n",
    "        optimizer.step()\n",
    "        \n",
    "        iter += 1\n",
    "        \n",
    "        if iter % 500 == 0:\n",
    "            # Calculate Accuracy         \n",
    "            correct = 0\n",
    "            total = 0\n",
    "            # Iterate through test dataset\n",
    "            for images, labels in test_loader:\n",
    "                # Load images with gradient accumulation capabilities\n",
    "                images = images.view(-1, 28*28).requires_grad_()\n",
    "                \n",
    "                # Forward pass only to get logits/output\n",
    "                outputs = model(images)\n",
    "                \n",
    "                # Get predictions from the maximum value\n",
    "                _, predicted = torch.max(outputs.data, 1)\n",
    "                \n",
    "                # Total number of labels\n",
    "                total += labels.size(0)\n",
    "                \n",
    "                # Total correct predictions\n",
    "                correct += (predicted == labels).sum()\n",
    "            \n",
    "            accuracy = 100 * correct / total\n",
    "            \n",
    "            # Print Loss\n",
    "            print('Iteration: {}. Loss: {}. Accuracy: {}'.format(iter, loss.item(), accuracy))"
   ]
  },
  {
   "cell_type": "markdown",
   "metadata": {},
   "source": [
    "## 4. Convolutional Neural Networks in PyTorch"
   ]
  },
  {
   "cell_type": "code",
   "execution_count": null,
   "metadata": {},
   "outputs": [],
   "source": []
  },
  {
   "cell_type": "markdown",
   "metadata": {},
   "source": [
    "## Quellen\n",
    "\n",
    "1. Deep Learning Wizard: https://www.deeplearningwizard.com/deep_learning/intro/ (images, explanations, examples..)\n",
    "2. Siraj Raval, \"Pytorch in 5 Minutes\": https://www.youtube.com/watch?v=nbJ-2G2GXL0 (very quick start)\n",
    "3. Udacity, Intro to Deep Learning with PyTorch: https://www.udacity.com/course/deep-learning-pytorch--ud188\n"
   ]
  }
 ],
 "metadata": {
  "kernelspec": {
   "display_name": "Python [conda env:torch]",
   "language": "python",
   "name": "conda-env-torch-py"
  },
  "language_info": {
   "codemirror_mode": {
    "name": "ipython",
    "version": 3
   },
   "file_extension": ".py",
   "mimetype": "text/x-python",
   "name": "python",
   "nbconvert_exporter": "python",
   "pygments_lexer": "ipython3",
   "version": "3.6.6"
  }
 },
 "nbformat": 4,
 "nbformat_minor": 2
}
