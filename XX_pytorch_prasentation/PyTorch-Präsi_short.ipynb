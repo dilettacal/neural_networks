{
 "cells": [
  {
   "cell_type": "markdown",
   "metadata": {},
   "source": [
    "# PyTorch - Vortrag\n",
    "### HTW Berlin - Angewandte Informatik (B. Sc.)\n",
    "#### Modul \"Ausgewählte Kapitel sozialer Webtechnologien\" (aka Neuronale Netze)\n",
    "\n",
    "##### Diletta Calussi - s0559842"
   ]
  },
  {
   "cell_type": "markdown",
   "metadata": {},
   "source": [
    "# Inhalte\n",
    "\n",
    "1. Das Framework PyTorch\n",
    "2. PyTorch Fundamentals: Tensors, NumPy Bridge, Variablen, Autograd und CUDA\n",
    "3. Neuronale Netze in PyTorch\n",
    "5. Quellen"
   ]
  },
  {
   "cell_type": "markdown",
   "metadata": {},
   "source": [
    "## 1. Das Framework [PyTorch](https://pytorch.org/)"
   ]
  },
  {
   "cell_type": "markdown",
   "metadata": {},
   "source": [
    "- Eine ML Open-Source-Bibliothek für python\n",
    "- Basiert auf der in [**Lua**](https://www.lua.org/) geschriebenen Bibliothek [**Torch**](http://torch.ch/)\n",
    "- Vom Facebook-Forschungsteam für K.I. entwickelt \n",
    "- Erscheinungsjahr: 2016\n",
    "- Unterstützt GPU sowie CPU \n",
    "- High Level\n"
   ]
  },
  {
   "cell_type": "markdown",
   "metadata": {},
   "source": [
    "### Kurze Übersicht\n",
    "\n",
    "1. Zwei Abstraktionen: Tensoren und Variablen\n",
    "2. Dynamische Graphen (Dynamic Computational Graph)\n",
    "3. Autograd-System zur Berechnung der Ableitungen \n"
   ]
  },
  {
   "cell_type": "markdown",
   "metadata": {},
   "source": [
    "### Packages für diese Präsentation\n",
    "- torch (CUDA oder GPU)\n",
    "- torchvision\n",
    "- numpy\n",
    "\n",
    "\n",
    "\n",
    "Eine Anleitung für die Installation ist auf der Webseite von [PyTorch](https://pytorch.org/) verfügbar."
   ]
  },
  {
   "cell_type": "code",
   "execution_count": 1,
   "metadata": {},
   "outputs": [],
   "source": [
    "import warnings\n",
    "warnings.filterwarnings('ignore')"
   ]
  },
  {
   "cell_type": "code",
   "execution_count": 2,
   "metadata": {},
   "outputs": [
    {
     "name": "stdout",
     "output_type": "stream",
     "text": [
      "Torch version: 0.4.0\n",
      "CUDA is active: True\n",
      "CUDA version: 8.0\n"
     ]
    }
   ],
   "source": [
    "#Installation check\n",
    "import torch\n",
    "print(\"Torch version:\", torch.__version__)\n",
    "print(\"CUDA is active:\", torch.cuda.is_available())\n",
    "print(\"CUDA version:\", torch.version.cuda)"
   ]
  },
  {
   "cell_type": "markdown",
   "metadata": {},
   "source": [
    "## 2. PyTorch Fundamentals\n",
    "\n",
    "PyTorch bietet zwei Abstraktionen für Datenstrukturen: Tensoren und Variablen. Tensoren sind so ähnlich wie NumPy-Arrays und können auch auf GPUs übertragen werden. Variablen waren bis zur Version 0.4. als Wrapper um Tensoren notwendig, um bsp. die Berechnung der Gradienten zu ermöglichen."
   ]
  },
  {
   "cell_type": "markdown",
   "metadata": {},
   "source": [
    "### 2.1 Tensoren\n",
    "\n",
    "Ein `torch.Tensor` ist eine mehrdimensionale Matrix, die Elemente von einem bestimmten Datentyp enthält. Ein detaillierter Überblick der unterstützten Datentype ist auf der [Webseite von PyTorch](https://pytorch.org/docs/stable/tensors.html) verfügbar.  \n",
    "\n",
    "PyTorch unterstützt sowohl GPU- als auch CPU-Tensoren."
   ]
  },
  {
   "cell_type": "markdown",
   "metadata": {},
   "source": [
    "#### Beispiele aus der [PyTorch-Webseite](https://pytorch.org/tutorials/beginner/blitz/tensor_tutorial.html#sphx-glr-beginner-blitz-tensor-tutorial-py)"
   ]
  },
  {
   "cell_type": "code",
   "execution_count": 3,
   "metadata": {},
   "outputs": [
    {
     "name": "stdout",
     "output_type": "stream",
     "text": [
      "tensor(1.00000e-42 *\n",
      "       [[ 0.0000,  0.0000,  0.0000],\n",
      "        [ 0.0000,  0.0000,  0.0000],\n",
      "        [ 0.0000,  0.0000,  0.0000],\n",
      "        [ 0.0000,  2.0571,  0.0000],\n",
      "        [ 0.0000,  0.9277,  0.0000]])\n",
      "tensor([[ 0.9081,  0.5446,  0.7063],\n",
      "        [ 0.9432,  0.6564,  0.4187],\n",
      "        [ 0.1683,  0.1023,  0.5064],\n",
      "        [ 0.2705,  0.3201,  0.1988],\n",
      "        [ 0.1287,  0.1389,  0.0659]])\n",
      "tensor([[ 0,  0,  0],\n",
      "        [ 0,  0,  0],\n",
      "        [ 0,  0,  0],\n",
      "        [ 0,  0,  0],\n",
      "        [ 0,  0,  0]])\n",
      "tensor([ 5.5000,  3.0000])\n",
      "tensor([[ 1.,  1.,  1.],\n",
      "        [ 1.,  1.,  1.],\n",
      "        [ 1.,  1.,  1.],\n",
      "        [ 1.,  1.,  1.],\n",
      "        [ 1.,  1.,  1.]], dtype=torch.float64)\n",
      "tensor([[-0.3100,  2.0536,  0.7021],\n",
      "        [-0.1130,  0.0993, -0.0842],\n",
      "        [ 1.8194,  2.1750, -1.1417],\n",
      "        [ 0.1253,  0.2193, -0.2112],\n",
      "        [ 0.7418, -0.8971,  1.2442]])\n",
      "torch.Size([5, 3])\n"
     ]
    }
   ],
   "source": [
    "from __future__ import print_function\n",
    "import torch\n",
    "\n",
    "#5x3 matrix, nicht initialisiert\n",
    "x = torch.empty(5, 3)\n",
    "print(x)\n",
    "\n",
    "#Random-Initialisierung\n",
    "x = torch.rand(5, 3)\n",
    "print(x)\n",
    "\n",
    "#Matrix filled with zeros mit Typ Long\n",
    "x = torch.zeros(5, 3, dtype=torch.long)\n",
    "print(x)\n",
    "\n",
    "#Tensor aus Daten\n",
    "x = torch.tensor([5.5, 3])\n",
    "print(x)\n",
    "\n",
    "x = x.new_ones(5, 3, dtype=torch.double)      # new_* methods take in sizes\n",
    "print(x)\n",
    "\n",
    "x = torch.randn_like(x, dtype=torch.float)    # override dtype!\n",
    "print(x)                                      # result has the same size\n",
    "\n",
    "print(x.size())"
   ]
  },
  {
   "cell_type": "markdown",
   "metadata": {},
   "source": [
    "#### Operationen auf Tensoren"
   ]
  },
  {
   "cell_type": "code",
   "execution_count": 4,
   "metadata": {},
   "outputs": [
    {
     "name": "stdout",
     "output_type": "stream",
     "text": [
      "tensor([[ 3.,  6.,  6.],\n",
      "        [ 5.,  3.,  6.]])\n",
      "\n",
      "tensor([[ 8.,  4.,  1.],\n",
      "        [ 6.,  9.,  8.]])\n"
     ]
    }
   ],
   "source": [
    "a = torch.randint(1,10,(2,3))\n",
    "b = torch.randint(1,10,(2,3))\n",
    "print(a)\n",
    "print()\n",
    "print(b)"
   ]
  },
  {
   "cell_type": "code",
   "execution_count": 5,
   "metadata": {},
   "outputs": [
    {
     "name": "stdout",
     "output_type": "stream",
     "text": [
      "Elementwise-Operationen:\n",
      "Addition: \n",
      " tensor([[ 11.,  10.,   7.],\n",
      "        [ 11.,  12.,  14.]]) \n",
      "oder: tensor([[ 11.,  10.,   7.],\n",
      "        [ 11.,  12.,  14.]])\n",
      "************************************************************\n",
      "Subtraktion:\n",
      " tensor([[-5.,  2.,  5.],\n",
      "        [-1., -6., -2.]]) \n",
      "oder: tensor([[-5.,  2.,  5.],\n",
      "        [-1., -6., -2.]])\n",
      "************************************************************\n",
      "Multiplikation:\n",
      " tensor([[ 24.,  24.,   6.],\n",
      "        [ 30.,  27.,  48.]]) \n",
      "oder: tensor([[ 24.,  24.,   6.],\n",
      "        [ 30.,  27.,  48.]])\n",
      "************************************************************\n",
      "Division:\n",
      " tensor([[ 0.3750,  1.5000,  6.0000],\n",
      "        [ 0.8333,  0.3333,  0.7500]]) \n",
      "oder: tensor([[ 0.3750,  1.5000,  6.0000],\n",
      "        [ 0.8333,  0.3333,  0.7500]])\n",
      "************************************************************\n",
      "IN-PLACE: \n",
      "tensor([[ 11.,  10.,   7.],\n",
      "        [ 11.,  12.,  14.]])\n",
      "tensor([[ 11.,  10.,   7.],\n",
      "        [ 11.,  12.,  14.]])\n"
     ]
    }
   ],
   "source": [
    "#Elementwise Operationen (mit den Funktionen .add(), .sub(), .mul(), .div())\n",
    "print(\"Elementwise-Operationen:\")\n",
    "print(\"Addition: \\n\", torch.add(a,b), \"\\noder:\", a+b)\n",
    "print(\"*\"*60)\n",
    "print(\"Subtraktion:\\n\", torch.sub(a,b), \"\\noder:\", a-b)\n",
    "print(\"*\"*60)\n",
    "print(\"Multiplikation:\\n\", torch.mul(a,b), \"\\noder:\", a*b)\n",
    "print(\"*\"*60)\n",
    "print(\"Division:\\n\", torch.div(a,b), \"\\noder:\", a/b)\n",
    "print(\"*\"*60)\n",
    "print(\"IN-PLACE: \")\n",
    "print(a.add_(b)) #adds b to a\n",
    "print(a)"
   ]
  },
  {
   "cell_type": "markdown",
   "metadata": {},
   "source": [
    "Resizing geht am besten mit [`view()`](https://pytorch.org/docs/stable/tensors.html#torch.Tensor.view):\n"
   ]
  },
  {
   "cell_type": "code",
   "execution_count": 6,
   "metadata": {},
   "outputs": [
    {
     "name": "stdout",
     "output_type": "stream",
     "text": [
      "torch.Size([2, 3]) torch.Size([2, 3])\n",
      "size mismatch, m1: [2 x 3], m2: [2 x 3] at c:\\programdata\\miniconda3\\conda-bld\\pytorch_1524543037166\\work\\aten\\src\\th\\generic/THTensorMath.c:2033\n"
     ]
    },
    {
     "data": {
      "text/plain": [
       "tensor([[ 161.,  160.],\n",
       "        [ 226.,  228.]])"
      ]
     },
     "execution_count": 6,
     "metadata": {},
     "output_type": "execute_result"
    }
   ],
   "source": [
    "#Reshaping mit view\n",
    "print(a.size(), b.size())\n",
    "try:\n",
    "    torch.mm(a,b)\n",
    "except RuntimeError as e:\n",
    "    print(e)\n",
    "#Resizing    \n",
    "b_view = b.view(3,2)\n",
    "torch.mm(a,b_view)"
   ]
  },
  {
   "cell_type": "markdown",
   "metadata": {},
   "source": [
    "### 2.2 NumPy Bridge\n",
    "- Umwandlung eines PyTorch-Tensors zu einem numpy-Array:\n",
    "    * Die Tensoren teilen den selben Speicherplatz. Änderungen beeinflussen beide Tensoren!"
   ]
  },
  {
   "cell_type": "code",
   "execution_count": 7,
   "metadata": {},
   "outputs": [],
   "source": [
    "import numpy as np\n",
    "import torch"
   ]
  },
  {
   "cell_type": "code",
   "execution_count": 8,
   "metadata": {},
   "outputs": [
    {
     "name": "stdout",
     "output_type": "stream",
     "text": [
      "tensor([ 1.,  1.,  1.,  1.,  1.]) <class 'torch.Tensor'>\n",
      "[1. 1. 1. 1. 1.] <class 'numpy.ndarray'>\n",
      "a: tensor([ 2.,  2.,  2.,  2.,  2.])\n",
      "b: [2. 2. 2. 2. 2.]\n"
     ]
    }
   ],
   "source": [
    "a = torch.ones(5)\n",
    "print(a, type(a))\n",
    "\n",
    "#Conversion zu einem numpy-Array\n",
    "b = a.numpy()\n",
    "print(b, type(b))\n",
    "\n",
    "#Sharing same memory locations --> Changes apply to each vector\n",
    "a.add_(1)\n",
    "print(\"a:\", a)\n",
    "print(\"b:\", b)"
   ]
  },
  {
   "cell_type": "markdown",
   "metadata": {},
   "source": [
    "### 2.3 CUDA Tensors\n",
    "Tensoren können unter den Geräten mit der Methode `to()` geschoben werden:"
   ]
  },
  {
   "cell_type": "code",
   "execution_count": 9,
   "metadata": {},
   "outputs": [
    {
     "name": "stdout",
     "output_type": "stream",
     "text": [
      "tensor([[ 0.6900,  3.0536,  1.7021],\n",
      "        [ 0.8870,  1.0993,  0.9158],\n",
      "        [ 2.8194,  3.1750, -0.1417],\n",
      "        [ 1.1253,  1.2193,  0.7888],\n",
      "        [ 1.7418,  0.1029,  2.2442]], device='cuda:0')\n",
      "tensor([[ 0.6900,  3.0536,  1.7021],\n",
      "        [ 0.8870,  1.0993,  0.9158],\n",
      "        [ 2.8194,  3.1750, -0.1417],\n",
      "        [ 1.1253,  1.2193,  0.7888],\n",
      "        [ 1.7418,  0.1029,  2.2442]], dtype=torch.float64)\n"
     ]
    }
   ],
   "source": [
    "# CUDA Tensors\n",
    "if torch.cuda.is_available():\n",
    "    device = torch.device(\"cuda\")          # a CUDA device object\n",
    "    y = torch.ones_like(x, device=device)  # directly create a tensor on GPU\n",
    "    x = x.to(device)                       # or just use strings ``.to(\"cuda\")``\n",
    "    z = x + y\n",
    "    print(z)\n",
    "    print(z.to(\"cpu\", torch.double))       # ``.to`` can also change dtype together!"
   ]
  },
  {
   "cell_type": "markdown",
   "metadata": {},
   "source": [
    "### 2.4 [Autograd](https://pytorch.org/tutorials/beginner/blitz/autograd_tutorial.html): Automatische Differentierung un PyTorch"
   ]
  },
  {
   "cell_type": "markdown",
   "metadata": {},
   "source": [
    "Das Package `torch.autograd` bietet eine automatische Differenzierung für alle Operationen an Tensoren. \n",
    "\n",
    "Notwendig sind folgende Objekte:\n",
    "- `torch.Tensor`-Objekte mit dem Attribut `requires_grad` auf `True` gesetzt. Am Ende einer Computation reicht es aus, die Methode `backward()` aufzurufen, damit alle Gradienten automatisch berechnet werden. Der Gradient von einem Tensor kann mit dem Attribut `grad` angesehen werden\n",
    "- `Funktion`-Objekte die mit Tensoren in einem Graphen verbunden sind. Jeder Tensor hat das Attribut `.grad_fn`, das eine Referenz auf die Funktion enthält, die den Tensor generiert hat).\n",
    "\n",
    "Beispiel aus der Übung:\n",
    "\n",
    "<img src=\"graph.png\" >\n",
    "\n",
    "* a = 2\n",
    "* b = e\n",
    "* c = 3"
   ]
  },
  {
   "cell_type": "code",
   "execution_count": 10,
   "metadata": {},
   "outputs": [],
   "source": [
    "# External Modules\n",
    "import torch"
   ]
  },
  {
   "cell_type": "code",
   "execution_count": 11,
   "metadata": {},
   "outputs": [
    {
     "name": "stdout",
     "output_type": "stream",
     "text": [
      "tensor(2.) tensor(2.7183) tensor(3.)\n",
      "Variable a:  2.0\n"
     ]
    }
   ],
   "source": [
    "#Tensor deklariation\n",
    "a = torch.tensor(2., requires_grad=True)\n",
    "b = torch.tensor(np.e, requires_grad=True)\n",
    "c = torch.tensor(3., requires_grad=True)\n",
    "\n",
    "print(a, b, c)\n",
    "print(\"Variable a: \", a.item())"
   ]
  },
  {
   "cell_type": "code",
   "execution_count": 12,
   "metadata": {},
   "outputs": [
    {
     "name": "stdout",
     "output_type": "stream",
     "text": [
      "None None None\n",
      "True True True\n"
     ]
    }
   ],
   "source": [
    "print(a.grad, b.grad, c.grad)\n",
    "print(a.requires_grad, b.requires_grad, c.requires_grad)"
   ]
  },
  {
   "cell_type": "code",
   "execution_count": 13,
   "metadata": {},
   "outputs": [],
   "source": [
    "def applyExerciseFunction(a,b,c):\n",
    "    ln = torch.log(b)\n",
    "    print(ln.grad_fn)\n",
    "    x = a + ln \n",
    "    print(x.grad_fn)\n",
    "    x = c * x\n",
    "    print(x.grad_fn)\n",
    "    x = (1./3.)*x\n",
    "    print(x.grad_fn)\n",
    "    out = 1./x\n",
    "    print(out.grad_fn)\n",
    "    return out"
   ]
  },
  {
   "cell_type": "code",
   "execution_count": 14,
   "metadata": {},
   "outputs": [
    {
     "name": "stdout",
     "output_type": "stream",
     "text": [
      "<LogBackward object at 0x00000296DBC00C88>\n",
      "<AddBackward1 object at 0x00000296DBC00E80>\n",
      "<MulBackward1 object at 0x00000296DBC00E80>\n",
      "<MulBackward0 object at 0x00000296DBC00E80>\n",
      "<MulBackward0 object at 0x00000296DBC00E80>\n",
      "Ergebnis aus Fowardpass:  0.3333333432674408\n"
     ]
    }
   ],
   "source": [
    "out =  applyExerciseFunction(a,b,c) #1/3\n",
    "print(\"Ergebnis aus Fowardpass: \", out.item()) #1./3."
   ]
  },
  {
   "cell_type": "code",
   "execution_count": 15,
   "metadata": {},
   "outputs": [],
   "source": [
    "out.backward()"
   ]
  },
  {
   "cell_type": "code",
   "execution_count": 16,
   "metadata": {
    "scrolled": true
   },
   "outputs": [
    {
     "name": "stdout",
     "output_type": "stream",
     "text": [
      "dout/da:  tensor(-0.1111)\n",
      "dout/db:  tensor(1.00000e-02 *\n",
      "       -4.0875)\n",
      "dout/dc:  tensor(-0.1111)\n"
     ]
    }
   ],
   "source": [
    "print(\"dout/da: \", a.grad)\n",
    "print(\"dout/db: \", b.grad)\n",
    "print(\"dout/dc: \", c.grad)"
   ]
  },
  {
   "cell_type": "code",
   "execution_count": 17,
   "metadata": {},
   "outputs": [
    {
     "name": "stdout",
     "output_type": "stream",
     "text": [
      "True\n",
      "True\n",
      "False\n"
     ]
    }
   ],
   "source": [
    "#Ausschalten der Gradienten:\n",
    "print(a.requires_grad)\n",
    "print((a ** 2).requires_grad)\n",
    "\n",
    "with torch.no_grad():\n",
    "    print((a ** 2).requires_grad)"
   ]
  },
  {
   "cell_type": "markdown",
   "metadata": {},
   "source": [
    "## 3. Neuronale Netze in PyTorch: `torch.nn` und `torchvision`"
   ]
  },
  {
   "cell_type": "markdown",
   "metadata": {},
   "source": [
    "### Das Package `torch.nn`\n",
    "\n",
    "Neuronale Netze können in PyTorch einfach mit dem Objekten und Funktionen aus dem Modul [`torch.nn`](https://pytorch.org/docs/stable/nn.html#) erzeugt werden.\n",
    "\n",
    "Das Package bietet Klassen für \n",
    "* die allgemeine Definition eines Modells (sog. [Container](https://pytorch.org/docs/stable/nn.html#containers)), wie `nn.Module`, sowie dessen \n",
    "* Layers, \n",
    "* Aktivierungsfunktionen, \n",
    "* Kostenfuntkionen ([Loss functions](https://pytorch.org/docs/stable/nn.html#loss-functions))\n",
    "\n",
    "Optimizer sind im Package [`torch.optim`](https://pytorch.org/docs/stable/optim.html#module-torch.optim) zu finden.\n",
    "Funktionen sind auch im Package `torch.nn.functional` verfügbar.\n",
    "Ein `nn.Module` enthält die Methode `forward(input)`, die das Ergebnis berechnet.\n",
    "\n",
    "\n",
    "### Das Package `torchvision`\n",
    "\n",
    "Viele Datensätze sind mit dem Package [`torchvision.datasets`](https://pytorch.org/docs/stable/torchvision/datasets.html#torchvision-datasets) verfügbar."
   ]
  },
  {
   "cell_type": "markdown",
   "metadata": {},
   "source": [
    "## 3.1 Training Verfahren\n",
    "\n",
    "0. Datensatz verfügbar machen\n",
    "1. Netz mit learnbaren Parameters definieren\n",
    "2. Iteration über einen Input-Datensatz\n",
    "3. Input über das Netz verarbeiten\n",
    "4. Loss berechnen\n",
    "5. Gradienten backpropagieren\n",
    "6. Gewichte aktualisieren"
   ]
  },
  {
   "cell_type": "markdown",
   "metadata": {},
   "source": [
    "### Netz mit `nn.Module`"
   ]
  },
  {
   "cell_type": "code",
   "execution_count": 18,
   "metadata": {},
   "outputs": [],
   "source": [
    "from torch import nn"
   ]
  },
  {
   "cell_type": "code",
   "execution_count": 19,
   "metadata": {},
   "outputs": [],
   "source": [
    "class NetExample(nn.Module):\n",
    "    def __init__(self):\n",
    "        super(NetExample, self).__init__()\n",
    "        # Inputs to hidden layer linear transformation        \n",
    "        self.hidden = nn.Linear(784, 256)#input and output size\n",
    "        # Output layer, 10 units - one for each digit\n",
    "        self.output = nn.Linear(256, 10)\n",
    "        \n",
    "        # Define sigmoid activation and softmax output \n",
    "        self.sigmoid = nn.Sigmoid() \n",
    "        self.softmax = nn.Softmax(dim=1)\n",
    "        \n",
    "    def forward(self, x):\n",
    "        # Pass the input tensor through each of our operations\n",
    "        x = self.hidden(x)\n",
    "        x = self.sigmoid(x)\n",
    "        x = self.output(x)\n",
    "        x = self.softmax(x)      \n",
    "        return x"
   ]
  },
  {
   "cell_type": "code",
   "execution_count": 20,
   "metadata": {},
   "outputs": [
    {
     "data": {
      "text/plain": [
       "NetExample(\n",
       "  (hidden): Linear(in_features=784, out_features=256, bias=True)\n",
       "  (output): Linear(in_features=256, out_features=10, bias=True)\n",
       "  (sigmoid): Sigmoid()\n",
       "  (softmax): Softmax()\n",
       ")"
      ]
     },
     "execution_count": 20,
     "metadata": {},
     "output_type": "execute_result"
    }
   ],
   "source": [
    "model = NetExample()\n",
    "model"
   ]
  },
  {
   "cell_type": "markdown",
   "metadata": {},
   "source": [
    "### Variante mit `nn.Sequential`"
   ]
  },
  {
   "cell_type": "code",
   "execution_count": 21,
   "metadata": {},
   "outputs": [
    {
     "name": "stdout",
     "output_type": "stream",
     "text": [
      "Sequential(\n",
      "  (0): Linear(in_features=784, out_features=128, bias=True)\n",
      "  (1): ReLU()\n",
      "  (2): Linear(in_features=128, out_features=64, bias=True)\n",
      "  (3): ReLU()\n",
      "  (4): Linear(in_features=64, out_features=10, bias=True)\n",
      "  (5): Softmax()\n",
      ")\n",
      "Linear(in_features=784, out_features=128, bias=True)\n"
     ]
    }
   ],
   "source": [
    "# Hyperparameters for our network\n",
    "input_size = 784\n",
    "hidden_sizes = [128, 64]\n",
    "output_size = 10\n",
    "\n",
    "# Build a feed-forward network\n",
    "model_seq = nn.Sequential(\n",
    "                      nn.Linear(input_size, hidden_sizes[0]),\n",
    "                      nn.ReLU(),\n",
    "                      nn.Linear(hidden_sizes[0], hidden_sizes[1]),\n",
    "                      nn.ReLU(),\n",
    "                      nn.Linear(hidden_sizes[1], output_size),\n",
    "                      nn.Softmax(dim=1))\n",
    "print(model_seq)\n",
    "print(model_seq[0]) #Zugriff auf first layer"
   ]
  },
  {
   "cell_type": "markdown",
   "metadata": {},
   "source": [
    "### 4.2 Feedforward Network"
   ]
  },
  {
   "cell_type": "markdown",
   "metadata": {},
   "source": [
    "### Modell-Klasse definieren\n",
    "\n",
    "1. 4 layer fully connected Neuronales Netz\n",
    "2. In Anlehnung an dieser Quelle:\n",
    "    http://adventuresinmachinelearning.com/pytorch-tutorial-deep-learning/\n",
    "\n",
    "<img src=\"CNTK-Dense-example-architecture.jpg\">\n",
    "\n"
   ]
  },
  {
   "cell_type": "markdown",
   "metadata": {},
   "source": [
    "### 0. Input-Daten: MNIST-Dataset"
   ]
  },
  {
   "cell_type": "code",
   "execution_count": 22,
   "metadata": {},
   "outputs": [],
   "source": [
    "import torch\n",
    "import torchvision\n",
    "import torchvision.transforms as transforms\n",
    "import torchvision.datasets as datasets\n",
    "\n",
    "\n",
    "%matplotlib inline\n",
    "%config InlineBackend.figure_format = 'retina'\n",
    "\n",
    "import matplotlib.pyplot as plt\n",
    "import numpy as np"
   ]
  },
  {
   "cell_type": "code",
   "execution_count": 23,
   "metadata": {},
   "outputs": [
    {
     "data": {
      "text/plain": [
       "Compose(\n",
       "    ToTensor()\n",
       ")"
      ]
     },
     "execution_count": 23,
     "metadata": {},
     "output_type": "execute_result"
    }
   ],
   "source": [
    "# Define a transform to normalize the data\n",
    "transformation = transforms.Compose([transforms.ToTensor()])\n",
    "transformation"
   ]
  },
  {
   "cell_type": "code",
   "execution_count": 24,
   "metadata": {},
   "outputs": [],
   "source": [
    "train_dataset = datasets.MNIST('data/',train=True,transform=transformation,download=True)\n",
    "test_dataset = datasets.MNIST('data/',train=False,transform=transformation,download=True)\n",
    "\n",
    "train_loader = torch.utils.data.DataLoader(train_dataset,batch_size=64,shuffle=True)\n",
    "test_loader = torch.utils.data.DataLoader(test_dataset,batch_size=1000,shuffle=False)"
   ]
  },
  {
   "cell_type": "code",
   "execution_count": 25,
   "metadata": {},
   "outputs": [
    {
     "data": {
      "text/plain": [
       "Dataset MNIST\n",
       "    Number of datapoints: 60000\n",
       "    Split: train\n",
       "    Root Location: data/\n",
       "    Transforms (if any): Compose(\n",
       "                             ToTensor()\n",
       "                         )\n",
       "    Target Transforms (if any): None"
      ]
     },
     "execution_count": 25,
     "metadata": {},
     "output_type": "execute_result"
    }
   ],
   "source": [
    "train_dataset"
   ]
  },
  {
   "cell_type": "code",
   "execution_count": 26,
   "metadata": {},
   "outputs": [],
   "source": [
    "#Packt publishing\n",
    "def plot_img(image):\n",
    "    image = image.numpy()[0]\n",
    "    mean = 0.1307\n",
    "    std = 0.3081\n",
    "    image = ((mean * image) + std)\n",
    "    plt.imshow(image,cmap='binary', interpolation='bicubic')"
   ]
  },
  {
   "cell_type": "code",
   "execution_count": 27,
   "metadata": {},
   "outputs": [
    {
     "name": "stdout",
     "output_type": "stream",
     "text": [
      "torch.Size([64, 1, 28, 28])\n"
     ]
    },
    {
     "data": {
      "image/png": "[encoded data removed]",
      "text/plain": [
       "<Figure size 432x288 with 1 Axes>"
      ]
     },
     "metadata": {
      "image/png": {
       "height": 250,
       "width": 253
      },
      "needs_background": "light"
     },
     "output_type": "display_data"
    }
   ],
   "source": [
    "sample_data = next(iter(train_loader))\n",
    "plot_img(sample_data[0][2])\n",
    "print(sample_data[0].shape)"
   ]
  },
  {
   "cell_type": "code",
   "execution_count": 28,
   "metadata": {},
   "outputs": [],
   "source": [
    "device = torch.device(\"cuda:0\" if torch.cuda.is_available() else \"cpu\")"
   ]
  },
  {
   "cell_type": "code",
   "execution_count": 29,
   "metadata": {},
   "outputs": [],
   "source": [
    "import torch\n",
    "from torch.autograd import Variable\n",
    "import torch.nn as nn\n",
    "import torch.nn.functional as F\n",
    "import torch.optim as optim\n",
    "from torchvision import datasets, transforms"
   ]
  },
  {
   "cell_type": "code",
   "execution_count": 30,
   "metadata": {},
   "outputs": [],
   "source": [
    "class FeedforwardNetwork(nn.Module):\n",
    "    def __init__(self):\n",
    "        super(FeedforwardNetwork, self).__init__()\n",
    "        self.fc1 = nn.Linear(28 * 28, 200)\n",
    "        self.fc2 = nn.Linear(200, 200)#\n",
    "        self.fc3 = nn.Linear(200, 10)\n",
    "    \n",
    "    def forward(self, x):\n",
    "        x = F.relu(self.fc1(x))\n",
    "        x = F.relu(self.fc2(x))#\n",
    "        x = self.fc3(x)\n",
    "        #return F.log_softmax(x)\n",
    "        return x"
   ]
  },
  {
   "cell_type": "code",
   "execution_count": 31,
   "metadata": {},
   "outputs": [
    {
     "data": {
      "text/plain": [
       "FeedforwardNetwork(\n",
       "  (fc1): Linear(in_features=784, out_features=200, bias=True)\n",
       "  (fc2): Linear(in_features=200, out_features=200, bias=True)\n",
       "  (fc3): Linear(in_features=200, out_features=10, bias=True)\n",
       ")"
      ]
     },
     "execution_count": 31,
     "metadata": {},
     "output_type": "execute_result"
    }
   ],
   "source": [
    "model = FeedforwardNetwork()\n",
    "model.to(device)\n",
    "model"
   ]
  },
  {
   "cell_type": "code",
   "execution_count": 32,
   "metadata": {},
   "outputs": [],
   "source": [
    "#Hyperparameters\n",
    "learning_rate = 0.01\n",
    "epochs = 8\n",
    "#Optimizer\n",
    "optimizer = optim.SGD(model.parameters(), lr=learning_rate)\n",
    "#Loss criterion\n",
    "criterion = nn.CrossEntropyLoss()\n",
    "#criterion = nn.NLLLoss()"
   ]
  },
  {
   "cell_type": "markdown",
   "metadata": {},
   "source": [
    "### Netz trainieren"
   ]
  },
  {
   "cell_type": "code",
   "execution_count": 33,
   "metadata": {},
   "outputs": [
    {
     "name": "stdout",
     "output_type": "stream",
     "text": [
      "Train Epoch: 1\tLoss: 2.320149\n",
      "Train Epoch: 2\tLoss: 0.591665\n",
      "Train Epoch: 3\tLoss: 0.509829\n",
      "Train Epoch: 4\tLoss: 0.300025\n",
      "Train Epoch: 5\tLoss: 0.398062\n",
      "Train Epoch: 6\tLoss: 0.330305\n",
      "Train Epoch: 7\tLoss: 0.237217\n",
      "Train Epoch: 8\tLoss: 0.254794\n"
     ]
    }
   ],
   "source": [
    "for epoch in range(epochs):\n",
    "    for batch_idx, (data, target) in enumerate(train_loader):\n",
    "    \n",
    "        data, target = data.to(device), target.to(device)\n",
    "        \n",
    "        # resize data from (batch_size, 1, 28, 28) to (batch_size, 28*28)\n",
    "        # Data now: (32, 784)\n",
    "        data = data.view(-1, 28*28)\n",
    "        \n",
    "        #Gradienten zurücksetzen\n",
    "        optimizer.zero_grad()\n",
    "        #net_out speichert log_softmax des finalen Schrittes\n",
    "        net_out = model(data) #ruft forward() methode auf\n",
    "        #loss = Modell-Fehler nach Forward-Pass\n",
    "        loss = criterion(net_out, target)\n",
    "        \n",
    "        #Backpropagation\n",
    "        loss.backward() #Liefert Gradienten\n",
    "        \n",
    "        #Optimizer == SGD --> Ein SGD Step auf aktuellen Parametern\n",
    "        optimizer.step() #Aktualisiert Parameter\n",
    "        \n",
    "        if batch_idx % log_interval == 0:\n",
    "                print('Train Epoch: {} [{}/{} ({:.0f}%)]\\tLoss: {:.6f}'.format(\n",
    "                    epoch, batch_idx * len(data), len(train_loader.dataset),\n",
    "                        100. * batch_idx / len(train_loader), loss.data[0]))"
   ]
  },
  {
   "cell_type": "markdown",
   "metadata": {},
   "source": [
    "### Netzwerk testen"
   ]
  },
  {
   "cell_type": "code",
   "execution_count": 34,
   "metadata": {},
   "outputs": [
    {
     "name": "stdout",
     "output_type": "stream",
     "text": [
      "\n",
      "Test set: Average loss: 0.0002, Accuracy: 9301/10000 (93%)\n",
      "\n"
     ]
    }
   ],
   "source": [
    "# run a test loop\n",
    "test_loss = 0\n",
    "correct = 0\n",
    "for data, target in test_loader:\n",
    "    data, target = data.to(device), target.to(device)\n",
    "        \n",
    "    data = data.view(-1, 28 * 28)\n",
    "    net_out = model(data)\n",
    "    # sum up batch loss\n",
    "    test_loss += criterion(net_out, target).data[0]\n",
    "    pred = net_out.data.max(1)[1]  # get the index of the max log-probability\n",
    "    correct += pred.eq(target.data).sum()\n",
    "\n",
    "test_loss /= len(test_loader.dataset)\n",
    "print('\\nTest set: Average loss: {:.4f}, Accuracy: {}/{} ({:.0f}%)\\n'.format(\n",
    "    test_loss, correct, len(test_loader.dataset),\n",
    "    100. * correct / len(test_loader.dataset)))"
   ]
  },
  {
   "cell_type": "code",
   "execution_count": 35,
   "metadata": {},
   "outputs": [
    {
     "name": "stdout",
     "output_type": "stream",
     "text": [
      "('fc1.weight', Parameter containing:\n",
      "tensor([[-3.5115e-02,  1.5275e-03, -2.1602e-02,  ..., -2.1478e-02,\n",
      "         -5.6310e-03, -1.8729e-02],\n",
      "        [-2.2152e-02, -2.2724e-02,  1.8342e-02,  ...,  3.0049e-02,\n",
      "         -2.3235e-02, -7.4261e-04],\n",
      "        [-1.2926e-02, -4.0870e-03,  5.0464e-03,  ..., -2.7199e-02,\n",
      "          2.3672e-02, -1.2324e-02],\n",
      "        ...,\n",
      "        [ 2.3288e-02, -3.1168e-02, -9.9647e-03,  ...,  3.8440e-03,\n",
      "          1.7200e-02,  1.9373e-02],\n",
      "        [ 3.8587e-03,  2.3303e-02,  3.9513e-03,  ..., -3.3609e-02,\n",
      "         -6.5279e-03,  1.0453e-02],\n",
      "        [-3.1418e-02, -1.7058e-02, -9.9864e-03,  ...,  9.3025e-04,\n",
      "          1.9738e-02,  1.5909e-03]], device='cuda:0'))\n",
      "('fc1.bias', Parameter containing:\n",
      "tensor([-0.0218,  0.0104,  0.0421, -0.0260, -0.0246, -0.0095,  0.0323,\n",
      "         0.0500,  0.0007, -0.0049, -0.0277,  0.0133,  0.0234, -0.0210,\n",
      "         0.0120,  0.0323, -0.0274, -0.0436,  0.0405,  0.0169, -0.0174,\n",
      "         0.0625,  0.0212,  0.0018,  0.0094,  0.0231, -0.0325,  0.0311,\n",
      "        -0.0100,  0.0146,  0.0260,  0.0487,  0.0016, -0.0186,  0.0376,\n",
      "        -0.0455,  0.0004,  0.0394,  0.0222, -0.0024, -0.0378,  0.0474,\n",
      "         0.0452,  0.0103, -0.0459, -0.0155,  0.0544,  0.0313,  0.0602,\n",
      "        -0.0119,  0.0709, -0.0113,  0.0024,  0.0230, -0.0154, -0.0087,\n",
      "         0.0687,  0.0130,  0.0420, -0.0004,  0.0546,  0.0341, -0.0262,\n",
      "        -0.0080,  0.0645,  0.0325,  0.0173, -0.0210,  0.0314,  0.0429,\n",
      "        -0.0065, -0.0232, -0.0178,  0.0240,  0.0552, -0.0233, -0.0285,\n",
      "        -0.0029,  0.0135,  0.0281, -0.0277,  0.0197,  0.0430,  0.0278,\n",
      "         0.0310,  0.0137, -0.0227, -0.0258,  0.0364,  0.0587, -0.0510,\n",
      "         0.0533, -0.0193, -0.0277,  0.0102,  0.0284, -0.0140,  0.1075,\n",
      "         0.0245,  0.0144,  0.0278,  0.0320, -0.0098,  0.0260, -0.0012,\n",
      "         0.0285, -0.0036,  0.0297,  0.0379, -0.0031, -0.0013,  0.0160,\n",
      "         0.0709, -0.0143,  0.0086,  0.0356, -0.0068, -0.0235,  0.0161,\n",
      "        -0.0314,  0.0679,  0.0376, -0.0185,  0.0137, -0.0046,  0.0051,\n",
      "         0.0123, -0.0207,  0.0224,  0.0463, -0.0080,  0.0022, -0.0009,\n",
      "         0.0392,  0.0414, -0.0280,  0.0462,  0.0001, -0.0075,  0.0501,\n",
      "         0.0986,  0.0189,  0.0626,  0.0666, -0.0340,  0.0203,  0.0011,\n",
      "         0.0829,  0.0203, -0.0034, -0.0030,  0.0540, -0.0010,  0.0253,\n",
      "         0.0248, -0.0152,  0.0353,  0.0296,  0.0258, -0.0265,  0.0095,\n",
      "         0.0181, -0.0012,  0.0427, -0.0119, -0.0359,  0.0425,  0.0683,\n",
      "        -0.0259,  0.0511, -0.0355,  0.0165,  0.0953,  0.0464,  0.0515,\n",
      "        -0.0121, -0.0031, -0.0007, -0.0525,  0.0604,  0.0325, -0.0062,\n",
      "         0.0313,  0.0485,  0.0295, -0.0197,  0.0047,  0.0549, -0.0169,\n",
      "         0.0117,  0.0702,  0.0406, -0.0525, -0.0030,  0.0039, -0.0027,\n",
      "        -0.0395, -0.0097, -0.0047,  0.0044], device='cuda:0'))\n",
      "('fc2.weight', Parameter containing:\n",
      "tensor([[ 3.7248e-02,  4.7706e-02,  3.3610e-02,  ...,  5.5001e-02,\n",
      "         -6.8688e-02,  5.8124e-02],\n",
      "        [ 1.1450e-02, -5.9853e-02,  5.4440e-02,  ...,  1.7257e-02,\n",
      "         -1.1450e-02,  4.3321e-02],\n",
      "        [ 4.6670e-02,  6.1329e-02, -5.7347e-02,  ..., -4.4764e-02,\n",
      "         -4.1567e-02,  1.6544e-02],\n",
      "        ...,\n",
      "        [ 6.5346e-03, -6.2118e-02, -3.1026e-02,  ...,  3.0595e-02,\n",
      "         -6.0267e-02, -2.9965e-02],\n",
      "        [-3.6396e-02,  2.5184e-03,  3.1913e-02,  ..., -2.8602e-02,\n",
      "         -3.1538e-02,  4.3222e-02],\n",
      "        [ 6.6327e-02, -1.4921e-02, -4.8992e-02,  ..., -4.7949e-02,\n",
      "          3.7933e-02,  2.3020e-02]], device='cuda:0'))\n",
      "('fc2.bias', Parameter containing:\n",
      "tensor([-0.0619, -0.0144, -0.0336,  0.1067,  0.0447,  0.0602, -0.0316,\n",
      "         0.0535,  0.0587,  0.0790,  0.0415, -0.0233, -0.0257, -0.0447,\n",
      "        -0.0201, -0.0313,  0.0199,  0.0593,  0.0146, -0.0075, -0.0690,\n",
      "        -0.0103, -0.0499,  0.0790,  0.0685, -0.0593, -0.0602, -0.0011,\n",
      "         0.1188,  0.0893,  0.0033,  0.1372,  0.0997,  0.0247, -0.0074,\n",
      "        -0.0165,  0.0781, -0.0605,  0.0030, -0.0772, -0.0404, -0.0116,\n",
      "         0.0722, -0.0070,  0.0407, -0.0221,  0.1421,  0.0770,  0.0858,\n",
      "        -0.0499,  0.0484,  0.0793,  0.1201, -0.0476, -0.0416,  0.0086,\n",
      "         0.0672,  0.0495, -0.0153, -0.0086, -0.0716,  0.0742,  0.0377,\n",
      "        -0.0236, -0.0098, -0.0295, -0.0301,  0.0835, -0.0574,  0.0680,\n",
      "         0.0513, -0.0478, -0.0075,  0.0667, -0.0172,  0.0662, -0.0533,\n",
      "         0.0872,  0.0366,  0.0367,  0.0767, -0.0622, -0.0667,  0.0016,\n",
      "        -0.0291, -0.0468,  0.0054,  0.0089,  0.0598,  0.1228,  0.0047,\n",
      "        -0.0027,  0.0872, -0.0990, -0.0051, -0.0519, -0.0602, -0.0653,\n",
      "         0.0179,  0.0672, -0.0150,  0.0009,  0.0119, -0.0534,  0.0384,\n",
      "        -0.0448,  0.0724,  0.0028, -0.0628, -0.0206,  0.0075,  0.0387,\n",
      "         0.0417,  0.0780,  0.0795,  0.0168, -0.0261,  0.0592,  0.0642,\n",
      "         0.0424, -0.0031, -0.0273,  0.0310, -0.0364,  0.0666, -0.0418,\n",
      "        -0.0466,  0.0246,  0.0401, -0.0694, -0.0141, -0.0627,  0.0744,\n",
      "        -0.0898,  0.0431,  0.0002,  0.0412, -0.0547, -0.0093, -0.0513,\n",
      "        -0.0238, -0.0225, -0.0307,  0.0661, -0.0272, -0.0253, -0.0799,\n",
      "        -0.0467,  0.0538, -0.0362,  0.1129, -0.0274,  0.0987,  0.0176,\n",
      "         0.0006,  0.1024,  0.1125,  0.0283, -0.0477, -0.0397,  0.0035,\n",
      "         0.1286,  0.0130, -0.0075, -0.1027,  0.0601,  0.0945, -0.1103,\n",
      "         0.0537, -0.0658, -0.0599, -0.0644,  0.0227, -0.0283,  0.1064,\n",
      "        -0.0063, -0.0169, -0.0165, -0.0084,  0.0303, -0.0575, -0.0272,\n",
      "         0.0229, -0.0293, -0.0577,  0.0075, -0.0447, -0.0031,  0.0038,\n",
      "         0.0406,  0.0373, -0.0488,  0.0708,  0.0290,  0.1000,  0.0015,\n",
      "         0.0554, -0.0015,  0.0194, -0.0241], device='cuda:0'))\n",
      "('fc3.weight', Parameter containing:\n",
      "tensor([[-3.2159e-02,  2.8768e-02,  4.1370e-03,  ..., -9.3912e-02,\n",
      "          1.3634e-02,  9.4947e-03],\n",
      "        [-6.7960e-02, -5.7370e-02, -1.0382e-01,  ..., -4.7988e-03,\n",
      "         -2.2530e-01, -1.9035e-01],\n",
      "        [ 1.8564e-03,  4.9649e-02, -1.4099e-01,  ..., -9.3374e-02,\n",
      "         -1.9606e-01,  5.2360e-03],\n",
      "        ...,\n",
      "        [ 1.2708e-02, -4.5664e-02,  4.5925e-02,  ...,  2.1607e-01,\n",
      "         -1.0738e-01,  4.5518e-02],\n",
      "        [ 3.3828e-02, -1.9296e-02,  1.6507e-02,  ...,  9.2769e-02,\n",
      "         -2.0856e-02, -3.8229e-02],\n",
      "        [ 4.4698e-03,  5.3660e-02, -1.1417e-01,  ..., -3.8500e-02,\n",
      "          8.2917e-02,  1.8981e-01]], device='cuda:0'))\n",
      "('fc3.bias', Parameter containing:\n",
      "tensor([-0.1703,  0.1509, -0.0234, -0.0099,  0.0006,  0.2858, -0.0954,\n",
      "         0.0945, -0.2463,  0.0160], device='cuda:0'))\n"
     ]
    }
   ],
   "source": [
    "#Zugriff auf Modell-Parameter\n",
    "model_params = model.named_parameters() #oder auf model.parameters()\n",
    "for m in model_params:\n",
    "    print(m)"
   ]
  },
  {
   "cell_type": "markdown",
   "metadata": {},
   "source": [
    "### 4.3 CNN in PyTorch\n",
    "\n",
    "#### Image Classifier auf der Basis von CIFAR-10 \n",
    "\n",
    "<img src=\"cifar10.png\">\n",
    "\n",
    "In Anlehnung an dieser Quelle: https://pytorch.org/tutorials/beginner/blitz/cifar10_tutorial.html"
   ]
  },
  {
   "cell_type": "code",
   "execution_count": 36,
   "metadata": {},
   "outputs": [],
   "source": [
    "import torch\n",
    "import torchvision\n",
    "import torchvision.transforms as transforms"
   ]
  },
  {
   "cell_type": "code",
   "execution_count": 37,
   "metadata": {},
   "outputs": [
    {
     "name": "stdout",
     "output_type": "stream",
     "text": [
      "Files already downloaded and verified\n"
     ]
    },
    {
     "data": {
      "text/plain": [
       "Dataset CIFAR10\n",
       "    Number of datapoints: 50000\n",
       "    Split: train\n",
       "    Root Location: ./data\n",
       "    Transforms (if any): Compose(\n",
       "                             ToTensor()\n",
       "                             Normalize(mean=(0.5, 0.5, 0.5), std=(0.5, 0.5, 0.5))\n",
       "                         )\n",
       "    Target Transforms (if any): None"
      ]
     },
     "execution_count": 37,
     "metadata": {},
     "output_type": "execute_result"
    }
   ],
   "source": [
    "transform = transforms.Compose(\n",
    "    [transforms.ToTensor(),\n",
    "     transforms.Normalize((0.5, 0.5, 0.5), (0.5, 0.5, 0.5))])\n",
    "\n",
    "trainset = torchvision.datasets.CIFAR10(root='./data', train=True,\n",
    "                                        download=True, transform=transform)\n",
    "trainloader = torch.utils.data.DataLoader(trainset, batch_size=4,\n",
    "                                          shuffle=True)\n",
    "\n",
    "trainset"
   ]
  },
  {
   "cell_type": "code",
   "execution_count": 38,
   "metadata": {},
   "outputs": [
    {
     "name": "stdout",
     "output_type": "stream",
     "text": [
      "Files already downloaded and verified\n"
     ]
    },
    {
     "data": {
      "text/plain": [
       "Dataset CIFAR10\n",
       "    Number of datapoints: 10000\n",
       "    Split: test\n",
       "    Root Location: ./data\n",
       "    Transforms (if any): Compose(\n",
       "                             ToTensor()\n",
       "                             Normalize(mean=(0.5, 0.5, 0.5), std=(0.5, 0.5, 0.5))\n",
       "                         )\n",
       "    Target Transforms (if any): None"
      ]
     },
     "execution_count": 38,
     "metadata": {},
     "output_type": "execute_result"
    }
   ],
   "source": [
    "testset = torchvision.datasets.CIFAR10(root='./data', train=False,\n",
    "                                       download=True, transform=transform)\n",
    "testloader = torch.utils.data.DataLoader(testset, batch_size=4,\n",
    "                                         shuffle=False)\n",
    "testset"
   ]
  },
  {
   "cell_type": "code",
   "execution_count": 39,
   "metadata": {},
   "outputs": [],
   "source": [
    "classes = ('plane', 'car', 'bird', 'cat',\n",
    "           'deer', 'dog', 'frog', 'horse', 'ship', 'truck')"
   ]
  },
  {
   "cell_type": "code",
   "execution_count": 46,
   "metadata": {},
   "outputs": [
    {
     "name": "stdout",
     "output_type": "stream",
     "text": [
      "   ship       cat      frog      bird  \n"
     ]
    },
    {
     "data": {
      "image/png": "[encoded data removed]",
      "text/plain": [
       "<Figure size 432x288 with 1 Axes>"
      ]
     },
     "metadata": {
      "image/png": {
       "height": 120,
       "width": 370
      },
      "needs_background": "light"
     },
     "output_type": "display_data"
    }
   ],
   "source": [
    "import matplotlib.pyplot as plt\n",
    "import numpy as np\n",
    "\n",
    "# functions to show an image\n",
    "\n",
    "def imshow(img):\n",
    "    img = img / 2 + 0.5     # unnormalize\n",
    "    img = img.cpu()\n",
    "    npimg = img.numpy()\n",
    "    #print(npimg)\n",
    "    plt.imshow(np.transpose(npimg, (1, 2, 0)))\n",
    "\n",
    "\n",
    "# get some random training images\n",
    "dataiter = iter(trainloader)\n",
    "images, labels = dataiter.next()\n",
    "\n",
    "# show images\n",
    "imshow(torchvision.utils.make_grid(images))\n",
    "# print labels\n",
    "print(' '.join('  %5s  ' % classes[labels[j]] for j in range(4)))"
   ]
  },
  {
   "cell_type": "code",
   "execution_count": 47,
   "metadata": {},
   "outputs": [
    {
     "data": {
      "text/plain": [
       "torch.Size([4, 3, 32, 32])"
      ]
     },
     "execution_count": 47,
     "metadata": {},
     "output_type": "execute_result"
    }
   ],
   "source": [
    "images.size()"
   ]
  },
  {
   "cell_type": "code",
   "execution_count": 61,
   "metadata": {},
   "outputs": [],
   "source": [
    "#Netz definieren\n",
    "import torch.nn as nn\n",
    "import torch.nn.functional as F\n",
    "\n",
    "class Net(nn.Module):\n",
    "    def __init__(self):\n",
    "        super(Net, self).__init__()\n",
    "        self.conv1 = nn.Conv2d(in_channels=3, out_channels=18, kernel_size=5)\n",
    "        self.pool = nn.MaxPool2d(kernel_size=2, stride=2)\n",
    "        self.conv2 = nn.Conv2d(in_channels=18, out_channels=16, kernel_size=5)\n",
    "        self.fc1 = nn.Linear(16 * 5 * 5, 120)\n",
    "        self.fc2 = nn.Linear(120, 84)\n",
    "        self.fc3 = nn.Linear(84, 10)\n",
    "\n",
    "    def forward(self, x):\n",
    "        #x = x.to(device)\n",
    "        x = self.pool(F.relu(self.conv1(x)))\n",
    "        x = self.pool(F.relu(self.conv2(x)))\n",
    "        x = x.view(-1, 16 * 5 * 5)\n",
    "        x = F.relu(self.fc1(x))\n",
    "        x = F.relu(self.fc2(x))\n",
    "        x = self.fc3(x)\n",
    "        return x"
   ]
  },
  {
   "cell_type": "code",
   "execution_count": 62,
   "metadata": {},
   "outputs": [
    {
     "name": "stdout",
     "output_type": "stream",
     "text": [
      "Net(\n",
      "  (conv1): Conv2d(3, 18, kernel_size=(5, 5), stride=(1, 1))\n",
      "  (pool): MaxPool2d(kernel_size=2, stride=2, padding=0, dilation=1, ceil_mode=False)\n",
      "  (conv2): Conv2d(18, 16, kernel_size=(5, 5), stride=(1, 1))\n",
      "  (fc1): Linear(in_features=400, out_features=120, bias=True)\n",
      "  (fc2): Linear(in_features=120, out_features=84, bias=True)\n",
      "  (fc3): Linear(in_features=84, out_features=10, bias=True)\n",
      ")\n"
     ]
    }
   ],
   "source": [
    "net = Net()\n",
    "net.to(device)\n",
    "print(net)\n"
   ]
  },
  {
   "cell_type": "code",
   "execution_count": 63,
   "metadata": {},
   "outputs": [],
   "source": [
    "#Loss function und Optimizer\n",
    "import torch.optim as optim\n",
    "\n",
    "criterion = nn.CrossEntropyLoss()\n",
    "optimizer = optim.SGD(net.parameters(), lr=0.001, momentum=0.9)"
   ]
  },
  {
   "cell_type": "code",
   "execution_count": 64,
   "metadata": {},
   "outputs": [
    {
     "name": "stdout",
     "output_type": "stream",
     "text": [
      "[1,  2000] loss: 2.187\n",
      "[1,  4000] loss: 1.796\n",
      "[1,  6000] loss: 1.599\n",
      "[1,  8000] loss: 1.513\n",
      "[1, 10000] loss: 1.453\n",
      "[1, 12000] loss: 1.405\n",
      "[2,  2000] loss: 1.313\n",
      "[2,  4000] loss: 1.304\n",
      "[2,  6000] loss: 1.236\n",
      "[2,  8000] loss: 1.222\n",
      "[2, 10000] loss: 1.215\n",
      "[2, 12000] loss: 1.198\n",
      "[3,  2000] loss: 1.077\n",
      "[3,  4000] loss: 1.121\n",
      "[3,  6000] loss: 1.085\n",
      "[3,  8000] loss: 1.086\n",
      "[3, 10000] loss: 1.082\n",
      "[3, 12000] loss: 1.048\n",
      "[4,  2000] loss: 0.987\n",
      "[4,  4000] loss: 0.966\n",
      "[4,  6000] loss: 0.983\n",
      "[4,  8000] loss: 0.964\n",
      "[4, 10000] loss: 0.981\n",
      "[4, 12000] loss: 0.973\n",
      "[5,  2000] loss: 0.884\n",
      "[5,  4000] loss: 0.909\n",
      "[5,  6000] loss: 0.916\n",
      "[5,  8000] loss: 0.893\n",
      "[5, 10000] loss: 0.927\n",
      "[5, 12000] loss: 0.891\n",
      "[6,  2000] loss: 0.841\n",
      "[6,  4000] loss: 0.830\n",
      "[6,  6000] loss: 0.836\n",
      "[6,  8000] loss: 0.857\n",
      "[6, 10000] loss: 0.855\n",
      "[6, 12000] loss: 0.849\n",
      "[7,  2000] loss: 0.757\n",
      "[7,  4000] loss: 0.801\n",
      "[7,  6000] loss: 0.792\n",
      "[7,  8000] loss: 0.815\n",
      "[7, 10000] loss: 0.822\n",
      "[7, 12000] loss: 0.818\n",
      "[8,  2000] loss: 0.741\n",
      "[8,  4000] loss: 0.752\n",
      "[8,  6000] loss: 0.775\n",
      "[8,  8000] loss: 0.760\n",
      "[8, 10000] loss: 0.757\n",
      "[8, 12000] loss: 0.779\n",
      "[9,  2000] loss: 0.700\n",
      "[9,  4000] loss: 0.696\n",
      "[9,  6000] loss: 0.724\n",
      "[9,  8000] loss: 0.733\n",
      "[9, 10000] loss: 0.761\n",
      "[9, 12000] loss: 0.758\n",
      "[10,  2000] loss: 0.676\n",
      "[10,  4000] loss: 0.668\n",
      "[10,  6000] loss: 0.696\n",
      "[10,  8000] loss: 0.717\n",
      "[10, 10000] loss: 0.715\n",
      "[10, 12000] loss: 0.742\n",
      "Finished Training\n"
     ]
    }
   ],
   "source": [
    "#Training\n",
    "for epoch in range(10):  # loop over the dataset multiple times\n",
    "\n",
    "    running_loss = 0.0\n",
    "    for i, data in enumerate(trainloader, 0):\n",
    "        # get the inputs\n",
    "        inputs, labels = data\n",
    "        inputs, labels = inputs.to(device), labels.to(device)\n",
    "        # zero the parameter gradients\n",
    "        optimizer.zero_grad()\n",
    "\n",
    "        # forward + backward + optimize\n",
    "        outputs = net(inputs)\n",
    "        loss = criterion(outputs, labels)\n",
    "        loss.backward()\n",
    "        optimizer.step()\n",
    "\n",
    "        # print statistics\n",
    "        running_loss += loss.item()\n",
    "        if i % 2000 == 1999:    # print every 2000 mini-batches\n",
    "            print('[%d, %5d] loss: %.3f' %\n",
    "                  (epoch + 1, i + 1, running_loss / 2000))\n",
    "            running_loss = 0.0\n",
    "\n",
    "print('Finished Training')"
   ]
  },
  {
   "cell_type": "code",
   "execution_count": 65,
   "metadata": {},
   "outputs": [
    {
     "name": "stdout",
     "output_type": "stream",
     "text": [
      "GroundTruth: \n",
      "     cat      ship      ship     plane  \n"
     ]
    },
    {
     "data": {
      "image/png": "[encoded data removed]",
      "text/plain": [
       "<Figure size 432x288 with 1 Axes>"
      ]
     },
     "metadata": {
      "image/png": {
       "height": 120,
       "width": 370
      },
      "needs_background": "light"
     },
     "output_type": "display_data"
    }
   ],
   "source": [
    "#Testing the network\n",
    "dataiter = iter(testloader)\n",
    "images, labels = dataiter.next()\n",
    "images, labels = images.to(device), labels.to(device)\n",
    "\n",
    "# print images\n",
    "imshow(torchvision.utils.make_grid(images))\n",
    "print('GroundTruth: \\n', ' '.join('  %5s  ' % classes[labels[j]] for j in range(4)))"
   ]
  },
  {
   "cell_type": "code",
   "execution_count": 66,
   "metadata": {},
   "outputs": [],
   "source": [
    "outputs = net(images)"
   ]
  },
  {
   "cell_type": "code",
   "execution_count": 67,
   "metadata": {},
   "outputs": [
    {
     "name": "stdout",
     "output_type": "stream",
     "text": [
      "Predicted:    cat  ship  ship plane\n"
     ]
    }
   ],
   "source": [
    "_, predicted = torch.max(outputs, 1)\n",
    "\n",
    "print('Predicted: ', ' '.join('%5s' % classes[predicted[j]]\n",
    "                              for j in range(4)))"
   ]
  },
  {
   "cell_type": "code",
   "execution_count": 68,
   "metadata": {},
   "outputs": [
    {
     "name": "stdout",
     "output_type": "stream",
     "text": [
      "Accuracy of the network on the 10000 test images: 68 %\n"
     ]
    }
   ],
   "source": [
    "#How good is the network performance?\n",
    "correct = 0\n",
    "total = 0\n",
    "#Ausschalten fürs Testing\n",
    "with torch.no_grad():\n",
    "    for data in testloader:\n",
    "        images, labels = data\n",
    "        images, labels = images.to(device), labels.to(device)\n",
    "        outputs = net(images)\n",
    "        _, predicted = torch.max(outputs.data, 1)\n",
    "        total += labels.size(0)\n",
    "        correct += (predicted == labels).sum().item()\n",
    "\n",
    "print('Accuracy of the network on the 10000 test images: %d %%' % (\n",
    "    100 * correct / total))"
   ]
  },
  {
   "cell_type": "code",
   "execution_count": 69,
   "metadata": {},
   "outputs": [
    {
     "name": "stdout",
     "output_type": "stream",
     "text": [
      "Accuracy of plane : 73 %\n",
      "Accuracy of   car : 83 %\n",
      "Accuracy of  bird : 52 %\n",
      "Accuracy of   cat : 46 %\n",
      "Accuracy of  deer : 68 %\n",
      "Accuracy of   dog : 53 %\n",
      "Accuracy of  frog : 73 %\n",
      "Accuracy of horse : 76 %\n",
      "Accuracy of  ship : 78 %\n",
      "Accuracy of truck : 78 %\n"
     ]
    }
   ],
   "source": [
    "#Which classes performed well?\n",
    "class_correct = list(0. for i in range(10))\n",
    "class_total = list(0. for i in range(10))\n",
    "with torch.no_grad():\n",
    "    for data in testloader:\n",
    "        images, labels = data\n",
    "        images, labels = images.to(device), labels.to(device)\n",
    "        outputs = net(images)\n",
    "        _, predicted = torch.max(outputs, 1)\n",
    "        c = (predicted == labels).squeeze()\n",
    "        for i in range(4):\n",
    "            label = labels[i]\n",
    "            class_correct[label] += c[i].item()\n",
    "            class_total[label] += 1\n",
    "\n",
    "\n",
    "for i in range(10):\n",
    "    print('Accuracy of %5s : %2d %%' % (\n",
    "        classes[i], 100 * class_correct[i] / class_total[i]))"
   ]
  },
  {
   "cell_type": "code",
   "execution_count": null,
   "metadata": {},
   "outputs": [],
   "source": []
  }
 ],
 "metadata": {
  "kernelspec": {
   "display_name": "Python [conda env:torch]",
   "language": "python",
   "name": "conda-env-torch-py"
  },
  "language_info": {
   "codemirror_mode": {
    "name": "ipython",
    "version": 3
   },
   "file_extension": ".py",
   "mimetype": "text/x-python",
   "name": "python",
   "nbconvert_exporter": "python",
   "pygments_lexer": "ipython3",
   "version": "3.6.7"
  }
 },
 "nbformat": 4,
 "nbformat_minor": 2
}
