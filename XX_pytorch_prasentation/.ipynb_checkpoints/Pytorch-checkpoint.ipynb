{
 "cells": [
  {
   "cell_type": "markdown",
   "metadata": {},
   "source": [
    "# PyTorch Framework"
   ]
  },
  {
   "cell_type": "markdown",
   "metadata": {},
   "source": [
    "## Content\n",
    "\n",
    "1. Installation\n",
    "2. PyTorch Fundamentals - Tensors and Matrices\n",
    "    2.1. Numpy and PyTorch\n",
    "3. PyTorch and Gradients\n",
    "4. Feedforward Networks in PyTorch\n",
    "5. Convolutional Neural Networks in PyTorch\n",
    "6. Recurrent Neural Networks in PyTorch"
   ]
  },
  {
   "cell_type": "markdown",
   "metadata": {},
   "source": [
    "## 1. Installation\n",
    "\n",
    "Installation can be easily done through the official website:  https://pytorch.org/. Simply select OS, python version and if you want the GPU (with CUDA) or the CPU version."
   ]
  },
  {
   "cell_type": "markdown",
   "metadata": {},
   "source": [
    "### 1.2 Installation Check"
   ]
  },
  {
   "cell_type": "code",
   "execution_count": 1,
   "metadata": {},
   "outputs": [
    {
     "name": "stdout",
     "output_type": "stream",
     "text": [
      "Torch version: 0.4.1\n",
      "CUDA is active: True\n",
      "CUDA version: 9.0\n"
     ]
    }
   ],
   "source": [
    "import torch\n",
    "print(\"Torch version:\", torch.__version__)\n",
    "print(\"CUDA is active:\", torch.cuda.is_available())\n",
    "print(\"CUDA version:\", torch.version.cuda)"
   ]
  },
  {
   "cell_type": "markdown",
   "metadata": {},
   "source": [
    "## 2. PyTorch Fundamentals - Matrices and Tensors"
   ]
  },
  {
   "cell_type": "markdown",
   "metadata": {},
   "source": [
    "### NumPy vs. PyTorch"
   ]
  },
  {
   "cell_type": "code",
   "execution_count": 2,
   "metadata": {},
   "outputs": [
    {
     "name": "stdout",
     "output_type": "stream",
     "text": [
      "Numpy array:\n",
      " [[1 2]\n",
      " [3 4]]\n",
      "Torch array:\n",
      " tensor([[1., 2.],\n",
      "        [3., 4.]])\n",
      "Numpy array of ones:\n",
      " [[1. 1.]\n",
      " [1. 1.]]\n",
      "Torch array of ones:\n",
      " tensor([[1., 1.],\n",
      "        [1., 1.]])\n",
      "Numpy array of random int:\n",
      " [[0.22712468 0.1864801 ]\n",
      " [0.98675439 0.86452921]]\n",
      "Torch array of random int:\n",
      " tensor([[0.6608, 0.7621],\n",
      "        [0.0416, 0.7732]])\n"
     ]
    }
   ],
   "source": [
    "#### With values ####\n",
    "#Python array\n",
    "arr = [[1,2], [3,4]]\n",
    "#Numpy\n",
    "import numpy as np\n",
    "\n",
    "#Bidimensional array\n",
    "numpy_arr = np.array([[1,2], [3,4]])\n",
    "print(\"Numpy array:\\n\", numpy_arr)\n",
    "\n",
    "#Torch\n",
    "import torch\n",
    "arr_t = torch.Tensor(arr)#Conversion to torch array\n",
    "print(\"Torch array:\\n\", arr_t)\n",
    "##### With default values #####\n",
    "print(\"Numpy array of ones:\\n\", np.ones((2,2)))\n",
    "print(\"Torch array of ones:\\n\", torch.ones((2,2)))\n",
    "\n",
    "#### With random values ####\n",
    "print(\"Numpy array of random int:\\n\", np.random.rand(2,2))\n",
    "print(\"Torch array of random int:\\n\", torch.rand(2,2))"
   ]
  },
  {
   "cell_type": "markdown",
   "metadata": {},
   "source": [
    "### Reproducibility with Seeds"
   ]
  },
  {
   "cell_type": "code",
   "execution_count": 3,
   "metadata": {},
   "outputs": [
    {
     "name": "stdout",
     "output_type": "stream",
     "text": [
      "Seeds in numpy:\n",
      "\n",
      "[[0.5488135  0.71518937]\n",
      " [0.60276338 0.54488318]]\n",
      "tensor([[0.4963, 0.7682],\n",
      "        [0.0885, 0.1320]])\n",
      "tensor([[0.3074, 0.6341],\n",
      "        [0.4901, 0.8964]])\n"
     ]
    }
   ],
   "source": [
    "######## Seeds in numpy \n",
    "print(\"Seeds in numpy:\\n\")\n",
    "np.random.seed(0)\n",
    "print(np.random.rand(2,2))\n",
    "\n",
    "####### Seeds in torch (CPU)\n",
    "torch.manual_seed(0)\n",
    "print(torch.rand(2,2))\n",
    "\n",
    "###### Seeds in torch (GPU)\n",
    "if torch.cuda.is_available():\n",
    "    torch.cuda.manual_seed_all(0)\n",
    "    print(torch.rand(2,2))"
   ]
  },
  {
   "cell_type": "markdown",
   "metadata": {},
   "source": [
    "### NumPy-PyTorch Bridge\n",
    "\n",
    "Torch supports following data types:\n",
    "double, float, float16, int64, int32, and uint8.\n",
    "//TODO: Inserisci tabella"
   ]
  },
  {
   "cell_type": "markdown",
   "metadata": {},
   "source": [
    "#### From NumPy to Torch"
   ]
  },
  {
   "cell_type": "code",
   "execution_count": 4,
   "metadata": {},
   "outputs": [
    {
     "name": "stdout",
     "output_type": "stream",
     "text": [
      "tensor([[1., 1.],\n",
      "        [1., 1.]], dtype=torch.float64)\n"
     ]
    }
   ],
   "source": [
    "#Numpy array\n",
    "np_array = np.ones((2,2))\n",
    "\n",
    "#Torch tensor\n",
    "torch_tensor = torch.from_numpy(np_array)\n",
    "print(torch_tensor)"
   ]
  },
  {
   "cell_type": "markdown",
   "metadata": {},
   "source": [
    "Data types matter in pyTorch:"
   ]
  },
  {
   "cell_type": "code",
   "execution_count": 5,
   "metadata": {},
   "outputs": [
    {
     "name": "stdout",
     "output_type": "stream",
     "text": [
      "TypeError: can't convert np.ndarray of type numpy.int8. The only supported types are: double, float, float16, int64, int32, and uint8.\n"
     ]
    }
   ],
   "source": [
    "#Data types matter!\n",
    "np_array2 = np.ones((2,2), dtype=np.int8)\n",
    "try:\n",
    "    torch.from_numpy(np_array2)\n",
    "except TypeError as e:\n",
    "    print(\"TypeError:\",e)"
   ]
  },
  {
   "cell_type": "code",
   "execution_count": 6,
   "metadata": {},
   "outputs": [
    {
     "data": {
      "text/plain": [
       "tensor([[1, 1],\n",
       "        [1, 1]])"
      ]
     },
     "execution_count": 6,
     "metadata": {},
     "output_type": "execute_result"
    }
   ],
   "source": [
    "np_array3 = np.ones((2,2), dtype=np.int64)\n",
    "torch.from_numpy(np_array3)"
   ]
  },
  {
   "cell_type": "markdown",
   "metadata": {},
   "source": [
    "#### PyTorch to NumPy"
   ]
  },
  {
   "cell_type": "code",
   "execution_count": 7,
   "metadata": {},
   "outputs": [
    {
     "name": "stdout",
     "output_type": "stream",
     "text": [
      "<class 'torch.Tensor'>\n",
      "<class 'numpy.ndarray'>\n"
     ]
    }
   ],
   "source": [
    "#Torch tensor\n",
    "torch_tensor2 = torch.ones(2,2)\n",
    "print(type(torch_tensor2))\n",
    "torch_to_numpy = torch_tensor2.numpy()\n",
    "print(type(torch_to_numpy))"
   ]
  },
  {
   "cell_type": "markdown",
   "metadata": {},
   "source": [
    "#### Tesors on CPU vs GPU"
   ]
  },
  {
   "cell_type": "code",
   "execution_count": 8,
   "metadata": {},
   "outputs": [],
   "source": [
    "#CPU\n",
    "tensor_cpu = torch.ones(2,2)"
   ]
  },
  {
   "cell_type": "code",
   "execution_count": 9,
   "metadata": {},
   "outputs": [
    {
     "name": "stdout",
     "output_type": "stream",
     "text": [
      "tensor([[1., 1.],\n",
      "        [1., 1.]])\n"
     ]
    }
   ],
   "source": [
    "#CPU to GPU\n",
    "if torch.cuda.is_available():\n",
    "    tensor_cpu.cuda()\n",
    "    print(tensor_cpu)"
   ]
  },
  {
   "cell_type": "code",
   "execution_count": 10,
   "metadata": {},
   "outputs": [
    {
     "data": {
      "text/plain": [
       "tensor([[1., 1.],\n",
       "        [1., 1.]])"
      ]
     },
     "execution_count": 10,
     "metadata": {},
     "output_type": "execute_result"
    }
   ],
   "source": [
    "#GPU to CPU\n",
    "tensor_cpu.cpu()"
   ]
  },
  {
   "cell_type": "markdown",
   "metadata": {},
   "source": [
    "#### Tensor Dimensions"
   ]
  },
  {
   "cell_type": "code",
   "execution_count": 11,
   "metadata": {},
   "outputs": [
    {
     "name": "stdout",
     "output_type": "stream",
     "text": [
      "Tensor dimension:\n",
      "shape variable: torch.Size([2, 2])\n",
      "size()-method torch.Size([2, 2])\n",
      "Resized tensor: tensor([1., 1., 1., 1.])\n",
      "Dimension: torch.Size([4])\n"
     ]
    }
   ],
   "source": [
    "#### Resizing a tensor\n",
    "a = torch.ones(2,2)\n",
    "print(\"Tensor dimension:\")\n",
    "print(\"shape variable:\", a.shape)\n",
    "print(\"size()-method\", a.size())\n",
    "\n",
    "### view()\n",
    "print(\"Resized tensor:\", a.view(4))\n",
    "print(\"Dimension:\", a.view(4).size())"
   ]
  },
  {
   "cell_type": "markdown",
   "metadata": {},
   "source": [
    "#### Tensor Element-wise Operations"
   ]
  },
  {
   "cell_type": "code",
   "execution_count": 12,
   "metadata": {},
   "outputs": [
    {
     "name": "stdout",
     "output_type": "stream",
     "text": [
      "tensor([[2., 2.],\n",
      "        [2., 2.]])\n",
      "tensor([[2., 2.],\n",
      "        [2., 2.]])\n",
      "\n",
      "tensor([[3., 3.],\n",
      "        [3., 3.]])\n",
      "tensor([[0., 0.],\n",
      "        [0., 0.]])\n",
      "tensor([[0., 0.],\n",
      "        [0., 0.]])\n",
      "A:\n",
      " tensor([[1., 1.],\n",
      "        [1., 1.]])\n",
      "\n",
      "tensor([[0., 0.],\n",
      "        [0., 0.]])\n",
      "A:\n",
      " tensor([[0., 0.],\n",
      "        [0., 0.]])\n"
     ]
    }
   ],
   "source": [
    "a = torch.ones(2,2)\n",
    "b = torch.ones(2,2)\n",
    "\n",
    "### Addition (element-wise)\n",
    "add = a+b \n",
    "add2 = torch.add(a,b)\n",
    "print(add)\n",
    "print(add2)\n",
    "\n",
    "#In-place addition\n",
    "print()\n",
    "add.add_(a)\n",
    "print(add)\n",
    "\n",
    "#### Subtraction\n",
    "print(a-b)\n",
    "print(a.sub(b))\n",
    "print(\"A:\\n\",a)\n",
    "print()\n",
    "#In place\n",
    "print(a.sub_(b))\n",
    "print(\"A:\\n\",a)\n"
   ]
  },
  {
   "cell_type": "markdown",
   "metadata": {},
   "source": [
    "### Gradients - Parameter \"requires_grad\""
   ]
  },
  {
   "cell_type": "code",
   "execution_count": 13,
   "metadata": {},
   "outputs": [
    {
     "data": {
      "text/plain": [
       "tensor([[1., 1.],\n",
       "        [1., 1.]], requires_grad=True)"
      ]
     },
     "execution_count": 13,
     "metadata": {},
     "output_type": "execute_result"
    }
   ],
   "source": [
    "### Creating a tensor with gradient which allow the accumulation of gradients\n",
    "a_grad = torch.ones((2,2), requires_grad=True)\n",
    "a_grad"
   ]
  },
  {
   "cell_type": "code",
   "execution_count": 14,
   "metadata": {},
   "outputs": [
    {
     "name": "stdout",
     "output_type": "stream",
     "text": [
      "tensor([[2., 2.],\n",
      "        [2., 2.]], grad_fn=<ThAddBackward>)\n",
      "tensor([[2., 2.],\n",
      "        [2., 2.]], grad_fn=<ThAddBackward>)\n"
     ]
    }
   ],
   "source": [
    "# Behaves similarly to tensors\n",
    "b_grad = torch.ones((2, 2), requires_grad=True)\n",
    "print(a_grad + b_grad)\n",
    "print(torch.add(a_grad, b_grad))"
   ]
  },
  {
   "cell_type": "markdown",
   "metadata": {},
   "source": [
    "**What is exactly `requires_grad`?**"
   ]
  },
  {
   "cell_type": "markdown",
   "metadata": {},
   "source": [
    "Define a function:\n",
    "$$y_i = 5(x_i+1)^2$$"
   ]
  },
  {
   "cell_type": "code",
   "execution_count": 15,
   "metadata": {},
   "outputs": [
    {
     "name": "stdout",
     "output_type": "stream",
     "text": [
      "x: tensor([1., 1.], requires_grad=True)\n",
      "True\n"
     ]
    }
   ],
   "source": [
    "# x value\n",
    "x = torch.ones(2, requires_grad=True)\n",
    "print(\"x:\", x)\n",
    "print(x.requires_grad)"
   ]
  },
  {
   "cell_type": "code",
   "execution_count": 16,
   "metadata": {},
   "outputs": [
    {
     "name": "stdout",
     "output_type": "stream",
     "text": [
      "False\n",
      "y: tensor([20., 20.], grad_fn=<MulBackward>)\n",
      "True\n"
     ]
    }
   ],
   "source": [
    "y_test = torch.ones(2)*5\n",
    "print(y_test.requires_grad)\n",
    "y = 5* (x + 1) ** 2\n",
    "print(\"y:\", y)\n",
    "print(y.requires_grad)"
   ]
  },
  {
   "cell_type": "markdown",
   "metadata": {},
   "source": [
    "**Backward should be called only on a scalar (i.e. 1-element tensor) or with gradient w.r.t. the variable**\n",
    "- Let's reduce y to a scalar then..."
   ]
  },
  {
   "cell_type": "markdown",
   "metadata": {},
   "source": [
    "$$o = \\frac{1}{2}\\sum_i y_i$$"
   ]
  },
  {
   "cell_type": "code",
   "execution_count": 17,
   "metadata": {},
   "outputs": [
    {
     "data": {
      "text/plain": [
       "tensor(20., grad_fn=<MulBackward>)"
      ]
     },
     "execution_count": 17,
     "metadata": {},
     "output_type": "execute_result"
    }
   ],
   "source": [
    "o = (1/2) * torch.sum(y)\n",
    "o"
   ]
  },
  {
   "cell_type": "markdown",
   "metadata": {},
   "source": [
    "<center> **Recap `y` equation**: $y_i = 5(x_i+1)^2$ </center>\n",
    "<center> **Recap `o` equation**: $o = \\frac{1}{2}\\sum_i y_i$ </center>\n",
    "<center> **Substitute `y` into `o` equation**: $o = \\frac{1}{2} \\sum_i 5(x_i+1)^2$ </center>\n",
    "$$\\frac{\\partial o}{\\partial x_i} = \\frac{1}{2}[10(x_i+1)]$$\n",
    "$$\\frac{\\partial o}{\\partial x_i}\\bigr\\rvert_{x_i=1} = \\frac{1}{2}[10(1 + 1)] = \\frac{10}{2}(2) = 10$$"
   ]
  },
  {
   "cell_type": "code",
   "execution_count": 18,
   "metadata": {},
   "outputs": [
    {
     "data": {
      "text/plain": [
       "<bound method Tensor.backward of tensor(20., grad_fn=<MulBackward>)>"
      ]
     },
     "execution_count": 18,
     "metadata": {},
     "output_type": "execute_result"
    }
   ],
   "source": [
    "o.backward"
   ]
  },
  {
   "cell_type": "code",
   "execution_count": 20,
   "metadata": {},
   "outputs": [],
   "source": [
    "x.grad"
   ]
  },
  {
   "cell_type": "markdown",
   "metadata": {},
   "source": [
    "## 3. Feedforward Neural Network with PyTorch (MNIST)"
   ]
  },
  {
   "cell_type": "code",
   "execution_count": 21,
   "metadata": {},
   "outputs": [],
   "source": [
    "import torch\n",
    "import torch.nn as nn"
   ]
  },
  {
   "cell_type": "markdown",
   "metadata": {},
   "source": [
    "### Steps\n",
    "- Step 1: Load Dataset\n",
    "- Step 2: Make Dataset Iterable\n",
    "- Step 3: Create Model Class\n",
    "- Step 4: Instantiate Model Class\n",
    "- Step 5: Instantiate Loss Class\n",
    "- Step 6: Instantiate Optimizer Class\n",
    "- Step 7: Train Model"
   ]
  },
  {
   "cell_type": "markdown",
   "metadata": {},
   "source": [
    "### Step 1: Loading MNIST Train Dataset"
   ]
  },
  {
   "cell_type": "code",
   "execution_count": 22,
   "metadata": {},
   "outputs": [],
   "source": [
    "import torch\n",
    "import torch.nn as nn\n",
    "import torchvision.transforms as transforms\n",
    "import torchvision.datasets as dsets"
   ]
  },
  {
   "cell_type": "code",
   "execution_count": 23,
   "metadata": {},
   "outputs": [
    {
     "name": "stdout",
     "output_type": "stream",
     "text": [
      "Downloading http://yann.lecun.com/exdb/mnist/train-images-idx3-ubyte.gz\n",
      "Downloading http://yann.lecun.com/exdb/mnist/train-labels-idx1-ubyte.gz\n",
      "Downloading http://yann.lecun.com/exdb/mnist/t10k-images-idx3-ubyte.gz\n",
      "Downloading http://yann.lecun.com/exdb/mnist/t10k-labels-idx1-ubyte.gz\n",
      "Processing...\n",
      "Done!\n"
     ]
    }
   ],
   "source": [
    "train_dataset = dsets.MNIST(root='./data', \n",
    "                            train=True, \n",
    "                            transform=transforms.ToTensor(),\n",
    "                            download=True)\n",
    "\n",
    "test_dataset = dsets.MNIST(root='./data', \n",
    "                           train=False, \n",
    "                           transform=transforms.ToTensor())"
   ]
  },
  {
   "cell_type": "markdown",
   "metadata": {},
   "source": [
    "### Step 2: Make Dataset Iterable"
   ]
  },
  {
   "cell_type": "code",
   "execution_count": 24,
   "metadata": {},
   "outputs": [],
   "source": [
    "batch_size = 100\n",
    "n_iters = 3000\n",
    "num_epochs = n_iters / (len(train_dataset) / batch_size)\n",
    "num_epochs = int(num_epochs)\n",
    "\n",
    "train_loader = torch.utils.data.DataLoader(dataset=train_dataset, \n",
    "                                           batch_size=batch_size, \n",
    "                                           shuffle=True)\n",
    "\n",
    "test_loader = torch.utils.data.DataLoader(dataset=test_dataset, \n",
    "                                          batch_size=batch_size, \n",
    "                                          shuffle=False)"
   ]
  },
  {
   "cell_type": "markdown",
   "metadata": {},
   "source": [
    "### Step 3: Create Model Class"
   ]
  },
  {
   "cell_type": "code",
   "execution_count": 25,
   "metadata": {},
   "outputs": [],
   "source": [
    "class FeedforwardNeuralNetModel(nn.Module):\n",
    "    def __init__(self, input_dim, hidden_dim, output_dim):\n",
    "        super(FeedforwardNeuralNetModel, self).__init__()\n",
    "        # Linear function\n",
    "        self.fc1 = nn.Linear(input_dim, hidden_dim) \n",
    "        # Non-linearity\n",
    "        self.sigmoid = nn.Sigmoid()\n",
    "        # Linear function (readout)\n",
    "        self.fc2 = nn.Linear(hidden_dim, output_dim)  \n",
    "    \n",
    "    def forward(self, x):\n",
    "        # Linear function  # LINEAR\n",
    "        out = self.fc1(x)\n",
    "        # Non-linearity  # NON-LINEAR\n",
    "        out = self.sigmoid(out)\n",
    "        # Linear function (readout)  # LINEAR\n",
    "        out = self.fc2(out)\n",
    "        return out"
   ]
  },
  {
   "cell_type": "markdown",
   "metadata": {},
   "source": [
    "### Step 4: Instantiate Model Class\n",
    "- **Input** dimension: **784** \n",
    "    - Size of image\n",
    "    - $28 \\times 28 = 784$\n",
    "- **Output** dimension: **10**\n",
    "    - 0, 1, 2, 3, 4, 5, 6, 7, 8, 9\n",
    "- **Hidden** dimension: **100**\n",
    "    - Can be any number\n",
    "    - Similar term\n",
    "        - Number of neurons\n",
    "        - Number of non-linear activation functions\n",
    "        \n",
    "Our model will have 1 hidden layer and **sigmoid** activation.        "
   ]
  },
  {
   "cell_type": "code",
   "execution_count": 26,
   "metadata": {},
   "outputs": [],
   "source": [
    "input_dim = 28*28\n",
    "hidden_dim = 100\n",
    "output_dim = 10\n",
    "\n",
    "model = FeedforwardNeuralNetModel(input_dim, hidden_dim, output_dim)"
   ]
  },
  {
   "cell_type": "markdown",
   "metadata": {},
   "source": [
    "### Step 5: Instantiate Loss Class\n",
    "- Feedforward Neural Network: **Cross Entropy Loss**\n",
    "    - _Logistic Regression_: **Cross Entropy Loss**\n",
    "    - _Linear Regression_: **MSE**\n",
    "   "
   ]
  },
  {
   "cell_type": "code",
   "execution_count": 27,
   "metadata": {},
   "outputs": [],
   "source": [
    "criterion = nn.CrossEntropyLoss()"
   ]
  },
  {
   "cell_type": "markdown",
   "metadata": {},
   "source": [
    "### Step 6: Instantiate Optimizer Class\n",
    "- Simplified equation\n",
    "    - $\\theta = \\theta - \\eta \\cdot \\nabla_\\theta $\n",
    "        - $\\theta$: parameters (our tensors with gradient accumulation capabilities)\n",
    "        - $\\eta$: learning rate (how fast we want to learn)\n",
    "        - $\\nabla_\\theta$: parameters' gradients\n",
    "- Even simplier equation\n",
    "    - `parameters = parameters - learning_rate * parameters_gradients`\n",
    "    - **At every iteration, we update our model's parameters**"
   ]
  },
  {
   "cell_type": "code",
   "execution_count": 28,
   "metadata": {},
   "outputs": [],
   "source": [
    "learning_rate = 0.1\n",
    "\n",
    "optimizer = torch.optim.SGD(model.parameters(), lr=learning_rate)  "
   ]
  },
  {
   "cell_type": "markdown",
   "metadata": {},
   "source": [
    "### Parameters In-Depth"
   ]
  },
  {
   "cell_type": "code",
   "execution_count": 30,
   "metadata": {},
   "outputs": [
    {
     "name": "stdout",
     "output_type": "stream",
     "text": [
      "<generator object Module.parameters at 0x0000021F25700C78>\n",
      "4\n",
      "torch.Size([100, 784])\n",
      "torch.Size([100])\n",
      "torch.Size([10, 100])\n",
      "torch.Size([10])\n"
     ]
    }
   ],
   "source": [
    "print(model.parameters())\n",
    "\n",
    "print(len(list(model.parameters())))\n",
    "\n",
    "# FC 1 Parameters \n",
    "print(list(model.parameters())[0].size())\n",
    "\n",
    "# FC 1 Bias Parameters\n",
    "print(list(model.parameters())[1].size())\n",
    "\n",
    "# FC 2 Parameters\n",
    "print(list(model.parameters())[2].size())\n",
    "\n",
    "# FC 2 Bias Parameters\n",
    "print(list(model.parameters())[3].size())\n",
    "\n",
    "###### IMMAGINE?"
   ]
  },
  {
   "cell_type": "markdown",
   "metadata": {},
   "source": [
    "### Step 7: Train Model\n",
    "- Process \n",
    "    1. Convert inputs to tensors with gradient accumulation capabilities\n",
    "    2. Clear gradient buffers\n",
    "    3. Get output given inputs \n",
    "    4. Get loss\n",
    "    5. Get gradients w.r.t. parameters\n",
    "    6. Update parameters using gradients\n",
    "        - `parameters = parameters - learning_rate * parameters_gradients`\n",
    "    7. REPEAT"
   ]
  },
  {
   "cell_type": "code",
   "execution_count": 32,
   "metadata": {},
   "outputs": [
    {
     "name": "stdout",
     "output_type": "stream",
     "text": [
      "Iteration: 500. Loss: 0.595485508441925. Accuracy: 86\n",
      "Iteration: 1000. Loss: 0.5494940876960754. Accuracy: 89\n",
      "Iteration: 1500. Loss: 0.45526909828186035. Accuracy: 90\n",
      "Iteration: 2000. Loss: 0.4022116959095001. Accuracy: 91\n",
      "Iteration: 2500. Loss: 0.22733356058597565. Accuracy: 91\n",
      "Iteration: 3000. Loss: 0.27196046710014343. Accuracy: 91\n"
     ]
    }
   ],
   "source": [
    "iter = 0\n",
    "for epoch in range(num_epochs):\n",
    "    for i, (images, labels) in enumerate(train_loader):\n",
    "        # Load images with gradient accumulation capabilities\n",
    "        images = images.view(-1, 28*28).requires_grad_()\n",
    "        \n",
    "        # Clear gradients w.r.t. parameters\n",
    "        optimizer.zero_grad()\n",
    "        \n",
    "        # Forward pass to get output/logits\n",
    "        outputs = model(images)\n",
    "        \n",
    "        # Calculate Loss: softmax --> cross entropy loss\n",
    "        loss = criterion(outputs, labels)\n",
    "        \n",
    "        # Getting gradients w.r.t. parameters\n",
    "        loss.backward()\n",
    "        \n",
    "        # Updating parameters\n",
    "        optimizer.step()\n",
    "        \n",
    "        iter += 1\n",
    "        \n",
    "        if iter % 500 == 0:\n",
    "            # Calculate Accuracy         \n",
    "            correct = 0\n",
    "            total = 0\n",
    "            # Iterate through test dataset\n",
    "            for images, labels in test_loader:\n",
    "                # Load images with gradient accumulation capabilities\n",
    "                images = images.view(-1, 28*28).requires_grad_()\n",
    "                \n",
    "                # Forward pass only to get logits/output\n",
    "                outputs = model(images)\n",
    "                \n",
    "                # Get predictions from the maximum value\n",
    "                _, predicted = torch.max(outputs.data, 1)\n",
    "                \n",
    "                # Total number of labels\n",
    "                total += labels.size(0)\n",
    "                \n",
    "                # Total correct predictions\n",
    "                correct += (predicted == labels).sum()\n",
    "            \n",
    "            accuracy = 100 * correct / total\n",
    "            \n",
    "            # Print Loss\n",
    "            print('Iteration: {}. Loss: {}. Accuracy: {}'.format(iter, loss.item(), accuracy))"
   ]
  },
  {
   "cell_type": "markdown",
   "metadata": {},
   "source": [
    "## 4. Convolutional Neural Networks in PyTorch"
   ]
  },
  {
   "cell_type": "code",
   "execution_count": null,
   "metadata": {},
   "outputs": [],
   "source": []
  },
  {
   "cell_type": "markdown",
   "metadata": {},
   "source": [
    "## Quellen\n",
    "\n",
    "1. Deep Learning Wizard: https://www.deeplearningwizard.com/deep_learning/intro/ (images, explanations, examples..)\n",
    "2. Siraj Raval, \"Pytorch in 5 Minutes\": https://www.youtube.com/watch?v=nbJ-2G2GXL0 (very quick start)\n",
    "3. Udacity, Intro to Deep Learning with PyTorch: https://www.udacity.com/course/deep-learning-pytorch--ud188\n"
   ]
  }
 ],
 "metadata": {
  "kernelspec": {
   "display_name": "Python [conda env:torch]",
   "language": "python",
   "name": "conda-env-torch-py"
  },
  "language_info": {
   "codemirror_mode": {
    "name": "ipython",
    "version": 3
   },
   "file_extension": ".py",
   "mimetype": "text/x-python",
   "name": "python",
   "nbconvert_exporter": "python",
   "pygments_lexer": "ipython3",
   "version": "3.7.1"
  }
 },
 "nbformat": 4,
 "nbformat_minor": 2
}
