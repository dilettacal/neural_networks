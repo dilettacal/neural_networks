{
 "cells": [
  {
   "cell_type": "markdown",
   "metadata": {},
   "source": [
    "# PyTorch - Vortrag\n",
    "### HTW Berlin - Angewandte Informatik\n",
    "#### Modul \"Ausgewählte Kapitel sozialer Webtechnologien\" (aka Neuronale Netze)\n",
    "\n",
    "##### Diletta Calussi - s0559842"
   ]
  },
  {
   "cell_type": "markdown",
   "metadata": {},
   "source": [
    "# Inhalte\n",
    "\n",
    "0. Notwendige Packages\n",
    "1. Das Framework PyTorch\n",
    "2. PyTorch Fundamentals: Tensors, NumPy Bridge, Variablen, Autograd und CUDA\n",
    "3. Neuronale Netze in PyTorch\n",
    "5. Quellen"
   ]
  },
  {
   "cell_type": "markdown",
   "metadata": {},
   "source": [
    "## 0. Notwendige Packages\n",
    "\n",
    "- torch (CUDA oder CPU Version)\n",
    "- torchvision\n",
    "- numpy\n",
    "- graphviz\n",
    "- matplotlib\n",
    "- pillow"
   ]
  },
  {
   "cell_type": "markdown",
   "metadata": {},
   "source": [
    "## 1. Das Framework PyTorch"
   ]
  },
  {
   "cell_type": "markdown",
   "metadata": {},
   "source": [
    "- Eine ML Open-Source-Bibliothek für python\n",
    "- Basiert auf der in **Lua** geschriebenen Bibliothek **Torch**\n",
    "- Vom Facebook-Forschungsteam für K.I. entwickelt \n",
    "- Erscheinungsjahr: 2016\n",
    "- Unterstützt GPU sowie CPU \n",
    "- High Level \n",
    "\n",
    "\n",
    "### Funktionen\n",
    "* Autograd-System zur Berechnung der Ableitungen bezuüglich einer trainierbaren Variablen\n",
    "* Dynamische Graph-Berechnung \n",
    "    - Anzahl von Neuronen kann sich zur Laufzeit verändern\n",
    "    - If und else-Verzweigungen nach Zweck einstellbar\n",
    "* NumPy Bridge\n",
    "\n",
    "Eine Anleitung für die Installation ist auf der Webseite von [PyTorch](https://pytorch.org/) verfügbar.\n"
   ]
  },
  {
   "cell_type": "code",
   "execution_count": 1,
   "metadata": {},
   "outputs": [],
   "source": [
    "import warnings\n",
    "warnings.filterwarnings('ignore')"
   ]
  },
  {
   "cell_type": "code",
   "execution_count": 2,
   "metadata": {},
   "outputs": [
    {
     "name": "stdout",
     "output_type": "stream",
     "text": [
      "Torch version: 0.4.1\n",
      "CUDA is active: True\n",
      "CUDA version: 8.0\n"
     ]
    }
   ],
   "source": [
    "#Installation check\n",
    "import torch\n",
    "print(\"Torch version:\", torch.__version__)\n",
    "print(\"CUDA is active:\", torch.cuda.is_available())\n",
    "print(\"CUDA version:\", torch.version.cuda)"
   ]
  },
  {
   "cell_type": "code",
   "execution_count": 3,
   "metadata": {},
   "outputs": [
    {
     "data": {
      "text/plain": [
       "<torch._C.Generator at 0x1c15fab35d0>"
      ]
     },
     "execution_count": 3,
     "metadata": {},
     "output_type": "execute_result"
    }
   ],
   "source": [
    "torch.manual_seed(0)"
   ]
  },
  {
   "cell_type": "markdown",
   "metadata": {},
   "source": [
    "## 2. PyTorch Fundamentals\n",
    "\n",
    "PyTorch bietet zwei Abstraktionen für Datenstrukturen: Tensoren und Variablen. Tensoren sind so ähnlich wie NumPy-Arrays und können auch auf GPUs übertragen werden. \n",
    "\n",
    "### 2.1 Tensoren\n",
    "\n",
    "Ein `torch.Tensor` ist eine mehrdimensionale Matrix, die Elemente von einem bestimmten Datentyp enthält. Ein detaillierter Überblick der unterstützten Datentype ist auf der [Webseite von PyTorch](https://pytorch.org/docs/stable/tensors.html) verfügbar.  \n",
    "\n",
    "PyTorch unterstützt sowohl GPU- als auch CPU-Tensoren. Tensoren verfügen über folgende Attribute:\n",
    "- `dtype`, leifert Datentyp\n",
    "- `device`, das Gerät (CPU oder GPU), wo das Tensorobjekt verwendet wird\n",
    "- `layout`, Speicherlayout von einem Tensor\n",
    "\n",
    "Methoden wie:\n",
    "- `to()`, switching zwischen GPU und CPU\n",
    "\n"
   ]
  },
  {
   "cell_type": "markdown",
   "metadata": {},
   "source": [
    "#### Vectors (1-D Tensoren)\n",
    "\n",
    "Ein Array von Elementen:"
   ]
  },
  {
   "cell_type": "code",
   "execution_count": 4,
   "metadata": {},
   "outputs": [
    {
     "data": {
      "text/plain": [
       "torch.Size([6])"
      ]
     },
     "execution_count": 4,
     "metadata": {},
     "output_type": "execute_result"
    }
   ],
   "source": [
    "temp = torch.FloatTensor([23,24,24.5,26,27.2,23.0])\n",
    "temp.size()"
   ]
  },
  {
   "cell_type": "code",
   "execution_count": 5,
   "metadata": {},
   "outputs": [
    {
     "name": "stdout",
     "output_type": "stream",
     "text": [
      "tensor([1., 4., 2., 1., 4., 4., 4., 4., 2., 4.])\n"
     ]
    },
    {
     "data": {
      "text/plain": [
       "torch.Size([10])"
      ]
     },
     "execution_count": 5,
     "metadata": {},
     "output_type": "execute_result"
    }
   ],
   "source": [
    "temp2 = torch.randint(1,5,(10,))\n",
    "print(temp2)\n",
    "temp2.size()"
   ]
  },
  {
   "cell_type": "markdown",
   "metadata": {},
   "source": [
    "#### Matrix (2-D Tensoren)"
   ]
  },
  {
   "cell_type": "code",
   "execution_count": 6,
   "metadata": {},
   "outputs": [
    {
     "data": {
      "text/plain": [
       "tensor([[ 0.1604, -0.6065, -0.7831],\n",
       "        [ 1.0622, -0.2613,  1.0667],\n",
       "        [ 0.4159,  0.8396, -0.8265],\n",
       "        [-0.7949, -0.9528,  0.3717],\n",
       "        [ 0.4087,  1.4214,  0.1494]])"
      ]
     },
     "execution_count": 6,
     "metadata": {},
     "output_type": "execute_result"
    }
   ],
   "source": [
    "#Tensor erzeugen\n",
    "x = torch.randn(5,3)\n",
    "x"
   ]
  },
  {
   "cell_type": "markdown",
   "metadata": {},
   "source": [
    "#### 3D Tensors\n",
    "\n",
    "Bilderdateien: `height * width * channel`:"
   ]
  },
  {
   "cell_type": "code",
   "execution_count": 7,
   "metadata": {},
   "outputs": [],
   "source": [
    "from PIL import Image\n",
    "import numpy as np\n",
    "import matplotlib.pyplot as plt"
   ]
  },
  {
   "cell_type": "code",
   "execution_count": 8,
   "metadata": {},
   "outputs": [
    {
     "data": {
      "text/plain": [
       "torch.Size([224, 224, 3])"
      ]
     },
     "execution_count": 8,
     "metadata": {},
     "output_type": "execute_result"
    }
   ],
   "source": [
    "# Read a panda image from disk using a library called PIL and convert it to numpy array\n",
    "panda = np.array(Image.open(\"panda_packt.png\").resize((224,224)))\n",
    "panda_tensor = torch.from_numpy(panda)\n",
    "panda_tensor.size()"
   ]
  },
  {
   "cell_type": "code",
   "execution_count": 9,
   "metadata": {},
   "outputs": [
    {
     "data": {
      "text/plain": [
       "<matplotlib.image.AxesImage at 0x1c167d32c18>"
      ]
     },
     "execution_count": 9,
     "metadata": {},
     "output_type": "execute_result"
    },
    {
     "data": {
      "image/png": "[encoded data removed]",
      "text/plain": [
       "<Figure size 432x288 with 1 Axes>"
      ]
     },
     "metadata": {
      "needs_background": "light"
     },
     "output_type": "display_data"
    }
   ],
   "source": [
    "plt.imshow(panda)"
   ]
  },
  {
   "cell_type": "markdown",
   "metadata": {},
   "source": [
    "#### Operationen auf Tensoren"
   ]
  },
  {
   "cell_type": "code",
   "execution_count": 10,
   "metadata": {},
   "outputs": [],
   "source": [
    "a = torch.randint(1,10,(2,3))\n",
    "b = torch.randint(1,10,(2,3))"
   ]
  },
  {
   "cell_type": "code",
   "execution_count": 11,
   "metadata": {},
   "outputs": [
    {
     "name": "stdout",
     "output_type": "stream",
     "text": [
      "tensor([[8., 8., 2.],\n",
      "        [6., 5., 8.]])\n",
      "\n",
      "tensor([[6., 8., 5.],\n",
      "        [3., 6., 5.]])\n"
     ]
    }
   ],
   "source": [
    "print(a)\n",
    "print()\n",
    "print(b)"
   ]
  },
  {
   "cell_type": "code",
   "execution_count": 12,
   "metadata": {},
   "outputs": [
    {
     "name": "stdout",
     "output_type": "stream",
     "text": [
      "Elementwise-Operationen:\n",
      "Addition: \n",
      " tensor([[14., 16.,  7.],\n",
      "        [ 9., 11., 13.]]) \n",
      "oder: tensor([[14., 16.,  7.],\n",
      "        [ 9., 11., 13.]])\n",
      "************************************************************\n",
      "Subtraktion:\n",
      " tensor([[ 2.,  0., -3.],\n",
      "        [ 3., -1.,  3.]]) \n",
      "oder: tensor([[ 2.,  0., -3.],\n",
      "        [ 3., -1.,  3.]])\n",
      "************************************************************\n",
      "Multiplikation:\n",
      " tensor([[48., 64., 10.],\n",
      "        [18., 30., 40.]]) \n",
      "oder: tensor([[48., 64., 10.],\n",
      "        [18., 30., 40.]])\n",
      "************************************************************\n",
      "Division:\n",
      " tensor([[1.3333, 1.0000, 0.4000],\n",
      "        [2.0000, 0.8333, 1.6000]]) \n",
      "oder: tensor([[1.3333, 1.0000, 0.4000],\n",
      "        [2.0000, 0.8333, 1.6000]])\n"
     ]
    }
   ],
   "source": [
    "#Elementwise Operationen\n",
    "print(\"Elementwise-Operationen:\")\n",
    "print(\"Addition: \\n\", torch.add(a,b), \"\\noder:\", a+b)\n",
    "print(\"*\"*60)\n",
    "print(\"Subtraktion:\\n\", torch.sub(a,b), \"\\noder:\", a-b)\n",
    "print(\"*\"*60)\n",
    "print(\"Multiplikation:\\n\", torch.mul(a,b), \"\\noder:\", a*b)\n",
    "print(\"*\"*60)\n",
    "print(\"Division:\\n\", torch.div(a,b), \"\\noder:\", a/b)"
   ]
  },
  {
   "cell_type": "markdown",
   "metadata": {},
   "source": [
    "Für eine Matrizenmultiplikation muss der Tensor resized werden.\n",
    "Dafür sind in PyTorch die Funktionen:\n",
    "- [`reshape()`](https://pytorch.org/docs/stable/tensors.html#torch.Tensor.reshape), \n",
    "- [`resize_()`](https://pytorch.org/docs/stable/tensors.html#torch.Tensor.resize_) und \n",
    "- [`view()`](https://pytorch.org/docs/stable/tensors.html#torch.Tensor.view)\n"
   ]
  },
  {
   "cell_type": "code",
   "execution_count": 13,
   "metadata": {},
   "outputs": [
    {
     "name": "stdout",
     "output_type": "stream",
     "text": [
      "torch.Size([2, 3])\n",
      "torch.Size([2, 3])\n",
      "torch.Size([3, 2])\n"
     ]
    },
    {
     "data": {
      "text/plain": [
       "tensor([[100.,  98.],\n",
       "        [109., 103.]])"
      ]
     },
     "execution_count": 13,
     "metadata": {},
     "output_type": "execute_result"
    }
   ],
   "source": [
    "print(a.shape)\n",
    "print(b.shape)\n",
    "\n",
    "#Reshaping mit reshape\n",
    "resh_b = b.reshape(3,2)\n",
    "print(resh_b.shape)\n",
    "torch.mm(a,resh_b)"
   ]
  },
  {
   "cell_type": "code",
   "execution_count": 14,
   "metadata": {},
   "outputs": [
    {
     "name": "stdout",
     "output_type": "stream",
     "text": [
      "torch.Size([3, 2])\n"
     ]
    },
    {
     "data": {
      "text/plain": [
       "tensor([[100.,  98.],\n",
       "        [109., 103.]])"
      ]
     },
     "execution_count": 14,
     "metadata": {},
     "output_type": "execute_result"
    }
   ],
   "source": [
    "#Reshaping mit resize\n",
    "res_b = b.resize(3,2)\n",
    "print(res_b.shape)\n",
    "torch.mm(a,res_b)"
   ]
  },
  {
   "cell_type": "code",
   "execution_count": 15,
   "metadata": {},
   "outputs": [
    {
     "data": {
      "text/plain": [
       "tensor([[100.,  98.],\n",
       "        [109., 103.]])"
      ]
     },
     "execution_count": 15,
     "metadata": {},
     "output_type": "execute_result"
    }
   ],
   "source": [
    "#Reshaping mit view\n",
    "b_view = b.view(3,2)\n",
    "torch.mm(a,b_view)"
   ]
  },
  {
   "cell_type": "markdown",
   "metadata": {},
   "source": [
    "### 2.2 NumPy Bridge"
   ]
  },
  {
   "cell_type": "code",
   "execution_count": 16,
   "metadata": {},
   "outputs": [],
   "source": [
    "import numpy as np\n",
    "import torch\n",
    "np.random.seed(0)"
   ]
  },
  {
   "cell_type": "code",
   "execution_count": 17,
   "metadata": {},
   "outputs": [
    {
     "name": "stdout",
     "output_type": "stream",
     "text": [
      "<class 'numpy.ndarray'> float64\n",
      "<class 'torch.Tensor'> torch.float32\n"
     ]
    }
   ],
   "source": [
    "x = np.zeros((2,3))\n",
    "y = torch.zeros(2,3)\n",
    "\n",
    "print(type(x), x.dtype)\n",
    "print(type(y), y.dtype)"
   ]
  },
  {
   "cell_type": "code",
   "execution_count": 18,
   "metadata": {},
   "outputs": [
    {
     "name": "stdout",
     "output_type": "stream",
     "text": [
      "<class 'torch.Tensor'> torch.float64\n",
      "tensor([[0., 0., 0.],\n",
      "        [0., 0., 0.]], dtype=torch.float64)\n"
     ]
    }
   ],
   "source": [
    "#Automatisches Casting numpy zu torch\n",
    "z = x + y\n",
    "print(type(z), z.dtype)\n",
    "print(z)"
   ]
  },
  {
   "cell_type": "code",
   "execution_count": 19,
   "metadata": {},
   "outputs": [
    {
     "name": "stdout",
     "output_type": "stream",
     "text": [
      "Vor Umwandlung: \n",
      " tensor([[0., 0., 0.],\n",
      "        [0., 0., 0.]], dtype=torch.float64)\n",
      "Nach Umwandlung:\n",
      " tensor([[1., 1., 1.],\n",
      "        [1., 1., 1.]], dtype=torch.float64)\n"
     ]
    }
   ],
   "source": [
    "print(\"Vor Umwandlung: \\n\", z)\n",
    "#Umwandlung zu numpy\n",
    "#Die zwei Objekte teilen den Speicherraum!\n",
    "\n",
    "#Umwandlung nach numpy\n",
    "xx = z.numpy()\n",
    "#Veräderung des Wertes von z (!)\n",
    "xx += 1.0\n",
    "\n",
    "print(\"Nach Umwandlung:\\n\", z)"
   ]
  },
  {
   "cell_type": "code",
   "execution_count": 20,
   "metadata": {},
   "outputs": [
    {
     "name": "stdout",
     "output_type": "stream",
     "text": [
      "[[6 1 4]\n",
      " [4 8 4]]\n"
     ]
    },
    {
     "data": {
      "text/plain": [
       "array([3.66666667, 5.33333333])"
      ]
     },
     "execution_count": 20,
     "metadata": {},
     "output_type": "execute_result"
    }
   ],
   "source": [
    "#axis vs dim\n",
    "x = np.random.randint(1, 10,(2,3))\n",
    "print(x)\n",
    "x.mean(axis=1)"
   ]
  },
  {
   "cell_type": "code",
   "execution_count": 21,
   "metadata": {},
   "outputs": [
    {
     "name": "stdout",
     "output_type": "stream",
     "text": [
      "tensor([[9., 6., 6.],\n",
      "        [5., 3., 3.]])\n"
     ]
    },
    {
     "data": {
      "text/plain": [
       "tensor([7.0000, 3.6667])"
      ]
     },
     "execution_count": 21,
     "metadata": {},
     "output_type": "execute_result"
    }
   ],
   "source": [
    "y = torch.randint(1,10,(2,3))\n",
    "print(y)\n",
    "y.mean(dim=1)"
   ]
  },
  {
   "cell_type": "markdown",
   "metadata": {},
   "source": [
    "## 2.4 Variables\n",
    "\n",
    "Bis zur Version 0.4. galten Variablen in PyTorch als Wrapper um Tensoren in einem Graphen:\n",
    "<div>\n",
    "<img src=\"linear_transformation_graph.png\" align=\"left\" width=200>\n",
    "<strong>Quelle: \"Deep Learning with PyTorch\", Packt Publishing</strong> \n",
    "</div>\n",
    "\n",
    "Kreise im Graphen sind `Variablen`. Sie enthalten eine Referenz zum Tensor, zu seinem Gradienten und zur Funktion, die zu ihrer Erstellung beigetragen hat. Für `a` wäre die Funktion eine Multiplikation. Für `y` eine Addition.\n",
    "\n",
    "Ab der Version 0.4. ist der Wrapper um einen Tensor nicht mehr notwendig.\n",
    "\n",
    "Für die Berechnung des Graadienten verwendet PyTorch das Autograd-System."
   ]
  },
  {
   "cell_type": "markdown",
   "metadata": {},
   "source": [
    "### 2.5 Autograd: Gradienten in PyTorch"
   ]
  },
  {
   "cell_type": "markdown",
   "metadata": {},
   "source": [
    "Das Package `torch.autograd` bietet die Möglichkeit zur automatischen Berechnung der Ableitung bezüglich einer Variablen, die zu einem Computation Graphen gehört.\n",
    "\n",
    "Um die Funktionalität zu nutzen, muss das Flag `requires_grad` bei Tensordeklaration auf `True` gesetzt werden.\n",
    "\n",
    "Beispiel aus der Übung:\n",
    "\n",
    "<img src=\"graphik.svg\" >"
   ]
  },
  {
   "cell_type": "code",
   "execution_count": 22,
   "metadata": {},
   "outputs": [],
   "source": [
    "# External Modules\n",
    "import numpy as np\n",
    "import torch\n",
    "from torch.autograd import Variable"
   ]
  },
  {
   "cell_type": "markdown",
   "metadata": {},
   "source": [
    "Im Graphen sind 3 Variablen:\n",
    "- a (2)\n",
    "- b (e)\n",
    "- c (3)\n",
    "\n",
    "Setzt man das Flag von diesen Variablen auf True, dann werden all die Operationen, die diese Variablen betreffen, vom Framework automatisch registriert. \n",
    "\n",
    "Am Ende eines Forward-Schrittes ist es möglich, die Funktion `backward()` aus `torch.autograd` aufzurufen, die den Backward-Pass brechnet. \n",
    "\n",
    "Jeder Tensor bzw. jede Variable in einem Graphen verfügt über Attributen bezüglich Gradienten, erzeugender Funktion: \n",
    "- `grad` liefert Wert des Gradiente\n",
    "- `grad_fn` zeigt die auf der Variablen angewandte Operationsart (Logarithmus, Summe, Multiplikation, usw.)"
   ]
  },
  {
   "cell_type": "code",
   "execution_count": 29,
   "metadata": {},
   "outputs": [
    {
     "name": "stdout",
     "output_type": "stream",
     "text": [
      "tensor(2., requires_grad=True) tensor(2.7183, requires_grad=True) tensor(3., requires_grad=True)\n",
      "Variable a:  tensor(2., requires_grad=True)\n"
     ]
    }
   ],
   "source": [
    "#Tensor deklariation\n",
    "a = torch.tensor(2., requires_grad=True)\n",
    "\n",
    "#Vor Version 0.4:\n",
    "a_var = Variable(torch.tensor(2., requires_grad=True))\n",
    "\n",
    "b = torch.tensor(np.e, requires_grad=True)\n",
    "c = torch.tensor(3., requires_grad=True)\n",
    "dummy = torch.tensor(1)\n",
    "print(a, b, c)\n",
    "print(\"Variable a: \", a)"
   ]
  },
  {
   "cell_type": "code",
   "execution_count": 30,
   "metadata": {},
   "outputs": [
    {
     "name": "stdout",
     "output_type": "stream",
     "text": [
      "None None None None\n",
      "True True True False\n"
     ]
    }
   ],
   "source": [
    "print(a.grad, b.grad, c.grad, dummy.grad)\n",
    "print(a.requires_grad, b.requires_grad, c.requires_grad, dummy.requires_grad)"
   ]
  },
  {
   "cell_type": "code",
   "execution_count": 31,
   "metadata": {},
   "outputs": [],
   "source": [
    "def applyExerciseFunction(a,b,c):\n",
    "    ln = torch.log(b)\n",
    "    print(ln.grad_fn)\n",
    "    x = a + ln \n",
    "    print(x.grad_fn)\n",
    "    x = c * x\n",
    "    print(x.grad_fn)\n",
    "    x = (1./3.)*x\n",
    "    print(x.grad_fn)\n",
    "    out = 1./x\n",
    "    print(out.grad_fn)\n",
    "    return out"
   ]
  },
  {
   "cell_type": "code",
   "execution_count": 32,
   "metadata": {},
   "outputs": [
    {
     "name": "stdout",
     "output_type": "stream",
     "text": [
      "<LogBackward object at 0x000001C167DBD0F0>\n",
      "<ThAddBackward object at 0x000001C167DBD3C8>\n",
      "<ThMulBackward object at 0x000001C167DBD3C8>\n",
      "<MulBackward object at 0x000001C167DBD048>\n",
      "<MulBackward object at 0x000001C167DBD048>\n",
      "Ergebnis aus Fowardpass:  tensor(0.3333, grad_fn=<MulBackward>)\n"
     ]
    }
   ],
   "source": [
    "out =  applyExerciseFunction(a,b,c) #1/3\n",
    "print(\"Ergebnis aus Fowardpass: \", out) #1./3."
   ]
  },
  {
   "cell_type": "code",
   "execution_count": 33,
   "metadata": {},
   "outputs": [],
   "source": [
    "out.backward(retain_graph=True)#retain_graph bei großen Berechnungen nicht verwenden"
   ]
  },
  {
   "cell_type": "code",
   "execution_count": 34,
   "metadata": {
    "scrolled": true
   },
   "outputs": [
    {
     "name": "stdout",
     "output_type": "stream",
     "text": [
      "dout/da:  tensor(-0.1111)\n",
      "dout/db:  tensor(-0.0409)\n",
      "dout/dc:  tensor(-0.1111)\n"
     ]
    }
   ],
   "source": [
    "print(\"dout/da: \", a.grad)\n",
    "print(\"dout/db: \", b.grad)\n",
    "print(\"dout/dc: \", c.grad)"
   ]
  },
  {
   "cell_type": "code",
   "execution_count": 35,
   "metadata": {},
   "outputs": [
    {
     "name": "stdout",
     "output_type": "stream",
     "text": [
      "None\n",
      "Exception: element 0 of tensors does not require grad and does not have a grad_fn\n",
      "None\n"
     ]
    }
   ],
   "source": [
    "z = dummy + 2\n",
    "print(z.grad_fn)\n",
    "try:\n",
    "    z.backward()\n",
    "except RuntimeError as e:\n",
    "    print(\"Exception:\", e)\n",
    "print(dummy.grad)"
   ]
  },
  {
   "cell_type": "markdown",
   "metadata": {},
   "source": [
    "### 2.5 CUDA und PyTorch\n",
    "\n",
    "PyTorch unterstützt [CUDA](https://pytorch.org/docs/stable/notes/cuda.html), also GPU-Berechnungen. Tensors können mit `.cuda()` und `.cpu()` hin und her gepspeichert werden."
   ]
  },
  {
   "cell_type": "code",
   "execution_count": 36,
   "metadata": {},
   "outputs": [],
   "source": [
    "x = torch.randn((60,7))\n",
    "y = torch.randn((60,7))\n",
    "\n",
    "cuda = torch.device('cuda')     # Default CUDA device\n",
    "\n",
    "if torch.cuda.is_available():\n",
    "    # transfers a tensor from CPU to GPU 1\n",
    "    x = x.cuda()\n",
    "    y = y.to(device=cuda)\n",
    "    z = torch.randint(10, (60,7), device=cuda)\n",
    "result = x+y+z"
   ]
  },
  {
   "cell_type": "code",
   "execution_count": 37,
   "metadata": {},
   "outputs": [
    {
     "name": "stdout",
     "output_type": "stream",
     "text": [
      "cuda:0 cuda:0 cuda:0\n"
     ]
    }
   ],
   "source": [
    "print(x.device, y.device, z.device)"
   ]
  },
  {
   "cell_type": "code",
   "execution_count": 38,
   "metadata": {},
   "outputs": [
    {
     "name": "stdout",
     "output_type": "stream",
     "text": [
      "cpu\n",
      "cpu\n"
     ]
    }
   ],
   "source": [
    "x_cpu = x.cpu()\n",
    "y_cpu = y.cpu()\n",
    "\n",
    "print(x_cpu.device)\n",
    "print(y_cpu.device)"
   ]
  },
  {
   "cell_type": "markdown",
   "metadata": {},
   "source": [
    "## 3. Neuronale Netze in PyTorch: `torch.nn` und `torchvision`"
   ]
  },
  {
   "cell_type": "markdown",
   "metadata": {},
   "source": [
    "### Das Package `torch.nn`\n",
    "\n",
    "Neuronale Netze können in PyTorch einfach mit dem Objekten und Funktionen aus dem Modul [`torch.nn`](https://pytorch.org/docs/stable/nn.html#) erzeugt werden.\n",
    "\n",
    "Das Package bietet Klassen für \n",
    "* die allgemeine Definition eines Modells (sog. [Container](https://pytorch.org/docs/stable/nn.html#containers)), sowie dessen \n",
    "* Layers, \n",
    "* Aktivierungsfunktionen, \n",
    "* Kostenfuntkionen ([Loss functions](https://pytorch.org/docs/stable/nn.html#loss-functions))\n",
    "\n",
    "Optimizer sind im Package [`torch.optim`](https://pytorch.org/docs/stable/optim.html#module-torch.optim) zu finden.\n",
    "Funktionen sind auch im Package `torch.nn.functional` verfügbar.\n",
    "\n",
    "\n",
    "### Das Package `torchvision`\n",
    "\n",
    "Viele Datensätze sind mit dem Package [`torchvision.datasets`](https://pytorch.org/docs/stable/torchvision/datasets.html#torchvision-datasets) verfügbar.\n",
    "Vortrainierte Modelle sind in [`torchvision.models`](https://pytorch.org/docs/stable/torchvision/models.html#torchvision-models) enthalten.\n",
    "\n",
    "Außerdem bietet `torchvision` das Package `torchvision.transforms` mit Funktionen zur Verarbeitung von Bildern.\n",
    "\n",
    "Transformationen sind übliche Bildverarbeitungsmöglichkeiten, die mittels `Compose` verkettet werden können, wie z.B. Padding mit `Pad`, Rotation, Zuschneiden, redimensionieren, Skalierung, sowie Umwandlungen von und nach Tensoren:\n",
    "- `ToTensor()` wandelt ein Bild in ein Tensor und reduziert automatisch den Range von $[0,255]$ zu $[0,1]$\n",
    "- `Normalize()` verändert ien Bild mit einem festen Durchschnitt (mean) und fester Standardabweichung. Die Normalisierung erfolgt folgendermaßen:\n",
    "$ input[channel] = (input[channel] - mean[channel]) / std[channel] $ (siehe [\"Transforms on torch.*Tensor\"](https://pytorch.org/docs/stable/torchvision/transforms.html#transforms-on-torch-tensor).\n"
   ]
  },
  {
   "cell_type": "markdown",
   "metadata": {},
   "source": [
    "## 3.1 Modell definieren\n",
    "\n",
    "Notwendige Schritte:\n",
    "\n",
    "1. Input-Daten\n",
    "2. Netzwerk-Architektur:\n",
    "    - Layers\n",
    "    - Funktionen\n",
    "3. Loss-Funktion\n",
    "4. Netzwerk-Optimizer\n",
    "\n",
    "<img src=\"architecture.png\" align=\"left\">\n",
    "<strong>Quelle: \"Deep Learning with PyTorch\", Packt Publishing </strong>\n",
    "\n",
    "Anmerkung: Ab der Version 0.4 kann Variable ein Tensor sein!"
   ]
  },
  {
   "cell_type": "markdown",
   "metadata": {},
   "source": [
    "### Input-Daten: MNIST-Dataset"
   ]
  },
  {
   "cell_type": "code",
   "execution_count": 39,
   "metadata": {},
   "outputs": [],
   "source": [
    "import torch\n",
    "import torchvision\n",
    "import torchvision.transforms as transforms\n",
    "import torchvision.datasets as datasets\n",
    "\n",
    "\n",
    "%matplotlib inline\n",
    "%config InlineBackend.figure_format = 'retina'\n",
    "\n",
    "import matplotlib.pyplot as plt\n",
    "import numpy as np"
   ]
  },
  {
   "cell_type": "code",
   "execution_count": 40,
   "metadata": {},
   "outputs": [],
   "source": [
    "batch_size = 100"
   ]
  },
  {
   "cell_type": "code",
   "execution_count": 41,
   "metadata": {},
   "outputs": [
    {
     "data": {
      "text/plain": [
       "Compose(\n",
       "    ToTensor()\n",
       "    Normalize(mean=(0.1307,), std=(0.3081,))\n",
       ")"
      ]
     },
     "execution_count": 41,
     "metadata": {},
     "output_type": "execute_result"
    }
   ],
   "source": [
    "# Define a transform to normalize the data\n",
    "transformation = transforms.Compose([transforms.ToTensor(),\n",
    "                                     transforms.Normalize((0.1307,), (0.3081,))])\n",
    "\n",
    "\n",
    "transformation"
   ]
  },
  {
   "cell_type": "code",
   "execution_count": 42,
   "metadata": {},
   "outputs": [],
   "source": [
    "train_dataset = datasets.MNIST('data/',train=True,transform=transformation,download=True)\n",
    "test_dataset = datasets.MNIST('data/',train=False,transform=transformation,download=True)\n",
    "\n",
    "train_loader = torch.utils.data.DataLoader(train_dataset,batch_size=batch_size,shuffle=True)\n",
    "test_loader = torch.utils.data.DataLoader(test_dataset,batch_size=batch_size,shuffle=True)"
   ]
  },
  {
   "cell_type": "code",
   "execution_count": 43,
   "metadata": {},
   "outputs": [
    {
     "data": {
      "text/plain": [
       "Dataset MNIST\n",
       "    Number of datapoints: 60000\n",
       "    Split: train\n",
       "    Root Location: data/\n",
       "    Transforms (if any): Compose(\n",
       "                             ToTensor()\n",
       "                             Normalize(mean=(0.1307,), std=(0.3081,))\n",
       "                         )\n",
       "    Target Transforms (if any): None"
      ]
     },
     "execution_count": 43,
     "metadata": {},
     "output_type": "execute_result"
    }
   ],
   "source": [
    "train_dataset"
   ]
  },
  {
   "cell_type": "code",
   "execution_count": 91,
   "metadata": {},
   "outputs": [],
   "source": [
    "#Packt publishing\n",
    "def plot_img(image):\n",
    "    image = image.numpy()[0]\n",
    "    mean = 0.1307\n",
    "    std = 0.3081\n",
    "    image = ((mean * image) + std)\n",
    "    plt.imshow(image,cmap='binary', interpolation='bicubic')"
   ]
  },
  {
   "cell_type": "code",
   "execution_count": 45,
   "metadata": {},
   "outputs": [
    {
     "name": "stdout",
     "output_type": "stream",
     "text": [
      "torch.Size([100, 1, 28, 28])\n"
     ]
    },
    {
     "data": {
      "image/png": "[encoded data removed]",
      "text/plain": [
       "<Figure size 432x288 with 1 Axes>"
      ]
     },
     "metadata": {
      "image/png": {
       "height": 250,
       "width": 253
      },
      "needs_background": "light"
     },
     "output_type": "display_data"
    }
   ],
   "source": [
    "sample_data = next(iter(train_loader))\n",
    "plot_img(sample_data[0][2])\n",
    "print(sample_data[0].shape)"
   ]
  },
  {
   "cell_type": "markdown",
   "metadata": {},
   "source": [
    "### Netzwerk-Architektur: Layers in PyTorch\n",
    "\n",
    "Lineare Transformation:\n",
    "$y = Wx + b$\n",
    "\n",
    "Ein Layer für eine Lineare Transformation kann man direkt vom Package `torch.nn` mit der Klasse `Linear` erzeugen.\n",
    "\n",
    "Alle Objekte vom PyTorch Framework können an den Input-Variablen direkt angewendet werden, als wären sie Funktionen!\n",
    "\n",
    "Beispiel:\n",
    "- Lineares Layer mit:\n",
    "    * Input-Features der Dimension 10\n",
    "    * Output der Dimension 5 (Labels)\n",
    "    \n",
    "Wenn keine manuelle Änderungen stattfinden, erzeugt PyTorch Gewichte und Bias-Werte automatisch und in der entsprechenden Dimension.\n",
    "Hier:\n",
    "- W Matrix mit Dimension (10x5)\n",
    "- b Vektor mit Dimension (5x1)"
   ]
  },
  {
   "cell_type": "code",
   "execution_count": 46,
   "metadata": {},
   "outputs": [],
   "source": [
    "from torch.nn import Linear"
   ]
  },
  {
   "cell_type": "code",
   "execution_count": 47,
   "metadata": {},
   "outputs": [],
   "source": [
    "myLayer = Linear(in_features=10,out_features=5,bias=True)"
   ]
  },
  {
   "cell_type": "code",
   "execution_count": 48,
   "metadata": {},
   "outputs": [
    {
     "name": "stdout",
     "output_type": "stream",
     "text": [
      "Input-Werte:\n",
      " tensor([[1., 4., 2., 4., 4., 1., 4., 4., 2., 4.]])\n",
      "torch.Size([1, 10])\n"
     ]
    }
   ],
   "source": [
    "inp = Variable(torch.randint(1,5,(1,10))) #Oder direkt der Tensor ab 0.4\n",
    "print(\"Input-Werte:\\n\", inp)\n",
    "print(inp.size())"
   ]
  },
  {
   "cell_type": "code",
   "execution_count": 49,
   "metadata": {},
   "outputs": [
    {
     "name": "stdout",
     "output_type": "stream",
     "text": [
      "Gewichte: Parameter containing:\n",
      "tensor([[ 0.0481, -0.0568, -0.1302, -0.1255,  0.0132, -0.2533,  0.1113, -0.0897,\n",
      "          0.1987, -0.0909],\n",
      "        [-0.2683, -0.2091,  0.3072,  0.2642,  0.0669, -0.2386,  0.2216,  0.0632,\n",
      "         -0.0709, -0.0975],\n",
      "        [ 0.2822,  0.1696, -0.2198, -0.1686,  0.0180, -0.2905,  0.1538,  0.1391,\n",
      "          0.2931,  0.1011],\n",
      "        [-0.2092, -0.1195, -0.1067,  0.2961, -0.1023,  0.1521, -0.2199, -0.2651,\n",
      "          0.0599,  0.2856],\n",
      "        [ 0.2786,  0.1516,  0.1956,  0.0904,  0.2845,  0.0578, -0.2925, -0.2203,\n",
      "          0.2717,  0.1467]], requires_grad=True)\n",
      "torch.Size([5, 10])\n",
      "Bias: Parameter containing:\n",
      "tensor([ 0.2478, -0.3028,  0.1329,  0.2396, -0.2067], requires_grad=True)\n",
      "torch.Size([5])\n"
     ]
    }
   ],
   "source": [
    "#Weights werden vom Framework automatisch erzeugt\n",
    "print(\"Gewichte:\", myLayer.weight) # W\n",
    "print(myLayer.weight.size()) #(5,10)\n",
    "print(\"Bias:\", myLayer.bias) #b\n",
    "print(myLayer.bias.size()) #(5,1)"
   ]
  },
  {
   "cell_type": "code",
   "execution_count": 50,
   "metadata": {},
   "outputs": [
    {
     "data": {
      "text/plain": [
       "tensor([[-0.7737,  0.9006,  1.9236, -0.4120,  1.7061]], grad_fn=<ThAddmmBackward>)"
      ]
     },
     "execution_count": 50,
     "metadata": {},
     "output_type": "execute_result"
    }
   ],
   "source": [
    "myLayer(inp) #Lineare Transformation: berechnet Wx+b"
   ]
  },
  {
   "cell_type": "markdown",
   "metadata": {},
   "source": [
    "### Layers verschachteln"
   ]
  },
  {
   "cell_type": "code",
   "execution_count": 51,
   "metadata": {},
   "outputs": [
    {
     "data": {
      "text/plain": [
       "tensor([[-0.9527,  0.1775]], grad_fn=<ThAddmmBackward>)"
      ]
     },
     "execution_count": 51,
     "metadata": {},
     "output_type": "execute_result"
    }
   ],
   "source": [
    "myLayer1 = Linear(10,5) #out aus myLayer1\n",
    "myLayer2 = Linear(5,2) #ist in für myLayer2\n",
    "myLayer2(myLayer1(inp))"
   ]
  },
  {
   "cell_type": "markdown",
   "metadata": {},
   "source": [
    "### Nicht-lineare Aktivierungsfunktionen"
   ]
  },
  {
   "cell_type": "code",
   "execution_count": 52,
   "metadata": {},
   "outputs": [],
   "source": [
    "import torch"
   ]
  },
  {
   "cell_type": "code",
   "execution_count": 53,
   "metadata": {},
   "outputs": [
    {
     "data": {
      "text/plain": [
       "tensor([[1., 2., 0., 0.]])"
      ]
     },
     "execution_count": 53,
     "metadata": {},
     "output_type": "execute_result"
    }
   ],
   "source": [
    "sample_data = Variable(torch.Tensor([[1,2,-1,-1]]))\n",
    "myRelu = torch.nn.ReLU()\n",
    "myRelu(sample_data)"
   ]
  },
  {
   "cell_type": "code",
   "execution_count": 54,
   "metadata": {},
   "outputs": [
    {
     "data": {
      "text/plain": [
       "tensor([[0.7311, 0.8808, 0.2689, 0.2689]])"
      ]
     },
     "execution_count": 54,
     "metadata": {},
     "output_type": "execute_result"
    }
   ],
   "source": [
    "sample_data = Variable(torch.Tensor([[1,2,-1,-1]]))\n",
    "mySigmoid = torch.nn.Sigmoid()\n",
    "mySigmoid(sample_data)"
   ]
  },
  {
   "cell_type": "markdown",
   "metadata": {},
   "source": [
    "### Variante mit `nn.Module`"
   ]
  },
  {
   "cell_type": "code",
   "execution_count": 55,
   "metadata": {},
   "outputs": [],
   "source": [
    "from torch import nn"
   ]
  },
  {
   "cell_type": "code",
   "execution_count": 56,
   "metadata": {},
   "outputs": [],
   "source": [
    "class SimpleClassfier(nn.Module):\n",
    "    def __init__(self):\n",
    "        super(SimpleClassfier, self).__init__()\n",
    "        # Inputs to hidden layer linear transformation        \n",
    "        self.hidden = nn.Linear(784, 256)#input and output size\n",
    "        # Output layer, 10 units - one for each digit\n",
    "        self.output = nn.Linear(256, 10)\n",
    "        \n",
    "        # Define sigmoid activation and softmax output \n",
    "        self.sigmoid = nn.Sigmoid() \n",
    "        self.softmax = nn.Softmax(dim=1)\n",
    "        \n",
    "    def forward(self, x):\n",
    "        # Pass the input tensor through each of our operations\n",
    "        x = self.hidden(x)\n",
    "        x = self.sigmoid(x)\n",
    "        x = self.output(x)\n",
    "        x = self.softmax(x)      \n",
    "        return x"
   ]
  },
  {
   "cell_type": "code",
   "execution_count": 57,
   "metadata": {},
   "outputs": [
    {
     "data": {
      "text/plain": [
       "SimpleClassfier(\n",
       "  (hidden): Linear(in_features=784, out_features=256, bias=True)\n",
       "  (output): Linear(in_features=256, out_features=10, bias=True)\n",
       "  (sigmoid): Sigmoid()\n",
       "  (softmax): Softmax()\n",
       ")"
      ]
     },
     "execution_count": 57,
     "metadata": {},
     "output_type": "execute_result"
    }
   ],
   "source": [
    "model = SimpleClassfier()\n",
    "model"
   ]
  },
  {
   "cell_type": "markdown",
   "metadata": {},
   "source": [
    "### Variante mit `nn.functional`"
   ]
  },
  {
   "cell_type": "code",
   "execution_count": 58,
   "metadata": {},
   "outputs": [],
   "source": [
    "import torch.nn.functional as F"
   ]
  },
  {
   "cell_type": "code",
   "execution_count": 59,
   "metadata": {},
   "outputs": [],
   "source": [
    "# Mit Sigmoid and Softmax\n",
    "class SimpleClassfierF(nn.Module):\n",
    "    def __init__(self):\n",
    "        super().__init__()\n",
    "        # Inputs to hidden layer linear transformation\n",
    "        self.hidden = nn.Linear(784, 256)\n",
    "        # Output layer, 10 units - one for each digit\n",
    "        self.output = nn.Linear(256, 10)\n",
    "        \n",
    "    def forward(self, x):\n",
    "        # Hidden layer with sigmoid activation\n",
    "        x = F.sigmoid(self.hidden(x))\n",
    "        # Output layer with softmax activation\n",
    "        x = F.softmax(self.output(x), dim=1)\n",
    "        \n",
    "        return x"
   ]
  },
  {
   "cell_type": "code",
   "execution_count": 60,
   "metadata": {},
   "outputs": [
    {
     "data": {
      "text/plain": [
       "SimpleClassfierF(\n",
       "  (hidden): Linear(in_features=784, out_features=256, bias=True)\n",
       "  (output): Linear(in_features=256, out_features=10, bias=True)\n",
       ")"
      ]
     },
     "execution_count": 60,
     "metadata": {},
     "output_type": "execute_result"
    }
   ],
   "source": [
    "modelF = SimpleClassfierF()\n",
    "modelF"
   ]
  },
  {
   "cell_type": "markdown",
   "metadata": {},
   "source": [
    "### Variante mit `nn.Sequential`"
   ]
  },
  {
   "cell_type": "code",
   "execution_count": 61,
   "metadata": {},
   "outputs": [
    {
     "name": "stdout",
     "output_type": "stream",
     "text": [
      "Sequential(\n",
      "  (0): Linear(in_features=784, out_features=128, bias=True)\n",
      "  (1): ReLU()\n",
      "  (2): Linear(in_features=128, out_features=64, bias=True)\n",
      "  (3): ReLU()\n",
      "  (4): Linear(in_features=64, out_features=10, bias=True)\n",
      "  (5): Softmax()\n",
      ")\n",
      "Linear(in_features=784, out_features=128, bias=True)\n"
     ]
    }
   ],
   "source": [
    "# Hyperparameters for our network\n",
    "input_size = 784\n",
    "hidden_sizes = [128, 64]\n",
    "output_size = 10\n",
    "\n",
    "# Build a feed-forward network\n",
    "model = nn.Sequential(nn.Linear(input_size, hidden_sizes[0]),\n",
    "                      nn.ReLU(),\n",
    "                      nn.Linear(hidden_sizes[0], hidden_sizes[1]),\n",
    "                      nn.ReLU(),\n",
    "                      nn.Linear(hidden_sizes[1], output_size),\n",
    "                      nn.Softmax(dim=1))\n",
    "print(model)\n",
    "print(model[0]) #Zugriff auf first layer"
   ]
  },
  {
   "cell_type": "markdown",
   "metadata": {},
   "source": [
    "### Variante mit `nn.Sequential` und Pipeline als `OrderedDict`"
   ]
  },
  {
   "cell_type": "code",
   "execution_count": 62,
   "metadata": {},
   "outputs": [
    {
     "name": "stdout",
     "output_type": "stream",
     "text": [
      "Sequential(\n",
      "  (fc1): Linear(in_features=784, out_features=128, bias=True)\n",
      "  (relu1): ReLU()\n",
      "  (fc2): Linear(in_features=128, out_features=64, bias=True)\n",
      "  (relu2): ReLU()\n",
      "  (output): Linear(in_features=64, out_features=10, bias=True)\n",
      "  (softmax): Softmax()\n",
      ")\n",
      "Linear(in_features=784, out_features=128, bias=True)\n",
      "Linear(in_features=784, out_features=128, bias=True)\n"
     ]
    }
   ],
   "source": [
    "from collections import OrderedDict\n",
    "model = nn.Sequential(OrderedDict([\n",
    "                      ('fc1', nn.Linear(input_size, hidden_sizes[0])),\n",
    "                      ('relu1', nn.ReLU()),\n",
    "                      ('fc2', nn.Linear(hidden_sizes[0], hidden_sizes[1])),\n",
    "                      ('relu2', nn.ReLU()),\n",
    "                      ('output', nn.Linear(hidden_sizes[1], output_size)),\n",
    "                      ('softmax', nn.Softmax(dim=1))]))\n",
    "print(model)\n",
    "print(model[0]) #Zugriff auf fc1\n",
    "print(model.fc1)"
   ]
  },
  {
   "cell_type": "markdown",
   "metadata": {},
   "source": [
    "### Gewichte und Bias\n",
    "\n",
    "PyTorch initialisiert automatisch Gewichte und Bias für die Modelle, die aus Klassen im Package `nn` erben.\n",
    "\n"
   ]
  },
  {
   "cell_type": "markdown",
   "metadata": {},
   "source": [
    "## 4. Netze in PyTorch\n",
    "\n",
    "1. Datensatz laden und vorbereiten\n",
    "2. Modell-Klasse definieren\n",
    "3. Loss-Criterion festlegen\n",
    "4. Opzimizer instanzieren\n",
    "8. Modell trainieren und Genauigkeit berechnen"
   ]
  },
  {
   "cell_type": "code",
   "execution_count": 63,
   "metadata": {},
   "outputs": [],
   "source": [
    "import torch\n",
    "import torch.nn as nn\n",
    "import torchvision.transforms as transforms\n",
    "import torchvision.datasets as datasets"
   ]
  },
  {
   "cell_type": "code",
   "execution_count": 64,
   "metadata": {},
   "outputs": [],
   "source": [
    "is_cuda=False\n",
    "if torch.cuda.is_available():\n",
    "    is_cuda = True"
   ]
  },
  {
   "cell_type": "markdown",
   "metadata": {},
   "source": [
    "### 4.1 SimpleClassifier\n",
    "\n",
    "Source: https://www.kaggle.com/negation/pytorch-logistic-regression-tutorial"
   ]
  },
  {
   "cell_type": "code",
   "execution_count": 65,
   "metadata": {},
   "outputs": [],
   "source": [
    "# Hyper Parameters \n",
    "input_size = 784\n",
    "num_classes = 10\n",
    "num_epochs = 10\n",
    "batch_size = 100\n",
    "learning_rate = 0.01"
   ]
  },
  {
   "cell_type": "code",
   "execution_count": 66,
   "metadata": {},
   "outputs": [],
   "source": [
    "# Model\n",
    "class LogisticRegression(nn.Module):\n",
    "    def __init__(self, input_size, num_classes):\n",
    "        super(LogisticRegression, self).__init__()\n",
    "        self.linear = nn.Linear(input_size, num_classes)\n",
    "    \n",
    "    def forward(self, x):\n",
    "        out = self.linear(x)\n",
    "        return out"
   ]
  },
  {
   "cell_type": "code",
   "execution_count": 67,
   "metadata": {},
   "outputs": [],
   "source": [
    "model = LogisticRegression(input_size, num_classes)"
   ]
  },
  {
   "cell_type": "code",
   "execution_count": 68,
   "metadata": {},
   "outputs": [],
   "source": [
    "# Loss and Optimizer\n",
    "# Softmax is internally computed.\n",
    "# Set parameters to be updated.\n",
    "criterion = nn.CrossEntropyLoss()  \n",
    "optimizer = torch.optim.SGD(model.parameters(), lr=learning_rate)  "
   ]
  },
  {
   "cell_type": "code",
   "execution_count": 69,
   "metadata": {},
   "outputs": [
    {
     "name": "stdout",
     "output_type": "stream",
     "text": [
      "Epoch: [1/10], Step: [100/600], Loss: 0.4811\n",
      "Epoch: [1/10], Step: [200/600], Loss: 0.3598\n",
      "Epoch: [1/10], Step: [300/600], Loss: 0.4033\n",
      "Epoch: [1/10], Step: [400/600], Loss: 0.3957\n",
      "Epoch: [1/10], Step: [500/600], Loss: 0.3646\n",
      "Epoch: [1/10], Step: [600/600], Loss: 0.3327\n",
      "Epoch: [2/10], Step: [100/600], Loss: 0.2705\n",
      "Epoch: [2/10], Step: [200/600], Loss: 0.4437\n",
      "Epoch: [2/10], Step: [300/600], Loss: 0.2874\n",
      "Epoch: [2/10], Step: [400/600], Loss: 0.3563\n",
      "Epoch: [2/10], Step: [500/600], Loss: 0.3373\n",
      "Epoch: [2/10], Step: [600/600], Loss: 0.3283\n",
      "Epoch: [3/10], Step: [100/600], Loss: 0.3690\n",
      "Epoch: [3/10], Step: [200/600], Loss: 0.3813\n",
      "Epoch: [3/10], Step: [300/600], Loss: 0.3156\n",
      "Epoch: [3/10], Step: [400/600], Loss: 0.2935\n",
      "Epoch: [3/10], Step: [500/600], Loss: 0.3571\n",
      "Epoch: [3/10], Step: [600/600], Loss: 0.3248\n",
      "Epoch: [4/10], Step: [100/600], Loss: 0.3772\n",
      "Epoch: [4/10], Step: [200/600], Loss: 0.3555\n",
      "Epoch: [4/10], Step: [300/600], Loss: 0.3790\n",
      "Epoch: [4/10], Step: [400/600], Loss: 0.3452\n",
      "Epoch: [4/10], Step: [500/600], Loss: 0.2512\n",
      "Epoch: [4/10], Step: [600/600], Loss: 0.2660\n",
      "Epoch: [5/10], Step: [100/600], Loss: 0.3088\n",
      "Epoch: [5/10], Step: [200/600], Loss: 0.3284\n",
      "Epoch: [5/10], Step: [300/600], Loss: 0.3306\n",
      "Epoch: [5/10], Step: [400/600], Loss: 0.3982\n",
      "Epoch: [5/10], Step: [500/600], Loss: 0.2505\n",
      "Epoch: [5/10], Step: [600/600], Loss: 0.1687\n",
      "Epoch: [6/10], Step: [100/600], Loss: 0.3122\n",
      "Epoch: [6/10], Step: [200/600], Loss: 0.1798\n",
      "Epoch: [6/10], Step: [300/600], Loss: 0.3416\n",
      "Epoch: [6/10], Step: [400/600], Loss: 0.3604\n",
      "Epoch: [6/10], Step: [500/600], Loss: 0.2479\n",
      "Epoch: [6/10], Step: [600/600], Loss: 0.2598\n",
      "Epoch: [7/10], Step: [100/600], Loss: 0.3117\n",
      "Epoch: [7/10], Step: [200/600], Loss: 0.3786\n",
      "Epoch: [7/10], Step: [300/600], Loss: 0.1622\n",
      "Epoch: [7/10], Step: [400/600], Loss: 0.2428\n",
      "Epoch: [7/10], Step: [500/600], Loss: 0.2840\n",
      "Epoch: [7/10], Step: [600/600], Loss: 0.2565\n",
      "Epoch: [8/10], Step: [100/600], Loss: 0.3817\n",
      "Epoch: [8/10], Step: [200/600], Loss: 0.3507\n",
      "Epoch: [8/10], Step: [300/600], Loss: 0.2931\n",
      "Epoch: [8/10], Step: [400/600], Loss: 0.3704\n",
      "Epoch: [8/10], Step: [500/600], Loss: 0.2079\n",
      "Epoch: [8/10], Step: [600/600], Loss: 0.3933\n",
      "Epoch: [9/10], Step: [100/600], Loss: 0.2724\n",
      "Epoch: [9/10], Step: [200/600], Loss: 0.3341\n",
      "Epoch: [9/10], Step: [300/600], Loss: 0.1942\n",
      "Epoch: [9/10], Step: [400/600], Loss: 0.1903\n",
      "Epoch: [9/10], Step: [500/600], Loss: 0.3657\n",
      "Epoch: [9/10], Step: [600/600], Loss: 0.1750\n",
      "Epoch: [10/10], Step: [100/600], Loss: 0.2791\n",
      "Epoch: [10/10], Step: [200/600], Loss: 0.3517\n",
      "Epoch: [10/10], Step: [300/600], Loss: 0.3435\n",
      "Epoch: [10/10], Step: [400/600], Loss: 0.3809\n",
      "Epoch: [10/10], Step: [500/600], Loss: 0.2776\n",
      "Epoch: [10/10], Step: [600/600], Loss: 0.2729\n"
     ]
    }
   ],
   "source": [
    "# Training the Model\n",
    "for epoch in range(num_epochs):\n",
    "    for i, (images, labels) in enumerate(train_loader):\n",
    "        #[batch_size, 1, 28, 28]\n",
    "        images = Variable(images.view(-1, 28*28))\n",
    "        labels = Variable(labels)\n",
    "        \n",
    "        # Forward + Backward + Optimize\n",
    "        optimizer.zero_grad()\n",
    "        outputs = model(images)\n",
    "        loss = criterion(outputs, labels)\n",
    "        loss.backward()\n",
    "        optimizer.step()\n",
    "        if (i+1) % 100 == 0:\n",
    "            print ('Epoch: [%d/%d], Step: [%d/%d], Loss: %.4f' \n",
    "                   % (epoch+1, num_epochs, i+1, len(train_dataset)//batch_size, loss.data[0]))\n"
   ]
  },
  {
   "cell_type": "code",
   "execution_count": 70,
   "metadata": {},
   "outputs": [
    {
     "name": "stdout",
     "output_type": "stream",
     "text": [
      "Accuracy of the model on the 10000 test images: 92 %\n"
     ]
    }
   ],
   "source": [
    "# Test the Model\n",
    "correct = 0\n",
    "total = 0\n",
    "for images, labels in test_loader:\n",
    "    images = Variable(images.view(-1, 28*28))\n",
    "    outputs = model(images)\n",
    "    _, predicted = torch.max(outputs.data, 1)\n",
    "    total += labels.size(0)\n",
    "    correct += (predicted == labels).sum()\n",
    "    \n",
    "print('Accuracy of the model on the 10000 test images: %d %%' % (100 * correct / total))"
   ]
  },
  {
   "cell_type": "markdown",
   "metadata": {},
   "source": [
    "### 4.2 Feedforward Network"
   ]
  },
  {
   "cell_type": "markdown",
   "metadata": {},
   "source": [
    "### Modell-Klasse definieren\n",
    "\n",
    "1. 4 layer fully connected Neuronales Netz\n",
    "2. Source für Code:\n",
    "    http://adventuresinmachinelearning.com/pytorch-tutorial-deep-learning/\n",
    "3. Klassifizierung mit Softmax\n",
    "4. ReLU als Aktivierungsfunktion für alle Layers bis auf das letzte\n",
    "5. Aktivierungsfunktion im letzten Layer: \"log softmax\"\n",
    "6. Loss-Kriterion: NLL (negative log likelihood)\n",
    "\n",
    "Die Kombination von Log-Softmax und NLL-Kriterion liefert eine mutliclass CrossEntropy basierten Loss-Funktion. \n",
    "\n",
    "Mehr dazu: [PyTorch-Kriterion](https://nn.readthedocs.io/en/rtd/criterion/#classnllcriterion)\n",
    "\n",
    "<img src=\"CNTK-Dense-example-architecture.jpg\">\n",
    "\n"
   ]
  },
  {
   "cell_type": "code",
   "execution_count": 71,
   "metadata": {},
   "outputs": [],
   "source": [
    "import torch\n",
    "from torch.autograd import Variable\n",
    "import torch.nn as nn\n",
    "import torch.nn.functional as F\n",
    "import torch.optim as optim\n",
    "from torchvision import datasets, transforms"
   ]
  },
  {
   "cell_type": "code",
   "execution_count": 72,
   "metadata": {},
   "outputs": [],
   "source": [
    "class FeedforwardNetwork(nn.Module):\n",
    "    def __init__(self):\n",
    "        super(FeedforwardNetwork, self).__init__()\n",
    "        self.fc1 = nn.Linear(28 * 28, 200)\n",
    "        self.fc2 = nn.Linear(200, 200)#\n",
    "        self.fc3 = nn.Linear(200, 10)\n",
    "    \n",
    "    def forward(self, x):\n",
    "        x = F.relu(self.fc1(x))\n",
    "        x = F.relu(self.fc2(x))#\n",
    "        x = self.fc3(x)\n",
    "        return F.log_softmax(x)"
   ]
  },
  {
   "cell_type": "code",
   "execution_count": 73,
   "metadata": {},
   "outputs": [
    {
     "data": {
      "text/plain": [
       "FeedforwardNetwork(\n",
       "  (fc1): Linear(in_features=784, out_features=200, bias=True)\n",
       "  (fc2): Linear(in_features=200, out_features=200, bias=True)\n",
       "  (fc3): Linear(in_features=200, out_features=10, bias=True)\n",
       ")"
      ]
     },
     "execution_count": 73,
     "metadata": {},
     "output_type": "execute_result"
    }
   ],
   "source": [
    "model = FeedforwardNetwork()\n",
    "if is_cuda:\n",
    "    model.cuda()\n",
    "model    "
   ]
  },
  {
   "cell_type": "code",
   "execution_count": 74,
   "metadata": {},
   "outputs": [],
   "source": [
    "#Hyperparameters\n",
    "learning_rate = 0.001\n",
    "epochs = 5\n",
    "log_interval = 100\n",
    "optimizer = optim.SGD(model.parameters(), lr=learning_rate, momentum=0.9)\n",
    "criterion = nn.NLLLoss()"
   ]
  },
  {
   "cell_type": "markdown",
   "metadata": {},
   "source": [
    "### Gewichte und Bias anpassen"
   ]
  },
  {
   "cell_type": "code",
   "execution_count": 75,
   "metadata": {},
   "outputs": [],
   "source": [
    "def adapt_params(model):\n",
    "    for m in model.modules():\n",
    "        if type(m) in ['Linear']:\n",
    "            torch.nn.init.normal_(model.weight.data)\n",
    "            torch.nn.init.constant_(model.bias.data, 0.1)"
   ]
  },
  {
   "cell_type": "code",
   "execution_count": null,
   "metadata": {},
   "outputs": [],
   "source": [
    "#adapt_params(model)"
   ]
  },
  {
   "cell_type": "markdown",
   "metadata": {},
   "source": [
    "### Netz trainieren"
   ]
  },
  {
   "cell_type": "code",
   "execution_count": 76,
   "metadata": {},
   "outputs": [
    {
     "name": "stdout",
     "output_type": "stream",
     "text": [
      "Train Epoch: 0 [0/60000 (0%)]\tLoss: 2.300688\n",
      "Train Epoch: 0 [10000/60000 (17%)]\tLoss: 1.976344\n",
      "Train Epoch: 0 [20000/60000 (33%)]\tLoss: 1.178749\n",
      "Train Epoch: 0 [30000/60000 (50%)]\tLoss: 0.661976\n",
      "Train Epoch: 0 [40000/60000 (67%)]\tLoss: 0.523758\n",
      "Train Epoch: 0 [50000/60000 (83%)]\tLoss: 0.365025\n",
      "Train Epoch: 1 [0/60000 (0%)]\tLoss: 0.400868\n",
      "Train Epoch: 1 [10000/60000 (17%)]\tLoss: 0.373855\n",
      "Train Epoch: 1 [20000/60000 (33%)]\tLoss: 0.423025\n",
      "Train Epoch: 1 [30000/60000 (50%)]\tLoss: 0.230148\n",
      "Train Epoch: 1 [40000/60000 (67%)]\tLoss: 0.324341\n",
      "Train Epoch: 1 [50000/60000 (83%)]\tLoss: 0.450046\n",
      "Train Epoch: 2 [0/60000 (0%)]\tLoss: 0.214468\n",
      "Train Epoch: 2 [10000/60000 (17%)]\tLoss: 0.342338\n",
      "Train Epoch: 2 [20000/60000 (33%)]\tLoss: 0.237374\n",
      "Train Epoch: 2 [30000/60000 (50%)]\tLoss: 0.263153\n",
      "Train Epoch: 2 [40000/60000 (67%)]\tLoss: 0.380467\n",
      "Train Epoch: 2 [50000/60000 (83%)]\tLoss: 0.229850\n",
      "Train Epoch: 3 [0/60000 (0%)]\tLoss: 0.378023\n",
      "Train Epoch: 3 [10000/60000 (17%)]\tLoss: 0.259200\n",
      "Train Epoch: 3 [20000/60000 (33%)]\tLoss: 0.444075\n",
      "Train Epoch: 3 [30000/60000 (50%)]\tLoss: 0.175450\n",
      "Train Epoch: 3 [40000/60000 (67%)]\tLoss: 0.228139\n",
      "Train Epoch: 3 [50000/60000 (83%)]\tLoss: 0.181112\n",
      "Train Epoch: 4 [0/60000 (0%)]\tLoss: 0.194816\n",
      "Train Epoch: 4 [10000/60000 (17%)]\tLoss: 0.325210\n",
      "Train Epoch: 4 [20000/60000 (33%)]\tLoss: 0.176831\n",
      "Train Epoch: 4 [30000/60000 (50%)]\tLoss: 0.209756\n",
      "Train Epoch: 4 [40000/60000 (67%)]\tLoss: 0.288306\n",
      "Train Epoch: 4 [50000/60000 (83%)]\tLoss: 0.372744\n"
     ]
    }
   ],
   "source": [
    "# run the main training loop\n",
    "for epoch in range(epochs):\n",
    "    for batch_idx, (data, target) in enumerate(train_loader):\n",
    "        #data, target = Variable(data), Variable(target)\n",
    "        volatile = True\n",
    "        if is_cuda:\n",
    "            data, target = data.cuda(), target.cuda()\n",
    "        data , target = Variable(data,volatile),Variable(target)\n",
    "        # resize data from (batch_size, 1, 28, 28) to (batch_size, 28*28)\n",
    "        # Data now: (32, 784)\n",
    "        data = data.view(-1, 28*28)\n",
    "        \n",
    "        #Gradienten zurücksetzen\n",
    "        optimizer.zero_grad()\n",
    "        #net_out speichert log_softmax des finalen Schrittes\n",
    "        net_out = model(data) #ruft forward() methode auf\n",
    "        #loss = Modell-Fehler nach Forward-Pass\n",
    "        loss = criterion(net_out, target)\n",
    "        \n",
    "        #Backpropagation\n",
    "        loss.backward() #Liefert Gradienten\n",
    "        \n",
    "        #Optimizer == SGD --> Ein SGD Step auf aktuellen Parametern\n",
    "        optimizer.step() #Aktualisiert Parameter\n",
    "        \n",
    "        #Ergebnisse für jede Epoche\n",
    "        if batch_idx % log_interval == 0:\n",
    "            print('Train Epoch: {} [{}/{} ({:.0f}%)]\\tLoss: {:.6f}'.format(\n",
    "                epoch, batch_idx * len(data), len(train_loader.dataset),\n",
    "                        100. * batch_idx / len(train_loader), loss.data[0]))"
   ]
  },
  {
   "cell_type": "markdown",
   "metadata": {},
   "source": [
    "### Netzwerk testen"
   ]
  },
  {
   "cell_type": "code",
   "execution_count": 77,
   "metadata": {},
   "outputs": [
    {
     "name": "stdout",
     "output_type": "stream",
     "text": [
      "\n",
      "Test set: Average loss: 0.0022, Accuracy: 9351/10000 (93%)\n",
      "\n"
     ]
    }
   ],
   "source": [
    "# run a test loop\n",
    "test_loss = 0\n",
    "correct = 0\n",
    "for data, target in test_loader:\n",
    "    volatile = True\n",
    "    if is_cuda:\n",
    "        data, target = data.cuda(), target.cuda()\n",
    "    data , target = Variable(data,volatile),Variable(target)\n",
    "    data = data.view(-1, 28 * 28)\n",
    "    net_out = model(data)\n",
    "    # sum up batch loss\n",
    "    test_loss += criterion(net_out, target).data[0]\n",
    "    pred = net_out.data.max(1)[1]  # get the index of the max log-probability\n",
    "    correct += pred.eq(target.data).sum()\n",
    "\n",
    "test_loss /= len(test_loader.dataset)\n",
    "print('\\nTest set: Average loss: {:.4f}, Accuracy: {}/{} ({:.0f}%)\\n'.format(\n",
    "    test_loss, correct, len(test_loader.dataset),\n",
    "    100. * correct / len(test_loader.dataset)))"
   ]
  },
  {
   "cell_type": "code",
   "execution_count": 78,
   "metadata": {},
   "outputs": [
    {
     "name": "stdout",
     "output_type": "stream",
     "text": [
      "('fc1.weight', Parameter containing:\n",
      "tensor([[ 0.0081, -0.0029, -0.0321,  ...,  0.0145,  0.0056, -0.0396],\n",
      "        [ 0.0287, -0.0351,  0.0189,  ..., -0.0025,  0.0223,  0.0117],\n",
      "        [ 0.0206, -0.0141,  0.0323,  ..., -0.0042, -0.0104,  0.0350],\n",
      "        ...,\n",
      "        [ 0.0057, -0.0021, -0.0346,  ..., -0.0057, -0.0295, -0.0145],\n",
      "        [ 0.0041,  0.0078, -0.0314,  ..., -0.0125,  0.0176,  0.0336],\n",
      "        [-0.0182, -0.0031, -0.0263,  ...,  0.0133, -0.0062, -0.0126]],\n",
      "       device='cuda:0', requires_grad=True))\n",
      "('fc1.bias', Parameter containing:\n",
      "tensor([-0.0119,  0.0311,  0.0039,  0.0330,  0.0413,  0.0353,  0.0217,  0.0283,\n",
      "         0.0396, -0.0293, -0.0312,  0.0345, -0.0253,  0.0146, -0.0138,  0.0356,\n",
      "         0.0350,  0.0334,  0.0047, -0.0106, -0.0230,  0.0374, -0.0227,  0.0148,\n",
      "         0.0318,  0.0134,  0.0053, -0.0336,  0.0371, -0.0073, -0.0176,  0.0109,\n",
      "        -0.0233, -0.0116,  0.0197, -0.0153, -0.0114,  0.0390,  0.0006, -0.0190,\n",
      "         0.0224,  0.0374,  0.0184, -0.0190,  0.0216,  0.0054, -0.0132,  0.0160,\n",
      "        -0.0260,  0.0031,  0.0069,  0.0290,  0.0210, -0.0260, -0.0331, -0.0314,\n",
      "         0.0337,  0.0258,  0.0394, -0.0084,  0.0066, -0.0003,  0.0149,  0.0255,\n",
      "         0.0138, -0.0101,  0.0316,  0.0279,  0.0081, -0.0311,  0.0279, -0.0269,\n",
      "         0.0022, -0.0126, -0.0051,  0.0225,  0.0214, -0.0028,  0.0348, -0.0220,\n",
      "        -0.0239,  0.0087, -0.0259, -0.0211,  0.0258, -0.0090,  0.0001, -0.0005,\n",
      "        -0.0002,  0.0277, -0.0327,  0.0060, -0.0197, -0.0275,  0.0292,  0.0047,\n",
      "        -0.0229, -0.0138, -0.0059, -0.0175,  0.0143,  0.0077, -0.0340,  0.0033,\n",
      "        -0.0097, -0.0206, -0.0288,  0.0240, -0.0053, -0.0150, -0.0324,  0.0003,\n",
      "        -0.0008, -0.0251,  0.0183,  0.0259,  0.0250,  0.0387, -0.0045,  0.0220,\n",
      "        -0.0169, -0.0173, -0.0077, -0.0052, -0.0063,  0.0385,  0.0004,  0.0171,\n",
      "         0.0188, -0.0022,  0.0159, -0.0011,  0.0095, -0.0055,  0.0049,  0.0195,\n",
      "        -0.0295,  0.0303, -0.0172, -0.0226,  0.0156, -0.0276,  0.0257, -0.0205,\n",
      "        -0.0327, -0.0294,  0.0124,  0.0132, -0.0098,  0.0115,  0.0098,  0.0089,\n",
      "        -0.0123,  0.0312,  0.0197,  0.0121,  0.0341,  0.0135,  0.0317, -0.0179,\n",
      "         0.0160, -0.0157, -0.0280,  0.0017,  0.0344, -0.0022,  0.0353, -0.0208,\n",
      "        -0.0343,  0.0056, -0.0108,  0.0151, -0.0331,  0.0128,  0.0092,  0.0247,\n",
      "        -0.0127,  0.0358,  0.0297,  0.0039,  0.0266, -0.0271,  0.0207,  0.0209,\n",
      "         0.0175,  0.0079, -0.0292,  0.0017,  0.0247,  0.0141,  0.0073,  0.0322,\n",
      "         0.0368,  0.0118, -0.0260, -0.0255, -0.0124, -0.0243, -0.0012, -0.0068],\n",
      "       device='cuda:0', requires_grad=True))\n",
      "('fc2.weight', Parameter containing:\n",
      "tensor([[ 0.0717, -0.0664,  0.0545,  ..., -0.0304, -0.0564,  0.0550],\n",
      "        [ 0.0003,  0.0317,  0.0562,  ..., -0.0533,  0.0118,  0.0340],\n",
      "        [ 0.0143,  0.0073,  0.0085,  ...,  0.0051,  0.0655, -0.0601],\n",
      "        ...,\n",
      "        [-0.0445,  0.0391, -0.0255,  ..., -0.0266, -0.0579, -0.0385],\n",
      "        [-0.0051,  0.0478,  0.0281,  ...,  0.0440, -0.0366,  0.0137],\n",
      "        [-0.0233, -0.0470, -0.0602,  ...,  0.0702,  0.0637, -0.0129]],\n",
      "       device='cuda:0', requires_grad=True))\n",
      "('fc2.bias', Parameter containing:\n",
      "tensor([ 0.0415, -0.0073,  0.0441, -0.0310, -0.0242,  0.0507,  0.0585, -0.0584,\n",
      "         0.0009, -0.0347,  0.0135,  0.0513, -0.0143,  0.0048,  0.0125, -0.0102,\n",
      "        -0.0203,  0.0333,  0.0560, -0.0601, -0.0188,  0.0307,  0.0176,  0.0228,\n",
      "        -0.0185,  0.0587, -0.0676, -0.0562,  0.0647, -0.0015, -0.0479,  0.0470,\n",
      "         0.0194,  0.0336,  0.0629,  0.0737, -0.0031, -0.0398,  0.0416,  0.0472,\n",
      "         0.0174,  0.0338,  0.0697,  0.0349, -0.0083,  0.0769, -0.0139, -0.0487,\n",
      "         0.0442,  0.0484,  0.0538, -0.0150, -0.0435, -0.0345, -0.0399,  0.0036,\n",
      "         0.0042,  0.0276, -0.0429,  0.0151,  0.0711,  0.0593, -0.0447, -0.0096,\n",
      "         0.0296, -0.0276,  0.0677,  0.0230,  0.0157,  0.0421,  0.0580,  0.0721,\n",
      "         0.0173,  0.0680,  0.0781,  0.0394, -0.0654,  0.0791,  0.0656,  0.0209,\n",
      "         0.0485, -0.0659,  0.0693,  0.0603, -0.0470, -0.0615, -0.0272, -0.0560,\n",
      "         0.0012,  0.0024,  0.0034, -0.0184, -0.0375,  0.0182, -0.0360, -0.0020,\n",
      "         0.0161,  0.0590, -0.0318, -0.0102, -0.0467,  0.0442,  0.0175,  0.0626,\n",
      "         0.0285,  0.0685,  0.0401,  0.0159, -0.0356, -0.0349,  0.0855, -0.0660,\n",
      "         0.0253,  0.0626,  0.0457, -0.0529,  0.0731,  0.0597, -0.0236,  0.0329,\n",
      "         0.0532,  0.0200, -0.0728,  0.0021,  0.0285,  0.0390, -0.0317, -0.0108,\n",
      "        -0.0499,  0.0108, -0.0295,  0.0485,  0.0349,  0.0730, -0.0517,  0.0300,\n",
      "         0.0326, -0.0207,  0.0084, -0.0293,  0.0062,  0.0060,  0.0259,  0.0350,\n",
      "         0.0007, -0.0395, -0.0240,  0.0411,  0.0397, -0.0483,  0.0447,  0.0169,\n",
      "        -0.0678,  0.0677,  0.0588,  0.0338, -0.0559,  0.0582, -0.0314,  0.0071,\n",
      "        -0.0621,  0.0370, -0.0221, -0.0519, -0.0384,  0.0401,  0.0458,  0.0367,\n",
      "         0.0768,  0.0033, -0.0365, -0.0116, -0.0275,  0.0795,  0.0361,  0.0719,\n",
      "        -0.0279,  0.0372, -0.0550,  0.0209, -0.0533, -0.0249, -0.0148, -0.0179,\n",
      "        -0.0156,  0.0448,  0.0207, -0.0390, -0.0062,  0.0694, -0.0174,  0.0532,\n",
      "         0.0627,  0.0158, -0.0162, -0.0235, -0.0223,  0.0391, -0.0080,  0.0203],\n",
      "       device='cuda:0', requires_grad=True))\n",
      "('fc3.weight', Parameter containing:\n",
      "tensor([[-0.0152,  0.1688, -0.0295,  ..., -0.0018,  0.0858,  0.0976],\n",
      "        [ 0.0054, -0.0754, -0.0236,  ..., -0.0150, -0.0200, -0.0293],\n",
      "        [-0.1056,  0.1300, -0.0481,  ..., -0.0191, -0.1300,  0.0967],\n",
      "        ...,\n",
      "        [-0.0388, -0.0296, -0.0477,  ..., -0.0648,  0.1157,  0.0705],\n",
      "        [-0.0468, -0.0028, -0.0020,  ...,  0.0516, -0.1340,  0.0542],\n",
      "        [ 0.0600,  0.0173, -0.0695,  ...,  0.0254,  0.0356, -0.1071]],\n",
      "       device='cuda:0', requires_grad=True))\n",
      "('fc3.bias', Parameter containing:\n",
      "tensor([ 0.0003,  0.0145, -0.0113, -0.0058, -0.0001,  0.0373,  0.0002,  0.0596,\n",
      "        -0.0879, -0.0461], device='cuda:0', requires_grad=True))\n"
     ]
    }
   ],
   "source": [
    "#Zugriff auf Modell-Parameter\n",
    "model_params = model.named_parameters() #oder auf model.parameters()\n",
    "for m in model_params:\n",
    "    print(m)"
   ]
  },
  {
   "cell_type": "markdown",
   "metadata": {},
   "source": [
    "### 4.3 CNN in PyTorch\n",
    "Source: \n",
    "- \"Deep Learning with PyTorch\", Packt Publishing\n",
    "- \"Image Kernels\", http://setosa.io/ev/image-kernels/"
   ]
  },
  {
   "cell_type": "code",
   "execution_count": 79,
   "metadata": {},
   "outputs": [],
   "source": [
    "import torch\n",
    "import torch.nn as nn\n",
    "import torch.nn.functional as F\n",
    "import torch.optim as optim\n",
    "from torchvision import datasets,transforms\n",
    "from torch.autograd import Variable\n",
    "import matplotlib.pyplot as plt\n",
    "%matplotlib inline"
   ]
  },
  {
   "cell_type": "code",
   "execution_count": 80,
   "metadata": {},
   "outputs": [],
   "source": [
    "class Net(nn.Module):\n",
    "    def __init__(self):\n",
    "        super().__init__()\n",
    "        self.conv1 = nn.Conv2d(1, 10, kernel_size=5)\n",
    "        self.conv2 = nn.Conv2d(10, 20, kernel_size=5)\n",
    "        self.conv2_drop = nn.Dropout2d()\n",
    "        self.fc1 = nn.Linear(320, 50)\n",
    "        self.fc2 = nn.Linear(50, 10)\n",
    "\n",
    "    def forward(self, x): \n",
    "        #Pooling: reduce the size of feature maps and the outcomes of convolution layers\n",
    "        x = F.relu(F.max_pool2d(self.conv1(x), 2))\n",
    "        x = F.relu(F.max_pool2d(self.conv2_drop(self.conv2(x)), 2))\n",
    "        x = x.view(-1, 320) #Flattening\n",
    "        x = F.relu(self.fc1(x))\n",
    "        x = self.fc2(x)\n",
    "        return F.log_softmax(x,dim=1) #Prediction"
   ]
  },
  {
   "cell_type": "code",
   "execution_count": 81,
   "metadata": {},
   "outputs": [],
   "source": [
    "model = Net()\n",
    "if is_cuda:\n",
    "    model.cuda()"
   ]
  },
  {
   "cell_type": "code",
   "execution_count": 82,
   "metadata": {},
   "outputs": [],
   "source": [
    "optimizer = optim.SGD(model.parameters(),lr=0.01)"
   ]
  },
  {
   "cell_type": "code",
   "execution_count": 83,
   "metadata": {},
   "outputs": [],
   "source": [
    "def fit(epoch,model,data_loader,phase='training',volatile=False):\n",
    "    if phase == 'training':\n",
    "        model.train()\n",
    "    if phase == 'validation':\n",
    "        model.eval()\n",
    "        volatile=True\n",
    "    running_loss = 0.0\n",
    "    running_correct = 0\n",
    "    for batch_idx , (data,target) in enumerate(data_loader):\n",
    "        if is_cuda:\n",
    "            data,target = data.cuda(),target.cuda()\n",
    "        data , target = Variable(data,volatile),Variable(target)\n",
    "        if phase == 'training':\n",
    "            optimizer.zero_grad()\n",
    "        output = model(data)\n",
    "        loss = F.nll_loss(output,target)\n",
    "        \n",
    "        running_loss += F.nll_loss(output,target,size_average=False).data[0]\n",
    "        preds = output.data.max(dim=1,keepdim=True)[1]\n",
    "        running_correct += preds.eq(target.data.view_as(preds)).cpu().sum()\n",
    "        if phase == 'training':\n",
    "            loss.backward()\n",
    "            optimizer.step()\n",
    "    \n",
    "    loss = running_loss/len(data_loader.dataset)\n",
    "    accuracy = 100. * running_correct/len(data_loader.dataset)\n",
    "    if phase == \"training\":\n",
    "        print(\"Train phase:\\t Average loss: {:.4f}, Accuracy: {}/{} -\\t {}%\".format(loss, running_correct, len(data_loader.dataset), accuracy))\n",
    "    else:\n",
    "        print(\"Test phase:\\t Average loss: {:.4f}, Accuracy: {}/{} -\\t {}%\".format(loss, running_correct, len(data_loader.dataset), accuracy))\n",
    "    #print(f'{phase} loss is {(loss:{5}.{2}} and {phase} accuracy is {running_correct}/{len(data_loader.dataset)}{accuracy:{10}.{4}}')\n",
    "    return loss,accuracy"
   ]
  },
  {
   "cell_type": "code",
   "execution_count": 86,
   "metadata": {},
   "outputs": [
    {
     "name": "stdout",
     "output_type": "stream",
     "text": [
      "Epoch:  1\n",
      "Train phase:\t Average loss: 0.1285, Accuracy: 57789/60000 -\t 96%\n",
      "Test phase:\t Average loss: 0.0659, Accuracy: 9793/10000 -\t 97%\n",
      "Epoch:  2\n",
      "Train phase:\t Average loss: 0.1204, Accuracy: 57929/60000 -\t 96%\n",
      "Test phase:\t Average loss: 0.0624, Accuracy: 9799/10000 -\t 97%\n",
      "Epoch:  3\n",
      "Train phase:\t Average loss: 0.1132, Accuracy: 57996/60000 -\t 96%\n",
      "Test phase:\t Average loss: 0.0585, Accuracy: 9808/10000 -\t 98%\n",
      "Epoch:  4\n",
      "Train phase:\t Average loss: 0.1113, Accuracy: 58070/60000 -\t 96%\n",
      "Test phase:\t Average loss: 0.0572, Accuracy: 9810/10000 -\t 98%\n",
      "Epoch:  5\n",
      "Train phase:\t Average loss: 0.1086, Accuracy: 58106/60000 -\t 96%\n",
      "Test phase:\t Average loss: 0.0530, Accuracy: 9821/10000 -\t 98%\n",
      "Epoch:  6\n",
      "Train phase:\t Average loss: 0.1023, Accuracy: 58200/60000 -\t 97%\n",
      "Test phase:\t Average loss: 0.0514, Accuracy: 9831/10000 -\t 98%\n",
      "Epoch:  7\n",
      "Train phase:\t Average loss: 0.0988, Accuracy: 58264/60000 -\t 97%\n",
      "Test phase:\t Average loss: 0.0509, Accuracy: 9827/10000 -\t 98%\n",
      "Epoch:  8\n",
      "Train phase:\t Average loss: 0.0945, Accuracy: 58350/60000 -\t 97%\n",
      "Test phase:\t Average loss: 0.0474, Accuracy: 9833/10000 -\t 98%\n",
      "Epoch:  9\n",
      "Train phase:\t Average loss: 0.0957, Accuracy: 58318/60000 -\t 97%\n",
      "Test phase:\t Average loss: 0.0473, Accuracy: 9838/10000 -\t 98%\n"
     ]
    }
   ],
   "source": [
    "train_losses , train_accuracy = [],[]\n",
    "val_losses , val_accuracy = [],[]\n",
    "\n",
    "for epoch in range(1,10):\n",
    "    print(\"Epoch: \", epoch)\n",
    "    epoch_loss, epoch_accuracy = fit(epoch,model,train_loader,phase='training')\n",
    "    val_epoch_loss , val_epoch_accuracy = fit(epoch,model,test_loader,phase='validation')\n",
    "    train_losses.append(epoch_loss)\n",
    "    train_accuracy.append(epoch_accuracy)\n",
    "    val_losses.append(val_epoch_loss)\n",
    "    val_accuracy.append(val_epoch_accuracy)"
   ]
  },
  {
   "cell_type": "code",
   "execution_count": 87,
   "metadata": {},
   "outputs": [
    {
     "data": {
      "text/plain": [
       "<matplotlib.legend.Legend at 0x1c10999ed30>"
      ]
     },
     "execution_count": 87,
     "metadata": {},
     "output_type": "execute_result"
    },
    {
     "data": {
      "image/png": "[encoded data removed]",
      "text/plain": [
       "<Figure size 432x288 with 1 Axes>"
      ]
     },
     "metadata": {
      "image/png": {
       "height": 250,
       "width": 380
      },
      "needs_background": "light"
     },
     "output_type": "display_data"
    }
   ],
   "source": [
    "plt.plot(range(1,len(train_losses)+1),train_losses,'bo',label = 'training loss')\n",
    "plt.plot(range(1,len(val_losses)+1),val_losses,'r',label = 'validation loss')\n",
    "plt.legend()"
   ]
  }
 ],
 "metadata": {
  "kernelspec": {
   "display_name": "Python [conda env:torch]",
   "language": "python",
   "name": "conda-env-torch-py"
  },
  "language_info": {
   "codemirror_mode": {
    "name": "ipython",
    "version": 3
   },
   "file_extension": ".py",
   "mimetype": "text/x-python",
   "name": "python",
   "nbconvert_exporter": "python",
   "pygments_lexer": "ipython3",
   "version": "3.6.6"
  }
 },
 "nbformat": 4,
 "nbformat_minor": 2
}
