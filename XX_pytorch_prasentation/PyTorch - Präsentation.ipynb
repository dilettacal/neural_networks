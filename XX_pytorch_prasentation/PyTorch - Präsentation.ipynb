{
 "cells": [
  {
   "cell_type": "markdown",
   "metadata": {},
   "source": [
    "# PyTorch - Vortrag\n",
    "### HTW Berlin - Angewandte Informatik\n",
    "#### Modul \"Ausgewählte Kapitel sozialer Webtechnologien\" (aka Neuronale Netze)\n",
    "\n",
    "##### Diletta Calussi - s0559842"
   ]
  },
  {
   "cell_type": "markdown",
   "metadata": {},
   "source": [
    "# Inhalte\n",
    "\n",
    "0. Notwendige Packages\n",
    "1. Das Framework PyTorch\n",
    "2. PyTorch Fundamentals: Tensors, NumPy Bridge, Variablen, Autograd und CUDA\n",
    "3. Neuronale Netze in PyTorch\n",
    "5. Quellen"
   ]
  },
  {
   "cell_type": "markdown",
   "metadata": {},
   "source": [
    "## 0. Notwendige Packages\n",
    "\n",
    "- torch (CUDA oder CPU Version)\n",
    "- torchvision\n",
    "- numpy\n",
    "- scikit-learn\n",
    "- matplotlib"
   ]
  },
  {
   "cell_type": "markdown",
   "metadata": {},
   "source": [
    "## 1. Das Framework PyTorch"
   ]
  },
  {
   "cell_type": "markdown",
   "metadata": {},
   "source": [
    "- Eine ML Open-Source-Bibliothek für python\n",
    "- Basiert auf der in **Lua** geschriebenen Bibliothek **Torch**\n",
    "- Vom Facebook-Forschungsteam für K.I. entwickelt \n",
    "- Erscheinungsjahr: 2016\n",
    "- Unterstützt GPU sowie CPU \n",
    "- High Level \n",
    "\n",
    "\n",
    "### Funktionen\n",
    "* Autograd-System zur Berechnung der Ableitungen bezuüglich einer trainierbaren Variablen\n",
    "* Dynamische Graph-Berechnung \n",
    "    - Anzahl von Neuronen kann sich zur Laufzeit verändern\n",
    "    - If und else-Verzweigungen nach Zweck einstellbar\n",
    "* NumPy Bridge\n",
    "\n",
    "Eine Anleitung für die Installation ist auf der Webseite von [PyTorch](https://pytorch.org/) verfügbar.\n"
   ]
  },
  {
   "cell_type": "code",
   "execution_count": 3,
   "metadata": {},
   "outputs": [],
   "source": [
    "import warnings\n",
    "warnings.filterwarnings('ignore')"
   ]
  },
  {
   "cell_type": "code",
   "execution_count": 2,
   "metadata": {},
   "outputs": [
    {
     "name": "stdout",
     "output_type": "stream",
     "text": [
      "Torch version: 0.4.0\n",
      "CUDA is active: True\n",
      "CUDA version: 8.0\n"
     ]
    }
   ],
   "source": [
    "#Installation check\n",
    "import torch\n",
    "print(\"Torch version:\", torch.__version__)\n",
    "print(\"CUDA is active:\", torch.cuda.is_available())\n",
    "print(\"CUDA version:\", torch.version.cuda)"
   ]
  },
  {
   "cell_type": "code",
   "execution_count": 4,
   "metadata": {},
   "outputs": [
    {
     "data": {
      "text/plain": [
       "<torch._C.Generator at 0x293600ff650>"
      ]
     },
     "execution_count": 4,
     "metadata": {},
     "output_type": "execute_result"
    }
   ],
   "source": [
    "torch.manual_seed(0)"
   ]
  },
  {
   "cell_type": "markdown",
   "metadata": {},
   "source": [
    "## 2. PyTorch Fundamentals\n",
    "\n",
    "PyTorch bietet zwei Abstraktionen für Datenstrukturen: Tensoren und Variablen. Tensoren sind so ähnlich wie NumPy-Arrays und können auch auf GPUs übertragen werden. \n",
    "\n",
    "### 2.1 Tensoren\n",
    "\n",
    "Ein `torch.Tensor` ist eine mehrdimensionale Matrix, die Elemente von einem bestimmten Datentyp enthält. Ein detaillierter Überblick der unterstützten Datentype ist auf der [Webseite von PyTorch](https://pytorch.org/docs/stable/tensors.html) verfügbar.  \n",
    "\n",
    "PyTorch unterstützt sowohl GPU- als auch CPU-Tensoren. Tensoren verfügen über folgende Attribute:\n",
    "- `dtype`, leifert Datentyp\n",
    "- `device`, das Gerät (CPU oder GPU), wo das Tensorobjekt verwendet wird\n",
    "- `layout`, Speicherlayout von einem Tensor\n",
    "\n",
    "Methoden wie:\n",
    "- `to()`, switching zwischen GPU und CPU\n",
    "\n"
   ]
  },
  {
   "cell_type": "markdown",
   "metadata": {},
   "source": [
    "#### Vectors (1-D Tensoren)\n",
    "\n",
    "Ein Array von Elementen:"
   ]
  },
  {
   "cell_type": "code",
   "execution_count": 5,
   "metadata": {},
   "outputs": [
    {
     "data": {
      "text/plain": [
       "torch.Size([6])"
      ]
     },
     "execution_count": 5,
     "metadata": {},
     "output_type": "execute_result"
    }
   ],
   "source": [
    "temp = torch.FloatTensor([23,24,24.5,26,27.2,23.0])\n",
    "temp.size()"
   ]
  },
  {
   "cell_type": "code",
   "execution_count": 6,
   "metadata": {},
   "outputs": [
    {
     "name": "stdout",
     "output_type": "stream",
     "text": [
      "tensor([ 1.,  4.,  2.,  1.,  4.,  4.,  4.,  4.,  2.,  4.])\n"
     ]
    },
    {
     "data": {
      "text/plain": [
       "torch.Size([10])"
      ]
     },
     "execution_count": 6,
     "metadata": {},
     "output_type": "execute_result"
    }
   ],
   "source": [
    "temp2 = torch.randint(1,5,(10,))\n",
    "print(temp2)\n",
    "temp2.size()"
   ]
  },
  {
   "cell_type": "markdown",
   "metadata": {},
   "source": [
    "#### Matrix (2-D Tensoren)"
   ]
  },
  {
   "cell_type": "code",
   "execution_count": 7,
   "metadata": {},
   "outputs": [
    {
     "data": {
      "text/plain": [
       "tensor([[ 0.1604, -0.6065, -0.7831],\n",
       "        [ 1.0622, -0.2613,  1.0667],\n",
       "        [ 0.4159,  0.8396, -0.8265],\n",
       "        [-0.7949, -0.9528,  0.3717],\n",
       "        [ 0.4087,  1.4214,  0.1494]])"
      ]
     },
     "execution_count": 7,
     "metadata": {},
     "output_type": "execute_result"
    }
   ],
   "source": [
    "#Tensor erzeugen\n",
    "x = torch.randn(5,3)\n",
    "x"
   ]
  },
  {
   "cell_type": "markdown",
   "metadata": {},
   "source": [
    "#### 3D Tensors\n",
    "\n",
    "Bilderdateien: `height * width * channel`:"
   ]
  },
  {
   "cell_type": "code",
   "execution_count": 8,
   "metadata": {},
   "outputs": [],
   "source": [
    "from PIL import Image\n",
    "import numpy as np\n",
    "import matplotlib.pyplot as plt"
   ]
  },
  {
   "cell_type": "code",
   "execution_count": 9,
   "metadata": {},
   "outputs": [
    {
     "data": {
      "text/plain": [
       "torch.Size([224, 224, 3])"
      ]
     },
     "execution_count": 9,
     "metadata": {},
     "output_type": "execute_result"
    }
   ],
   "source": [
    "# Read a panda image from disk using a library called PIL and convert it to numpy array\n",
    "panda = np.array(Image.open('panda.jpg').resize((224,224)))\n",
    "panda_tensor = torch.from_numpy(panda)\n",
    "panda_tensor.size()"
   ]
  },
  {
   "cell_type": "code",
   "execution_count": 10,
   "metadata": {},
   "outputs": [
    {
     "data": {
      "text/plain": [
       "<matplotlib.image.AxesImage at 0x293684bb6d8>"
      ]
     },
     "execution_count": 10,
     "metadata": {},
     "output_type": "execute_result"
    },
    {
     "data": {
      "image/png": "[encoded data removed]",
      "text/plain": [
       "<Figure size 432x288 with 1 Axes>"
      ]
     },
     "metadata": {
      "needs_background": "light"
     },
     "output_type": "display_data"
    }
   ],
   "source": [
    "plt.imshow(panda)"
   ]
  },
  {
   "cell_type": "markdown",
   "metadata": {},
   "source": [
    "#### Operationen auf Tensoren"
   ]
  },
  {
   "cell_type": "code",
   "execution_count": 11,
   "metadata": {},
   "outputs": [],
   "source": [
    "a = torch.randint(1,10,(2,3))\n",
    "b = torch.randint(1,10,(2,3))"
   ]
  },
  {
   "cell_type": "code",
   "execution_count": 12,
   "metadata": {},
   "outputs": [
    {
     "name": "stdout",
     "output_type": "stream",
     "text": [
      "tensor([[ 8.,  8.,  2.],\n",
      "        [ 6.,  5.,  8.]])\n",
      "\n",
      "tensor([[ 6.,  8.,  5.],\n",
      "        [ 3.,  6.,  5.]])\n"
     ]
    }
   ],
   "source": [
    "print(a)\n",
    "print()\n",
    "print(b)"
   ]
  },
  {
   "cell_type": "code",
   "execution_count": 13,
   "metadata": {},
   "outputs": [
    {
     "name": "stdout",
     "output_type": "stream",
     "text": [
      "Elementwise-Operationen:\n",
      "Addition: \n",
      " tensor([[ 14.,  16.,   7.],\n",
      "        [  9.,  11.,  13.]]) \n",
      "oder: tensor([[ 14.,  16.,   7.],\n",
      "        [  9.,  11.,  13.]])\n",
      "************************************************************\n",
      "Subtraktion:\n",
      " tensor([[ 2.,  0., -3.],\n",
      "        [ 3., -1.,  3.]]) \n",
      "oder: tensor([[ 2.,  0., -3.],\n",
      "        [ 3., -1.,  3.]])\n",
      "************************************************************\n",
      "Multiplikation:\n",
      " tensor([[ 48.,  64.,  10.],\n",
      "        [ 18.,  30.,  40.]]) \n",
      "oder: tensor([[ 48.,  64.,  10.],\n",
      "        [ 18.,  30.,  40.]])\n",
      "************************************************************\n",
      "Division:\n",
      " tensor([[ 1.3333,  1.0000,  0.4000],\n",
      "        [ 2.0000,  0.8333,  1.6000]]) \n",
      "oder: tensor([[ 1.3333,  1.0000,  0.4000],\n",
      "        [ 2.0000,  0.8333,  1.6000]])\n"
     ]
    }
   ],
   "source": [
    "#Elementwise Operationen\n",
    "print(\"Elementwise-Operationen:\")\n",
    "print(\"Addition: \\n\", torch.add(a,b), \"\\noder:\", a+b)\n",
    "print(\"*\"*60)\n",
    "print(\"Subtraktion:\\n\", torch.sub(a,b), \"\\noder:\", a-b)\n",
    "print(\"*\"*60)\n",
    "print(\"Multiplikation:\\n\", torch.mul(a,b), \"\\noder:\", a*b)\n",
    "print(\"*\"*60)\n",
    "print(\"Division:\\n\", torch.div(a,b), \"\\noder:\", a/b)"
   ]
  },
  {
   "cell_type": "markdown",
   "metadata": {},
   "source": [
    "Für eine Matrizenmultiplikation muss der Tensor resized werden.\n",
    "Dafür sind in PyTorch die Funktionen:\n",
    "- [`reshape()`](https://pytorch.org/docs/stable/tensors.html#torch.Tensor.reshape), \n",
    "- [`resize_()`](https://pytorch.org/docs/stable/tensors.html#torch.Tensor.resize_) und \n",
    "- [`view()`](https://pytorch.org/docs/stable/tensors.html#torch.Tensor.view)\n"
   ]
  },
  {
   "cell_type": "code",
   "execution_count": 14,
   "metadata": {},
   "outputs": [
    {
     "name": "stdout",
     "output_type": "stream",
     "text": [
      "torch.Size([2, 3])\n",
      "torch.Size([2, 3])\n",
      "torch.Size([3, 2])\n"
     ]
    },
    {
     "data": {
      "text/plain": [
       "tensor([[ 100.,   98.],\n",
       "        [ 109.,  103.]])"
      ]
     },
     "execution_count": 14,
     "metadata": {},
     "output_type": "execute_result"
    }
   ],
   "source": [
    "print(a.shape)\n",
    "print(b.shape)\n",
    "\n",
    "#Reshaping mit reshape\n",
    "resh_b = b.reshape(3,2)\n",
    "print(resh_b.shape)\n",
    "torch.mm(a,resh_b)"
   ]
  },
  {
   "cell_type": "code",
   "execution_count": 15,
   "metadata": {},
   "outputs": [
    {
     "name": "stdout",
     "output_type": "stream",
     "text": [
      "torch.Size([3, 2])\n"
     ]
    },
    {
     "data": {
      "text/plain": [
       "tensor([[ 100.,   98.],\n",
       "        [ 109.,  103.]])"
      ]
     },
     "execution_count": 15,
     "metadata": {},
     "output_type": "execute_result"
    }
   ],
   "source": [
    "#Reshaping mit resize\n",
    "res_b = b.resize(3,2)\n",
    "print(res_b.shape)\n",
    "torch.mm(a,res_b)"
   ]
  },
  {
   "cell_type": "code",
   "execution_count": 16,
   "metadata": {},
   "outputs": [
    {
     "data": {
      "text/plain": [
       "tensor([[ 100.,   98.],\n",
       "        [ 109.,  103.]])"
      ]
     },
     "execution_count": 16,
     "metadata": {},
     "output_type": "execute_result"
    }
   ],
   "source": [
    "#Reshaping mit view\n",
    "b_view = b.view(3,2)\n",
    "torch.mm(a,b_view)"
   ]
  },
  {
   "cell_type": "markdown",
   "metadata": {},
   "source": [
    "### 2.2 NumPy Bridge"
   ]
  },
  {
   "cell_type": "code",
   "execution_count": 17,
   "metadata": {},
   "outputs": [],
   "source": [
    "import numpy as np\n",
    "import torch\n",
    "np.random.seed(0)"
   ]
  },
  {
   "cell_type": "code",
   "execution_count": 18,
   "metadata": {},
   "outputs": [
    {
     "name": "stdout",
     "output_type": "stream",
     "text": [
      "<class 'numpy.ndarray'> float64\n",
      "<class 'torch.Tensor'> torch.float32\n"
     ]
    }
   ],
   "source": [
    "x = np.zeros((2,3))\n",
    "y = torch.zeros(2,3)\n",
    "\n",
    "print(type(x), x.dtype)\n",
    "print(type(y), y.dtype)"
   ]
  },
  {
   "cell_type": "code",
   "execution_count": 19,
   "metadata": {},
   "outputs": [
    {
     "name": "stdout",
     "output_type": "stream",
     "text": [
      "<class 'torch.Tensor'> torch.float64\n",
      "tensor([[ 0.,  0.,  0.],\n",
      "        [ 0.,  0.,  0.]], dtype=torch.float64)\n"
     ]
    }
   ],
   "source": [
    "#Automatisches Casting numpy zu torch\n",
    "z = x + y\n",
    "print(type(z), z.dtype)\n",
    "print(z)"
   ]
  },
  {
   "cell_type": "code",
   "execution_count": 20,
   "metadata": {},
   "outputs": [
    {
     "name": "stdout",
     "output_type": "stream",
     "text": [
      "Vor Umwandlung: \n",
      " tensor([[ 0.,  0.,  0.],\n",
      "        [ 0.,  0.,  0.]], dtype=torch.float64)\n",
      "Nach Umwandlung:\n",
      " tensor([[ 1.,  1.,  1.],\n",
      "        [ 1.,  1.,  1.]], dtype=torch.float64)\n"
     ]
    }
   ],
   "source": [
    "print(\"Vor Umwandlung: \\n\", z)\n",
    "#Umwandlung zu numpy\n",
    "#Die zwei Objekte teilen den Speicherraum!\n",
    "\n",
    "#Umwandlung nach numpy\n",
    "xx = z.numpy()\n",
    "#Veräderung des Wertes von z (!)\n",
    "xx += 1.0\n",
    "\n",
    "print(\"Nach Umwandlung:\\n\", z)"
   ]
  },
  {
   "cell_type": "code",
   "execution_count": 21,
   "metadata": {},
   "outputs": [
    {
     "name": "stdout",
     "output_type": "stream",
     "text": [
      "[[6 1 4]\n",
      " [4 8 4]]\n"
     ]
    },
    {
     "data": {
      "text/plain": [
       "array([3.66666667, 5.33333333])"
      ]
     },
     "execution_count": 21,
     "metadata": {},
     "output_type": "execute_result"
    }
   ],
   "source": [
    "#axis vs dim\n",
    "x = np.random.randint(1, 10,(2,3))\n",
    "print(x)\n",
    "x.mean(axis=1)"
   ]
  },
  {
   "cell_type": "code",
   "execution_count": 22,
   "metadata": {},
   "outputs": [
    {
     "name": "stdout",
     "output_type": "stream",
     "text": [
      "tensor([[ 9.,  6.,  6.],\n",
      "        [ 5.,  3.,  3.]])\n"
     ]
    },
    {
     "data": {
      "text/plain": [
       "tensor([ 7.0000,  3.6667])"
      ]
     },
     "execution_count": 22,
     "metadata": {},
     "output_type": "execute_result"
    }
   ],
   "source": [
    "y = torch.randint(1,10,(2,3))\n",
    "print(y)\n",
    "y.mean(dim=1)"
   ]
  },
  {
   "cell_type": "markdown",
   "metadata": {},
   "source": [
    "## 2.4 Variables\n",
    "\n",
    "Bis zur Version 0.4. galten Variablen in PyTorch als Wrapper um Tensoren in einem Graphen:\n",
    "<div>\n",
    "<img src=\"linear_transformation_graph.png\" align=\"left\" width=200>\n",
    "<strong>Quelle: \"Deep Learning with PyTorch\", Packt Publishing</strong> \n",
    "</div>\n",
    "\n",
    "Kreise im Graphen sind `Variablen`. Sie enthalten eine Referenz zum Tensor, zu seinem Gradienten und zur Funktion, die zu ihrer Erstellung beigetragen hat. Für `a` wäre die Funktion eine Multiplikation. Für `y` eine Addition.\n",
    "\n",
    "Ab der Version 0.4. ist der Wrapper um einen Tensor nicht mehr notwendig.\n",
    "\n",
    "Für die Berechnung des Graadienten verwendet PyTorch das Autograd-System."
   ]
  },
  {
   "cell_type": "markdown",
   "metadata": {},
   "source": [
    "### 2.5 Autograd: Gradienten in PyTorch"
   ]
  },
  {
   "cell_type": "markdown",
   "metadata": {},
   "source": [
    "Das Package `torch.autograd` bietet die Möglichkeit zur automatischen Berechnung der Ableitung bezüglich einer Variablen, die zu einem Computation Graphen gehört.\n",
    "\n",
    "Um die Funktionalität zu nutzen, muss das Flag `requires_grad` bei Tensordeklaration auf `True` gesetzt werden.\n",
    "\n",
    "Beispiel aus der Übung:"
   ]
  },
  {
   "cell_type": "code",
   "execution_count": 23,
   "metadata": {},
   "outputs": [],
   "source": [
    "# External Modules\n",
    "from graphviz import Digraph\n",
    "import numpy as np\n",
    "import hashlib\n",
    "import torch\n",
    "from torch.autograd import Variable"
   ]
  },
  {
   "cell_type": "code",
   "execution_count": 24,
   "metadata": {},
   "outputs": [
    {
     "data": {
      "image/svg+xml": [
       "<?xml version=\"1.0\" encoding=\"UTF-8\" standalone=\"no\"?>\r\n",
       "<!DOCTYPE svg PUBLIC \"-//W3C//DTD SVG 1.1//EN\"\r\n",
       " \"http://www.w3.org/Graphics/SVG/1.1/DTD/svg11.dtd\">\r\n",
       "<!-- Generated by graphviz version 2.38.0 (20140413.2041)\r\n",
       " -->\r\n",
       "<!-- Title: computational_graph Pages: 1 -->\r\n",
       "<svg width=\"522pt\" height=\"165pt\"\r\n",
       " viewBox=\"0.00 0.00 522.09 164.70\" xmlns=\"http://www.w3.org/2000/svg\" xmlns:xlink=\"http://www.w3.org/1999/xlink\">\r\n",
       "<g id=\"graph0\" class=\"graph\" transform=\"scale(1 1) rotate(0) translate(4 160.698)\">\r\n",
       "<title>computational_graph</title>\r\n",
       "<polygon fill=\"white\" stroke=\"none\" points=\"-4,4 -4,-160.698 518.088,-160.698 518.088,4 -4,4\"/>\r\n",
       "<!-- a -->\r\n",
       "<g id=\"node1\" class=\"node\"><title>a</title>\r\n",
       "<ellipse fill=\"none\" stroke=\"black\" cx=\"94\" cy=\"-138.698\" rx=\"18\" ry=\"18\"/>\r\n",
       "<text text-anchor=\"middle\" x=\"94\" y=\"-134.998\" font-family=\"Times New Roman,serif\" font-size=\"14.00\">a</text>\r\n",
       "</g>\r\n",
       "<!-- + -->\r\n",
       "<g id=\"node4\" class=\"node\"><title>+</title>\r\n",
       "<ellipse fill=\"none\" stroke=\"black\" cx=\"170\" cy=\"-117.698\" rx=\"18\" ry=\"18\"/>\r\n",
       "<text text-anchor=\"middle\" x=\"170\" y=\"-113.998\" font-family=\"Times New Roman,serif\" font-size=\"14.00\">+</text>\r\n",
       "</g>\r\n",
       "<!-- a&#45;&gt;+ -->\r\n",
       "<g id=\"edge1\" class=\"edge\"><title>a&#45;&gt;+</title>\r\n",
       "<path fill=\"none\" stroke=\"black\" d=\"M111.423,-134.037C120.556,-131.445 132.143,-128.157 142.523,-125.211\"/>\r\n",
       "<polygon fill=\"black\" stroke=\"black\" points=\"143.702,-128.515 152.367,-122.418 141.791,-121.781 143.702,-128.515\"/>\r\n",
       "</g>\r\n",
       "<!-- b -->\r\n",
       "<g id=\"node2\" class=\"node\"><title>b</title>\r\n",
       "<ellipse fill=\"none\" stroke=\"black\" cx=\"18\" cy=\"-84.6978\" rx=\"18\" ry=\"18\"/>\r\n",
       "<text text-anchor=\"middle\" x=\"18\" y=\"-80.9978\" font-family=\"Times New Roman,serif\" font-size=\"14.00\">b</text>\r\n",
       "</g>\r\n",
       "<!-- ln -->\r\n",
       "<g id=\"node5\" class=\"node\"><title>ln</title>\r\n",
       "<ellipse fill=\"none\" stroke=\"black\" cx=\"94\" cy=\"-84.6978\" rx=\"18\" ry=\"18\"/>\r\n",
       "<text text-anchor=\"middle\" x=\"94\" y=\"-80.9978\" font-family=\"Times New Roman,serif\" font-size=\"14.00\">ln</text>\r\n",
       "</g>\r\n",
       "<!-- b&#45;&gt;ln -->\r\n",
       "<g id=\"edge2\" class=\"edge\"><title>b&#45;&gt;ln</title>\r\n",
       "<path fill=\"none\" stroke=\"black\" d=\"M36.1631,-84.6978C44.9425,-84.6978 55.8374,-84.6978 65.7325,-84.6978\"/>\r\n",
       "<polygon fill=\"black\" stroke=\"black\" points=\"65.93,-88.1979 75.93,-84.6978 65.93,-81.1979 65.93,-88.1979\"/>\r\n",
       "<text text-anchor=\"middle\" x=\"56\" y=\"-88.4978\" font-family=\"Times New Roman,serif\" font-size=\"14.00\"> </text>\r\n",
       "</g>\r\n",
       "<!-- c -->\r\n",
       "<g id=\"node3\" class=\"node\"><title>c</title>\r\n",
       "<ellipse fill=\"none\" stroke=\"black\" cx=\"170\" cy=\"-63.6978\" rx=\"18\" ry=\"18\"/>\r\n",
       "<text text-anchor=\"middle\" x=\"170\" y=\"-59.9978\" font-family=\"Times New Roman,serif\" font-size=\"14.00\">c</text>\r\n",
       "</g>\r\n",
       "<!-- *  -->\r\n",
       "<g id=\"node6\" class=\"node\"><title>* </title>\r\n",
       "<ellipse fill=\"none\" stroke=\"black\" cx=\"252.698\" cy=\"-85.6978\" rx=\"18\" ry=\"18\"/>\r\n",
       "<text text-anchor=\"middle\" x=\"252.698\" y=\"-81.9978\" font-family=\"Times New Roman,serif\" font-size=\"14.00\">* </text>\r\n",
       "</g>\r\n",
       "<!-- c&#45;&gt;*  -->\r\n",
       "<g id=\"edge5\" class=\"edge\"><title>c&#45;&gt;* </title>\r\n",
       "<path fill=\"none\" stroke=\"black\" d=\"M187.721,-68.2562C198.541,-71.206 212.861,-75.11 225.21,-78.4765\"/>\r\n",
       "<polygon fill=\"black\" stroke=\"black\" points=\"224.43,-81.8917 234.999,-81.1452 226.271,-75.1382 224.43,-81.8917\"/>\r\n",
       "</g>\r\n",
       "<!-- +&#45;&gt;*  -->\r\n",
       "<g id=\"edge4\" class=\"edge\"><title>+&#45;&gt;* </title>\r\n",
       "<path fill=\"none\" stroke=\"black\" d=\"M186.943,-111.376C198.217,-106.905 213.562,-100.82 226.485,-95.6956\"/>\r\n",
       "<polygon fill=\"black\" stroke=\"black\" points=\"227.782,-98.9466 235.788,-92.0068 225.202,-92.4395 227.782,-98.9466\"/>\r\n",
       "<text text-anchor=\"middle\" x=\"208\" y=\"-106.498\" font-family=\"Times New Roman,serif\" font-size=\"14.00\"> </text>\r\n",
       "</g>\r\n",
       "<!-- ln&#45;&gt;+ -->\r\n",
       "<g id=\"edge3\" class=\"edge\"><title>ln&#45;&gt;+</title>\r\n",
       "<path fill=\"none\" stroke=\"black\" d=\"M110.693,-91.6963C120.406,-96.0277 133.091,-101.684 144.147,-106.615\"/>\r\n",
       "<polygon fill=\"black\" stroke=\"black\" points=\"142.771,-109.833 153.329,-110.709 145.622,-103.44 142.771,-109.833\"/>\r\n",
       "<text text-anchor=\"middle\" x=\"132\" y=\"-104.498\" font-family=\"Times New Roman,serif\" font-size=\"14.00\"> </text>\r\n",
       "</g>\r\n",
       "<!-- * -->\r\n",
       "<g id=\"node7\" class=\"node\"><title>*</title>\r\n",
       "<ellipse fill=\"none\" stroke=\"black\" cx=\"332.396\" cy=\"-45.6978\" rx=\"18\" ry=\"18\"/>\r\n",
       "<text text-anchor=\"middle\" x=\"332.396\" y=\"-41.9978\" font-family=\"Times New Roman,serif\" font-size=\"14.00\">*</text>\r\n",
       "</g>\r\n",
       "<!-- * &#45;&gt;* -->\r\n",
       "<g id=\"edge6\" class=\"edge\"><title>* &#45;&gt;*</title>\r\n",
       "<path fill=\"none\" stroke=\"black\" d=\"M269.048,-77.7951C279.903,-72.207 294.678,-64.6006 307.12,-58.1951\"/>\r\n",
       "<polygon fill=\"black\" stroke=\"black\" points=\"308.788,-61.2732 316.077,-53.5841 305.584,-55.0495 308.788,-61.2732\"/>\r\n",
       "</g>\r\n",
       "<!-- 1/x -->\r\n",
       "<g id=\"node9\" class=\"node\"><title>1/x</title>\r\n",
       "<ellipse fill=\"none\" stroke=\"black\" cx=\"409.494\" cy=\"-45.6978\" rx=\"22.1965\" ry=\"22.1965\"/>\r\n",
       "<text text-anchor=\"middle\" x=\"409.494\" y=\"-41.9978\" font-family=\"Times New Roman,serif\" font-size=\"14.00\">1/x</text>\r\n",
       "</g>\r\n",
       "<!-- *&#45;&gt;1/x -->\r\n",
       "<g id=\"edge8\" class=\"edge\"><title>*&#45;&gt;1/x</title>\r\n",
       "<path fill=\"none\" stroke=\"black\" d=\"M350.437,-45.6978C358.36,-45.6978 368.041,-45.6978 377.209,-45.6978\"/>\r\n",
       "<polygon fill=\"black\" stroke=\"black\" points=\"377.221,-49.1979 387.221,-45.6978 377.221,-42.1979 377.221,-49.1979\"/>\r\n",
       "</g>\r\n",
       "<!-- 1/3  -->\r\n",
       "<g id=\"node8\" class=\"node\"><title>1/3 </title>\r\n",
       "<ellipse fill=\"none\" stroke=\"black\" cx=\"252.698\" cy=\"-24.6978\" rx=\"24.8972\" ry=\"24.8972\"/>\r\n",
       "<text text-anchor=\"middle\" x=\"252.698\" y=\"-20.9978\" font-family=\"Times New Roman,serif\" font-size=\"14.00\">1/3 </text>\r\n",
       "</g>\r\n",
       "<!-- 1/3 &#45;&gt;* -->\r\n",
       "<g id=\"edge7\" class=\"edge\"><title>1/3 &#45;&gt;*</title>\r\n",
       "<path fill=\"none\" stroke=\"black\" d=\"M277.01,-30.9985C285.844,-33.3861 295.961,-36.1205 305.054,-38.5783\"/>\r\n",
       "<polygon fill=\"black\" stroke=\"black\" points=\"304.196,-41.972 314.763,-41.2024 306.023,-35.2144 304.196,-41.972\"/>\r\n",
       "</g>\r\n",
       "<!-- out -->\r\n",
       "<g id=\"node10\" class=\"node\"><title>out</title>\r\n",
       "<ellipse fill=\"none\" stroke=\"black\" cx=\"491.34\" cy=\"-45.6978\" rx=\"22.9987\" ry=\"22.9987\"/>\r\n",
       "<text text-anchor=\"middle\" x=\"491.34\" y=\"-41.9978\" font-family=\"Times New Roman,serif\" font-size=\"14.00\">out</text>\r\n",
       "</g>\r\n",
       "<!-- 1/x&#45;&gt;out -->\r\n",
       "<g id=\"edge9\" class=\"edge\"><title>1/x&#45;&gt;out</title>\r\n",
       "<path fill=\"none\" stroke=\"black\" d=\"M431.891,-45.6978C439.992,-45.6978 449.401,-45.6978 458.272,-45.6978\"/>\r\n",
       "<polygon fill=\"black\" stroke=\"black\" points=\"458.327,-49.1979 468.327,-45.6978 458.327,-42.1979 458.327,-49.1979\"/>\r\n",
       "</g>\r\n",
       "</g>\r\n",
       "</svg>\r\n"
      ],
      "text/plain": [
       "<graphviz.dot.Digraph at 0x29368561208>"
      ]
     },
     "execution_count": 24,
     "metadata": {},
     "output_type": "execute_result"
    }
   ],
   "source": [
    "# creating empty graph ad set some attributes\n",
    "f = Digraph('computational_graph', filename='graph_clean.gv')\n",
    "f.attr(rankdir='LR')\n",
    "f.attr('node', shape='circle')\n",
    "\n",
    "# create the graph\n",
    "f.node('a')\n",
    "f.node('b')\n",
    "f.node('c')\n",
    "f.edge('a', '+', label='')\n",
    "f.edge('b', 'ln', label=' ')\n",
    "f.edge('ln', '+', label=' ')\n",
    "f.edge('+','* ', label=' ')\n",
    "f.edge('c','* ')\n",
    "f.edge('* ', '*')\n",
    "f.edge('1/3 ', '*')\n",
    "f.edge('*','1/x')\n",
    "f.edge('1/x','out')\n",
    "\n",
    "f"
   ]
  },
  {
   "cell_type": "markdown",
   "metadata": {},
   "source": [
    "Im Graphen sind 3 Variablen:\n",
    "- a (2)\n",
    "- b (e)\n",
    "- c (3)\n",
    "\n",
    "Setzt man das Flag von diesen Variablen auf True, dann werden all die Operationen, die diese Variablen betreffen, vom Framework automatisch registriert. \n",
    "\n",
    "Am Ende eines Forward-Schrittes ist es möglich, die Funktion `backward()` aus `torch.autograd` aufzurufen, die den Backward-Pass brechnet. \n",
    "\n",
    "Jeder Tensor bzw. jede Variable in einem Graphen verfügt über Attributen bezüglich Gradienten, erzeugender Funktion: \n",
    "- `grad` liefert Wert des Gradiente\n",
    "- `grad_fn` zeigt die auf der Variablen angewandte Operationsart (Logarithmus, Summe, Multiplikation, usw.)"
   ]
  },
  {
   "cell_type": "code",
   "execution_count": 25,
   "metadata": {},
   "outputs": [
    {
     "name": "stdout",
     "output_type": "stream",
     "text": [
      "tensor(2.) tensor(2.7183) tensor(3.)\n",
      "Variable a:  tensor(2.)\n"
     ]
    }
   ],
   "source": [
    "#Tensor deklariation\n",
    "a = torch.tensor(2., requires_grad=True)\n",
    "\n",
    "#Vor Version 0.4:\n",
    "a_var = Variable(torch.tensor(2., requires_grad=True))\n",
    "\n",
    "b = torch.tensor(np.e, requires_grad=True)\n",
    "c = torch.tensor(3., requires_grad=True)\n",
    "dummy = torch.tensor(1)\n",
    "print(a, b, c)\n",
    "print(\"Variable a: \", a)"
   ]
  },
  {
   "cell_type": "code",
   "execution_count": 26,
   "metadata": {},
   "outputs": [
    {
     "name": "stdout",
     "output_type": "stream",
     "text": [
      "None None None None\n",
      "True True True False\n"
     ]
    }
   ],
   "source": [
    "print(a.grad, b.grad, c.grad, dummy.grad)\n",
    "print(a.requires_grad, b.requires_grad, c.requires_grad, dummy.requires_grad)"
   ]
  },
  {
   "cell_type": "code",
   "execution_count": 27,
   "metadata": {},
   "outputs": [],
   "source": [
    "def applyExerciseFunction(a,b,c):\n",
    "    ln = torch.log(b)\n",
    "    print(ln.grad_fn)\n",
    "    x = a + ln \n",
    "    print(x.grad_fn)\n",
    "    x = c * x\n",
    "    print(x.grad_fn)\n",
    "    x = (1./3.)*x\n",
    "    print(x.grad_fn)\n",
    "    out = 1./x\n",
    "    print(out.grad_fn)\n",
    "    return out"
   ]
  },
  {
   "cell_type": "code",
   "execution_count": 28,
   "metadata": {},
   "outputs": [
    {
     "name": "stdout",
     "output_type": "stream",
     "text": [
      "<LogBackward object at 0x0000029368559B70>\n",
      "<AddBackward1 object at 0x0000029368559B70>\n",
      "<MulBackward1 object at 0x0000029368559B70>\n",
      "<MulBackward0 object at 0x0000029368559B70>\n",
      "<MulBackward0 object at 0x0000029368559CF8>\n",
      "Ergebnis aus Fowardpass:  tensor(0.3333)\n"
     ]
    }
   ],
   "source": [
    "out =  applyExerciseFunction(a,b,c) #1/3\n",
    "print(\"Ergebnis aus Fowardpass: \", out) #1./3."
   ]
  },
  {
   "cell_type": "code",
   "execution_count": 29,
   "metadata": {},
   "outputs": [],
   "source": [
    "out.backward(retain_graph=True)#retain_graph bei großen Berechnungen nicht verwenden"
   ]
  },
  {
   "cell_type": "code",
   "execution_count": 30,
   "metadata": {
    "scrolled": true
   },
   "outputs": [
    {
     "name": "stdout",
     "output_type": "stream",
     "text": [
      "dout/da:  tensor(-0.1111)\n",
      "dout/db:  tensor(1.00000e-02 *\n",
      "       -4.0875)\n",
      "dout/dc:  tensor(-0.1111)\n"
     ]
    }
   ],
   "source": [
    "print(\"dout/da: \", a.grad)\n",
    "print(\"dout/db: \", b.grad)\n",
    "print(\"dout/dc: \", c.grad)"
   ]
  },
  {
   "cell_type": "code",
   "execution_count": 31,
   "metadata": {},
   "outputs": [
    {
     "name": "stdout",
     "output_type": "stream",
     "text": [
      "None\n",
      "Exception: element 0 of tensors does not require grad and does not have a grad_fn\n",
      "None\n"
     ]
    }
   ],
   "source": [
    "z = dummy + 2\n",
    "print(z.grad_fn)\n",
    "try:\n",
    "    z.backward()\n",
    "except RuntimeError as e:\n",
    "    print(\"Exception:\", e)\n",
    "print(dummy.grad)"
   ]
  },
  {
   "cell_type": "markdown",
   "metadata": {},
   "source": [
    "### 2.5 CUDA und PyTorch\n",
    "\n",
    "PyTorch unterstützt [CUDA](https://pytorch.org/docs/stable/notes/cuda.html), also GPU-Berechnungen. Tensors können mit `.cuda()` und `.cpu()` hin und her gepspeichert werden."
   ]
  },
  {
   "cell_type": "code",
   "execution_count": 32,
   "metadata": {},
   "outputs": [],
   "source": [
    "x = torch.randn((60,7))\n",
    "y = torch.randn((60,7))\n",
    "\n",
    "cuda = torch.device('cuda')     # Default CUDA device\n",
    "\n",
    "if torch.cuda.is_available():\n",
    "    # transfers a tensor from CPU to GPU 1\n",
    "    x = x.cuda()\n",
    "    y = y.to(device=cuda)\n",
    "    z = torch.randint(10, (60,7), device=cuda)\n",
    "result = x+y+z"
   ]
  },
  {
   "cell_type": "code",
   "execution_count": 33,
   "metadata": {},
   "outputs": [
    {
     "name": "stdout",
     "output_type": "stream",
     "text": [
      "cuda:0 cuda:0 cuda:0\n"
     ]
    }
   ],
   "source": [
    "print(x.device, y.device, z.device)"
   ]
  },
  {
   "cell_type": "code",
   "execution_count": 34,
   "metadata": {},
   "outputs": [
    {
     "name": "stdout",
     "output_type": "stream",
     "text": [
      "cpu\n",
      "cpu\n"
     ]
    }
   ],
   "source": [
    "x_cpu = x.cpu()\n",
    "y_cpu = y.cpu()\n",
    "\n",
    "print(x_cpu.device)\n",
    "print(y_cpu.device)"
   ]
  },
  {
   "cell_type": "markdown",
   "metadata": {},
   "source": [
    "## 3. Neuronale Netze in PyTorch: `torch.nn` und `torchvision`"
   ]
  },
  {
   "cell_type": "markdown",
   "metadata": {},
   "source": [
    "### Das Package `torch.nn`\n",
    "\n",
    "Neuronale Netze können in PyTorch einfach mit dem Objekten und Funktionen aus dem Modul [`torch.nn`](https://pytorch.org/docs/stable/nn.html#) erzeugt werden.\n",
    "\n",
    "Das Package bietet Klassen für \n",
    "* die allgemeine Definition eines Modells (sog. [Container](https://pytorch.org/docs/stable/nn.html#containers)), sowie dessen \n",
    "* Layers, \n",
    "* Aktivierungsfunktionen, \n",
    "* Kostenfuntkionen ([Loss functions](https://pytorch.org/docs/stable/nn.html#loss-functions))\n",
    "\n",
    "Optimizer sind im Package [`torch.optim`](https://pytorch.org/docs/stable/optim.html#module-torch.optim) zu finden.\n",
    "Funktionen sind auch im Package `torch.nn.functional` verfügbar.\n",
    "\n",
    "\n",
    "### Das Package `torchvision`\n",
    "\n",
    "Viele Datensätze sind mit dem Package [`torchvision.datasets`](https://pytorch.org/docs/stable/torchvision/datasets.html#torchvision-datasets) verfügbar.\n",
    "Vortrainierte Modelle sind in [`torchvision.models`](https://pytorch.org/docs/stable/torchvision/models.html#torchvision-models) enthalten.\n",
    "\n",
    "Außerdem bietet `torchvision` das Package `torchvision.transforms` mit Funktionen zur Verarbeitung von Bildern.\n",
    "\n",
    "Transformationen sind übliche Bildverarbeitungsmöglichkeiten, die mittels `Compose` verkettet werden können, wie z.B. Padding mit `Pad`, Rotation, Zuschneiden, redimensionieren, Skalierung, sowie Umwandlungen von und nach Tensoren:\n",
    "- `ToTensor()` wandelt ein Bild in ein Tensor und reduziert automatisch den Range von $[0,255]$ zu $[0,1]$\n",
    "- `Normalize()` verändert ien Bild mit einem festen Durchschnitt (mean) und fester Standardabweichung. Die Normalisierung erfolgt folgendermaßen:\n",
    "$ input[channel] = (input[channel] - mean[channel]) / std[channel] $ (siehe [\"Transforms on torch.*Tensor\"](https://pytorch.org/docs/stable/torchvision/transforms.html#transforms-on-torch-tensor).\n"
   ]
  },
  {
   "cell_type": "markdown",
   "metadata": {},
   "source": [
    "## 3.1 Modell definieren\n",
    "\n",
    "Notwendige Schritte:\n",
    "\n",
    "1. Input-Daten\n",
    "2. Netzwerk-Architektur:\n",
    "    - Layers\n",
    "    - Funktionen\n",
    "3. Loss-Funktion\n",
    "4. Netzwerk-Optimizer\n",
    "\n",
    "<img src=\"architecture.png\" align=\"left\">\n",
    "<strong>Quelle: \"Deep Learning with PyTorch\", Packt Publishing </strong>\n",
    "Anmerkung: Ab der Version 0.4 kann Variable ein Tensor sein!"
   ]
  },
  {
   "cell_type": "markdown",
   "metadata": {},
   "source": [
    "### Input-Daten: MNIST-Dataset"
   ]
  },
  {
   "cell_type": "code",
   "execution_count": 35,
   "metadata": {},
   "outputs": [],
   "source": [
    "import torch\n",
    "import torchvision\n",
    "import torchvision.transforms as transforms\n",
    "import torchvision.datasets as datasets\n",
    "\n",
    "\n",
    "%matplotlib inline\n",
    "%config InlineBackend.figure_format = 'retina'\n",
    "\n",
    "import matplotlib.pyplot as plt\n",
    "import numpy as np"
   ]
  },
  {
   "cell_type": "code",
   "execution_count": 36,
   "metadata": {},
   "outputs": [],
   "source": [
    "batch_size = 100"
   ]
  },
  {
   "cell_type": "code",
   "execution_count": 37,
   "metadata": {},
   "outputs": [
    {
     "data": {
      "text/plain": [
       "Compose(\n",
       "    ToTensor()\n",
       "    Normalize(mean=(0.1307,), std=(0.3081,))\n",
       ")"
      ]
     },
     "execution_count": 37,
     "metadata": {},
     "output_type": "execute_result"
    }
   ],
   "source": [
    "# Define a transform to normalize the data\n",
    "transformation = transforms.Compose([transforms.ToTensor(),\n",
    "                                     transforms.Normalize((0.1307,), (0.3081,))])\n",
    "\n",
    "\n",
    "transformation"
   ]
  },
  {
   "cell_type": "code",
   "execution_count": 38,
   "metadata": {},
   "outputs": [],
   "source": [
    "train_dataset = datasets.MNIST('data/',train=True,transform=transformation,download=True)\n",
    "test_dataset = datasets.MNIST('data/',train=False,transform=transformation,download=True)\n",
    "\n",
    "train_loader = torch.utils.data.DataLoader(train_dataset,batch_size=batch_size,shuffle=True)\n",
    "test_loader = torch.utils.data.DataLoader(test_dataset,batch_size=batch_size,shuffle=True)"
   ]
  },
  {
   "cell_type": "code",
   "execution_count": 39,
   "metadata": {},
   "outputs": [
    {
     "data": {
      "text/plain": [
       "Dataset MNIST\n",
       "    Number of datapoints: 60000\n",
       "    Split: train\n",
       "    Root Location: data/\n",
       "    Transforms (if any): Compose(\n",
       "                             ToTensor()\n",
       "                             Normalize(mean=(0.1307,), std=(0.3081,))\n",
       "                         )\n",
       "    Target Transforms (if any): None"
      ]
     },
     "execution_count": 39,
     "metadata": {},
     "output_type": "execute_result"
    }
   ],
   "source": [
    "train_dataset"
   ]
  },
  {
   "cell_type": "code",
   "execution_count": 40,
   "metadata": {},
   "outputs": [],
   "source": [
    "#Packt publishing\n",
    "def plot_img(image):\n",
    "    image = image.numpy()[0]\n",
    "    mean = 0.1307\n",
    "    std = 0.3081\n",
    "    image = ((mean * image) + std)\n",
    "    plt.imshow(image,cmap='binary', interpolation='bicubic')"
   ]
  },
  {
   "cell_type": "code",
   "execution_count": 41,
   "metadata": {},
   "outputs": [
    {
     "name": "stdout",
     "output_type": "stream",
     "text": [
      "torch.Size([100, 1, 28, 28])\n"
     ]
    },
    {
     "data": {
      "image/png": "[encoded data removed]",
      "text/plain": [
       "<Figure size 432x288 with 1 Axes>"
      ]
     },
     "metadata": {
      "image/png": {
       "height": 250,
       "width": 253
      },
      "needs_background": "light"
     },
     "output_type": "display_data"
    }
   ],
   "source": [
    "sample_data = next(iter(train_loader))\n",
    "plot_img(sample_data[0][2])\n",
    "print(sample_data[0].shape)"
   ]
  },
  {
   "cell_type": "markdown",
   "metadata": {},
   "source": [
    "### Netzwerk-Architektur: Layers in PyTorch\n",
    "\n",
    "Lineare Transformation:\n",
    "$y = Wx + b$\n",
    "\n",
    "Ein Layer für eine Lineare Transformation kann man direkt vom Package `torch.nn` mit der Klasse `Linear` erzeugen.\n",
    "\n",
    "Alle Objekte vom PyTorch Framework können an den Input-Variablen direkt angewendet werden, als wären sie Funktionen!\n",
    "\n",
    "Beispiel:\n",
    "- Lineares Layer mit:\n",
    "    * Input-Features der Dimension 10\n",
    "    * Output der Dimension 5 (Labels)\n",
    "    \n",
    "Wenn keine manuelle Änderungen stattfinden, erzeugt PyTorch Gewichte und Bias-Werte automatisch und in der entsprechenden Dimension.\n",
    "Hier:\n",
    "- W Matrix mit Dimension (10x5)\n",
    "- b Vektor mit Dimension (5x1)"
   ]
  },
  {
   "cell_type": "code",
   "execution_count": 42,
   "metadata": {},
   "outputs": [],
   "source": [
    "from torch.nn import Linear"
   ]
  },
  {
   "cell_type": "code",
   "execution_count": 43,
   "metadata": {},
   "outputs": [],
   "source": [
    "myLayer = Linear(in_features=10,out_features=5,bias=True)"
   ]
  },
  {
   "cell_type": "code",
   "execution_count": 44,
   "metadata": {},
   "outputs": [
    {
     "name": "stdout",
     "output_type": "stream",
     "text": [
      "Input-Werte:\n",
      " tensor([[ 2.,  2.,  1.,  4.,  2.,  4.,  4.,  1.,  4.,  4.]])\n",
      "torch.Size([1, 10])\n"
     ]
    }
   ],
   "source": [
    "inp = Variable(torch.randint(1,5,(1,10))) #Oder direkt der Tensor ab 0.4\n",
    "print(\"Input-Werte:\\n\", inp)\n",
    "print(inp.size())"
   ]
  },
  {
   "cell_type": "code",
   "execution_count": 45,
   "metadata": {},
   "outputs": [
    {
     "name": "stdout",
     "output_type": "stream",
     "text": [
      "Gewichte: Parameter containing:\n",
      "tensor([[ 0.1073, -0.1884,  0.0481, -0.0568, -0.1302, -0.1255,  0.0132,\n",
      "         -0.2533,  0.1113, -0.0897],\n",
      "        [ 0.1987, -0.0909, -0.2683, -0.2091,  0.3072,  0.2642,  0.0669,\n",
      "         -0.2386,  0.2216,  0.0632],\n",
      "        [-0.0709, -0.0975,  0.2822,  0.1696, -0.2198, -0.1686,  0.0180,\n",
      "         -0.2905,  0.1538,  0.1391],\n",
      "        [ 0.2931,  0.1011, -0.2092, -0.1195, -0.1067,  0.2961, -0.1023,\n",
      "          0.1521, -0.2199, -0.2651],\n",
      "        [ 0.0599,  0.2856,  0.2786,  0.1516,  0.1956,  0.0904,  0.2845,\n",
      "          0.0578, -0.2925, -0.2203]])\n",
      "torch.Size([5, 10])\n",
      "Bias: Parameter containing:\n",
      "tensor([ 0.2717,  0.1467,  0.2478, -0.3028,  0.1329])\n",
      "torch.Size([5])\n"
     ]
    }
   ],
   "source": [
    "#Weights werden vom Framework automatisch erzeugt\n",
    "print(\"Gewichte:\", myLayer.weight) # W\n",
    "print(myLayer.weight.size()) #(5,10)\n",
    "print(\"Bias:\", myLayer.bias) #b\n",
    "print(myLayer.bias.size()) #(5,1)"
   ]
  },
  {
   "cell_type": "code",
   "execution_count": 46,
   "metadata": {},
   "outputs": [
    {
     "data": {
      "text/plain": [
       "tensor([[-0.9459,  2.0977,  0.7110, -1.4280,  1.6064]])"
      ]
     },
     "execution_count": 46,
     "metadata": {},
     "output_type": "execute_result"
    }
   ],
   "source": [
    "myLayer(inp) #Lineare Transformation: berechnet Wx+b"
   ]
  },
  {
   "cell_type": "markdown",
   "metadata": {},
   "source": [
    "### Layers verschachteln"
   ]
  },
  {
   "cell_type": "code",
   "execution_count": 47,
   "metadata": {},
   "outputs": [
    {
     "data": {
      "text/plain": [
       "tensor([[-0.1805, -0.0736]])"
      ]
     },
     "execution_count": 47,
     "metadata": {},
     "output_type": "execute_result"
    }
   ],
   "source": [
    "myLayer1 = Linear(10,5) #out aus myLayer1\n",
    "myLayer2 = Linear(5,2) #ist in für myLayer2\n",
    "myLayer2(myLayer1(inp))"
   ]
  },
  {
   "cell_type": "markdown",
   "metadata": {},
   "source": [
    "### Nicht-lineare Aktivierungsfunktionen"
   ]
  },
  {
   "cell_type": "code",
   "execution_count": 48,
   "metadata": {},
   "outputs": [],
   "source": [
    "import torch"
   ]
  },
  {
   "cell_type": "code",
   "execution_count": 49,
   "metadata": {},
   "outputs": [
    {
     "data": {
      "text/plain": [
       "tensor([[ 1.,  2.,  0.,  0.]])"
      ]
     },
     "execution_count": 49,
     "metadata": {},
     "output_type": "execute_result"
    }
   ],
   "source": [
    "sample_data = Variable(torch.Tensor([[1,2,-1,-1]]))\n",
    "myRelu = torch.nn.ReLU()\n",
    "myRelu(sample_data)"
   ]
  },
  {
   "cell_type": "code",
   "execution_count": 50,
   "metadata": {},
   "outputs": [
    {
     "data": {
      "text/plain": [
       "tensor([[ 0.7311,  0.8808,  0.2689,  0.2689]])"
      ]
     },
     "execution_count": 50,
     "metadata": {},
     "output_type": "execute_result"
    }
   ],
   "source": [
    "sample_data = Variable(torch.Tensor([[1,2,-1,-1]]))\n",
    "mySigmoid = torch.nn.Sigmoid()\n",
    "mySigmoid(sample_data)"
   ]
  },
  {
   "cell_type": "markdown",
   "metadata": {},
   "source": [
    "### Variante mit `nn.Module`"
   ]
  },
  {
   "cell_type": "code",
   "execution_count": 51,
   "metadata": {},
   "outputs": [],
   "source": [
    "from torch import nn"
   ]
  },
  {
   "cell_type": "code",
   "execution_count": 52,
   "metadata": {},
   "outputs": [],
   "source": [
    "class SimpleClassfier(nn.Module):\n",
    "    def __init__(self):\n",
    "        super(SimpleClassfier, self).__init__()\n",
    "        # Inputs to hidden layer linear transformation        \n",
    "        self.hidden = nn.Linear(784, 256)#input and output size\n",
    "        # Output layer, 10 units - one for each digit\n",
    "        self.output = nn.Linear(256, 10)\n",
    "        \n",
    "        # Define sigmoid activation and softmax output \n",
    "        self.sigmoid = nn.Sigmoid() \n",
    "        self.softmax = nn.Softmax(dim=1)\n",
    "        \n",
    "    def forward(self, x):\n",
    "        # Pass the input tensor through each of our operations\n",
    "        x = self.hidden(x)\n",
    "        x = self.sigmoid(x)\n",
    "        x = self.output(x)\n",
    "        x = self.softmax(x)      \n",
    "        return x"
   ]
  },
  {
   "cell_type": "code",
   "execution_count": 53,
   "metadata": {},
   "outputs": [
    {
     "data": {
      "text/plain": [
       "SimpleClassfier(\n",
       "  (hidden): Linear(in_features=784, out_features=256, bias=True)\n",
       "  (output): Linear(in_features=256, out_features=10, bias=True)\n",
       "  (sigmoid): Sigmoid()\n",
       "  (softmax): Softmax()\n",
       ")"
      ]
     },
     "execution_count": 53,
     "metadata": {},
     "output_type": "execute_result"
    }
   ],
   "source": [
    "model = SimpleClassfier()\n",
    "model"
   ]
  },
  {
   "cell_type": "markdown",
   "metadata": {},
   "source": [
    "### Variante mit `nn.functional`"
   ]
  },
  {
   "cell_type": "code",
   "execution_count": 54,
   "metadata": {},
   "outputs": [],
   "source": [
    "import torch.nn.functional as F"
   ]
  },
  {
   "cell_type": "code",
   "execution_count": 55,
   "metadata": {},
   "outputs": [],
   "source": [
    "# Mit Sigmoid and Softmax\n",
    "class SimpleClassfierF(nn.Module):\n",
    "    def __init__(self):\n",
    "        super().__init__()\n",
    "        # Inputs to hidden layer linear transformation\n",
    "        self.hidden = nn.Linear(784, 256)\n",
    "        # Output layer, 10 units - one for each digit\n",
    "        self.output = nn.Linear(256, 10)\n",
    "        \n",
    "    def forward(self, x):\n",
    "        # Hidden layer with sigmoid activation\n",
    "        x = F.sigmoid(self.hidden(x))\n",
    "        # Output layer with softmax activation\n",
    "        x = F.softmax(self.output(x), dim=1)\n",
    "        \n",
    "        return x"
   ]
  },
  {
   "cell_type": "code",
   "execution_count": 56,
   "metadata": {},
   "outputs": [
    {
     "data": {
      "text/plain": [
       "SimpleClassfierF(\n",
       "  (hidden): Linear(in_features=784, out_features=256, bias=True)\n",
       "  (output): Linear(in_features=256, out_features=10, bias=True)\n",
       ")"
      ]
     },
     "execution_count": 56,
     "metadata": {},
     "output_type": "execute_result"
    }
   ],
   "source": [
    "modelF = SimpleClassfierF()\n",
    "modelF"
   ]
  },
  {
   "cell_type": "markdown",
   "metadata": {},
   "source": [
    "### Variante mit `nn.Sequential`"
   ]
  },
  {
   "cell_type": "code",
   "execution_count": 57,
   "metadata": {},
   "outputs": [
    {
     "name": "stdout",
     "output_type": "stream",
     "text": [
      "Sequential(\n",
      "  (0): Linear(in_features=784, out_features=128, bias=True)\n",
      "  (1): ReLU()\n",
      "  (2): Linear(in_features=128, out_features=64, bias=True)\n",
      "  (3): ReLU()\n",
      "  (4): Linear(in_features=64, out_features=10, bias=True)\n",
      "  (5): Softmax()\n",
      ")\n",
      "Linear(in_features=784, out_features=128, bias=True)\n"
     ]
    }
   ],
   "source": [
    "# Hyperparameters for our network\n",
    "input_size = 784\n",
    "hidden_sizes = [128, 64]\n",
    "output_size = 10\n",
    "\n",
    "# Build a feed-forward network\n",
    "model = nn.Sequential(nn.Linear(input_size, hidden_sizes[0]),\n",
    "                      nn.ReLU(),\n",
    "                      nn.Linear(hidden_sizes[0], hidden_sizes[1]),\n",
    "                      nn.ReLU(),\n",
    "                      nn.Linear(hidden_sizes[1], output_size),\n",
    "                      nn.Softmax(dim=1))\n",
    "print(model)\n",
    "print(model[0]) #Zugriff auf first layer"
   ]
  },
  {
   "cell_type": "markdown",
   "metadata": {},
   "source": [
    "### Variante mit `nn.Sequential` und Pipeline als `OrderedDict`"
   ]
  },
  {
   "cell_type": "code",
   "execution_count": 58,
   "metadata": {},
   "outputs": [
    {
     "name": "stdout",
     "output_type": "stream",
     "text": [
      "Sequential(\n",
      "  (fc1): Linear(in_features=784, out_features=128, bias=True)\n",
      "  (relu1): ReLU()\n",
      "  (fc2): Linear(in_features=128, out_features=64, bias=True)\n",
      "  (relu2): ReLU()\n",
      "  (output): Linear(in_features=64, out_features=10, bias=True)\n",
      "  (softmax): Softmax()\n",
      ")\n",
      "Linear(in_features=784, out_features=128, bias=True)\n",
      "Linear(in_features=784, out_features=128, bias=True)\n"
     ]
    }
   ],
   "source": [
    "from collections import OrderedDict\n",
    "model = nn.Sequential(OrderedDict([\n",
    "                      ('fc1', nn.Linear(input_size, hidden_sizes[0])),\n",
    "                      ('relu1', nn.ReLU()),\n",
    "                      ('fc2', nn.Linear(hidden_sizes[0], hidden_sizes[1])),\n",
    "                      ('relu2', nn.ReLU()),\n",
    "                      ('output', nn.Linear(hidden_sizes[1], output_size)),\n",
    "                      ('softmax', nn.Softmax(dim=1))]))\n",
    "print(model)\n",
    "print(model[0]) #Zugriff auf fc1\n",
    "print(model.fc1)"
   ]
  },
  {
   "cell_type": "markdown",
   "metadata": {},
   "source": [
    "### Gewichte und Bias\n",
    "\n",
    "PyTorch initialisiert automatisch Gewichte und Bias für die Modelle, die aus Klassen im Package `nn` erben.\n",
    "\n"
   ]
  },
  {
   "cell_type": "markdown",
   "metadata": {},
   "source": [
    "## 4. Netze in PyTorch\n",
    "\n",
    "1. Datensatz laden und vorbereiten\n",
    "2. Modell-Klasse definieren\n",
    "3. Loss-Criterion festlegen\n",
    "4. Opzimizer instanzieren\n",
    "8. Modell trainieren und Genauigkeit berechnen"
   ]
  },
  {
   "cell_type": "code",
   "execution_count": 59,
   "metadata": {},
   "outputs": [],
   "source": [
    "import torch\n",
    "import torch.nn as nn\n",
    "import torchvision.transforms as transforms\n",
    "import torchvision.datasets as datasets"
   ]
  },
  {
   "cell_type": "code",
   "execution_count": 60,
   "metadata": {},
   "outputs": [],
   "source": [
    "is_cuda=False\n",
    "if torch.cuda.is_available():\n",
    "    is_cuda = True"
   ]
  },
  {
   "cell_type": "markdown",
   "metadata": {},
   "source": [
    "### 4.1 SimpleClassifier\n",
    "\n",
    "Source: https://www.kaggle.com/negation/pytorch-logistic-regression-tutorial"
   ]
  },
  {
   "cell_type": "code",
   "execution_count": 61,
   "metadata": {},
   "outputs": [],
   "source": [
    "# Hyper Parameters \n",
    "input_size = 784\n",
    "num_classes = 10\n",
    "num_epochs = 10\n",
    "batch_size = 100\n",
    "learning_rate = 0.001"
   ]
  },
  {
   "cell_type": "code",
   "execution_count": 62,
   "metadata": {},
   "outputs": [],
   "source": [
    "# Model\n",
    "class LogisticRegression(nn.Module):\n",
    "    def __init__(self, input_size, num_classes):\n",
    "        super(LogisticRegression, self).__init__()\n",
    "        self.linear = nn.Linear(input_size, num_classes)\n",
    "    \n",
    "    def forward(self, x):\n",
    "        out = self.linear(x)\n",
    "        return out"
   ]
  },
  {
   "cell_type": "code",
   "execution_count": 63,
   "metadata": {},
   "outputs": [],
   "source": [
    "model = LogisticRegression(input_size, num_classes)"
   ]
  },
  {
   "cell_type": "code",
   "execution_count": 64,
   "metadata": {},
   "outputs": [],
   "source": [
    "# Loss and Optimizer\n",
    "# Softmax is internally computed.\n",
    "# Set parameters to be updated.\n",
    "criterion = nn.CrossEntropyLoss()  \n",
    "optimizer = torch.optim.SGD(model.parameters(), lr=learning_rate)  "
   ]
  },
  {
   "cell_type": "code",
   "execution_count": 65,
   "metadata": {},
   "outputs": [
    {
     "name": "stdout",
     "output_type": "stream",
     "text": [
      "Epoch: [1/10], Step: [100/600], Loss: 1.6007\n",
      "Epoch: [1/10], Step: [200/600], Loss: 1.1817\n",
      "Epoch: [1/10], Step: [300/600], Loss: 1.0694\n",
      "Epoch: [1/10], Step: [400/600], Loss: 0.7769\n",
      "Epoch: [1/10], Step: [500/600], Loss: 0.9006\n",
      "Epoch: [1/10], Step: [600/600], Loss: 0.6116\n",
      "Epoch: [2/10], Step: [100/600], Loss: 0.6411\n",
      "Epoch: [2/10], Step: [200/600], Loss: 0.7966\n",
      "Epoch: [2/10], Step: [300/600], Loss: 0.6724\n",
      "Epoch: [2/10], Step: [400/600], Loss: 0.8100\n",
      "Epoch: [2/10], Step: [500/600], Loss: 0.5546\n",
      "Epoch: [2/10], Step: [600/600], Loss: 0.5087\n",
      "Epoch: [3/10], Step: [100/600], Loss: 0.6567\n",
      "Epoch: [3/10], Step: [200/600], Loss: 0.5877\n",
      "Epoch: [3/10], Step: [300/600], Loss: 0.6294\n",
      "Epoch: [3/10], Step: [400/600], Loss: 0.4328\n",
      "Epoch: [3/10], Step: [500/600], Loss: 0.5503\n",
      "Epoch: [3/10], Step: [600/600], Loss: 0.4010\n",
      "Epoch: [4/10], Step: [100/600], Loss: 0.4871\n",
      "Epoch: [4/10], Step: [200/600], Loss: 0.3840\n",
      "Epoch: [4/10], Step: [300/600], Loss: 0.5556\n",
      "Epoch: [4/10], Step: [400/600], Loss: 0.4888\n",
      "Epoch: [4/10], Step: [500/600], Loss: 0.3857\n",
      "Epoch: [4/10], Step: [600/600], Loss: 0.3379\n",
      "Epoch: [5/10], Step: [100/600], Loss: 0.5002\n",
      "Epoch: [5/10], Step: [200/600], Loss: 0.4098\n",
      "Epoch: [5/10], Step: [300/600], Loss: 0.4474\n",
      "Epoch: [5/10], Step: [400/600], Loss: 0.4130\n",
      "Epoch: [5/10], Step: [500/600], Loss: 0.4606\n",
      "Epoch: [5/10], Step: [600/600], Loss: 0.3931\n",
      "Epoch: [6/10], Step: [100/600], Loss: 0.4129\n",
      "Epoch: [6/10], Step: [200/600], Loss: 0.4924\n",
      "Epoch: [6/10], Step: [300/600], Loss: 0.4010\n",
      "Epoch: [6/10], Step: [400/600], Loss: 0.2913\n",
      "Epoch: [6/10], Step: [500/600], Loss: 0.3379\n",
      "Epoch: [6/10], Step: [600/600], Loss: 0.3245\n",
      "Epoch: [7/10], Step: [100/600], Loss: 0.4085\n",
      "Epoch: [7/10], Step: [200/600], Loss: 0.4345\n",
      "Epoch: [7/10], Step: [300/600], Loss: 0.3332\n",
      "Epoch: [7/10], Step: [400/600], Loss: 0.5319\n",
      "Epoch: [7/10], Step: [500/600], Loss: 0.2508\n",
      "Epoch: [7/10], Step: [600/600], Loss: 0.3498\n",
      "Epoch: [8/10], Step: [100/600], Loss: 0.3958\n",
      "Epoch: [8/10], Step: [200/600], Loss: 0.3961\n",
      "Epoch: [8/10], Step: [300/600], Loss: 0.4222\n",
      "Epoch: [8/10], Step: [400/600], Loss: 0.3658\n",
      "Epoch: [8/10], Step: [500/600], Loss: 0.4579\n",
      "Epoch: [8/10], Step: [600/600], Loss: 0.5944\n",
      "Epoch: [9/10], Step: [100/600], Loss: 0.4226\n",
      "Epoch: [9/10], Step: [200/600], Loss: 0.4368\n",
      "Epoch: [9/10], Step: [300/600], Loss: 0.2991\n",
      "Epoch: [9/10], Step: [400/600], Loss: 0.2991\n",
      "Epoch: [9/10], Step: [500/600], Loss: 0.4125\n",
      "Epoch: [9/10], Step: [600/600], Loss: 0.4706\n",
      "Epoch: [10/10], Step: [100/600], Loss: 0.5089\n",
      "Epoch: [10/10], Step: [200/600], Loss: 0.4225\n",
      "Epoch: [10/10], Step: [300/600], Loss: 0.5376\n",
      "Epoch: [10/10], Step: [400/600], Loss: 0.5035\n",
      "Epoch: [10/10], Step: [500/600], Loss: 0.3193\n",
      "Epoch: [10/10], Step: [600/600], Loss: 0.4690\n"
     ]
    }
   ],
   "source": [
    "# Training the Model\n",
    "for epoch in range(num_epochs):\n",
    "    for i, (images, labels) in enumerate(train_loader):\n",
    "        #[batch_size, 1, 28, 28]\n",
    "        images = Variable(images.view(-1, 28*28))\n",
    "        labels = Variable(labels)\n",
    "        \n",
    "        # Forward + Backward + Optimize\n",
    "        optimizer.zero_grad()\n",
    "        outputs = model(images)\n",
    "        loss = criterion(outputs, labels)\n",
    "        loss.backward()\n",
    "        optimizer.step()\n",
    "        if (i+1) % 100 == 0:\n",
    "            print ('Epoch: [%d/%d], Step: [%d/%d], Loss: %.4f' \n",
    "                   % (epoch+1, num_epochs, i+1, len(train_dataset)//batch_size, loss.data[0]))\n"
   ]
  },
  {
   "cell_type": "code",
   "execution_count": 66,
   "metadata": {},
   "outputs": [
    {
     "name": "stdout",
     "output_type": "stream",
     "text": [
      "Accuracy of the model on the 10000 test images: 90 %\n"
     ]
    }
   ],
   "source": [
    "# Test the Model\n",
    "correct = 0\n",
    "total = 0\n",
    "for images, labels in test_loader:\n",
    "    images = Variable(images.view(-1, 28*28))\n",
    "    outputs = model(images)\n",
    "    _, predicted = torch.max(outputs.data, 1)\n",
    "    total += labels.size(0)\n",
    "    correct += (predicted == labels).sum()\n",
    "    \n",
    "print('Accuracy of the model on the 10000 test images: %d %%' % (100 * correct / total))"
   ]
  },
  {
   "cell_type": "markdown",
   "metadata": {},
   "source": [
    "### 4.2 Feedforward Network"
   ]
  },
  {
   "cell_type": "markdown",
   "metadata": {},
   "source": [
    "### Modell-Klasse definieren\n",
    "\n",
    "1. 4 layer fully connected Neuronales Netz\n",
    "2. Source für Code:\n",
    "    http://adventuresinmachinelearning.com/pytorch-tutorial-deep-learning/\n",
    "3. Klassifizierung mit Softmax\n",
    "4. ReLU als Aktivierungsfunktion für alle Layers bis auf das letzte\n",
    "5. Aktivierungsfunktion im letzten Layer: \"log softmax\"\n",
    "6. Loss-Kriterion: NLL (negative log likelihood)\n",
    "\n",
    "Die Kombination von Log-Softmax und NLL-Kriterion liefert eine mutliclass CrossEntropy basierten Loss-Funktion. \n",
    "\n",
    "Mehr dazu: [PyTorch-Kriterion](https://nn.readthedocs.io/en/rtd/criterion/#classnllcriterion)\n",
    "\n",
    "<img src=\"CNTK-Dense-example-architecture.jpg\">\n",
    "\n"
   ]
  },
  {
   "cell_type": "code",
   "execution_count": 67,
   "metadata": {},
   "outputs": [],
   "source": [
    "import torch\n",
    "from torch.autograd import Variable\n",
    "import torch.nn as nn\n",
    "import torch.nn.functional as F\n",
    "import torch.optim as optim\n",
    "from torchvision import datasets, transforms"
   ]
  },
  {
   "cell_type": "code",
   "execution_count": 68,
   "metadata": {},
   "outputs": [],
   "source": [
    "class FeedforwardNetwork(nn.Module):\n",
    "    def __init__(self):\n",
    "        super(FeedforwardNetwork, self).__init__()\n",
    "        self.fc1 = nn.Linear(28 * 28, 200)\n",
    "        self.fc2 = nn.Linear(200, 200)#\n",
    "        self.fc3 = nn.Linear(200, 10)\n",
    "    \n",
    "    def forward(self, x):\n",
    "        x = F.relu(self.fc1(x))\n",
    "        x = F.relu(self.fc2(x))#\n",
    "        x = self.fc3(x)\n",
    "        return F.log_softmax(x)"
   ]
  },
  {
   "cell_type": "code",
   "execution_count": 69,
   "metadata": {},
   "outputs": [
    {
     "data": {
      "text/plain": [
       "FeedforwardNetwork(\n",
       "  (fc1): Linear(in_features=784, out_features=200, bias=True)\n",
       "  (fc2): Linear(in_features=200, out_features=200, bias=True)\n",
       "  (fc3): Linear(in_features=200, out_features=10, bias=True)\n",
       ")"
      ]
     },
     "execution_count": 69,
     "metadata": {},
     "output_type": "execute_result"
    }
   ],
   "source": [
    "model = FeedforwardNetwork()\n",
    "if is_cuda:\n",
    "    model.cuda()\n",
    "model    "
   ]
  },
  {
   "cell_type": "code",
   "execution_count": 70,
   "metadata": {},
   "outputs": [],
   "source": [
    "#Hyperparameters\n",
    "learning_rate = 0.001\n",
    "epochs = 5\n",
    "log_interval = 100\n",
    "optimizer = optim.SGD(model.parameters(), lr=learning_rate, momentum=0.9)\n",
    "criterion = nn.NLLLoss()"
   ]
  },
  {
   "cell_type": "markdown",
   "metadata": {},
   "source": [
    "### Gewichte und Bias anpassen"
   ]
  },
  {
   "cell_type": "code",
   "execution_count": 71,
   "metadata": {},
   "outputs": [],
   "source": [
    "def adapt_params(model):\n",
    "    for m in model.modules():\n",
    "        if type(m) in ['Linear']:\n",
    "            torch.nn.init.normal_(model.weight.data)\n",
    "            torch.nn.init.constant_(model.bias.data, 0.1)"
   ]
  },
  {
   "cell_type": "code",
   "execution_count": null,
   "metadata": {},
   "outputs": [],
   "source": [
    "#adapt_params(model)"
   ]
  },
  {
   "cell_type": "markdown",
   "metadata": {},
   "source": [
    "### Netz trainieren"
   ]
  },
  {
   "cell_type": "code",
   "execution_count": 72,
   "metadata": {},
   "outputs": [
    {
     "name": "stdout",
     "output_type": "stream",
     "text": [
      "Train Epoch: 0 [0/60000 (0%)]\tLoss: 2.311378\n",
      "Train Epoch: 0 [10000/60000 (17%)]\tLoss: 1.959563\n",
      "Train Epoch: 0 [20000/60000 (33%)]\tLoss: 1.162646\n",
      "Train Epoch: 0 [30000/60000 (50%)]\tLoss: 0.765436\n",
      "Train Epoch: 0 [40000/60000 (67%)]\tLoss: 0.594244\n",
      "Train Epoch: 0 [50000/60000 (83%)]\tLoss: 0.493297\n",
      "Train Epoch: 1 [0/60000 (0%)]\tLoss: 0.544340\n",
      "Train Epoch: 1 [10000/60000 (17%)]\tLoss: 0.305114\n",
      "Train Epoch: 1 [20000/60000 (33%)]\tLoss: 0.299789\n",
      "Train Epoch: 1 [30000/60000 (50%)]\tLoss: 0.361796\n",
      "Train Epoch: 1 [40000/60000 (67%)]\tLoss: 0.323536\n",
      "Train Epoch: 1 [50000/60000 (83%)]\tLoss: 0.293291\n",
      "Train Epoch: 2 [0/60000 (0%)]\tLoss: 0.303258\n",
      "Train Epoch: 2 [10000/60000 (17%)]\tLoss: 0.171249\n",
      "Train Epoch: 2 [20000/60000 (33%)]\tLoss: 0.272825\n",
      "Train Epoch: 2 [30000/60000 (50%)]\tLoss: 0.220626\n",
      "Train Epoch: 2 [40000/60000 (67%)]\tLoss: 0.415316\n",
      "Train Epoch: 2 [50000/60000 (83%)]\tLoss: 0.553564\n",
      "Train Epoch: 3 [0/60000 (0%)]\tLoss: 0.423991\n",
      "Train Epoch: 3 [10000/60000 (17%)]\tLoss: 0.235010\n",
      "Train Epoch: 3 [20000/60000 (33%)]\tLoss: 0.129955\n",
      "Train Epoch: 3 [30000/60000 (50%)]\tLoss: 0.289854\n",
      "Train Epoch: 3 [40000/60000 (67%)]\tLoss: 0.222781\n",
      "Train Epoch: 3 [50000/60000 (83%)]\tLoss: 0.203282\n",
      "Train Epoch: 4 [0/60000 (0%)]\tLoss: 0.215417\n",
      "Train Epoch: 4 [10000/60000 (17%)]\tLoss: 0.230467\n",
      "Train Epoch: 4 [20000/60000 (33%)]\tLoss: 0.126808\n",
      "Train Epoch: 4 [30000/60000 (50%)]\tLoss: 0.240389\n",
      "Train Epoch: 4 [40000/60000 (67%)]\tLoss: 0.180067\n",
      "Train Epoch: 4 [50000/60000 (83%)]\tLoss: 0.167366\n"
     ]
    }
   ],
   "source": [
    "# run the main training loop\n",
    "for epoch in range(epochs):\n",
    "    for batch_idx, (data, target) in enumerate(train_loader):\n",
    "        #data, target = Variable(data), Variable(target)\n",
    "        volatile = True\n",
    "        if is_cuda:\n",
    "            data, target = data.cuda(), target.cuda()\n",
    "        data , target = Variable(data,volatile),Variable(target)\n",
    "        # resize data from (batch_size, 1, 28, 28) to (batch_size, 28*28)\n",
    "        # Data now: (32, 784)\n",
    "        data = data.view(-1, 28*28)\n",
    "        \n",
    "        #Gradienten zurücksetzen\n",
    "        optimizer.zero_grad()\n",
    "        #net_out speichert log_softmax des finalen Schrittes\n",
    "        net_out = model(data) #ruft forward() methode auf\n",
    "        #loss = Modell-Fehler nach Forward-Pass\n",
    "        loss = criterion(net_out, target)\n",
    "        \n",
    "        #Backpropagation\n",
    "        loss.backward() #Liefert Gradienten\n",
    "        \n",
    "        #Optimizer == SGD --> Ein SGD Step auf aktuellen Parametern\n",
    "        optimizer.step() #Aktualisiert Parameter\n",
    "        \n",
    "        #Ergebnisse für jede Epoche\n",
    "        if batch_idx % log_interval == 0:\n",
    "            print('Train Epoch: {} [{}/{} ({:.0f}%)]\\tLoss: {:.6f}'.format(\n",
    "                epoch, batch_idx * len(data), len(train_loader.dataset),\n",
    "                        100. * batch_idx / len(train_loader), loss.data[0]))"
   ]
  },
  {
   "cell_type": "markdown",
   "metadata": {},
   "source": [
    "### Netzwerk testen"
   ]
  },
  {
   "cell_type": "code",
   "execution_count": 73,
   "metadata": {},
   "outputs": [
    {
     "name": "stdout",
     "output_type": "stream",
     "text": [
      "\n",
      "Test set: Average loss: 0.0021, Accuracy: 9373/10000 (93%)\n",
      "\n"
     ]
    }
   ],
   "source": [
    "# run a test loop\n",
    "test_loss = 0\n",
    "correct = 0\n",
    "for data, target in test_loader:\n",
    "    volatile = True\n",
    "    if is_cuda:\n",
    "        data, target = data.cuda(), target.cuda()\n",
    "    data , target = Variable(data,volatile),Variable(target)\n",
    "    data = data.view(-1, 28 * 28)\n",
    "    net_out = model(data)\n",
    "    # sum up batch loss\n",
    "    test_loss += criterion(net_out, target).data[0]\n",
    "    pred = net_out.data.max(1)[1]  # get the index of the max log-probability\n",
    "    correct += pred.eq(target.data).sum()\n",
    "\n",
    "test_loss /= len(test_loader.dataset)\n",
    "print('\\nTest set: Average loss: {:.4f}, Accuracy: {}/{} ({:.0f}%)\\n'.format(\n",
    "    test_loss, correct, len(test_loader.dataset),\n",
    "    100. * correct / len(test_loader.dataset)))"
   ]
  },
  {
   "cell_type": "code",
   "execution_count": 74,
   "metadata": {},
   "outputs": [
    {
     "name": "stdout",
     "output_type": "stream",
     "text": [
      "('fc1.weight', Parameter containing:\n",
      "tensor([[ 1.9811e-02, -3.4261e-02, -1.0034e-02,  ...,  1.0229e-02,\n",
      "          1.4594e-02, -7.6429e-03],\n",
      "        [ 2.0212e-02,  7.4739e-03, -1.5732e-02,  ...,  2.2748e-02,\n",
      "          2.9705e-02,  4.4363e-03],\n",
      "        [ 1.4100e-02,  5.0425e-03, -1.9929e-02,  ...,  2.6057e-02,\n",
      "         -8.8218e-03,  3.2058e-02],\n",
      "        ...,\n",
      "        [ 1.2328e-02,  1.7742e-02, -2.8497e-02,  ...,  2.4964e-02,\n",
      "         -1.2099e-02,  1.9349e-02],\n",
      "        [-2.1548e-02, -3.2106e-02, -2.5113e-02,  ..., -2.3233e-04,\n",
      "         -2.7072e-03, -1.6903e-04],\n",
      "        [ 2.6403e-02, -3.9746e-03, -1.1823e-02,  ..., -6.9642e-03,\n",
      "         -3.3109e-02, -6.3373e-03]], device='cuda:0'))\n",
      "('fc1.bias', Parameter containing:\n",
      "tensor(1.00000e-02 *\n",
      "       [ 0.8531, -2.7176, -0.2930, -0.6714,  3.0407,  3.9595,  3.0487,\n",
      "         2.6171, -0.6660, -1.3843,  0.5409,  2.1218,  3.6624,  3.4059,\n",
      "         3.2866,  2.4423,  0.6907, -0.5015,  3.7297, -0.1536,  0.0762,\n",
      "         1.3699, -0.5759, -1.0596, -1.6558,  2.7504,  0.2732,  3.9008,\n",
      "         3.3359,  3.1694,  2.4090,  3.5667,  3.2319, -3.0201, -2.3763,\n",
      "         3.6591, -2.8208,  1.4075, -1.5231,  3.4579,  3.0451,  4.3315,\n",
      "         1.0333, -1.2937, -2.9843,  3.3648, -1.9820,  1.2021,  3.1929,\n",
      "         2.8120,  0.8156, -2.7523,  2.9935, -0.9639, -1.8226,  0.8854,\n",
      "        -1.7944, -1.0843,  1.6607, -1.1069, -1.1451,  3.6259,  0.5117,\n",
      "        -2.5925,  1.4835,  3.7564,  2.2595, -2.3875,  1.4623,  0.1424,\n",
      "        -1.3704,  1.2460, -2.4623,  0.0397,  0.6800,  2.6859,  2.1377,\n",
      "        -3.0892, -3.3965, -2.7147,  4.6449,  2.3763,  3.4893, -1.8524,\n",
      "         1.1402,  0.1705,  2.6076,  2.6561,  2.1327, -0.7610,  3.0887,\n",
      "         2.3487,  0.5194, -2.0312,  3.3206, -1.9849, -0.1391, -1.6163,\n",
      "        -0.5277,  2.4467,  0.8940,  0.3301,  3.3309, -2.3157, -3.6519,\n",
      "         0.3307, -2.9589, -1.9684,  2.3572, -0.9653,  0.8271,  0.6732,\n",
      "        -1.2295,  3.3654, -3.4309,  0.0462, -2.2325, -3.0203,  2.3137,\n",
      "         0.3706, -1.4097, -0.8382,  0.9222, -2.2404,  1.6509,  1.2264,\n",
      "        -3.3838,  0.4994, -1.1091, -2.3088, -2.4298,  3.0048, -0.6739,\n",
      "        -1.1840, -3.4805,  0.0178, -0.0258, -3.2784,  1.9831,  3.2543,\n",
      "         2.8800,  3.2820, -0.2986,  2.7648, -1.7427, -1.3102, -1.2377,\n",
      "        -0.4969, -1.1161,  2.9455, -0.6169,  1.4992,  1.4604, -0.8824,\n",
      "         1.6978,  0.3068,  1.3987, -0.5146,  0.2417,  1.0369, -2.8468,\n",
      "         2.6892, -1.0413, -2.0834,  1.2385, -2.2982,  2.3447, -2.0171,\n",
      "        -2.7458, -2.5694,  1.9449,  1.0576, -0.7402,  1.4955,  1.3312,\n",
      "         0.0202, -1.0164,  3.5142,  2.1342,  1.5419,  3.4427,  0.9802,\n",
      "         3.0273, -1.5768,  1.8407, -2.0033, -2.8785,  0.7812,  3.4900,\n",
      "        -0.4526,  3.1930, -0.5017, -3.0463, -0.1610, -1.2149,  1.1488,\n",
      "        -2.7362,  1.4401,  1.0525,  2.4380], device='cuda:0'))\n",
      "('fc2.weight', Parameter containing:\n",
      "tensor([[-0.0102,  0.0500,  0.0373,  ...,  0.0527, -0.0781,  0.0308],\n",
      "        [-0.0728,  0.0124,  0.0385,  ...,  0.0246,  0.0654, -0.0293],\n",
      "        [-0.0062,  0.0256, -0.0069,  ..., -0.0258, -0.0103,  0.0023],\n",
      "        ...,\n",
      "        [ 0.0862,  0.0228,  0.0075,  ..., -0.0110,  0.0744, -0.0395],\n",
      "        [-0.0495,  0.0214,  0.0537,  ..., -0.0677, -0.0079, -0.0344],\n",
      "        [ 0.0317,  0.0190, -0.0323,  ...,  0.0696,  0.0517, -0.0339]], device='cuda:0'))\n",
      "('fc2.bias', Parameter containing:\n",
      "tensor(1.00000e-02 *\n",
      "       [ 0.9315,  0.8481,  2.0329,  1.5330,  2.2338,  7.1806, -4.4972,\n",
      "        -1.6173, -0.0403,  5.0396,  8.0017,  2.5493,  4.9007,  2.2864,\n",
      "         6.3103,  7.2288, -1.5243,  0.2866, -1.5303,  6.6089,  5.8237,\n",
      "         5.5982,  7.2482, -1.2463,  4.4337, -0.5934,  4.3446, -3.3935,\n",
      "        -2.3901,  4.1904,  6.4147, -5.5491,  0.4224, -3.7260,  1.3117,\n",
      "         4.9098, -0.8519,  0.8265,  1.6128, -0.4287, -2.2035,  4.0060,\n",
      "         4.7838, -6.2847, -2.3389,  1.7634,  1.3989,  2.2960, -1.9604,\n",
      "         5.6390, -6.0960, -4.6771,  6.0727, -0.1325, -3.3427,  5.1140,\n",
      "         2.6029,  3.5257,  6.1564,  7.6433, -1.4134, -4.2376,  4.6483,\n",
      "         4.8412,  2.3099,  2.9399,  7.0327,  3.5664, -1.3232,  7.6688,\n",
      "        -2.0072, -4.6211,  4.4599,  5.3157,  5.4606, -0.7842, -4.9158,\n",
      "        -3.5760, -4.5126,  0.3426, -0.3517,  4.1137, -3.8110,  1.9407,\n",
      "         6.4696,  6.4584, -4.8115, -0.0090,  2.7642, -3.1054,  7.4426,\n",
      "         3.5453,  1.6253,  3.8198,  5.3570,  7.7947,  1.6212,  7.7447,\n",
      "         6.7306,  3.4992, -6.9681,  7.5582,  7.5972,  2.8664,  4.0868,\n",
      "        -6.6951,  7.1142,  5.7554, -3.7409, -5.6708, -2.5732, -5.1272,\n",
      "        -0.1835,  1.4849,  0.2595, -1.9695, -4.1279,  1.4927, -3.6896,\n",
      "         0.3066,  1.3440,  6.3504, -3.3168, -0.6095, -5.0869,  4.4069,\n",
      "         0.6377,  6.1804,  2.5327,  6.9864,  5.4819,  2.1583, -4.3999,\n",
      "        -4.7507,  7.5617, -7.1476,  2.6582,  5.6247,  4.3795, -5.8558,\n",
      "         7.1633,  5.6265, -2.6646,  2.4526,  5.6672,  1.8067, -6.8558,\n",
      "        -0.1127,  3.8033,  4.0524, -2.9538, -0.7003, -5.1943,  0.8583,\n",
      "        -2.5930,  5.0026,  2.9492,  7.5041, -5.1337,  2.7899,  2.7153,\n",
      "        -2.0641,  1.3021, -3.6955,  0.2059,  1.4009,  3.0270,  2.7546,\n",
      "         0.1177, -3.4847, -2.3242,  4.4864,  5.2739, -4.9441,  4.7737,\n",
      "         1.0706, -6.2559,  7.2263,  5.2010,  3.3018, -6.3259,  5.9372,\n",
      "        -2.4310,  0.9201, -6.4491,  3.3881, -1.4905, -6.1237, -4.8344,\n",
      "         3.5188,  4.0503,  3.9072,  7.2536, -0.3942, -4.1580, -0.4762,\n",
      "        -2.7496,  8.4991,  4.0648,  7.2017], device='cuda:0'))\n",
      "('fc3.weight', Parameter containing:\n",
      "tensor([[-1.3111e-01,  7.8805e-02, -7.2176e-02,  ...,  8.7083e-02,\n",
      "          8.2103e-03,  4.1021e-02],\n",
      "        [-6.8498e-02, -8.3861e-02, -3.8889e-02,  ..., -7.4859e-02,\n",
      "         -7.1861e-03,  6.2046e-03],\n",
      "        [-1.2687e-01,  9.7825e-02,  5.4167e-02,  ...,  1.4294e-01,\n",
      "         -3.2051e-02,  1.1001e-01],\n",
      "        ...,\n",
      "        [ 5.9183e-02, -1.2271e-01,  1.4879e-01,  ...,  5.7545e-03,\n",
      "         -1.9222e-02, -1.2006e-02],\n",
      "        [-7.6727e-03, -3.6952e-02,  2.9961e-02,  ..., -2.0160e-02,\n",
      "         -1.1034e-01, -6.4987e-02],\n",
      "        [ 1.9317e-01, -1.4847e-02,  8.3453e-02,  ..., -1.0954e-01,\n",
      "          2.1080e-02, -4.3917e-02]], device='cuda:0'))\n",
      "('fc3.bias', Parameter containing:\n",
      "tensor(1.00000e-02 *\n",
      "       [-5.8729, -2.8092,  2.1281, -0.7950,  3.4702,  1.6678, -3.0647,\n",
      "        -1.9967,  1.4718, -1.9133], device='cuda:0'))\n"
     ]
    }
   ],
   "source": [
    "#Zugriff auf Modell-Parameter\n",
    "model_params = model.named_parameters() #oder auf model.parameters()\n",
    "for m in model_params:\n",
    "    print(m)"
   ]
  },
  {
   "cell_type": "markdown",
   "metadata": {},
   "source": [
    "### 4.3 CNN in PyTorch\n",
    "Source: \n",
    "- \"Deep Learning with PyTorch\", Packt Publishing\n",
    "- \"Image Kernels\", http://setosa.io/ev/image-kernels/"
   ]
  },
  {
   "cell_type": "code",
   "execution_count": 75,
   "metadata": {},
   "outputs": [],
   "source": [
    "import torch\n",
    "import torch.nn as nn\n",
    "import torch.nn.functional as F\n",
    "import torch.optim as optim\n",
    "from torchvision import datasets,transforms\n",
    "from torch.autograd import Variable\n",
    "import matplotlib.pyplot as plt\n",
    "%matplotlib inline"
   ]
  },
  {
   "cell_type": "code",
   "execution_count": 76,
   "metadata": {},
   "outputs": [],
   "source": [
    "class Net(nn.Module):\n",
    "    def __init__(self):\n",
    "        super().__init__()\n",
    "        self.conv1 = nn.Conv2d(1, 10, kernel_size=5)\n",
    "        self.conv2 = nn.Conv2d(10, 20, kernel_size=5)\n",
    "        self.conv2_drop = nn.Dropout2d()\n",
    "        self.fc1 = nn.Linear(320, 50)\n",
    "        self.fc2 = nn.Linear(50, 10)\n",
    "\n",
    "    def forward(self, x): \n",
    "        #Pooling: reduce the size of feature maps and the outcomes of convolution layers\n",
    "        x = F.relu(F.max_pool2d(self.conv1(x), 2))\n",
    "        x = F.relu(F.max_pool2d(self.conv2_drop(self.conv2(x)), 2))\n",
    "        x = x.view(-1, 320) #Flattening\n",
    "        x = F.relu(self.fc1(x))\n",
    "        x = self.fc2(x)\n",
    "        return F.log_softmax(x,dim=1) #Prediction"
   ]
  },
  {
   "cell_type": "code",
   "execution_count": 77,
   "metadata": {},
   "outputs": [],
   "source": [
    "model = Net()\n",
    "if is_cuda:\n",
    "    model.cuda()"
   ]
  },
  {
   "cell_type": "code",
   "execution_count": 78,
   "metadata": {},
   "outputs": [],
   "source": [
    "optimizer = optim.SGD(model.parameters(),lr=0.01)"
   ]
  },
  {
   "cell_type": "code",
   "execution_count": 79,
   "metadata": {},
   "outputs": [],
   "source": [
    "def fit(epoch,model,data_loader,phase='training',volatile=False):\n",
    "    if phase == 'training':\n",
    "        model.train()\n",
    "    if phase == 'validation':\n",
    "        model.eval()\n",
    "        volatile=True\n",
    "    running_loss = 0.0\n",
    "    running_correct = 0\n",
    "    for batch_idx , (data,target) in enumerate(data_loader):\n",
    "        if is_cuda:\n",
    "            data,target = data.cuda(),target.cuda()\n",
    "        data , target = Variable(data,volatile),Variable(target)\n",
    "        if phase == 'training':\n",
    "            optimizer.zero_grad()\n",
    "        output = model(data)\n",
    "        loss = F.nll_loss(output,target)\n",
    "        \n",
    "        running_loss += F.nll_loss(output,target,size_average=False).data[0]\n",
    "        preds = output.data.max(dim=1,keepdim=True)[1]\n",
    "        running_correct += preds.eq(target.data.view_as(preds)).cpu().sum()\n",
    "        if phase == 'training':\n",
    "            loss.backward()\n",
    "            optimizer.step()\n",
    "    \n",
    "    loss = running_loss/len(data_loader.dataset)\n",
    "    accuracy = 100. * running_correct/len(data_loader.dataset)\n",
    "    if phase == \"training\":\n",
    "        print(\"Train phase:\\t Average loss: {:.4f}, Accuracy: {}/{} -\\t {}%\".format(loss, running_correct, len(data_loader.dataset), accuracy))\n",
    "    else:\n",
    "        print(\"Test phase:\\t Average loss: {:.4f}, Accuracy: {}/{} -\\t {}%\".format(loss, running_correct, len(data_loader.dataset), accuracy))\n",
    "    #print(f'{phase} loss is {(loss:{5}.{2}} and {phase} accuracy is {running_correct}/{len(data_loader.dataset)}{accuracy:{10}.{4}}')\n",
    "    return loss,accuracy"
   ]
  },
  {
   "cell_type": "code",
   "execution_count": 80,
   "metadata": {},
   "outputs": [
    {
     "name": "stdout",
     "output_type": "stream",
     "text": [
      "Train phase:\t Average loss: 1.0092, Accuracy: 41468/60000 -\t 69%\n",
      "Test phase:\t Average loss: 0.3263, Accuracy: 9018/10000 -\t 90%\n",
      "Train phase:\t Average loss: 0.3718, Accuracy: 53668/60000 -\t 89%\n",
      "Test phase:\t Average loss: 0.2156, Accuracy: 9364/10000 -\t 93%\n",
      "Train phase:\t Average loss: 0.2692, Accuracy: 55374/60000 -\t 92%\n",
      "Test phase:\t Average loss: 0.1572, Accuracy: 9518/10000 -\t 95%\n",
      "Train phase:\t Average loss: 0.2168, Accuracy: 56236/60000 -\t 93%\n",
      "Test phase:\t Average loss: 0.1218, Accuracy: 9615/10000 -\t 96%\n",
      "Train phase:\t Average loss: 0.1865, Accuracy: 56791/60000 -\t 94%\n",
      "Test phase:\t Average loss: 0.1010, Accuracy: 9669/10000 -\t 96%\n",
      "Train phase:\t Average loss: 0.1653, Accuracy: 57148/60000 -\t 95%\n",
      "Test phase:\t Average loss: 0.0852, Accuracy: 9736/10000 -\t 97%\n",
      "Train phase:\t Average loss: 0.1480, Accuracy: 57489/60000 -\t 95%\n",
      "Test phase:\t Average loss: 0.0814, Accuracy: 9734/10000 -\t 97%\n",
      "Train phase:\t Average loss: 0.1369, Accuracy: 57592/60000 -\t 95%\n",
      "Test phase:\t Average loss: 0.0717, Accuracy: 9784/10000 -\t 97%\n",
      "Train phase:\t Average loss: 0.1277, Accuracy: 57728/60000 -\t 96%\n",
      "Test phase:\t Average loss: 0.0725, Accuracy: 9770/10000 -\t 97%\n"
     ]
    }
   ],
   "source": [
    "train_losses , train_accuracy = [],[]\n",
    "val_losses , val_accuracy = [],[]\n",
    "\n",
    "for epoch in range(1,10):\n",
    "    epoch_loss, epoch_accuracy = fit(epoch,model,train_loader,phase='training')\n",
    "    val_epoch_loss , val_epoch_accuracy = fit(epoch,model,test_loader,phase='validation')\n",
    "    train_losses.append(epoch_loss)\n",
    "    train_accuracy.append(epoch_accuracy)\n",
    "    val_losses.append(val_epoch_loss)\n",
    "    val_accuracy.append(val_epoch_accuracy)"
   ]
  },
  {
   "cell_type": "code",
   "execution_count": 81,
   "metadata": {},
   "outputs": [
    {
     "data": {
      "text/plain": [
       "<matplotlib.legend.Legend at 0x2930eea46a0>"
      ]
     },
     "execution_count": 81,
     "metadata": {},
     "output_type": "execute_result"
    },
    {
     "data": {
      "image/png": "[encoded data removed]",
      "text/plain": [
       "<Figure size 432x288 with 1 Axes>"
      ]
     },
     "metadata": {
      "image/png": {
       "height": 250,
       "width": 373
      },
      "needs_background": "light"
     },
     "output_type": "display_data"
    }
   ],
   "source": [
    "plt.plot(range(1,len(train_losses)+1),train_losses,'bo',label = 'training loss')\n",
    "plt.plot(range(1,len(val_losses)+1),val_losses,'r',label = 'validation loss')\n",
    "plt.legend()"
   ]
  },
  {
   "cell_type": "code",
   "execution_count": null,
   "metadata": {},
   "outputs": [],
   "source": []
  }
 ],
 "metadata": {
  "kernelspec": {
   "display_name": "Python [conda env:torch]",
   "language": "python",
   "name": "conda-env-torch-py"
  },
  "language_info": {
   "codemirror_mode": {
    "name": "ipython",
    "version": 3
   },
   "file_extension": ".py",
   "mimetype": "text/x-python",
   "name": "python",
   "nbconvert_exporter": "python",
   "pygments_lexer": "ipython3",
   "version": "3.6.7"
  }
 },
 "nbformat": 4,
 "nbformat_minor": 2
}
