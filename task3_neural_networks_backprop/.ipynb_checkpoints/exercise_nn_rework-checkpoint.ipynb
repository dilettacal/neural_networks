{
 "cells": [
  {
   "cell_type": "markdown",
   "metadata": {},
   "source": [
    "# ML-Fundamentals - Neural Networks - Exercise: Minimal Fully Connected Network for MNIST"
   ]
  },
  {
   "cell_type": "markdown",
   "metadata": {},
   "source": [
    "## Table of Contents\n",
    "* [Requirements](#Requirements) \n",
    "  * [Modules](#Python-Modules) \n",
    "  * [Data](#Data)\n",
    "* [Simple MNIST Network](#Simple-MNIST-Network)\n",
    "  * [Todo: Transparency](#Todo:-Transparency)\n",
    "  * [Todo: Comprehension](#Todo:-Comprehension)\n",
    "  * [Todo: Step towards a NN-Framework](#Todo:-Step-towards-a-NN-Framework)"
   ]
  },
  {
   "cell_type": "markdown",
   "metadata": {},
   "source": [
    "# Requirements\n"
   ]
  },
  {
   "cell_type": "markdown",
   "metadata": {},
   "source": [
    "## Python-Modules"
   ]
  },
  {
   "cell_type": "code",
   "execution_count": 1,
   "metadata": {},
   "outputs": [],
   "source": [
    "# third party\n",
    "import numpy as np\n",
    "import matplotlib.pyplot as plt\n",
    "\n",
    "# internal\n",
    "from deep_teaching_commons.data.fundamentals.mnist import Mnist"
   ]
  },
  {
   "cell_type": "markdown",
   "metadata": {},
   "source": [
    "## Data"
   ]
  },
  {
   "cell_type": "code",
   "execution_count": 16,
   "metadata": {},
   "outputs": [
    {
     "name": "stdout",
     "output_type": "stream",
     "text": [
      "auto download is active, attempting download\n",
      "mnist data directory already exists, download aborted\n"
     ]
    }
   ],
   "source": [
    "# create mnist loader from deep_teaching_commons\n",
    "mnist_loader = Mnist(data_dir='data')\n",
    "\n",
    "# load all data, labels are one-hot-encoded, images are flatten and pixel squashed between [0,1]\n",
    "train_images, train_labels, test_images, test_labels = mnist_loader.get_all_data(one_hot_enc=True, normalized=True)\n",
    "\n",
    "# shuffle training data\n",
    "shuffle_index = np.random.permutation(60000)\n",
    "train_images, train_labels = train_images[shuffle_index], train_labels[shuffle_index]"
   ]
  },
  {
   "cell_type": "markdown",
   "metadata": {},
   "source": [
    "# Simple MNIST Network\n",
    "The presented network is an adaptation of Michael Nielson's introductory example to neural networks. It is recommended, though not necessary, to read the first two chapters of his great online book ['Neural Networks and Deep Learning'](http://neuralnetworksanddeeplearning.com/) for a better understanding of the given example. Compared to the [original](https://github.com/mnielsen/neural-networks-and-deep-learning/blob/master/src/network.py) by Nielsen, the present variant was vectorized and the sigmoid activation function replaced by a rectified linear unit function (ReLU). As a result, the code is written much more compact, and the optimization of the model is much more efficient. "
   ]
  },
  {
   "cell_type": "markdown",
   "metadata": {},
   "source": [
    "## Todo: Transparency\n",
    "Your goal is to understand how the implementation works. Therefore you can do the following:\n",
    "  - Add comments to functions and lines of code. Follow the [Google-Pyhton](https://google.github.io/styleguide/pyguide.html) guidelines for comments.\n",
    "  - Add a verbose argument (`boolean`) to the functions that adds meaningful `print` lines to the network, if it is `true`.\n",
    "  - Add a variable `delta_hist` which store the delta value calculated on the output layer during each iteration of the function `grads(X,Y,weights)`. After the optimization process plot `delta_hist`.\n",
    "  \n",
    "Hopefully, this implementation of a neural network is clear after your investigation. You should be able to answer following questions:\n",
    "  - Which cost function is used, what is its derivation and how is it implemented?\n",
    "      - The network uses softmax as loss function\n",
    "  - Why are the boundaries of your plot between [-1,0], why it is so noisy, how do you can reduce the noice and what is the difference to a usual plot of a loss function?\n",
    "      - There is noise because of the batch gradient descent. To reduce the noice you need to choose a bigger batch size. [-1,0] because the loss is always positive?\n",
    "  - How does the network implement the backpropagation algorithm?"
   ]
  },
  {
   "cell_type": "code",
   "execution_count": 5,
   "metadata": {},
   "outputs": [],
   "source": [
    "delta_hist =[]\n",
    "\n",
    "def feed_forward(X, weights):\n",
    "    \"\"\"Preforms the forward pass.\n",
    "    \n",
    "        Args:\n",
    "            X: A batch of inputs\n",
    "            weights: The weights\n",
    "            \n",
    "        Returns:\n",
    "            A batch of calculated outputs\n",
    "        \n",
    "    \"\"\"\n",
    "    a = [X]\n",
    "    for w in weights:\n",
    "        a.append(np.maximum(a[-1].dot(w),0))\n",
    "    return a\n",
    "\n",
    "def grads(X, Y, weights):\n",
    "    \"\"\"Calculates the gradients and preforms the backpropagation\n",
    "    \n",
    "        Args:\n",
    "            X: inputs\n",
    "            Y: labels\n",
    "            weights: weights to calculate the new gradient\n",
    "        \n",
    "        Returns:\n",
    "            The new gradients\n",
    "\n",
    "    \"\"\"\n",
    "    grads = np.empty_like(weights)\n",
    "    a = feed_forward(X, weights)\n",
    "    # https://brilliant.org/wiki/backpropagation/ or https://stats.stackexchange.com/questions/154879/a-list-of-cost-functions-used-in-neural-networks-alongside-applications\n",
    "    delta = a[-1] - Y    \n",
    "    delta_hist.append(np.sum(delta*Y)/len(X))\n",
    "    grads[-1] = a[-2].T.dot(delta)\n",
    "    for i in range(len(a)-2, 0, -1):\n",
    "        delta = (a[i] > 0) * delta.dot(weights[i].T)\n",
    "        grads[i-1] = a[i-1].T.dot(delta)\n",
    "    return grads / len(X)"
   ]
  },
  {
   "cell_type": "code",
   "execution_count": 6,
   "metadata": {},
   "outputs": [
    {
     "name": "stdout",
     "output_type": "stream",
     "text": [
      "Epoch: 0 Accuracy: 0.9425 Delta: -0.08498724735913285\n",
      "Epoch: 1 Accuracy: 0.9573 Delta: -0.07489446232219336\n",
      "Epoch: 2 Accuracy: 0.9624 Delta: -0.05579798759592776\n",
      "Epoch: 3 Accuracy: 0.9661 Delta: -0.044897307246387\n",
      "Epoch: 4 Accuracy: 0.9682 Delta: -0.040552505136205425\n",
      "Epoch: 5 Accuracy: 0.9696 Delta: -0.035536441986216534\n",
      "Epoch: 6 Accuracy: 0.9713 Delta: -0.03488468761738303\n",
      "Epoch: 7 Accuracy: 0.9719 Delta: -0.034536620043495045\n",
      "Epoch: 8 Accuracy: 0.9727 Delta: -0.03523800401051453\n",
      "Epoch: 9 Accuracy: 0.9739 Delta: -0.034897354746117284\n",
      "Epoch: 10 Accuracy: 0.9745 Delta: -0.034404676534476125\n",
      "Epoch: 11 Accuracy: 0.9748 Delta: -0.03157383643236065\n",
      "Epoch: 12 Accuracy: 0.975 Delta: -0.03128792716650022\n",
      "Epoch: 13 Accuracy: 0.9751 Delta: -0.02936688134123419\n",
      "Epoch: 14 Accuracy: 0.9752 Delta: -0.028367505198738447\n",
      "Epoch: 15 Accuracy: 0.9758 Delta: -0.026543712324357083\n",
      "Epoch: 16 Accuracy: 0.9758 Delta: -0.02600966166105496\n",
      "Epoch: 17 Accuracy: 0.9764 Delta: -0.02574330063308632\n",
      "Epoch: 18 Accuracy: 0.9766 Delta: -0.02291165596419892\n",
      "Epoch: 19 Accuracy: 0.9762 Delta: -0.02331945488976176\n"
     ]
    }
   ],
   "source": [
    "trX, trY, teX, teY = train_images, train_labels, test_images, test_labels\n",
    "#Start bei 200 Knoten, jeweils mit 784 Zeilen\n",
    "#1. HL: 100 Knoten, jeweils mit 200 Zeilen\n",
    "#Output layers: 10 Klassen, jeweils mit 100 Zeilen\n",
    "layers = [(784, 200), (200,100), (100, 10)]\n",
    "#Create weights for every layers: They have the same shape as in layers\n",
    "weights = [np.random.randn(*w) * 0.1 for w in layers]\n",
    "\n",
    "#Define Epochs for each gradient batch\n",
    "#Data divided in groups of 50 examples, each is trained 20 times with an alpha of 0.1\n",
    "num_epochs, batch_size, learn_rate = 20, 50, 0.1\n",
    "\n",
    "#Add a verbose argument (boolean) to the functions that adds meaningful print lines to the network, if it is true.\n",
    "#Add verbose\n",
    "verbose = True\n",
    "for i in range(num_epochs):\n",
    "    #Loop through data with a step of batch_size\n",
    "    #60000, 50\n",
    "    for j in range(0, len(trX), batch_size):\n",
    "        X, Y = trX[j:j+batch_size], trY[j:j+batch_size]\n",
    "        weights -= learn_rate * grads(X, Y, weights)\n",
    "        once = False\n",
    "    prediction_test = np.argmax(feed_forward(teX, weights)[-1], axis=1)\n",
    "    #print(\"J: \", j) #59950\n",
    "    #print(X.shape) #(50,784)\n",
    "    #print(Y.shape)#(50,10)\n",
    "    \n",
    "    if verbose:\n",
    "        print(\"Epoch:\", i, \"Accuracy:\", np.mean(prediction_test == np.argmax(teY, axis=1)), \"Delta:\", delta_hist[-1])\n",
    "    "
   ]
  },
  {
   "cell_type": "code",
   "execution_count": 7,
   "metadata": {},
   "outputs": [
    {
     "data": {
      "text/plain": [
       "(20, 50, 0.1)"
      ]
     },
     "execution_count": 7,
     "metadata": {},
     "output_type": "execute_result"
    }
   ],
   "source": [
    "num_epochs, batch_size, learn_rate "
   ]
  },
  {
   "cell_type": "code",
   "execution_count": 8,
   "metadata": {},
   "outputs": [
    {
     "data": {
      "text/plain": [
       "[<matplotlib.lines.Line2D at 0x215801356a0>]"
      ]
     },
     "execution_count": 8,
     "metadata": {},
     "output_type": "execute_result"
    },
    {
     "data": {
      "image/png": "[encoded data removed]",
      "text/plain": [
       "<Figure size 432x288 with 1 Axes>"
      ]
     },
     "metadata": {
      "needs_background": "light"
     },
     "output_type": "display_data"
    }
   ],
   "source": [
    "plt.plot(delta_hist)"
   ]
  },
  {
   "cell_type": "markdown",
   "metadata": {},
   "source": [
    "## Todo: Step towards a NN-Framework\n",
    "The presented implementation is compact and efficient, but hard to modify or extend. However, a modular design is crucial if you want to experiment with a neural network to understand the influence of its components. Now you make the first changes towards your own 'toy-neural-network-framework', which you should expand in the progress of the course. \n",
    "\n",
    "Rework the implementation from above given the classes and methods below. Again, you _do not_ have to re-engineer the whole neural network at this step. Rework the code to match the given specification and do necessary modifications only. For your understanding, you can change the names of the variables to more fitting ones."
   ]
  },
  {
   "cell_type": "code",
   "execution_count": 31,
   "metadata": {},
   "outputs": [
    {
     "name": "stdout",
     "output_type": "stream",
     "text": [
      "Epoch: 0 Accuracy: 0.8714 Delta: -0.25308510008106155\n",
      "Epoch: 1 Accuracy: 0.903 Delta: -0.2080229094639299\n",
      "Epoch: 2 Accuracy: 0.9164 Delta: -0.18557346062938815\n",
      "Epoch: 3 Accuracy: 0.925 Delta: -0.17055701544757415\n",
      "Epoch: 4 Accuracy: 0.9307 Delta: -0.15859992094220263\n",
      "Epoch: 5 Accuracy: 0.9348 Delta: -0.15025491155246695\n",
      "Epoch: 6 Accuracy: 0.9395 Delta: -0.14319828145075855\n",
      "Epoch: 7 Accuracy: 0.9429 Delta: -0.13808916608483668\n",
      "Epoch: 8 Accuracy: 0.9456 Delta: -0.13402582701502105\n",
      "Epoch: 9 Accuracy: 0.9485 Delta: -0.13011165476295097\n",
      "Epoch: 10 Accuracy: 0.9507 Delta: -0.12647871199360097\n",
      "Epoch: 11 Accuracy: 0.9523 Delta: -0.1231277670207775\n",
      "Epoch: 12 Accuracy: 0.9536 Delta: -0.11989399492690342\n",
      "Epoch: 13 Accuracy: 0.9552 Delta: -0.11734625144300069\n",
      "Epoch: 14 Accuracy: 0.9561 Delta: -0.11486589588276669\n",
      "Epoch: 15 Accuracy: 0.9573 Delta: -0.1129801808494811\n",
      "Epoch: 16 Accuracy: 0.958 Delta: -0.11080671725810921\n",
      "Epoch: 17 Accuracy: 0.9585 Delta: -0.10876858193213865\n",
      "Epoch: 18 Accuracy: 0.9596 Delta: -0.10690284627793688\n",
      "Epoch: 19 Accuracy: 0.9601 Delta: -0.10515744946667019\n"
     ]
    },
    {
     "data": {
      "text/plain": [
       "[<matplotlib.lines.Line2D at 0x2158033c710>]"
      ]
     },
     "execution_count": 31,
     "metadata": {},
     "output_type": "execute_result"
    },
    {
     "data": {
      "image/png": "[encoded data removed]",
      "text/plain": [
       "<Figure size 432x288 with 1 Axes>"
      ]
     },
     "metadata": {
      "needs_background": "light"
     },
     "output_type": "display_data"
    }
   ],
   "source": [
    "class FullyConnectedNetwork:\n",
    "    def __init__(self, layers):\n",
    "        self.layers = layers\n",
    "        self.weights = [np.random.randn(*w) * 0.1 for w in self.layers]\n",
    "        self.delta_hist = []\n",
    "        self.grads = np.empty_like(self.weights)\n",
    "        \n",
    "        \n",
    "    def forward(self, data):\n",
    "        a = [data]\n",
    "        for w in self.weights:\n",
    "            a.append(np.maximum(a[-1].dot(w),0))\n",
    "        return a\n",
    "\n",
    "    def backward(self, X, Y):\n",
    "        #Execute Forward\n",
    "        a = self.forward(X)\n",
    "        #Compute error on output\n",
    "        delta = a[-1] - Y\n",
    "        #stores its mean value to delta_history\n",
    "        self.delta_hist.append(np.sum(delta * Y) / len(X))\n",
    "        #stores as the last element the gradient of the next last element\n",
    "        self.grads[-1] = a[-2].T.dot(delta)\n",
    "        \n",
    "        for i in range(len(a) - 2, 0, -1):\n",
    "            #Compute actual error \n",
    "            delta = (a[i] > 0) * delta.dot(self.weights[i].T)\n",
    "            #compute local gradient\n",
    "            self.grads[i - 1] = a[i - 1].T.dot(delta)\n",
    "\n",
    "        return self.grads / len(X)\n",
    "\n",
    "    def predict(self, data):\n",
    "        return self.forward(data)\n",
    "            \n",
    "class Optimizer:\n",
    "    def __init__(self, network, train_data, train_labels, test_data=None, test_labels=None, \n",
    "                 epochs=100, batch_size=20, learning_rate=0.01):\n",
    "        #Assign variables\n",
    "        self.network = network\n",
    "        self.train_data = train_data\n",
    "        self.train_labels = train_labels\n",
    "        self.test_data = test_data\n",
    "        self.test_labels = test_labels\n",
    "        self.epochs = epochs\n",
    "        self.batch_size = batch_size\n",
    "        self.learning_rate = learning_rate\n",
    "        \n",
    "    def sgd(self, verbose=False):\n",
    "        \"\"\" Implements the stochastic gradient descent \"\"\"\n",
    "        for i in range(self.epochs):\n",
    "            for j in range(0, len(self.train_data), self.batch_size):                \n",
    "                X, Y = self.train_data[j:j + self.batch_size], self.train_labels[j:j + self.batch_size]\n",
    "                self.network.weights -= self.learning_rate * self.network.backward(X, Y)\n",
    "            prediction_test = np.argmax(self.network.predict(self.test_data)[-1], axis=1)\n",
    "            if verbose: \n",
    "                print ('Epoch:', i, \n",
    "                       'Accuracy:', np.mean(prediction_test == np.argmax(self.test_labels, axis=1)), \n",
    "                       'Delta:', self.network.delta_hist[-1])     \n",
    "\n",
    "    \n",
    "# Following code should run:    \n",
    "mnist_NN = FullyConnectedNetwork([(784, 200),(200,100),(100, 10)]) \n",
    "epochs, batch_size, learning_rate = 20, 500, 0.1\n",
    "Optimizer(mnist_NN, train_images, train_labels, test_images, test_labels, epochs, batch_size, learning_rate).sgd(True)\n",
    "plt.plot(mnist_NN.delta_hist)"
   ]
  },
  {
   "cell_type": "code",
   "execution_count": null,
   "metadata": {},
   "outputs": [],
   "source": []
  }
 ],
 "metadata": {
  "kernelspec": {
   "display_name": "Python [conda env:dl]",
   "language": "python",
   "name": "conda-env-dl-py"
  },
  "language_info": {
   "codemirror_mode": {
    "name": "ipython",
    "version": 3
   },
   "file_extension": ".py",
   "mimetype": "text/x-python",
   "name": "python",
   "nbconvert_exporter": "python",
   "pygments_lexer": "ipython3",
   "version": "3.6.6"
  }
 },
 "nbformat": 4,
 "nbformat_minor": 2
}
