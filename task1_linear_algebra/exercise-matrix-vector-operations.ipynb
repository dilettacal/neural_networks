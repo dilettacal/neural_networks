{
 "cells": [
  {
   "cell_type": "markdown",
   "metadata": {
    "slideshow": {
     "slide_type": "slide"
    }
   },
   "source": [
    "# Machine Learning Fundamentals - Linear Algebra - Exercise: Matrix and Vector Operations"
   ]
  },
  {
   "cell_type": "markdown",
   "metadata": {
    "slideshow": {
     "slide_type": "slide"
    }
   },
   "source": [
    "## Table of Contents\n",
    "* [Introduction](#Introduction)\n",
    "* [Requirements](#Requirements) \n",
    "  * [Knowledge](#Knowledge) \n",
    "  * [Modules](#Python-Modules)\n",
    "  * [Data](#Data)\n",
    "* [Exercise: Pen and Paper Calculation](#Pen-and-Paper-Calculation)\n",
    "* [Exercise: Implementation of Basic Operations](#Implmentation-of-Basic-Operations)\n",
    "  * [Vector Addition](#Vector-Addition)\n",
    "  * [Vector Subtraction](#Vector-Subtraction)\n",
    "  * [Scalar Multiplication](#Scalar-Multiplication)\n",
    "  * [Dot Product](#Dot-Product)\n",
    "  * [Matrix Multiplication](#Matrix-Multiplication)\n",
    "  * [Transpose](#Transpose)\n",
    "* [Summary and Outlook](#Summary-and-Outlook)\n",
    "* [Literature](#Literature) \n",
    "* [Licenses](#Licenses) "
   ]
  },
  {
   "cell_type": "markdown",
   "metadata": {
    "slideshow": {
     "slide_type": "slide"
    }
   },
   "source": [
    "## Introduction\n",
    "This exercise tests knowledge in basics in linear algebra. Knowledge about matrices, vectors, and their operations are essential in understanding more complex machine learning topics, like neural networks. Safe handling of domain-specific notation and concepts is therefore necessary.  "
   ]
  },
  {
   "cell_type": "markdown",
   "metadata": {
    "slideshow": {
     "slide_type": "slide"
    }
   },
   "source": [
    "## Requirements\n",
    "\n",
    "### Knowledge\n",
    "\n",
    "- Chapter 2 of [Deep Learning](http://www.deeplearningbook.org/contents/ml.html) by Ian Goodfellow gives a brief introduction into the field\n",
    "- [Linear Algebra](http://joshua.smcvt.edu/linearalgebra/#current_version) by Jim Hefferson is a open-source textbook with a lot of good exercises\n",
    "- [Introduction to Linear Algebra](http://math.mit.edu/~gs/linearalgebra/) by Gilbert Strang ist a good domain specific textbook\n",
    "- [Coding the Matrix: Linear Algebra through Applications to Computer Science](http://codingthematrix.com/) by Philip Klein is focused on a computer science viewpoint"
   ]
  },
  {
   "cell_type": "markdown",
   "metadata": {
    "slideshow": {
     "slide_type": "slide"
    }
   },
   "source": [
    "### Python Modules"
   ]
  },
  {
   "cell_type": "code",
   "execution_count": 1,
   "metadata": {
    "slideshow": {
     "slide_type": "slide"
    }
   },
   "outputs": [],
   "source": [
    "# External Modules\n",
    "import numpy as np"
   ]
  },
  {
   "cell_type": "markdown",
   "metadata": {
    "slideshow": {
     "slide_type": "slide"
    }
   },
   "source": [
    "### Data\n",
    "Given are the following matrice:\n",
    "\n",
    "\\begin{equation}\n",
    "    A =\n",
    "    \\begin{pmatrix}\n",
    "    4 & 4 & 5 \\\\\n",
    "    2 & 1 & 7 \\\\\n",
    "    4 & 8 & 3\n",
    "    \\end{pmatrix}\n",
    "    ,\n",
    "    B =\n",
    "    \\begin{pmatrix}\n",
    "    1 & 6 \\\\\n",
    "    3 & 1 \\\\\n",
    "    5 & 2\n",
    "    \\end{pmatrix}\n",
    "    ,\n",
    "    C =\n",
    "    \\begin{pmatrix}\n",
    "    1 & 4 & 4 \\\\\n",
    "    3 & 1 & 2\\\\\n",
    "    6 & 7 & 1\n",
    "    \\end{pmatrix}\n",
    "\\end{equation}\n",
    "\n",
    "\n",
    "and following vectors:\n",
    "\n",
    "\\begin{equation}\n",
    "    \\vec{x} =\n",
    "    \\begin{pmatrix}\n",
    "    9 \\\\\n",
    "    5 \\\\\n",
    "    7\n",
    "    \\end{pmatrix}\n",
    "    ,\n",
    "    \\vec{y} =\n",
    "    \\begin{pmatrix}\n",
    "    3 \\\\\n",
    "    1 \\\\\n",
    "    5\n",
    "    \\end{pmatrix}\n",
    "\\end{equation}"
   ]
  },
  {
   "cell_type": "code",
   "execution_count": 2,
   "metadata": {
    "slideshow": {
     "slide_type": "slide"
    }
   },
   "outputs": [],
   "source": [
    "# Matrices\n",
    "A = ([4,4,5],\n",
    "     [2,1,7],\n",
    "     [4,8,3])\n",
    "\n",
    "B = ([1,6],\n",
    "     [3,1],\n",
    "     [5,2])\n",
    "\n",
    "C = ([1,4,4],\n",
    "     [3,1,2],\n",
    "     [6,7,1])\n",
    "\n",
    "# Vectors\n",
    "x = (9,5,7)\n",
    "y = (3,1,5)"
   ]
  },
  {
   "cell_type": "markdown",
   "metadata": {
    "slideshow": {
     "slide_type": "slide"
    }
   },
   "source": [
    "## Pen and Paper Calculation\n",
    "Solve following calculations by hand or write some latex in that notebook.\n",
    "\n",
    "1.  $\\vec{x} * \\vec{y}$ (dot or inner product)\n",
    "2.  $\\vec{x} * \\vec{y}^T$\n",
    "3.  $A * B$\n",
    "4.  $B * A$\n",
    "5.  $A * C$\n",
    "6.  $C * A$\n",
    "7.  $(C^T * A^T)T$\n",
    "8.  $A \\circ C$ (Hadamard or Schur product)\n",
    "9.  $ \\left  \\langle A,C \\right \\rangle_F $ (Frobenius inner product)"
   ]
  },
  {
   "cell_type": "markdown",
   "metadata": {
    "slideshow": {
     "slide_type": "slide"
    }
   },
   "source": [
    "## Implmentation of Basic Operations\n",
    "Implement the following functions using the data structure `List` only. The results should be the same as the corresponding Numpy implementation."
   ]
  },
  {
   "cell_type": "markdown",
   "metadata": {
    "slideshow": {
     "slide_type": "slide"
    }
   },
   "source": [
    "### Vector Addition"
   ]
  },
  {
   "cell_type": "code",
   "execution_count": 3,
   "metadata": {
    "slideshow": {
     "slide_type": "slide"
    }
   },
   "outputs": [],
   "source": [
    "def vector_add(a, b):\n",
    "    ''' Adds two given vectors a and b: https://en.wikipedia.org/wiki/Euclidean_vector\n",
    "    \n",
    "    params:\n",
    "        a: A list representing vector a\n",
    "        b: A list representing vector b\n",
    "    returns:\n",
    "        [x_1 + y_1, x_2 + y_2, ... , x_n + y_n]\n",
    "    '''\n",
    "    #assert len(a)==len(b)\n",
    "    results = []\n",
    "    for i in range(len(a)):\n",
    "        results.append(a[i] + b[i])\n",
    "    return results    \n",
    "\n",
    "# Test\n",
    "np.testing.assert_array_almost_equal(vector_add(x,y), np.add(x,y), verbose=True)"
   ]
  },
  {
   "cell_type": "code",
   "execution_count": 4,
   "metadata": {},
   "outputs": [
    {
     "name": "stdout",
     "output_type": "stream",
     "text": [
      "Resulsts from vector addition: \n",
      "[12, 6, 12]\n",
      "[12  6 12]\n"
     ]
    }
   ],
   "source": [
    "print(\"Resulsts from vector addition: \")\n",
    "print(vector_add(x,y))\n",
    "print(np.add(x,y))"
   ]
  },
  {
   "cell_type": "markdown",
   "metadata": {
    "slideshow": {
     "slide_type": "slide"
    }
   },
   "source": [
    "### Vector Subtraction"
   ]
  },
  {
   "cell_type": "code",
   "execution_count": 5,
   "metadata": {
    "slideshow": {
     "slide_type": "slide"
    }
   },
   "outputs": [],
   "source": [
    "def vector_sub(a, b):\n",
    "    ''' Subtracts two given vectors a and b: https://en.wikipedia.org/wiki/Euclidean_vector\n",
    "    \n",
    "    params:\n",
    "        a: A list representing vector a\n",
    "        b: A list representing vector b\n",
    "    returns:\n",
    "        [x_1 - y_1, x_2 - y_2, ... , x_n - y_n]\n",
    "    '''\n",
    "    results = []\n",
    "    for i in range(len(a)):\n",
    "        results.append(a[i] - b[i])\n",
    "    return results    \n",
    "\n",
    "# Testing\n",
    "np.testing.assert_array_almost_equal(vector_sub(x,y), np.subtract(x,y), verbose=True)\n"
   ]
  },
  {
   "cell_type": "code",
   "execution_count": 6,
   "metadata": {},
   "outputs": [
    {
     "name": "stdout",
     "output_type": "stream",
     "text": [
      "Resulsts from vector subtraction: \n",
      "[6, 4, 2]\n",
      "[6 4 2]\n"
     ]
    }
   ],
   "source": [
    "print(\"Resulsts from vector subtraction: \")\n",
    "print(vector_sub(x,y))\n",
    "print(np.subtract(x,y))"
   ]
  },
  {
   "cell_type": "markdown",
   "metadata": {
    "slideshow": {
     "slide_type": "slide"
    }
   },
   "source": [
    "### Scalar Multiplication"
   ]
  },
  {
   "cell_type": "code",
   "execution_count": 7,
   "metadata": {
    "slideshow": {
     "slide_type": "slide"
    }
   },
   "outputs": [],
   "source": [
    "def scalar_mul(r, A):\n",
    "    ''' Multiply each element of a matrix or vector by a scalar 'r': https://en.wikipedia.org/wiki/Scalar_multiplication\n",
    "    \n",
    "    params:\n",
    "        r: Scalar\n",
    "        A: Vector or matrix\n",
    "    returns:\n",
    "         A vector or matrix with the same dimesion like 'A' but each element multiplied by r\n",
    "    '''\n",
    "    result = []\n",
    "    for idx, val in enumerate(A):\n",
    "        temp = [None] * len(A[0])\n",
    "        for i, elem in enumerate(val):\n",
    "            temp[i] = elem*sca\n",
    "        result.append(temp)\n",
    "    return result      \n",
    "        \n",
    "#Testing\n",
    "sca = 3\n",
    "np.testing.assert_array_almost_equal(scalar_mul(sca,A), np.multiply(sca,A), verbose=True)"
   ]
  },
  {
   "cell_type": "code",
   "execution_count": 8,
   "metadata": {},
   "outputs": [
    {
     "name": "stdout",
     "output_type": "stream",
     "text": [
      "Result from multiplication with scalar\n",
      "[[12, 12, 15], [6, 3, 21], [12, 24, 9]]\n",
      "[[12 12 15]\n",
      " [ 6  3 21]\n",
      " [12 24  9]]\n"
     ]
    }
   ],
   "source": [
    "print(\"Result from multiplication with scalar\")\n",
    "print(scalar_mul(sca,A))\n",
    "print(np.multiply(sca,A))"
   ]
  },
  {
   "cell_type": "markdown",
   "metadata": {
    "slideshow": {
     "slide_type": "slide"
    }
   },
   "source": [
    "### Dot Product"
   ]
  },
  {
   "cell_type": "code",
   "execution_count": 9,
   "metadata": {
    "slideshow": {
     "slide_type": "slide"
    }
   },
   "outputs": [],
   "source": [
    "def vec_dot(a, b):\n",
    "    ''' Sum of the product of corresponding elements: https://en.wikipedia.org/wiki/Dot_product\n",
    "    \n",
    "    params:\n",
    "        a: Vector \n",
    "        b: Vector\n",
    "    returns:\n",
    "        x_1 * y_1 + x_2 * y_2 + ... + x_n * y_n \n",
    "    ''' \n",
    "    aL = len(a)\n",
    "    bL = len(b)\n",
    "    if aL != bL:\n",
    "        raise ValueError(\"Vectors must have the same number of elements\") \n",
    "    result = 0\n",
    "    for i in range(len(a)):\n",
    "        result = result+(a[i]*b[i])\n",
    "    return result\n",
    "\n",
    "# Testing\n",
    "np.testing.assert_array_almost_equal(vec_dot(x,y), np.dot(x,y), verbose=True)"
   ]
  },
  {
   "cell_type": "code",
   "execution_count": 10,
   "metadata": {},
   "outputs": [
    {
     "name": "stdout",
     "output_type": "stream",
     "text": [
      "Result for dot multiplication\n",
      "67\n",
      "67\n"
     ]
    }
   ],
   "source": [
    "print(\"Result for dot multiplication\")\n",
    "print(vec_dot(x,y))\n",
    "print(np.dot(x,y))"
   ]
  },
  {
   "cell_type": "markdown",
   "metadata": {
    "slideshow": {
     "slide_type": "slide"
    }
   },
   "source": [
    "### Matrix Multiplication"
   ]
  },
  {
   "cell_type": "code",
   "execution_count": 11,
   "metadata": {
    "slideshow": {
     "slide_type": "slide"
    }
   },
   "outputs": [],
   "source": [
    "def matrix_mult(A, B):\n",
    "    ''' Computes the product of two matrices: https://en.wikipedia.org/wiki/Matrix_multiplication \n",
    "    \n",
    "    params:\n",
    "        A: Matrix with dimensions NxP\n",
    "        B: Matrix with dimensions PxM\n",
    "    returns:\n",
    "        NxM matrix with each element c_i_j = a_i_1 * b_1_j + ... + a_i_p * b_p_j\n",
    "        \n",
    "    ''' \n",
    "\n",
    "    B_P = len(B)\n",
    "    A_P = len(A[0])\n",
    "    P = 0\n",
    "    cond1 = B_P == A_P\n",
    "    if cond1 == False:\n",
    "        raise ValueError(\"Matrices not compatible for multiplication!\")\n",
    "    else:\n",
    "        P = A_P\n",
    "        N = len(A)#rows\n",
    "        M = len(B[0])#columns\n",
    "        RESULT = [[0] * M for _ in range(N)] # Matrix C NxM  \n",
    "        \n",
    "         #i == rows == N == rows in A\n",
    "        #j == cols == M == cols in B\n",
    "        for x in range(P):\n",
    "            for i in range(N):\n",
    "                for j in range(M):\n",
    "                    RESULT[i][j] += A[i][x]*B[x][j]\n",
    "        return RESULT         \n",
    "# Testing\n",
    "np.testing.assert_array_almost_equal(matrix_mult(A,B), np.matmul(A,B), verbose=True)"
   ]
  },
  {
   "cell_type": "code",
   "execution_count": 12,
   "metadata": {},
   "outputs": [
    {
     "name": "stdout",
     "output_type": "stream",
     "text": [
      "Result for matrix multiplication\n",
      "[[41, 38], [40, 27], [43, 38]]\n",
      "[[41 38]\n",
      " [40 27]\n",
      " [43 38]]\n"
     ]
    }
   ],
   "source": [
    "print(\"Result for matrix multiplication\")\n",
    "print(matrix_mult(A,B))\n",
    "print(np.matmul(A,B))"
   ]
  },
  {
   "cell_type": "markdown",
   "metadata": {
    "slideshow": {
     "slide_type": "slide"
    }
   },
   "source": [
    "### Transpose"
   ]
  },
  {
   "cell_type": "code",
   "execution_count": 13,
   "metadata": {
    "slideshow": {
     "slide_type": "slide"
    }
   },
   "outputs": [],
   "source": [
    "def matrix_transpose(A):\n",
    "    ''' Flips the matrix over its diagonal, switches the row and column indices of the matrix: https://en.wikipedia.org/wiki/Transpose\n",
    "    \n",
    "    params:\n",
    "        A: Matrix \n",
    "    returns:\n",
    "        Transpose A^T of given matrix A\n",
    "    ''' \n",
    "    #A is MxN --> A^T is NxM\n",
    "    rows = len(A)\n",
    "    cols = len(A[0])\n",
    "    RESULT = [[0] * rows for _ in range(cols)]\n",
    "    for i in range(rows):\n",
    "        for j in range(cols):\n",
    "            RESULT[i][j] = A[j][i]\n",
    "    return RESULT        \n",
    "    \n",
    "\n",
    "# Testing\n",
    "np.testing.assert_array_almost_equal(matrix_transpose(A), np.transpose(A), verbose=True)"
   ]
  },
  {
   "cell_type": "code",
   "execution_count": 14,
   "metadata": {},
   "outputs": [
    {
     "name": "stdout",
     "output_type": "stream",
     "text": [
      "Matrix before transposition: \n",
      "([4, 4, 5], [2, 1, 7], [4, 8, 3])\n",
      "Result after transposition: \n",
      "[[4, 2, 4], [4, 1, 8], [5, 7, 3]]\n",
      "[[4 2 4]\n",
      " [4 1 8]\n",
      " [5 7 3]]\n"
     ]
    }
   ],
   "source": [
    "print(\"Matrix before transposition: \")\n",
    "print(A)\n",
    "print(\"Result after transposition: \")\n",
    "print(matrix_transpose(A))\n",
    "print(np.transpose(A))"
   ]
  },
  {
   "cell_type": "markdown",
   "metadata": {
    "slideshow": {
     "slide_type": "slide"
    }
   },
   "source": [
    "## Summary and Outlook\n",
    "\n",
    "This exercise covered basic operations on vectors and matrices. If the exercise was too complicated, consider the sources mentioned above for a recap. "
   ]
  },
  {
   "cell_type": "markdown",
   "metadata": {
    "slideshow": {
     "slide_type": "slide"
    }
   },
   "source": [
    "## Licenses\n",
    "\n",
    "### Notebook License (CC-BY-SA 4.0)\n",
    "\n",
    "*The following license applies to the complete notebook, including code cells. It does however not apply to any referenced external media (e.g., images).*\n",
    "\n",
    "Exercise: Matrix and Vector Operations <br/>\n",
    "by Benjamin Voigt <br/>\n",
    "is licensed under a [Creative Commons Attribution-ShareAlike 4.0 International License](http://creativecommons.org/licenses/by-sa/4.0/).<br/>\n",
    "Based on a work at https://gitlab.com/deep.TEACHING.\n",
    "\n",
    "\n",
    "### Code License (MIT)\n",
    "\n",
    "*The following license only applies to code cells of the notebook.*\n",
    "\n",
    "Copyright 2018 Benjamin Voigt\n",
    "\n",
    "Permission is hereby granted, free of charge, to any person obtaining a copy of this software and associated documentation files (the \"Software\"), to deal in the Software without restriction, including without limitation the rights to use, copy, modify, merge, publish, distribute, sublicense, and/or sell copies of the Software, and to permit persons to whom the Software is furnished to do so, subject to the following conditions:\n",
    "\n",
    "The above copyright notice and this permission notice shall be included in all copies or substantial portions of the Software.\n",
    "\n",
    "THE SOFTWARE IS PROVIDED \"AS IS\", WITHOUT WARRANTY OF ANY KIND, EXPRESS OR IMPLIED, INCLUDING BUT NOT LIMITED TO THE WARRANTIES OF MERCHANTABILITY, FITNESS FOR A PARTICULAR PURPOSE AND NONINFRINGEMENT. IN NO EVENT SHALL THE AUTHORS OR COPYRIGHT HOLDERS BE LIABLE FOR ANY CLAIM, DAMAGES OR OTHER LIABILITY, WHETHER IN AN ACTION OF CONTRACT, TORT OR OTHERWISE, ARISING FROM, OUT OF OR IN CONNECTION WITH THE SOFTWARE OR THE USE OR OTHER DEALINGS IN THE SOFTWARE."
   ]
  }
 ],
 "metadata": {
  "celltoolbar": "Slideshow",
  "kernelspec": {
   "display_name": "Python [conda env:dl]",
   "language": "python",
   "name": "conda-env-dl-py"
  },
  "language_info": {
   "codemirror_mode": {
    "name": "ipython",
    "version": 3
   },
   "file_extension": ".py",
   "mimetype": "text/x-python",
   "name": "python",
   "nbconvert_exporter": "python",
   "pygments_lexer": "ipython3",
   "version": "3.6.6"
  }
 },
 "nbformat": 4,
 "nbformat_minor": 2
}
